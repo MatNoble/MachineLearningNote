{
  "nbformat": 4,
  "nbformat_minor": 0,
  "metadata": {
    "colab": {
      "name": "Scikit-learn.ipynb",
      "provenance": [],
      "collapsed_sections": []
    },
    "kernelspec": {
      "name": "python3",
      "display_name": "Python 3"
    }
  },
  "cells": [
    {
      "cell_type": "code",
      "metadata": {
        "id": "Ym4EsH9fAn8i"
      },
      "source": [
        "import numpy as np\n",
        "from sklearn import datasets\n",
        "from sklearn import preprocessing # normalization\n",
        "from sklearn.model_selection import train_test_split\n",
        "\n",
        "from sklearn.linear_model import LinearRegression\n",
        "from sklearn.neighbors import KNeighborsClassifier\n",
        "\n",
        "from sklearn.datasets.samples_generator import make_classification\n",
        "from sklearn.svm import SVC\n",
        "\n",
        "import matplotlib.pyplot as plt\n",
        "%matplotlib inline\n",
        "%config InlineBackend.figure_format = 'svg'\n",
        "import matplotlib"
      ],
      "execution_count": 159,
      "outputs": []
    },
    {
      "cell_type": "markdown",
      "metadata": {
        "id": "BTZ6iwe9FNbv"
      },
      "source": [
        "## iris"
      ]
    },
    {
      "cell_type": "code",
      "metadata": {
        "id": "zQ_7iQ56CB_Z"
      },
      "source": [
        "iris = datasets.load_iris()\n",
        "iris_X = iris.data\n",
        "iris_y = iris.target"
      ],
      "execution_count": 160,
      "outputs": []
    },
    {
      "cell_type": "code",
      "metadata": {
        "id": "FSJ3slGBCrfW"
      },
      "source": [
        "X_train, X_test, y_train, y_test = train_test_split(iris_X, iris_y, \n",
        "                                                    test_size=0.2)"
      ],
      "execution_count": 161,
      "outputs": []
    },
    {
      "cell_type": "code",
      "metadata": {
        "colab": {
          "base_uri": "https://localhost:8080/"
        },
        "id": "ivQTmfEKD-25",
        "outputId": "fd2bb522-d374-473c-9c41-783d573e072a"
      },
      "source": [
        "knn = KNeighborsClassifier()\n",
        "knn.fit(X_train, y_train)"
      ],
      "execution_count": 162,
      "outputs": [
        {
          "output_type": "execute_result",
          "data": {
            "text/plain": [
              "KNeighborsClassifier(algorithm='auto', leaf_size=30, metric='minkowski',\n",
              "                     metric_params=None, n_jobs=None, n_neighbors=5, p=2,\n",
              "                     weights='uniform')"
            ]
          },
          "metadata": {
            "tags": []
          },
          "execution_count": 162
        }
      ]
    },
    {
      "cell_type": "code",
      "metadata": {
        "colab": {
          "base_uri": "https://localhost:8080/"
        },
        "id": "5QnVX4MfEQrN",
        "outputId": "497469a2-cc3b-4f71-a7dc-1ef896a6b553"
      },
      "source": [
        "(y_test - knn.predict(X_test)).sum()"
      ],
      "execution_count": 163,
      "outputs": [
        {
          "output_type": "execute_result",
          "data": {
            "text/plain": [
              "0"
            ]
          },
          "metadata": {
            "tags": []
          },
          "execution_count": 163
        }
      ]
    },
    {
      "cell_type": "markdown",
      "metadata": {
        "id": "aOx0EHbFFY7r"
      },
      "source": [
        "## datasets"
      ]
    },
    {
      "cell_type": "code",
      "metadata": {
        "id": "YnUcBMCiFhB5"
      },
      "source": [
        "loaded_data = datasets.load_boston()\n",
        "data_X = loaded_data.data\n",
        "data_y = loaded_data.target"
      ],
      "execution_count": 164,
      "outputs": []
    },
    {
      "cell_type": "code",
      "metadata": {
        "colab": {
          "base_uri": "https://localhost:8080/"
        },
        "id": "jnrJLTZUGnUv",
        "outputId": "7c05121d-f99f-4339-9a4d-4a99b1eff5ae"
      },
      "source": [
        "model = LinearRegression(normalize=True)\n",
        "model.fit(data_X, data_y)"
      ],
      "execution_count": 165,
      "outputs": [
        {
          "output_type": "execute_result",
          "data": {
            "text/plain": [
              "LinearRegression(copy_X=True, fit_intercept=True, n_jobs=None, normalize=True)"
            ]
          },
          "metadata": {
            "tags": []
          },
          "execution_count": 165
        }
      ]
    },
    {
      "cell_type": "code",
      "metadata": {
        "colab": {
          "base_uri": "https://localhost:8080/"
        },
        "id": "HPnI0fbiG2oA",
        "outputId": "0b257092-ec8d-488c-d3f1-b81cb2988dfd"
      },
      "source": [
        "model.predict(data_X[:4,:])"
      ],
      "execution_count": 166,
      "outputs": [
        {
          "output_type": "execute_result",
          "data": {
            "text/plain": [
              "array([30.00384338, 25.02556238, 30.56759672, 28.60703649])"
            ]
          },
          "metadata": {
            "tags": []
          },
          "execution_count": 166
        }
      ]
    },
    {
      "cell_type": "code",
      "metadata": {
        "colab": {
          "base_uri": "https://localhost:8080/"
        },
        "id": "RILo6EKsHiVW",
        "outputId": "90fbf710-3411-4ef3-cd7a-7996b266338a"
      },
      "source": [
        "data_y[:4]"
      ],
      "execution_count": 167,
      "outputs": [
        {
          "output_type": "execute_result",
          "data": {
            "text/plain": [
              "array([24. , 21.6, 34.7, 33.4])"
            ]
          },
          "metadata": {
            "tags": []
          },
          "execution_count": 167
        }
      ]
    },
    {
      "cell_type": "markdown",
      "metadata": {
        "id": "I79zCUZCFZ_o"
      },
      "source": [
        "### make fake data"
      ]
    },
    {
      "cell_type": "code",
      "metadata": {
        "id": "TtWplaIAH6H2"
      },
      "source": [
        "X, y = datasets.make_regression(n_samples=100, n_features=1, \n",
        "                                n_targets=1, noise=10)"
      ],
      "execution_count": 168,
      "outputs": []
    },
    {
      "cell_type": "code",
      "metadata": {
        "colab": {
          "base_uri": "https://localhost:8080/",
          "height": 369
        },
        "id": "ev52WisbITlZ",
        "outputId": "a5e09202-fd81-4f3d-874e-6a41d499ce84"
      },
      "source": [
        "plt.scatter(X, y)"
      ],
      "execution_count": 169,
      "outputs": [
        {
          "output_type": "execute_result",
          "data": {
            "text/plain": [
              "<matplotlib.collections.PathCollection at 0x7f933ab6b828>"
            ]
          },
          "metadata": {
            "tags": []
          },
          "execution_count": 169
        },
        {
          "output_type": "display_data",
          "data": {
            "text/plain": [
              "<Figure size 432x288 with 1 Axes>"
            ],
            "image/svg+xml": "<?xml version=\"1.0\" encoding=\"utf-8\" standalone=\"no\"?>\n<!DOCTYPE svg PUBLIC \"-//W3C//DTD SVG 1.1//EN\"\n  \"http://www.w3.org/Graphics/SVG/1.1/DTD/svg11.dtd\">\n<!-- Created with matplotlib (https://matplotlib.org/) -->\n<svg height=\"248.518125pt\" version=\"1.1\" viewBox=\"0 0 377.304687 248.518125\" width=\"377.304687pt\" xmlns=\"http://www.w3.org/2000/svg\" xmlns:xlink=\"http://www.w3.org/1999/xlink\">\n <defs>\n  <style type=\"text/css\">\n*{stroke-linecap:butt;stroke-linejoin:round;}\n  </style>\n </defs>\n <g id=\"figure_1\">\n  <g id=\"patch_1\">\n   <path d=\"M 0 248.518125 \nL 377.304687 248.518125 \nL 377.304687 0 \nL 0 0 \nz\n\" style=\"fill:none;\"/>\n  </g>\n  <g id=\"axes_1\">\n   <g id=\"patch_2\">\n    <path d=\"M 35.304688 224.64 \nL 370.104688 224.64 \nL 370.104688 7.2 \nL 35.304688 7.2 \nz\n\" style=\"fill:#ffffff;\"/>\n   </g>\n   <g id=\"PathCollection_1\">\n    <defs>\n     <path d=\"M 0 3 \nC 0.795609 3 1.55874 2.683901 2.12132 2.12132 \nC 2.683901 1.55874 3 0.795609 3 0 \nC 3 -0.795609 2.683901 -1.55874 2.12132 -2.12132 \nC 1.55874 -2.683901 0.795609 -3 0 -3 \nC -0.795609 -3 -1.55874 -2.683901 -2.12132 -2.12132 \nC -2.683901 -1.55874 -3 -0.795609 -3 0 \nC -3 0.795609 -2.683901 1.55874 -2.12132 2.12132 \nC -1.55874 2.683901 -0.795609 3 0 3 \nz\n\" id=\"md97e978e23\" style=\"stroke:#1f77b4;\"/>\n    </defs>\n    <g clip-path=\"url(#p22027c4263)\">\n     <use style=\"fill:#1f77b4;stroke:#1f77b4;\" x=\"209.177406\" xlink:href=\"#md97e978e23\" y=\"166.996406\"/>\n     <use style=\"fill:#1f77b4;stroke:#1f77b4;\" x=\"181.207687\" xlink:href=\"#md97e978e23\" y=\"143.442575\"/>\n     <use style=\"fill:#1f77b4;stroke:#1f77b4;\" x=\"171.751459\" xlink:href=\"#md97e978e23\" y=\"84.242506\"/>\n     <use style=\"fill:#1f77b4;stroke:#1f77b4;\" x=\"199.753032\" xlink:href=\"#md97e978e23\" y=\"169.896359\"/>\n     <use style=\"fill:#1f77b4;stroke:#1f77b4;\" x=\"166.667049\" xlink:href=\"#md97e978e23\" y=\"90.004301\"/>\n     <use style=\"fill:#1f77b4;stroke:#1f77b4;\" x=\"158.383897\" xlink:href=\"#md97e978e23\" y=\"32.703634\"/>\n     <use style=\"fill:#1f77b4;stroke:#1f77b4;\" x=\"237.5445\" xlink:href=\"#md97e978e23\" y=\"160.631017\"/>\n     <use style=\"fill:#1f77b4;stroke:#1f77b4;\" x=\"217.625604\" xlink:href=\"#md97e978e23\" y=\"130.350778\"/>\n     <use style=\"fill:#1f77b4;stroke:#1f77b4;\" x=\"148.01451\" xlink:href=\"#md97e978e23\" y=\"139.170928\"/>\n     <use style=\"fill:#1f77b4;stroke:#1f77b4;\" x=\"329.516468\" xlink:href=\"#md97e978e23\" y=\"169.551915\"/>\n     <use style=\"fill:#1f77b4;stroke:#1f77b4;\" x=\"210.059193\" xlink:href=\"#md97e978e23\" y=\"70.061573\"/>\n     <use style=\"fill:#1f77b4;stroke:#1f77b4;\" x=\"217.563104\" xlink:href=\"#md97e978e23\" y=\"204.213365\"/>\n     <use style=\"fill:#1f77b4;stroke:#1f77b4;\" x=\"126.902601\" xlink:href=\"#md97e978e23\" y=\"142.95012\"/>\n     <use style=\"fill:#1f77b4;stroke:#1f77b4;\" x=\"223.792768\" xlink:href=\"#md97e978e23\" y=\"165.624724\"/>\n     <use style=\"fill:#1f77b4;stroke:#1f77b4;\" x=\"166.067813\" xlink:href=\"#md97e978e23\" y=\"125.146276\"/>\n     <use style=\"fill:#1f77b4;stroke:#1f77b4;\" x=\"291.770783\" xlink:href=\"#md97e978e23\" y=\"132.233288\"/>\n     <use style=\"fill:#1f77b4;stroke:#1f77b4;\" x=\"247.117571\" xlink:href=\"#md97e978e23\" y=\"98.783533\"/>\n     <use style=\"fill:#1f77b4;stroke:#1f77b4;\" x=\"166.785345\" xlink:href=\"#md97e978e23\" y=\"177.012172\"/>\n     <use style=\"fill:#1f77b4;stroke:#1f77b4;\" x=\"299.696803\" xlink:href=\"#md97e978e23\" y=\"119.802608\"/>\n     <use style=\"fill:#1f77b4;stroke:#1f77b4;\" x=\"247.358161\" xlink:href=\"#md97e978e23\" y=\"177.390367\"/>\n     <use style=\"fill:#1f77b4;stroke:#1f77b4;\" x=\"204.179134\" xlink:href=\"#md97e978e23\" y=\"138.021507\"/>\n     <use style=\"fill:#1f77b4;stroke:#1f77b4;\" x=\"158.043666\" xlink:href=\"#md97e978e23\" y=\"68.515285\"/>\n     <use style=\"fill:#1f77b4;stroke:#1f77b4;\" x=\"237.080106\" xlink:href=\"#md97e978e23\" y=\"109.285507\"/>\n     <use style=\"fill:#1f77b4;stroke:#1f77b4;\" x=\"137.335326\" xlink:href=\"#md97e978e23\" y=\"161.745296\"/>\n     <use style=\"fill:#1f77b4;stroke:#1f77b4;\" x=\"151.144231\" xlink:href=\"#md97e978e23\" y=\"83.998751\"/>\n     <use style=\"fill:#1f77b4;stroke:#1f77b4;\" x=\"305.01396\" xlink:href=\"#md97e978e23\" y=\"115.890866\"/>\n     <use style=\"fill:#1f77b4;stroke:#1f77b4;\" x=\"238.999025\" xlink:href=\"#md97e978e23\" y=\"66.717755\"/>\n     <use style=\"fill:#1f77b4;stroke:#1f77b4;\" x=\"205.247903\" xlink:href=\"#md97e978e23\" y=\"94.426757\"/>\n     <use style=\"fill:#1f77b4;stroke:#1f77b4;\" x=\"273.999565\" xlink:href=\"#md97e978e23\" y=\"144.184914\"/>\n     <use style=\"fill:#1f77b4;stroke:#1f77b4;\" x=\"218.882142\" xlink:href=\"#md97e978e23\" y=\"111.76026\"/>\n     <use style=\"fill:#1f77b4;stroke:#1f77b4;\" x=\"134.977232\" xlink:href=\"#md97e978e23\" y=\"166.308138\"/>\n     <use style=\"fill:#1f77b4;stroke:#1f77b4;\" x=\"208.066606\" xlink:href=\"#md97e978e23\" y=\"125.1052\"/>\n     <use style=\"fill:#1f77b4;stroke:#1f77b4;\" x=\"203.705773\" xlink:href=\"#md97e978e23\" y=\"94.403461\"/>\n     <use style=\"fill:#1f77b4;stroke:#1f77b4;\" x=\"263.280782\" xlink:href=\"#md97e978e23\" y=\"101.681961\"/>\n     <use style=\"fill:#1f77b4;stroke:#1f77b4;\" x=\"212.873887\" xlink:href=\"#md97e978e23\" y=\"139.634793\"/>\n     <use style=\"fill:#1f77b4;stroke:#1f77b4;\" x=\"216.816957\" xlink:href=\"#md97e978e23\" y=\"143.049514\"/>\n     <use style=\"fill:#1f77b4;stroke:#1f77b4;\" x=\"275.561019\" xlink:href=\"#md97e978e23\" y=\"157.355453\"/>\n     <use style=\"fill:#1f77b4;stroke:#1f77b4;\" x=\"213.44482\" xlink:href=\"#md97e978e23\" y=\"140.502152\"/>\n     <use style=\"fill:#1f77b4;stroke:#1f77b4;\" x=\"270.873993\" xlink:href=\"#md97e978e23\" y=\"134.185882\"/>\n     <use style=\"fill:#1f77b4;stroke:#1f77b4;\" x=\"341.378756\" xlink:href=\"#md97e978e23\" y=\"96.127501\"/>\n     <use style=\"fill:#1f77b4;stroke:#1f77b4;\" x=\"180.407605\" xlink:href=\"#md97e978e23\" y=\"93.789611\"/>\n     <use style=\"fill:#1f77b4;stroke:#1f77b4;\" x=\"231.041388\" xlink:href=\"#md97e978e23\" y=\"137.53386\"/>\n     <use style=\"fill:#1f77b4;stroke:#1f77b4;\" x=\"235.839221\" xlink:href=\"#md97e978e23\" y=\"131.825452\"/>\n     <use style=\"fill:#1f77b4;stroke:#1f77b4;\" x=\"180.509617\" xlink:href=\"#md97e978e23\" y=\"164.36899\"/>\n     <use style=\"fill:#1f77b4;stroke:#1f77b4;\" x=\"126.708142\" xlink:href=\"#md97e978e23\" y=\"82.405651\"/>\n     <use style=\"fill:#1f77b4;stroke:#1f77b4;\" x=\"257.690547\" xlink:href=\"#md97e978e23\" y=\"214.140111\"/>\n     <use style=\"fill:#1f77b4;stroke:#1f77b4;\" x=\"306.665747\" xlink:href=\"#md97e978e23\" y=\"100.837855\"/>\n     <use style=\"fill:#1f77b4;stroke:#1f77b4;\" x=\"192.244999\" xlink:href=\"#md97e978e23\" y=\"84.779848\"/>\n     <use style=\"fill:#1f77b4;stroke:#1f77b4;\" x=\"157.684535\" xlink:href=\"#md97e978e23\" y=\"110.853521\"/>\n     <use style=\"fill:#1f77b4;stroke:#1f77b4;\" x=\"103.269953\" xlink:href=\"#md97e978e23\" y=\"152.270552\"/>\n     <use style=\"fill:#1f77b4;stroke:#1f77b4;\" x=\"206.345879\" xlink:href=\"#md97e978e23\" y=\"134.222252\"/>\n     <use style=\"fill:#1f77b4;stroke:#1f77b4;\" x=\"264.140943\" xlink:href=\"#md97e978e23\" y=\"194.429812\"/>\n     <use style=\"fill:#1f77b4;stroke:#1f77b4;\" x=\"242.248438\" xlink:href=\"#md97e978e23\" y=\"112.791312\"/>\n     <use style=\"fill:#1f77b4;stroke:#1f77b4;\" x=\"354.886506\" xlink:href=\"#md97e978e23\" y=\"140.361157\"/>\n     <use style=\"fill:#1f77b4;stroke:#1f77b4;\" x=\"247.444951\" xlink:href=\"#md97e978e23\" y=\"135.052838\"/>\n     <use style=\"fill:#1f77b4;stroke:#1f77b4;\" x=\"204.948524\" xlink:href=\"#md97e978e23\" y=\"82.652299\"/>\n     <use style=\"fill:#1f77b4;stroke:#1f77b4;\" x=\"192.764567\" xlink:href=\"#md97e978e23\" y=\"78.472571\"/>\n     <use style=\"fill:#1f77b4;stroke:#1f77b4;\" x=\"267.48811\" xlink:href=\"#md97e978e23\" y=\"74.244761\"/>\n     <use style=\"fill:#1f77b4;stroke:#1f77b4;\" x=\"209.856952\" xlink:href=\"#md97e978e23\" y=\"166.392239\"/>\n     <use style=\"fill:#1f77b4;stroke:#1f77b4;\" x=\"337.68288\" xlink:href=\"#md97e978e23\" y=\"152.943794\"/>\n     <use style=\"fill:#1f77b4;stroke:#1f77b4;\" x=\"99.558212\" xlink:href=\"#md97e978e23\" y=\"117.108798\"/>\n     <use style=\"fill:#1f77b4;stroke:#1f77b4;\" x=\"253.228004\" xlink:href=\"#md97e978e23\" y=\"109.452895\"/>\n     <use style=\"fill:#1f77b4;stroke:#1f77b4;\" x=\"197.179299\" xlink:href=\"#md97e978e23\" y=\"42.92659\"/>\n     <use style=\"fill:#1f77b4;stroke:#1f77b4;\" x=\"208.019125\" xlink:href=\"#md97e978e23\" y=\"125.695744\"/>\n     <use style=\"fill:#1f77b4;stroke:#1f77b4;\" x=\"184.512286\" xlink:href=\"#md97e978e23\" y=\"118.29748\"/>\n     <use style=\"fill:#1f77b4;stroke:#1f77b4;\" x=\"140.421406\" xlink:href=\"#md97e978e23\" y=\"41.710377\"/>\n     <use style=\"fill:#1f77b4;stroke:#1f77b4;\" x=\"335.728479\" xlink:href=\"#md97e978e23\" y=\"100.021258\"/>\n     <use style=\"fill:#1f77b4;stroke:#1f77b4;\" x=\"222.10818\" xlink:href=\"#md97e978e23\" y=\"57.965529\"/>\n     <use style=\"fill:#1f77b4;stroke:#1f77b4;\" x=\"257.049\" xlink:href=\"#md97e978e23\" y=\"73.938325\"/>\n     <use style=\"fill:#1f77b4;stroke:#1f77b4;\" x=\"165.76213\" xlink:href=\"#md97e978e23\" y=\"91.615472\"/>\n     <use style=\"fill:#1f77b4;stroke:#1f77b4;\" x=\"273.035662\" xlink:href=\"#md97e978e23\" y=\"129.745872\"/>\n     <use style=\"fill:#1f77b4;stroke:#1f77b4;\" x=\"319.710361\" xlink:href=\"#md97e978e23\" y=\"184.668519\"/>\n     <use style=\"fill:#1f77b4;stroke:#1f77b4;\" x=\"140.026426\" xlink:href=\"#md97e978e23\" y=\"79.395604\"/>\n     <use style=\"fill:#1f77b4;stroke:#1f77b4;\" x=\"228.663883\" xlink:href=\"#md97e978e23\" y=\"105.81111\"/>\n     <use style=\"fill:#1f77b4;stroke:#1f77b4;\" x=\"175.696582\" xlink:href=\"#md97e978e23\" y=\"124.74918\"/>\n     <use style=\"fill:#1f77b4;stroke:#1f77b4;\" x=\"120.475821\" xlink:href=\"#md97e978e23\" y=\"166.170843\"/>\n     <use style=\"fill:#1f77b4;stroke:#1f77b4;\" x=\"245.102945\" xlink:href=\"#md97e978e23\" y=\"17.083636\"/>\n     <use style=\"fill:#1f77b4;stroke:#1f77b4;\" x=\"231.0249\" xlink:href=\"#md97e978e23\" y=\"125.423302\"/>\n     <use style=\"fill:#1f77b4;stroke:#1f77b4;\" x=\"237.187856\" xlink:href=\"#md97e978e23\" y=\"122.017959\"/>\n     <use style=\"fill:#1f77b4;stroke:#1f77b4;\" x=\"202.39502\" xlink:href=\"#md97e978e23\" y=\"142.559913\"/>\n     <use style=\"fill:#1f77b4;stroke:#1f77b4;\" x=\"271.328026\" xlink:href=\"#md97e978e23\" y=\"46.444775\"/>\n     <use style=\"fill:#1f77b4;stroke:#1f77b4;\" x=\"268.373823\" xlink:href=\"#md97e978e23\" y=\"82.094504\"/>\n     <use style=\"fill:#1f77b4;stroke:#1f77b4;\" x=\"243.791758\" xlink:href=\"#md97e978e23\" y=\"111.813145\"/>\n     <use style=\"fill:#1f77b4;stroke:#1f77b4;\" x=\"201.972448\" xlink:href=\"#md97e978e23\" y=\"180.713672\"/>\n     <use style=\"fill:#1f77b4;stroke:#1f77b4;\" x=\"248.436131\" xlink:href=\"#md97e978e23\" y=\"102.280624\"/>\n     <use style=\"fill:#1f77b4;stroke:#1f77b4;\" x=\"257.078403\" xlink:href=\"#md97e978e23\" y=\"180.443859\"/>\n     <use style=\"fill:#1f77b4;stroke:#1f77b4;\" x=\"241.232029\" xlink:href=\"#md97e978e23\" y=\"146.161705\"/>\n     <use style=\"fill:#1f77b4;stroke:#1f77b4;\" x=\"238.693579\" xlink:href=\"#md97e978e23\" y=\"111.309461\"/>\n     <use style=\"fill:#1f77b4;stroke:#1f77b4;\" x=\"182.155245\" xlink:href=\"#md97e978e23\" y=\"86.470099\"/>\n     <use style=\"fill:#1f77b4;stroke:#1f77b4;\" x=\"306.228471\" xlink:href=\"#md97e978e23\" y=\"127.092027\"/>\n     <use style=\"fill:#1f77b4;stroke:#1f77b4;\" x=\"128.658326\" xlink:href=\"#md97e978e23\" y=\"153.920916\"/>\n     <use style=\"fill:#1f77b4;stroke:#1f77b4;\" x=\"275.032137\" xlink:href=\"#md97e978e23\" y=\"139.070566\"/>\n     <use style=\"fill:#1f77b4;stroke:#1f77b4;\" x=\"128.629387\" xlink:href=\"#md97e978e23\" y=\"66.504854\"/>\n     <use style=\"fill:#1f77b4;stroke:#1f77b4;\" x=\"145.399797\" xlink:href=\"#md97e978e23\" y=\"130.758186\"/>\n     <use style=\"fill:#1f77b4;stroke:#1f77b4;\" x=\"349.484184\" xlink:href=\"#md97e978e23\" y=\"146.424079\"/>\n     <use style=\"fill:#1f77b4;stroke:#1f77b4;\" x=\"50.522869\" xlink:href=\"#md97e978e23\" y=\"189.246648\"/>\n     <use style=\"fill:#1f77b4;stroke:#1f77b4;\" x=\"206.635344\" xlink:href=\"#md97e978e23\" y=\"109.827059\"/>\n     <use style=\"fill:#1f77b4;stroke:#1f77b4;\" x=\"309.096172\" xlink:href=\"#md97e978e23\" y=\"97.299636\"/>\n     <use style=\"fill:#1f77b4;stroke:#1f77b4;\" x=\"304.897347\" xlink:href=\"#md97e978e23\" y=\"105.098962\"/>\n     <use style=\"fill:#1f77b4;stroke:#1f77b4;\" x=\"340.499417\" xlink:href=\"#md97e978e23\" y=\"214.756364\"/>\n    </g>\n   </g>\n   <g id=\"matplotlib.axis_1\">\n    <g id=\"xtick_1\">\n     <g id=\"line2d_1\">\n      <defs>\n       <path d=\"M 0 0 \nL 0 3.5 \n\" id=\"md06a365bf4\" style=\"stroke:#000000;stroke-width:0.8;\"/>\n      </defs>\n      <g>\n       <use style=\"stroke:#000000;stroke-width:0.8;\" x=\"41.234845\" xlink:href=\"#md06a365bf4\" y=\"224.64\"/>\n      </g>\n     </g>\n     <g id=\"text_1\">\n      <!-- −3 -->\n      <defs>\n       <path d=\"M 10.59375 35.5 \nL 73.1875 35.5 \nL 73.1875 27.203125 \nL 10.59375 27.203125 \nz\n\" id=\"DejaVuSans-8722\"/>\n       <path d=\"M 40.578125 39.3125 \nQ 47.65625 37.796875 51.625 33 \nQ 55.609375 28.21875 55.609375 21.1875 \nQ 55.609375 10.40625 48.1875 4.484375 \nQ 40.765625 -1.421875 27.09375 -1.421875 \nQ 22.515625 -1.421875 17.65625 -0.515625 \nQ 12.796875 0.390625 7.625 2.203125 \nL 7.625 11.71875 \nQ 11.71875 9.328125 16.59375 8.109375 \nQ 21.484375 6.890625 26.8125 6.890625 \nQ 36.078125 6.890625 40.9375 10.546875 \nQ 45.796875 14.203125 45.796875 21.1875 \nQ 45.796875 27.640625 41.28125 31.265625 \nQ 36.765625 34.90625 28.71875 34.90625 \nL 20.21875 34.90625 \nL 20.21875 43.015625 \nL 29.109375 43.015625 \nQ 36.375 43.015625 40.234375 45.921875 \nQ 44.09375 48.828125 44.09375 54.296875 \nQ 44.09375 59.90625 40.109375 62.90625 \nQ 36.140625 65.921875 28.71875 65.921875 \nQ 24.65625 65.921875 20.015625 65.03125 \nQ 15.375 64.15625 9.8125 62.3125 \nL 9.8125 71.09375 \nQ 15.4375 72.65625 20.34375 73.4375 \nQ 25.25 74.21875 29.59375 74.21875 \nQ 40.828125 74.21875 47.359375 69.109375 \nQ 53.90625 64.015625 53.90625 55.328125 \nQ 53.90625 49.265625 50.4375 45.09375 \nQ 46.96875 40.921875 40.578125 39.3125 \nz\n\" id=\"DejaVuSans-51\"/>\n      </defs>\n      <g transform=\"translate(33.863751 239.238437)scale(0.1 -0.1)\">\n       <use xlink:href=\"#DejaVuSans-8722\"/>\n       <use x=\"83.789062\" xlink:href=\"#DejaVuSans-51\"/>\n      </g>\n     </g>\n    </g>\n    <g id=\"xtick_2\">\n     <g id=\"line2d_2\">\n      <g>\n       <use style=\"stroke:#000000;stroke-width:0.8;\" x=\"101.058996\" xlink:href=\"#md06a365bf4\" y=\"224.64\"/>\n      </g>\n     </g>\n     <g id=\"text_2\">\n      <!-- −2 -->\n      <defs>\n       <path d=\"M 19.1875 8.296875 \nL 53.609375 8.296875 \nL 53.609375 0 \nL 7.328125 0 \nL 7.328125 8.296875 \nQ 12.9375 14.109375 22.625 23.890625 \nQ 32.328125 33.6875 34.8125 36.53125 \nQ 39.546875 41.84375 41.421875 45.53125 \nQ 43.3125 49.21875 43.3125 52.78125 \nQ 43.3125 58.59375 39.234375 62.25 \nQ 35.15625 65.921875 28.609375 65.921875 \nQ 23.96875 65.921875 18.8125 64.3125 \nQ 13.671875 62.703125 7.8125 59.421875 \nL 7.8125 69.390625 \nQ 13.765625 71.78125 18.9375 73 \nQ 24.125 74.21875 28.421875 74.21875 \nQ 39.75 74.21875 46.484375 68.546875 \nQ 53.21875 62.890625 53.21875 53.421875 \nQ 53.21875 48.921875 51.53125 44.890625 \nQ 49.859375 40.875 45.40625 35.40625 \nQ 44.1875 33.984375 37.640625 27.21875 \nQ 31.109375 20.453125 19.1875 8.296875 \nz\n\" id=\"DejaVuSans-50\"/>\n      </defs>\n      <g transform=\"translate(93.687902 239.238437)scale(0.1 -0.1)\">\n       <use xlink:href=\"#DejaVuSans-8722\"/>\n       <use x=\"83.789062\" xlink:href=\"#DejaVuSans-50\"/>\n      </g>\n     </g>\n    </g>\n    <g id=\"xtick_3\">\n     <g id=\"line2d_3\">\n      <g>\n       <use style=\"stroke:#000000;stroke-width:0.8;\" x=\"160.883147\" xlink:href=\"#md06a365bf4\" y=\"224.64\"/>\n      </g>\n     </g>\n     <g id=\"text_3\">\n      <!-- −1 -->\n      <defs>\n       <path d=\"M 12.40625 8.296875 \nL 28.515625 8.296875 \nL 28.515625 63.921875 \nL 10.984375 60.40625 \nL 10.984375 69.390625 \nL 28.421875 72.90625 \nL 38.28125 72.90625 \nL 38.28125 8.296875 \nL 54.390625 8.296875 \nL 54.390625 0 \nL 12.40625 0 \nz\n\" id=\"DejaVuSans-49\"/>\n      </defs>\n      <g transform=\"translate(153.512054 239.238437)scale(0.1 -0.1)\">\n       <use xlink:href=\"#DejaVuSans-8722\"/>\n       <use x=\"83.789062\" xlink:href=\"#DejaVuSans-49\"/>\n      </g>\n     </g>\n    </g>\n    <g id=\"xtick_4\">\n     <g id=\"line2d_4\">\n      <g>\n       <use style=\"stroke:#000000;stroke-width:0.8;\" x=\"220.707299\" xlink:href=\"#md06a365bf4\" y=\"224.64\"/>\n      </g>\n     </g>\n     <g id=\"text_4\">\n      <!-- 0 -->\n      <defs>\n       <path d=\"M 31.78125 66.40625 \nQ 24.171875 66.40625 20.328125 58.90625 \nQ 16.5 51.421875 16.5 36.375 \nQ 16.5 21.390625 20.328125 13.890625 \nQ 24.171875 6.390625 31.78125 6.390625 \nQ 39.453125 6.390625 43.28125 13.890625 \nQ 47.125 21.390625 47.125 36.375 \nQ 47.125 51.421875 43.28125 58.90625 \nQ 39.453125 66.40625 31.78125 66.40625 \nz\nM 31.78125 74.21875 \nQ 44.046875 74.21875 50.515625 64.515625 \nQ 56.984375 54.828125 56.984375 36.375 \nQ 56.984375 17.96875 50.515625 8.265625 \nQ 44.046875 -1.421875 31.78125 -1.421875 \nQ 19.53125 -1.421875 13.0625 8.265625 \nQ 6.59375 17.96875 6.59375 36.375 \nQ 6.59375 54.828125 13.0625 64.515625 \nQ 19.53125 74.21875 31.78125 74.21875 \nz\n\" id=\"DejaVuSans-48\"/>\n      </defs>\n      <g transform=\"translate(217.526049 239.238437)scale(0.1 -0.1)\">\n       <use xlink:href=\"#DejaVuSans-48\"/>\n      </g>\n     </g>\n    </g>\n    <g id=\"xtick_5\">\n     <g id=\"line2d_5\">\n      <g>\n       <use style=\"stroke:#000000;stroke-width:0.8;\" x=\"280.53145\" xlink:href=\"#md06a365bf4\" y=\"224.64\"/>\n      </g>\n     </g>\n     <g id=\"text_5\">\n      <!-- 1 -->\n      <g transform=\"translate(277.3502 239.238437)scale(0.1 -0.1)\">\n       <use xlink:href=\"#DejaVuSans-49\"/>\n      </g>\n     </g>\n    </g>\n    <g id=\"xtick_6\">\n     <g id=\"line2d_6\">\n      <g>\n       <use style=\"stroke:#000000;stroke-width:0.8;\" x=\"340.355602\" xlink:href=\"#md06a365bf4\" y=\"224.64\"/>\n      </g>\n     </g>\n     <g id=\"text_6\">\n      <!-- 2 -->\n      <g transform=\"translate(337.174352 239.238437)scale(0.1 -0.1)\">\n       <use xlink:href=\"#DejaVuSans-50\"/>\n      </g>\n     </g>\n    </g>\n   </g>\n   <g id=\"matplotlib.axis_2\">\n    <g id=\"ytick_1\">\n     <g id=\"line2d_7\">\n      <defs>\n       <path d=\"M 0 0 \nL -3.5 0 \n\" id=\"m9674aed5a9\" style=\"stroke:#000000;stroke-width:0.8;\"/>\n      </defs>\n      <g>\n       <use style=\"stroke:#000000;stroke-width:0.8;\" x=\"35.304688\" xlink:href=\"#m9674aed5a9\" y=\"201.7611\"/>\n      </g>\n     </g>\n     <g id=\"text_7\">\n      <!-- −20 -->\n      <g transform=\"translate(7.2 205.560319)scale(0.1 -0.1)\">\n       <use xlink:href=\"#DejaVuSans-8722\"/>\n       <use x=\"83.789062\" xlink:href=\"#DejaVuSans-50\"/>\n       <use x=\"147.412109\" xlink:href=\"#DejaVuSans-48\"/>\n      </g>\n     </g>\n    </g>\n    <g id=\"ytick_2\">\n     <g id=\"line2d_8\">\n      <g>\n       <use style=\"stroke:#000000;stroke-width:0.8;\" x=\"35.304688\" xlink:href=\"#m9674aed5a9\" y=\"162.030052\"/>\n      </g>\n     </g>\n     <g id=\"text_8\">\n      <!-- −10 -->\n      <g transform=\"translate(7.2 165.829271)scale(0.1 -0.1)\">\n       <use xlink:href=\"#DejaVuSans-8722\"/>\n       <use x=\"83.789062\" xlink:href=\"#DejaVuSans-49\"/>\n       <use x=\"147.412109\" xlink:href=\"#DejaVuSans-48\"/>\n      </g>\n     </g>\n    </g>\n    <g id=\"ytick_3\">\n     <g id=\"line2d_9\">\n      <g>\n       <use style=\"stroke:#000000;stroke-width:0.8;\" x=\"35.304688\" xlink:href=\"#m9674aed5a9\" y=\"122.299004\"/>\n      </g>\n     </g>\n     <g id=\"text_9\">\n      <!-- 0 -->\n      <g transform=\"translate(21.942188 126.098223)scale(0.1 -0.1)\">\n       <use xlink:href=\"#DejaVuSans-48\"/>\n      </g>\n     </g>\n    </g>\n    <g id=\"ytick_4\">\n     <g id=\"line2d_10\">\n      <g>\n       <use style=\"stroke:#000000;stroke-width:0.8;\" x=\"35.304688\" xlink:href=\"#m9674aed5a9\" y=\"82.567956\"/>\n      </g>\n     </g>\n     <g id=\"text_10\">\n      <!-- 10 -->\n      <g transform=\"translate(15.579688 86.367174)scale(0.1 -0.1)\">\n       <use xlink:href=\"#DejaVuSans-49\"/>\n       <use x=\"63.623047\" xlink:href=\"#DejaVuSans-48\"/>\n      </g>\n     </g>\n    </g>\n    <g id=\"ytick_5\">\n     <g id=\"line2d_11\">\n      <g>\n       <use style=\"stroke:#000000;stroke-width:0.8;\" x=\"35.304688\" xlink:href=\"#m9674aed5a9\" y=\"42.836907\"/>\n      </g>\n     </g>\n     <g id=\"text_11\">\n      <!-- 20 -->\n      <g transform=\"translate(15.579688 46.636126)scale(0.1 -0.1)\">\n       <use xlink:href=\"#DejaVuSans-50\"/>\n       <use x=\"63.623047\" xlink:href=\"#DejaVuSans-48\"/>\n      </g>\n     </g>\n    </g>\n   </g>\n   <g id=\"patch_3\">\n    <path d=\"M 35.304688 224.64 \nL 35.304688 7.2 \n\" style=\"fill:none;stroke:#000000;stroke-linecap:square;stroke-linejoin:miter;stroke-width:0.8;\"/>\n   </g>\n   <g id=\"patch_4\">\n    <path d=\"M 370.104688 224.64 \nL 370.104688 7.2 \n\" style=\"fill:none;stroke:#000000;stroke-linecap:square;stroke-linejoin:miter;stroke-width:0.8;\"/>\n   </g>\n   <g id=\"patch_5\">\n    <path d=\"M 35.304688 224.64 \nL 370.104687 224.64 \n\" style=\"fill:none;stroke:#000000;stroke-linecap:square;stroke-linejoin:miter;stroke-width:0.8;\"/>\n   </g>\n   <g id=\"patch_6\">\n    <path d=\"M 35.304688 7.2 \nL 370.104687 7.2 \n\" style=\"fill:none;stroke:#000000;stroke-linecap:square;stroke-linejoin:miter;stroke-width:0.8;\"/>\n   </g>\n  </g>\n </g>\n <defs>\n  <clipPath id=\"p22027c4263\">\n   <rect height=\"217.44\" width=\"334.8\" x=\"35.304688\" y=\"7.2\"/>\n  </clipPath>\n </defs>\n</svg>\n"
          },
          "metadata": {
            "tags": [],
            "needs_background": "light"
          }
        }
      ]
    },
    {
      "cell_type": "markdown",
      "metadata": {
        "id": "6x-MNoPzIpVb"
      },
      "source": [
        "## model 属性功能"
      ]
    },
    {
      "cell_type": "code",
      "metadata": {
        "colab": {
          "base_uri": "https://localhost:8080/"
        },
        "id": "1E0qyKf4IvcV",
        "outputId": "4ab3027b-763c-4136-ddb7-059888516dec"
      },
      "source": [
        "model.coef_"
      ],
      "execution_count": 170,
      "outputs": [
        {
          "output_type": "execute_result",
          "data": {
            "text/plain": [
              "array([-1.08011358e-01,  4.64204584e-02,  2.05586264e-02,  2.68673382e+00,\n",
              "       -1.77666112e+01,  3.80986521e+00,  6.92224640e-04, -1.47556685e+00,\n",
              "        3.06049479e-01, -1.23345939e-02, -9.52747232e-01,  9.31168327e-03,\n",
              "       -5.24758378e-01])"
            ]
          },
          "metadata": {
            "tags": []
          },
          "execution_count": 170
        }
      ]
    },
    {
      "cell_type": "code",
      "metadata": {
        "colab": {
          "base_uri": "https://localhost:8080/"
        },
        "id": "Z6-sb_R4JLHW",
        "outputId": "8da656f9-7958-4021-aefd-72528173d8d7"
      },
      "source": [
        "model.intercept_"
      ],
      "execution_count": 171,
      "outputs": [
        {
          "output_type": "execute_result",
          "data": {
            "text/plain": [
              "36.45948838508991"
            ]
          },
          "metadata": {
            "tags": []
          },
          "execution_count": 171
        }
      ]
    },
    {
      "cell_type": "code",
      "metadata": {
        "colab": {
          "base_uri": "https://localhost:8080/"
        },
        "id": "sZ4AyPp3JlHB",
        "outputId": "5fd477fa-f5c0-4e6e-ab5f-fa29836e37b7"
      },
      "source": [
        "model.get_params()"
      ],
      "execution_count": 172,
      "outputs": [
        {
          "output_type": "execute_result",
          "data": {
            "text/plain": [
              "{'copy_X': True, 'fit_intercept': True, 'n_jobs': None, 'normalize': True}"
            ]
          },
          "metadata": {
            "tags": []
          },
          "execution_count": 172
        }
      ]
    },
    {
      "cell_type": "code",
      "metadata": {
        "colab": {
          "base_uri": "https://localhost:8080/"
        },
        "id": "cgwtYugAJxuB",
        "outputId": "69768370-ce7a-42cc-9459-98c8ebd37887"
      },
      "source": [
        "model.score(data_X, data_y) # R^2 coefficient of determination"
      ],
      "execution_count": 173,
      "outputs": [
        {
          "output_type": "execute_result",
          "data": {
            "text/plain": [
              "0.7406426641094094"
            ]
          },
          "metadata": {
            "tags": []
          },
          "execution_count": 173
        }
      ]
    },
    {
      "cell_type": "markdown",
      "metadata": {
        "id": "-vMKOUA4KU66"
      },
      "source": [
        "## normalization 标准化\n",
        "Feature Scalling"
      ]
    },
    {
      "cell_type": "code",
      "metadata": {
        "colab": {
          "base_uri": "https://localhost:8080/"
        },
        "id": "PFmrvCsMKaw8",
        "outputId": "fa7e9d3a-52ea-4e2f-a1c6-8c93132b6faa"
      },
      "source": [
        "a = np.array([[10,2.7,3.6],\n",
        "              [-100,5,-2],\n",
        "              [120,20,40]], dtype=np.float64)\n",
        "a"
      ],
      "execution_count": 174,
      "outputs": [
        {
          "output_type": "execute_result",
          "data": {
            "text/plain": [
              "array([[  10. ,    2.7,    3.6],\n",
              "       [-100. ,    5. ,   -2. ],\n",
              "       [ 120. ,   20. ,   40. ]])"
            ]
          },
          "metadata": {
            "tags": []
          },
          "execution_count": 174
        }
      ]
    },
    {
      "cell_type": "code",
      "metadata": {
        "colab": {
          "base_uri": "https://localhost:8080/"
        },
        "id": "wQuZ-Wy1Lapz",
        "outputId": "32649ecd-be15-4f72-803d-d7ac63b9318f"
      },
      "source": [
        "preprocessing.scale(a)"
      ],
      "execution_count": 175,
      "outputs": [
        {
          "output_type": "execute_result",
          "data": {
            "text/plain": [
              "array([[ 0.        , -0.85170713, -0.55138018],\n",
              "       [-1.22474487, -0.55187146, -0.852133  ],\n",
              "       [ 1.22474487,  1.40357859,  1.40351318]])"
            ]
          },
          "metadata": {
            "tags": []
          },
          "execution_count": 175
        }
      ]
    },
    {
      "cell_type": "code",
      "metadata": {
        "id": "-lXjTbniLtvX"
      },
      "source": [
        "X, y = make_classification(n_samples=300,n_features=2,n_redundant=0,\n",
        "                           n_informative=2, random_state=22,\n",
        "                           n_clusters_per_class=1,scale=100)"
      ],
      "execution_count": 176,
      "outputs": []
    },
    {
      "cell_type": "code",
      "metadata": {
        "colab": {
          "base_uri": "https://localhost:8080/",
          "height": 369
        },
        "id": "T2Uke9sCM08X",
        "outputId": "63da41ff-171f-47da-e863-6eb32ecade60"
      },
      "source": [
        "plt.scatter(X[:,0],X[:,1],c=y)"
      ],
      "execution_count": 177,
      "outputs": [
        {
          "output_type": "execute_result",
          "data": {
            "text/plain": [
              "<matplotlib.collections.PathCollection at 0x7f933ab4b978>"
            ]
          },
          "metadata": {
            "tags": []
          },
          "execution_count": 177
        },
        {
          "output_type": "display_data",
          "data": {
            "text/plain": [
              "<Figure size 432x288 with 1 Axes>"
            ],
            "image/svg+xml": "<?xml version=\"1.0\" encoding=\"utf-8\" standalone=\"no\"?>\n<!DOCTYPE svg PUBLIC \"-//W3C//DTD SVG 1.1//EN\"\n  \"http://www.w3.org/Graphics/SVG/1.1/DTD/svg11.dtd\">\n<!-- Created with matplotlib (https://matplotlib.org/) -->\n<svg height=\"248.518125pt\" version=\"1.1\" viewBox=\"0 0 383.667187 248.518125\" width=\"383.667187pt\" xmlns=\"http://www.w3.org/2000/svg\" xmlns:xlink=\"http://www.w3.org/1999/xlink\">\n <defs>\n  <style type=\"text/css\">\n*{stroke-linecap:butt;stroke-linejoin:round;}\n  </style>\n </defs>\n <g id=\"figure_1\">\n  <g id=\"patch_1\">\n   <path d=\"M 0 248.518125 \nL 383.667187 248.518125 \nL 383.667187 0 \nL 0 0 \nz\n\" style=\"fill:none;\"/>\n  </g>\n  <g id=\"axes_1\">\n   <g id=\"patch_2\">\n    <path d=\"M 41.667188 224.64 \nL 376.467188 224.64 \nL 376.467188 7.2 \nL 41.667188 7.2 \nz\n\" style=\"fill:#ffffff;\"/>\n   </g>\n   <g id=\"PathCollection_1\">\n    <defs>\n     <path d=\"M 0 3 \nC 0.795609 3 1.55874 2.683901 2.12132 2.12132 \nC 2.683901 1.55874 3 0.795609 3 0 \nC 3 -0.795609 2.683901 -1.55874 2.12132 -2.12132 \nC 1.55874 -2.683901 0.795609 -3 0 -3 \nC -0.795609 -3 -1.55874 -2.683901 -2.12132 -2.12132 \nC -2.683901 -1.55874 -3 -0.795609 -3 0 \nC -3 0.795609 -2.683901 1.55874 -2.12132 2.12132 \nC -1.55874 2.683901 -0.795609 3 0 3 \nz\n\" id=\"C0_0_26aa327d02\"/>\n    </defs>\n    <g clip-path=\"url(#p4a2b895ed0)\">\n     <use style=\"fill:#440154;stroke:#440154;\" x=\"316.356898\" xlink:href=\"#C0_0_26aa327d02\" y=\"123.692186\"/>\n    </g>\n    <g clip-path=\"url(#p4a2b895ed0)\">\n     <use style=\"fill:#fde725;stroke:#fde725;\" x=\"123.395422\" xlink:href=\"#C0_0_26aa327d02\" y=\"65.130605\"/>\n    </g>\n    <g clip-path=\"url(#p4a2b895ed0)\">\n     <use style=\"fill:#440154;stroke:#440154;\" x=\"250.076479\" xlink:href=\"#C0_0_26aa327d02\" y=\"110.591181\"/>\n    </g>\n    <g clip-path=\"url(#p4a2b895ed0)\">\n     <use style=\"fill:#440154;stroke:#440154;\" x=\"221.892736\" xlink:href=\"#C0_0_26aa327d02\" y=\"98.071041\"/>\n    </g>\n    <g clip-path=\"url(#p4a2b895ed0)\">\n     <use style=\"fill:#440154;stroke:#440154;\" x=\"147.008094\" xlink:href=\"#C0_0_26aa327d02\" y=\"78.498713\"/>\n    </g>\n    <g clip-path=\"url(#p4a2b895ed0)\">\n     <use style=\"fill:#440154;stroke:#440154;\" x=\"148.173194\" xlink:href=\"#C0_0_26aa327d02\" y=\"97.569528\"/>\n    </g>\n    <g clip-path=\"url(#p4a2b895ed0)\">\n     <use style=\"fill:#440154;stroke:#440154;\" x=\"172.597632\" xlink:href=\"#C0_0_26aa327d02\" y=\"91.258727\"/>\n    </g>\n    <g clip-path=\"url(#p4a2b895ed0)\">\n     <use style=\"fill:#fde725;stroke:#fde725;\" x=\"90.448425\" xlink:href=\"#C0_0_26aa327d02\" y=\"70.0939\"/>\n    </g>\n    <g clip-path=\"url(#p4a2b895ed0)\">\n     <use style=\"fill:#440154;stroke:#440154;\" x=\"269.156724\" xlink:href=\"#C0_0_26aa327d02\" y=\"109.680154\"/>\n    </g>\n    <g clip-path=\"url(#p4a2b895ed0)\">\n     <use style=\"fill:#fde725;stroke:#fde725;\" x=\"172.932541\" xlink:href=\"#C0_0_26aa327d02\" y=\"174.280587\"/>\n    </g>\n    <g clip-path=\"url(#p4a2b895ed0)\">\n     <use style=\"fill:#440154;stroke:#440154;\" x=\"309.351555\" xlink:href=\"#C0_0_26aa327d02\" y=\"123.674886\"/>\n    </g>\n    <g clip-path=\"url(#p4a2b895ed0)\">\n     <use style=\"fill:#440154;stroke:#440154;\" x=\"218.462673\" xlink:href=\"#C0_0_26aa327d02\" y=\"97.685251\"/>\n    </g>\n    <g clip-path=\"url(#p4a2b895ed0)\">\n     <use style=\"fill:#440154;stroke:#440154;\" x=\"256.93131\" xlink:href=\"#C0_0_26aa327d02\" y=\"108.23636\"/>\n    </g>\n    <g clip-path=\"url(#p4a2b895ed0)\">\n     <use style=\"fill:#fde725;stroke:#fde725;\" x=\"171.930523\" xlink:href=\"#C0_0_26aa327d02\" y=\"196.275525\"/>\n    </g>\n    <g clip-path=\"url(#p4a2b895ed0)\">\n     <use style=\"fill:#fde725;stroke:#fde725;\" x=\"71.589476\" xlink:href=\"#C0_0_26aa327d02\" y=\"64.631827\"/>\n    </g>\n    <g clip-path=\"url(#p4a2b895ed0)\">\n     <use style=\"fill:#440154;stroke:#440154;\" x=\"273.520069\" xlink:href=\"#C0_0_26aa327d02\" y=\"116.71419\"/>\n    </g>\n    <g clip-path=\"url(#p4a2b895ed0)\">\n     <use style=\"fill:#440154;stroke:#440154;\" x=\"242.598338\" xlink:href=\"#C0_0_26aa327d02\" y=\"112.103775\"/>\n    </g>\n    <g clip-path=\"url(#p4a2b895ed0)\">\n     <use style=\"fill:#440154;stroke:#440154;\" x=\"257.739646\" xlink:href=\"#C0_0_26aa327d02\" y=\"116.095674\"/>\n    </g>\n    <g clip-path=\"url(#p4a2b895ed0)\">\n     <use style=\"fill:#fde725;stroke:#fde725;\" x=\"147.544478\" xlink:href=\"#C0_0_26aa327d02\" y=\"82.809942\"/>\n    </g>\n    <g clip-path=\"url(#p4a2b895ed0)\">\n     <use style=\"fill:#440154;stroke:#440154;\" x=\"294.657192\" xlink:href=\"#C0_0_26aa327d02\" y=\"130.118444\"/>\n    </g>\n    <g clip-path=\"url(#p4a2b895ed0)\">\n     <use style=\"fill:#fde725;stroke:#fde725;\" x=\"137.525882\" xlink:href=\"#C0_0_26aa327d02\" y=\"133.010511\"/>\n    </g>\n    <g clip-path=\"url(#p4a2b895ed0)\">\n     <use style=\"fill:#fde725;stroke:#fde725;\" x=\"126.298304\" xlink:href=\"#C0_0_26aa327d02\" y=\"40.59123\"/>\n    </g>\n    <g clip-path=\"url(#p4a2b895ed0)\">\n     <use style=\"fill:#440154;stroke:#440154;\" x=\"199.443507\" xlink:href=\"#C0_0_26aa327d02\" y=\"111.688326\"/>\n    </g>\n    <g clip-path=\"url(#p4a2b895ed0)\">\n     <use style=\"fill:#440154;stroke:#440154;\" x=\"156.936447\" xlink:href=\"#C0_0_26aa327d02\" y=\"98.152518\"/>\n    </g>\n    <g clip-path=\"url(#p4a2b895ed0)\">\n     <use style=\"fill:#fde725;stroke:#fde725;\" x=\"106.929342\" xlink:href=\"#C0_0_26aa327d02\" y=\"59.473516\"/>\n    </g>\n    <g clip-path=\"url(#p4a2b895ed0)\">\n     <use style=\"fill:#440154;stroke:#440154;\" x=\"231.891554\" xlink:href=\"#C0_0_26aa327d02\" y=\"111.0916\"/>\n    </g>\n    <g clip-path=\"url(#p4a2b895ed0)\">\n     <use style=\"fill:#fde725;stroke:#fde725;\" x=\"113.447204\" xlink:href=\"#C0_0_26aa327d02\" y=\"67.5434\"/>\n    </g>\n    <g clip-path=\"url(#p4a2b895ed0)\">\n     <use style=\"fill:#fde725;stroke:#fde725;\" x=\"124.898295\" xlink:href=\"#C0_0_26aa327d02\" y=\"117.690071\"/>\n    </g>\n    <g clip-path=\"url(#p4a2b895ed0)\">\n     <use style=\"fill:#fde725;stroke:#fde725;\" x=\"151.343923\" xlink:href=\"#C0_0_26aa327d02\" y=\"122.342963\"/>\n    </g>\n    <g clip-path=\"url(#p4a2b895ed0)\">\n     <use style=\"fill:#440154;stroke:#440154;\" x=\"291.780957\" xlink:href=\"#C0_0_26aa327d02\" y=\"130.211852\"/>\n    </g>\n    <g clip-path=\"url(#p4a2b895ed0)\">\n     <use style=\"fill:#fde725;stroke:#fde725;\" x=\"153.619152\" xlink:href=\"#C0_0_26aa327d02\" y=\"111.686411\"/>\n    </g>\n    <g clip-path=\"url(#p4a2b895ed0)\">\n     <use style=\"fill:#440154;stroke:#440154;\" x=\"208.746509\" xlink:href=\"#C0_0_26aa327d02\" y=\"80.718577\"/>\n    </g>\n    <g clip-path=\"url(#p4a2b895ed0)\">\n     <use style=\"fill:#440154;stroke:#440154;\" x=\"227.120491\" xlink:href=\"#C0_0_26aa327d02\" y=\"108.011459\"/>\n    </g>\n    <g clip-path=\"url(#p4a2b895ed0)\">\n     <use style=\"fill:#440154;stroke:#440154;\" x=\"221.833758\" xlink:href=\"#C0_0_26aa327d02\" y=\"102.015779\"/>\n    </g>\n    <g clip-path=\"url(#p4a2b895ed0)\">\n     <use style=\"fill:#fde725;stroke:#fde725;\" x=\"157.408187\" xlink:href=\"#C0_0_26aa327d02\" y=\"156.653569\"/>\n    </g>\n    <g clip-path=\"url(#p4a2b895ed0)\">\n     <use style=\"fill:#fde725;stroke:#fde725;\" x=\"112.395854\" xlink:href=\"#C0_0_26aa327d02\" y=\"98.242519\"/>\n    </g>\n    <g clip-path=\"url(#p4a2b895ed0)\">\n     <use style=\"fill:#fde725;stroke:#fde725;\" x=\"132.012769\" xlink:href=\"#C0_0_26aa327d02\" y=\"87.747642\"/>\n    </g>\n    <g clip-path=\"url(#p4a2b895ed0)\">\n     <use style=\"fill:#fde725;stroke:#fde725;\" x=\"147.518489\" xlink:href=\"#C0_0_26aa327d02\" y=\"136.591983\"/>\n    </g>\n    <g clip-path=\"url(#p4a2b895ed0)\">\n     <use style=\"fill:#fde725;stroke:#fde725;\" x=\"168.485901\" xlink:href=\"#C0_0_26aa327d02\" y=\"139.940051\"/>\n    </g>\n    <g clip-path=\"url(#p4a2b895ed0)\">\n     <use style=\"fill:#440154;stroke:#440154;\" x=\"147.176329\" xlink:href=\"#C0_0_26aa327d02\" y=\"95.467858\"/>\n    </g>\n    <g clip-path=\"url(#p4a2b895ed0)\">\n     <use style=\"fill:#440154;stroke:#440154;\" x=\"277.861205\" xlink:href=\"#C0_0_26aa327d02\" y=\"123.468457\"/>\n    </g>\n    <g clip-path=\"url(#p4a2b895ed0)\">\n     <use style=\"fill:#fde725;stroke:#fde725;\" x=\"160.580639\" xlink:href=\"#C0_0_26aa327d02\" y=\"113.094322\"/>\n    </g>\n    <g clip-path=\"url(#p4a2b895ed0)\">\n     <use style=\"fill:#440154;stroke:#440154;\" x=\"259.180667\" xlink:href=\"#C0_0_26aa327d02\" y=\"119.439666\"/>\n    </g>\n    <g clip-path=\"url(#p4a2b895ed0)\">\n     <use style=\"fill:#fde725;stroke:#fde725;\" x=\"90.648721\" xlink:href=\"#C0_0_26aa327d02\" y=\"68.396892\"/>\n    </g>\n    <g clip-path=\"url(#p4a2b895ed0)\">\n     <use style=\"fill:#fde725;stroke:#fde725;\" x=\"141.164436\" xlink:href=\"#C0_0_26aa327d02\" y=\"142.2132\"/>\n    </g>\n    <g clip-path=\"url(#p4a2b895ed0)\">\n     <use style=\"fill:#440154;stroke:#440154;\" x=\"226.820461\" xlink:href=\"#C0_0_26aa327d02\" y=\"104.305854\"/>\n    </g>\n    <g clip-path=\"url(#p4a2b895ed0)\">\n     <use style=\"fill:#fde725;stroke:#fde725;\" x=\"134.971592\" xlink:href=\"#C0_0_26aa327d02\" y=\"136.330006\"/>\n    </g>\n    <g clip-path=\"url(#p4a2b895ed0)\">\n     <use style=\"fill:#fde725;stroke:#fde725;\" x=\"149.140432\" xlink:href=\"#C0_0_26aa327d02\" y=\"135.764077\"/>\n    </g>\n    <g clip-path=\"url(#p4a2b895ed0)\">\n     <use style=\"fill:#fde725;stroke:#fde725;\" x=\"103.360181\" xlink:href=\"#C0_0_26aa327d02\" y=\"117.331792\"/>\n    </g>\n    <g clip-path=\"url(#p4a2b895ed0)\">\n     <use style=\"fill:#fde725;stroke:#fde725;\" x=\"209.027263\" xlink:href=\"#C0_0_26aa327d02\" y=\"168.296857\"/>\n    </g>\n    <g clip-path=\"url(#p4a2b895ed0)\">\n     <use style=\"fill:#440154;stroke:#440154;\" x=\"282.70693\" xlink:href=\"#C0_0_26aa327d02\" y=\"111.254297\"/>\n    </g>\n    <g clip-path=\"url(#p4a2b895ed0)\">\n     <use style=\"fill:#440154;stroke:#440154;\" x=\"232.908323\" xlink:href=\"#C0_0_26aa327d02\" y=\"108.315751\"/>\n    </g>\n    <g clip-path=\"url(#p4a2b895ed0)\">\n     <use style=\"fill:#440154;stroke:#440154;\" x=\"283.864701\" xlink:href=\"#C0_0_26aa327d02\" y=\"134.116747\"/>\n    </g>\n    <g clip-path=\"url(#p4a2b895ed0)\">\n     <use style=\"fill:#fde725;stroke:#fde725;\" x=\"129.618794\" xlink:href=\"#C0_0_26aa327d02\" y=\"109.949491\"/>\n    </g>\n    <g clip-path=\"url(#p4a2b895ed0)\">\n     <use style=\"fill:#fde725;stroke:#fde725;\" x=\"67.058768\" xlink:href=\"#C0_0_26aa327d02\" y=\"86.836829\"/>\n    </g>\n    <g clip-path=\"url(#p4a2b895ed0)\">\n     <use style=\"fill:#440154;stroke:#440154;\" x=\"267.152937\" xlink:href=\"#C0_0_26aa327d02\" y=\"107.324881\"/>\n    </g>\n    <g clip-path=\"url(#p4a2b895ed0)\">\n     <use style=\"fill:#fde725;stroke:#fde725;\" x=\"151.446669\" xlink:href=\"#C0_0_26aa327d02\" y=\"138.01319\"/>\n    </g>\n    <g clip-path=\"url(#p4a2b895ed0)\">\n     <use style=\"fill:#fde725;stroke:#fde725;\" x=\"106.992896\" xlink:href=\"#C0_0_26aa327d02\" y=\"78.385546\"/>\n    </g>\n    <g clip-path=\"url(#p4a2b895ed0)\">\n     <use style=\"fill:#fde725;stroke:#fde725;\" x=\"81.233977\" xlink:href=\"#C0_0_26aa327d02\" y=\"36.987775\"/>\n    </g>\n    <g clip-path=\"url(#p4a2b895ed0)\">\n     <use style=\"fill:#440154;stroke:#440154;\" x=\"266.999898\" xlink:href=\"#C0_0_26aa327d02\" y=\"115.561366\"/>\n    </g>\n    <g clip-path=\"url(#p4a2b895ed0)\">\n     <use style=\"fill:#fde725;stroke:#fde725;\" x=\"157.627852\" xlink:href=\"#C0_0_26aa327d02\" y=\"130.761308\"/>\n    </g>\n    <g clip-path=\"url(#p4a2b895ed0)\">\n     <use style=\"fill:#440154;stroke:#440154;\" x=\"237.020644\" xlink:href=\"#C0_0_26aa327d02\" y=\"98.120044\"/>\n    </g>\n    <g clip-path=\"url(#p4a2b895ed0)\">\n     <use style=\"fill:#fde725;stroke:#fde725;\" x=\"120.025368\" xlink:href=\"#C0_0_26aa327d02\" y=\"127.90472\"/>\n    </g>\n    <g clip-path=\"url(#p4a2b895ed0)\">\n     <use style=\"fill:#440154;stroke:#440154;\" x=\"171.559423\" xlink:href=\"#C0_0_26aa327d02\" y=\"87.462739\"/>\n    </g>\n    <g clip-path=\"url(#p4a2b895ed0)\">\n     <use style=\"fill:#440154;stroke:#440154;\" x=\"141.126518\" xlink:href=\"#C0_0_26aa327d02\" y=\"82.787374\"/>\n    </g>\n    <g clip-path=\"url(#p4a2b895ed0)\">\n     <use style=\"fill:#440154;stroke:#440154;\" x=\"260.774893\" xlink:href=\"#C0_0_26aa327d02\" y=\"121.028316\"/>\n    </g>\n    <g clip-path=\"url(#p4a2b895ed0)\">\n     <use style=\"fill:#fde725;stroke:#fde725;\" x=\"179.33852\" xlink:href=\"#C0_0_26aa327d02\" y=\"118.613673\"/>\n    </g>\n    <g clip-path=\"url(#p4a2b895ed0)\">\n     <use style=\"fill:#fde725;stroke:#fde725;\" x=\"161.965557\" xlink:href=\"#C0_0_26aa327d02\" y=\"155.693463\"/>\n    </g>\n    <g clip-path=\"url(#p4a2b895ed0)\">\n     <use style=\"fill:#fde725;stroke:#fde725;\" x=\"100.017697\" xlink:href=\"#C0_0_26aa327d02\" y=\"93.909904\"/>\n    </g>\n    <g clip-path=\"url(#p4a2b895ed0)\">\n     <use style=\"fill:#fde725;stroke:#fde725;\" x=\"85.187105\" xlink:href=\"#C0_0_26aa327d02\" y=\"108.972225\"/>\n    </g>\n    <g clip-path=\"url(#p4a2b895ed0)\">\n     <use style=\"fill:#440154;stroke:#440154;\" x=\"242.514849\" xlink:href=\"#C0_0_26aa327d02\" y=\"119.185418\"/>\n    </g>\n    <g clip-path=\"url(#p4a2b895ed0)\">\n     <use style=\"fill:#fde725;stroke:#fde725;\" x=\"108.320746\" xlink:href=\"#C0_0_26aa327d02\" y=\"64.445814\"/>\n    </g>\n    <g clip-path=\"url(#p4a2b895ed0)\">\n     <use style=\"fill:#fde725;stroke:#fde725;\" x=\"79.975688\" xlink:href=\"#C0_0_26aa327d02\" y=\"62.625319\"/>\n    </g>\n    <g clip-path=\"url(#p4a2b895ed0)\">\n     <use style=\"fill:#440154;stroke:#440154;\" x=\"277.63883\" xlink:href=\"#C0_0_26aa327d02\" y=\"122.413473\"/>\n    </g>\n    <g clip-path=\"url(#p4a2b895ed0)\">\n     <use style=\"fill:#440154;stroke:#440154;\" x=\"323.404783\" xlink:href=\"#C0_0_26aa327d02\" y=\"136.608107\"/>\n    </g>\n    <g clip-path=\"url(#p4a2b895ed0)\">\n     <use style=\"fill:#440154;stroke:#440154;\" x=\"202.91137\" xlink:href=\"#C0_0_26aa327d02\" y=\"99.615335\"/>\n    </g>\n    <g clip-path=\"url(#p4a2b895ed0)\">\n     <use style=\"fill:#440154;stroke:#440154;\" x=\"137.892878\" xlink:href=\"#C0_0_26aa327d02\" y=\"97.398242\"/>\n    </g>\n    <g clip-path=\"url(#p4a2b895ed0)\">\n     <use style=\"fill:#fde725;stroke:#fde725;\" x=\"160.964036\" xlink:href=\"#C0_0_26aa327d02\" y=\"114.834141\"/>\n    </g>\n    <g clip-path=\"url(#p4a2b895ed0)\">\n     <use style=\"fill:#fde725;stroke:#fde725;\" x=\"131.79998\" xlink:href=\"#C0_0_26aa327d02\" y=\"150.978169\"/>\n    </g>\n    <g clip-path=\"url(#p4a2b895ed0)\">\n     <use style=\"fill:#fde725;stroke:#fde725;\" x=\"140.149853\" xlink:href=\"#C0_0_26aa327d02\" y=\"100.328654\"/>\n    </g>\n    <g clip-path=\"url(#p4a2b895ed0)\">\n     <use style=\"fill:#440154;stroke:#440154;\" x=\"182.80682\" xlink:href=\"#C0_0_26aa327d02\" y=\"104.916382\"/>\n    </g>\n    <g clip-path=\"url(#p4a2b895ed0)\">\n     <use style=\"fill:#fde725;stroke:#fde725;\" x=\"90.607922\" xlink:href=\"#C0_0_26aa327d02\" y=\"82.102133\"/>\n    </g>\n    <g clip-path=\"url(#p4a2b895ed0)\">\n     <use style=\"fill:#fde725;stroke:#fde725;\" x=\"123.814914\" xlink:href=\"#C0_0_26aa327d02\" y=\"84.459455\"/>\n    </g>\n    <g clip-path=\"url(#p4a2b895ed0)\">\n     <use style=\"fill:#fde725;stroke:#fde725;\" x=\"146.751724\" xlink:href=\"#C0_0_26aa327d02\" y=\"92.19893\"/>\n    </g>\n    <g clip-path=\"url(#p4a2b895ed0)\">\n     <use style=\"fill:#440154;stroke:#440154;\" x=\"286.712655\" xlink:href=\"#C0_0_26aa327d02\" y=\"115.054584\"/>\n    </g>\n    <g clip-path=\"url(#p4a2b895ed0)\">\n     <use style=\"fill:#fde725;stroke:#fde725;\" x=\"156.425888\" xlink:href=\"#C0_0_26aa327d02\" y=\"140.269033\"/>\n    </g>\n    <g clip-path=\"url(#p4a2b895ed0)\">\n     <use style=\"fill:#440154;stroke:#440154;\" x=\"321.187399\" xlink:href=\"#C0_0_26aa327d02\" y=\"133.116492\"/>\n    </g>\n    <g clip-path=\"url(#p4a2b895ed0)\">\n     <use style=\"fill:#fde725;stroke:#fde725;\" x=\"96.535471\" xlink:href=\"#C0_0_26aa327d02\" y=\"82.930375\"/>\n    </g>\n    <g clip-path=\"url(#p4a2b895ed0)\">\n     <use style=\"fill:#440154;stroke:#440154;\" x=\"239.13824\" xlink:href=\"#C0_0_26aa327d02\" y=\"103.249249\"/>\n    </g>\n    <g clip-path=\"url(#p4a2b895ed0)\">\n     <use style=\"fill:#fde725;stroke:#fde725;\" x=\"147.408618\" xlink:href=\"#C0_0_26aa327d02\" y=\"134.980885\"/>\n    </g>\n    <g clip-path=\"url(#p4a2b895ed0)\">\n     <use style=\"fill:#440154;stroke:#440154;\" x=\"311.742764\" xlink:href=\"#C0_0_26aa327d02\" y=\"129.780359\"/>\n    </g>\n    <g clip-path=\"url(#p4a2b895ed0)\">\n     <use style=\"fill:#fde725;stroke:#fde725;\" x=\"141.44996\" xlink:href=\"#C0_0_26aa327d02\" y=\"120.521069\"/>\n    </g>\n    <g clip-path=\"url(#p4a2b895ed0)\">\n     <use style=\"fill:#fde725;stroke:#fde725;\" x=\"91.259191\" xlink:href=\"#C0_0_26aa327d02\" y=\"78.138001\"/>\n    </g>\n    <g clip-path=\"url(#p4a2b895ed0)\">\n     <use style=\"fill:#440154;stroke:#440154;\" x=\"140.588866\" xlink:href=\"#C0_0_26aa327d02\" y=\"72.645994\"/>\n    </g>\n    <g clip-path=\"url(#p4a2b895ed0)\">\n     <use style=\"fill:#440154;stroke:#440154;\" x=\"169.090766\" xlink:href=\"#C0_0_26aa327d02\" y=\"98.14775\"/>\n    </g>\n    <g clip-path=\"url(#p4a2b895ed0)\">\n     <use style=\"fill:#440154;stroke:#440154;\" x=\"202.876886\" xlink:href=\"#C0_0_26aa327d02\" y=\"97.293796\"/>\n    </g>\n    <g clip-path=\"url(#p4a2b895ed0)\">\n     <use style=\"fill:#fde725;stroke:#fde725;\" x=\"155.273266\" xlink:href=\"#C0_0_26aa327d02\" y=\"114.325349\"/>\n    </g>\n    <g clip-path=\"url(#p4a2b895ed0)\">\n     <use style=\"fill:#fde725;stroke:#fde725;\" x=\"68.124598\" xlink:href=\"#C0_0_26aa327d02\" y=\"81.752841\"/>\n    </g>\n    <g clip-path=\"url(#p4a2b895ed0)\">\n     <use style=\"fill:#fde725;stroke:#fde725;\" x=\"110.009024\" xlink:href=\"#C0_0_26aa327d02\" y=\"82.439713\"/>\n    </g>\n    <g clip-path=\"url(#p4a2b895ed0)\">\n     <use style=\"fill:#fde725;stroke:#fde725;\" x=\"114.164011\" xlink:href=\"#C0_0_26aa327d02\" y=\"74.415351\"/>\n    </g>\n    <g clip-path=\"url(#p4a2b895ed0)\">\n     <use style=\"fill:#440154;stroke:#440154;\" x=\"126.356386\" xlink:href=\"#C0_0_26aa327d02\" y=\"104.091789\"/>\n    </g>\n    <g clip-path=\"url(#p4a2b895ed0)\">\n     <use style=\"fill:#440154;stroke:#440154;\" x=\"145.122908\" xlink:href=\"#C0_0_26aa327d02\" y=\"97.365152\"/>\n    </g>\n    <g clip-path=\"url(#p4a2b895ed0)\">\n     <use style=\"fill:#fde725;stroke:#fde725;\" x=\"62.124883\" xlink:href=\"#C0_0_26aa327d02\" y=\"58.278516\"/>\n    </g>\n    <g clip-path=\"url(#p4a2b895ed0)\">\n     <use style=\"fill:#fde725;stroke:#fde725;\" x=\"111.106535\" xlink:href=\"#C0_0_26aa327d02\" y=\"121.705901\"/>\n    </g>\n    <g clip-path=\"url(#p4a2b895ed0)\">\n     <use style=\"fill:#fde725;stroke:#fde725;\" x=\"125.555914\" xlink:href=\"#C0_0_26aa327d02\" y=\"141.332159\"/>\n    </g>\n    <g clip-path=\"url(#p4a2b895ed0)\">\n     <use style=\"fill:#440154;stroke:#440154;\" x=\"264.83082\" xlink:href=\"#C0_0_26aa327d02\" y=\"113.285854\"/>\n    </g>\n    <g clip-path=\"url(#p4a2b895ed0)\">\n     <use style=\"fill:#fde725;stroke:#fde725;\" x=\"115.392032\" xlink:href=\"#C0_0_26aa327d02\" y=\"86.649602\"/>\n    </g>\n    <g clip-path=\"url(#p4a2b895ed0)\">\n     <use style=\"fill:#fde725;stroke:#fde725;\" x=\"140.379208\" xlink:href=\"#C0_0_26aa327d02\" y=\"138.260125\"/>\n    </g>\n    <g clip-path=\"url(#p4a2b895ed0)\">\n     <use style=\"fill:#fde725;stroke:#fde725;\" x=\"175.163018\" xlink:href=\"#C0_0_26aa327d02\" y=\"139.308032\"/>\n    </g>\n    <g clip-path=\"url(#p4a2b895ed0)\">\n     <use style=\"fill:#fde725;stroke:#fde725;\" x=\"126.306613\" xlink:href=\"#C0_0_26aa327d02\" y=\"109.231532\"/>\n    </g>\n    <g clip-path=\"url(#p4a2b895ed0)\">\n     <use style=\"fill:#fde725;stroke:#fde725;\" x=\"147.391667\" xlink:href=\"#C0_0_26aa327d02\" y=\"120.660613\"/>\n    </g>\n    <g clip-path=\"url(#p4a2b895ed0)\">\n     <use style=\"fill:#440154;stroke:#440154;\" x=\"301.357108\" xlink:href=\"#C0_0_26aa327d02\" y=\"116.319095\"/>\n    </g>\n    <g clip-path=\"url(#p4a2b895ed0)\">\n     <use style=\"fill:#440154;stroke:#440154;\" x=\"233.289212\" xlink:href=\"#C0_0_26aa327d02\" y=\"99.231452\"/>\n    </g>\n    <g clip-path=\"url(#p4a2b895ed0)\">\n     <use style=\"fill:#440154;stroke:#440154;\" x=\"250.855163\" xlink:href=\"#C0_0_26aa327d02\" y=\"112.53724\"/>\n    </g>\n    <g clip-path=\"url(#p4a2b895ed0)\">\n     <use style=\"fill:#440154;stroke:#440154;\" x=\"162.143683\" xlink:href=\"#C0_0_26aa327d02\" y=\"93.204233\"/>\n    </g>\n    <g clip-path=\"url(#p4a2b895ed0)\">\n     <use style=\"fill:#fde725;stroke:#fde725;\" x=\"134.216423\" xlink:href=\"#C0_0_26aa327d02\" y=\"112.919285\"/>\n    </g>\n    <g clip-path=\"url(#p4a2b895ed0)\">\n     <use style=\"fill:#fde725;stroke:#fde725;\" x=\"182.400479\" xlink:href=\"#C0_0_26aa327d02\" y=\"140.183936\"/>\n    </g>\n    <g clip-path=\"url(#p4a2b895ed0)\">\n     <use style=\"fill:#440154;stroke:#440154;\" x=\"262.177646\" xlink:href=\"#C0_0_26aa327d02\" y=\"119.064779\"/>\n    </g>\n    <g clip-path=\"url(#p4a2b895ed0)\">\n     <use style=\"fill:#fde725;stroke:#fde725;\" x=\"91.748912\" xlink:href=\"#C0_0_26aa327d02\" y=\"90.878582\"/>\n    </g>\n    <g clip-path=\"url(#p4a2b895ed0)\">\n     <use style=\"fill:#440154;stroke:#440154;\" x=\"281.348323\" xlink:href=\"#C0_0_26aa327d02\" y=\"119.969066\"/>\n    </g>\n    <g clip-path=\"url(#p4a2b895ed0)\">\n     <use style=\"fill:#fde725;stroke:#fde725;\" x=\"100.954753\" xlink:href=\"#C0_0_26aa327d02\" y=\"85.195531\"/>\n    </g>\n    <g clip-path=\"url(#p4a2b895ed0)\">\n     <use style=\"fill:#440154;stroke:#440154;\" x=\"330.329323\" xlink:href=\"#C0_0_26aa327d02\" y=\"121.523073\"/>\n    </g>\n    <g clip-path=\"url(#p4a2b895ed0)\">\n     <use style=\"fill:#440154;stroke:#440154;\" x=\"328.954514\" xlink:href=\"#C0_0_26aa327d02\" y=\"136.933753\"/>\n    </g>\n    <g clip-path=\"url(#p4a2b895ed0)\">\n     <use style=\"fill:#fde725;stroke:#fde725;\" x=\"99.64959\" xlink:href=\"#C0_0_26aa327d02\" y=\"17.083636\"/>\n    </g>\n    <g clip-path=\"url(#p4a2b895ed0)\">\n     <use style=\"fill:#440154;stroke:#440154;\" x=\"291.936505\" xlink:href=\"#C0_0_26aa327d02\" y=\"109.43275\"/>\n    </g>\n    <g clip-path=\"url(#p4a2b895ed0)\">\n     <use style=\"fill:#fde725;stroke:#fde725;\" x=\"181.339682\" xlink:href=\"#C0_0_26aa327d02\" y=\"145.136496\"/>\n    </g>\n    <g clip-path=\"url(#p4a2b895ed0)\">\n     <use style=\"fill:#fde725;stroke:#fde725;\" x=\"96.984637\" xlink:href=\"#C0_0_26aa327d02\" y=\"48.645549\"/>\n    </g>\n    <g clip-path=\"url(#p4a2b895ed0)\">\n     <use style=\"fill:#440154;stroke:#440154;\" x=\"239.411747\" xlink:href=\"#C0_0_26aa327d02\" y=\"116.506004\"/>\n    </g>\n    <g clip-path=\"url(#p4a2b895ed0)\">\n     <use style=\"fill:#fde725;stroke:#fde725;\" x=\"130.073125\" xlink:href=\"#C0_0_26aa327d02\" y=\"58.495842\"/>\n    </g>\n    <g clip-path=\"url(#p4a2b895ed0)\">\n     <use style=\"fill:#440154;stroke:#440154;\" x=\"267.370286\" xlink:href=\"#C0_0_26aa327d02\" y=\"115.959971\"/>\n    </g>\n    <g clip-path=\"url(#p4a2b895ed0)\">\n     <use style=\"fill:#fde725;stroke:#fde725;\" x=\"114.819415\" xlink:href=\"#C0_0_26aa327d02\" y=\"114.191971\"/>\n    </g>\n    <g clip-path=\"url(#p4a2b895ed0)\">\n     <use style=\"fill:#fde725;stroke:#fde725;\" x=\"170.430105\" xlink:href=\"#C0_0_26aa327d02\" y=\"176.1482\"/>\n    </g>\n    <g clip-path=\"url(#p4a2b895ed0)\">\n     <use style=\"fill:#fde725;stroke:#fde725;\" x=\"111.734359\" xlink:href=\"#C0_0_26aa327d02\" y=\"98.310182\"/>\n    </g>\n    <g clip-path=\"url(#p4a2b895ed0)\">\n     <use style=\"fill:#fde725;stroke:#fde725;\" x=\"94.838318\" xlink:href=\"#C0_0_26aa327d02\" y=\"49.05285\"/>\n    </g>\n    <g clip-path=\"url(#p4a2b895ed0)\">\n     <use style=\"fill:#440154;stroke:#440154;\" x=\"232.551418\" xlink:href=\"#C0_0_26aa327d02\" y=\"102.717789\"/>\n    </g>\n    <g clip-path=\"url(#p4a2b895ed0)\">\n     <use style=\"fill:#fde725;stroke:#fde725;\" x=\"114.869143\" xlink:href=\"#C0_0_26aa327d02\" y=\"78.524754\"/>\n    </g>\n    <g clip-path=\"url(#p4a2b895ed0)\">\n     <use style=\"fill:#fde725;stroke:#fde725;\" x=\"159.384167\" xlink:href=\"#C0_0_26aa327d02\" y=\"152.010476\"/>\n    </g>\n    <g clip-path=\"url(#p4a2b895ed0)\">\n     <use style=\"fill:#440154;stroke:#440154;\" x=\"200.351444\" xlink:href=\"#C0_0_26aa327d02\" y=\"106.256074\"/>\n    </g>\n    <g clip-path=\"url(#p4a2b895ed0)\">\n     <use style=\"fill:#440154;stroke:#440154;\" x=\"277.443123\" xlink:href=\"#C0_0_26aa327d02\" y=\"119.152355\"/>\n    </g>\n    <g clip-path=\"url(#p4a2b895ed0)\">\n     <use style=\"fill:#440154;stroke:#440154;\" x=\"361.249006\" xlink:href=\"#C0_0_26aa327d02\" y=\"142.684111\"/>\n    </g>\n    <g clip-path=\"url(#p4a2b895ed0)\">\n     <use style=\"fill:#440154;stroke:#440154;\" x=\"207.147573\" xlink:href=\"#C0_0_26aa327d02\" y=\"109.546081\"/>\n    </g>\n    <g clip-path=\"url(#p4a2b895ed0)\">\n     <use style=\"fill:#440154;stroke:#440154;\" x=\"217.016635\" xlink:href=\"#C0_0_26aa327d02\" y=\"94.299433\"/>\n    </g>\n    <g clip-path=\"url(#p4a2b895ed0)\">\n     <use style=\"fill:#440154;stroke:#440154;\" x=\"270.92334\" xlink:href=\"#C0_0_26aa327d02\" y=\"134.034273\"/>\n    </g>\n    <g clip-path=\"url(#p4a2b895ed0)\">\n     <use style=\"fill:#fde725;stroke:#fde725;\" x=\"141.408751\" xlink:href=\"#C0_0_26aa327d02\" y=\"109.549417\"/>\n    </g>\n    <g clip-path=\"url(#p4a2b895ed0)\">\n     <use style=\"fill:#440154;stroke:#440154;\" x=\"246.347061\" xlink:href=\"#C0_0_26aa327d02\" y=\"104.004878\"/>\n    </g>\n    <g clip-path=\"url(#p4a2b895ed0)\">\n     <use style=\"fill:#fde725;stroke:#fde725;\" x=\"145.062033\" xlink:href=\"#C0_0_26aa327d02\" y=\"153.615053\"/>\n    </g>\n    <g clip-path=\"url(#p4a2b895ed0)\">\n     <use style=\"fill:#fde725;stroke:#fde725;\" x=\"138.653317\" xlink:href=\"#C0_0_26aa327d02\" y=\"123.548425\"/>\n    </g>\n    <g clip-path=\"url(#p4a2b895ed0)\">\n     <use style=\"fill:#fde725;stroke:#fde725;\" x=\"137.67191\" xlink:href=\"#C0_0_26aa327d02\" y=\"133.530031\"/>\n    </g>\n    <g clip-path=\"url(#p4a2b895ed0)\">\n     <use style=\"fill:#fde725;stroke:#fde725;\" x=\"148.688538\" xlink:href=\"#C0_0_26aa327d02\" y=\"117.569343\"/>\n    </g>\n    <g clip-path=\"url(#p4a2b895ed0)\">\n     <use style=\"fill:#440154;stroke:#440154;\" x=\"205.723881\" xlink:href=\"#C0_0_26aa327d02\" y=\"106.177705\"/>\n    </g>\n    <g clip-path=\"url(#p4a2b895ed0)\">\n     <use style=\"fill:#440154;stroke:#440154;\" x=\"232.044692\" xlink:href=\"#C0_0_26aa327d02\" y=\"112.822098\"/>\n    </g>\n    <g clip-path=\"url(#p4a2b895ed0)\">\n     <use style=\"fill:#fde725;stroke:#fde725;\" x=\"80.965692\" xlink:href=\"#C0_0_26aa327d02\" y=\"47.42485\"/>\n    </g>\n    <g clip-path=\"url(#p4a2b895ed0)\">\n     <use style=\"fill:#440154;stroke:#440154;\" x=\"206.708521\" xlink:href=\"#C0_0_26aa327d02\" y=\"110.979072\"/>\n    </g>\n    <g clip-path=\"url(#p4a2b895ed0)\">\n     <use style=\"fill:#440154;stroke:#440154;\" x=\"115.90336\" xlink:href=\"#C0_0_26aa327d02\" y=\"77.161372\"/>\n    </g>\n    <g clip-path=\"url(#p4a2b895ed0)\">\n     <use style=\"fill:#fde725;stroke:#fde725;\" x=\"161.99869\" xlink:href=\"#C0_0_26aa327d02\" y=\"104.892422\"/>\n    </g>\n    <g clip-path=\"url(#p4a2b895ed0)\">\n     <use style=\"fill:#fde725;stroke:#fde725;\" x=\"88.652378\" xlink:href=\"#C0_0_26aa327d02\" y=\"98.171111\"/>\n    </g>\n    <g clip-path=\"url(#p4a2b895ed0)\">\n     <use style=\"fill:#fde725;stroke:#fde725;\" x=\"130.34353\" xlink:href=\"#C0_0_26aa327d02\" y=\"112.041885\"/>\n    </g>\n    <g clip-path=\"url(#p4a2b895ed0)\">\n     <use style=\"fill:#440154;stroke:#440154;\" x=\"203.738032\" xlink:href=\"#C0_0_26aa327d02\" y=\"108.682294\"/>\n    </g>\n    <g clip-path=\"url(#p4a2b895ed0)\">\n     <use style=\"fill:#440154;stroke:#440154;\" x=\"263.429887\" xlink:href=\"#C0_0_26aa327d02\" y=\"103.572694\"/>\n    </g>\n    <g clip-path=\"url(#p4a2b895ed0)\">\n     <use style=\"fill:#440154;stroke:#440154;\" x=\"321.601759\" xlink:href=\"#C0_0_26aa327d02\" y=\"136.533977\"/>\n    </g>\n    <g clip-path=\"url(#p4a2b895ed0)\">\n     <use style=\"fill:#440154;stroke:#440154;\" x=\"284.518967\" xlink:href=\"#C0_0_26aa327d02\" y=\"118.767971\"/>\n    </g>\n    <g clip-path=\"url(#p4a2b895ed0)\">\n     <use style=\"fill:#440154;stroke:#440154;\" x=\"148.84975\" xlink:href=\"#C0_0_26aa327d02\" y=\"88.513228\"/>\n    </g>\n    <g clip-path=\"url(#p4a2b895ed0)\">\n     <use style=\"fill:#440154;stroke:#440154;\" x=\"57.679901\" xlink:href=\"#C0_0_26aa327d02\" y=\"84.1826\"/>\n    </g>\n    <g clip-path=\"url(#p4a2b895ed0)\">\n     <use style=\"fill:#fde725;stroke:#fde725;\" x=\"146.735745\" xlink:href=\"#C0_0_26aa327d02\" y=\"127.933898\"/>\n    </g>\n    <g clip-path=\"url(#p4a2b895ed0)\">\n     <use style=\"fill:#440154;stroke:#440154;\" x=\"281.370726\" xlink:href=\"#C0_0_26aa327d02\" y=\"122.239949\"/>\n    </g>\n    <g clip-path=\"url(#p4a2b895ed0)\">\n     <use style=\"fill:#fde725;stroke:#fde725;\" x=\"140.090913\" xlink:href=\"#C0_0_26aa327d02\" y=\"73.565501\"/>\n    </g>\n    <g clip-path=\"url(#p4a2b895ed0)\">\n     <use style=\"fill:#fde725;stroke:#fde725;\" x=\"122.715184\" xlink:href=\"#C0_0_26aa327d02\" y=\"101.24965\"/>\n    </g>\n    <g clip-path=\"url(#p4a2b895ed0)\">\n     <use style=\"fill:#440154;stroke:#440154;\" x=\"245.417695\" xlink:href=\"#C0_0_26aa327d02\" y=\"111.133846\"/>\n    </g>\n    <g clip-path=\"url(#p4a2b895ed0)\">\n     <use style=\"fill:#440154;stroke:#440154;\" x=\"274.208548\" xlink:href=\"#C0_0_26aa327d02\" y=\"138.366664\"/>\n    </g>\n    <g clip-path=\"url(#p4a2b895ed0)\">\n     <use style=\"fill:#440154;stroke:#440154;\" x=\"225.591463\" xlink:href=\"#C0_0_26aa327d02\" y=\"101.923584\"/>\n    </g>\n    <g clip-path=\"url(#p4a2b895ed0)\">\n     <use style=\"fill:#440154;stroke:#440154;\" x=\"254.259542\" xlink:href=\"#C0_0_26aa327d02\" y=\"125.643376\"/>\n    </g>\n    <g clip-path=\"url(#p4a2b895ed0)\">\n     <use style=\"fill:#fde725;stroke:#fde725;\" x=\"102.039211\" xlink:href=\"#C0_0_26aa327d02\" y=\"84.327242\"/>\n    </g>\n    <g clip-path=\"url(#p4a2b895ed0)\">\n     <use style=\"fill:#440154;stroke:#440154;\" x=\"297.959099\" xlink:href=\"#C0_0_26aa327d02\" y=\"126.372315\"/>\n    </g>\n    <g clip-path=\"url(#p4a2b895ed0)\">\n     <use style=\"fill:#fde725;stroke:#fde725;\" x=\"114.433125\" xlink:href=\"#C0_0_26aa327d02\" y=\"53.357929\"/>\n    </g>\n    <g clip-path=\"url(#p4a2b895ed0)\">\n     <use style=\"fill:#fde725;stroke:#fde725;\" x=\"87.408134\" xlink:href=\"#C0_0_26aa327d02\" y=\"28.305028\"/>\n    </g>\n    <g clip-path=\"url(#p4a2b895ed0)\">\n     <use style=\"fill:#440154;stroke:#440154;\" x=\"256.373888\" xlink:href=\"#C0_0_26aa327d02\" y=\"125.451278\"/>\n    </g>\n    <g clip-path=\"url(#p4a2b895ed0)\">\n     <use style=\"fill:#fde725;stroke:#fde725;\" x=\"70.579429\" xlink:href=\"#C0_0_26aa327d02\" y=\"49.469993\"/>\n    </g>\n    <g clip-path=\"url(#p4a2b895ed0)\">\n     <use style=\"fill:#440154;stroke:#440154;\" x=\"279.808147\" xlink:href=\"#C0_0_26aa327d02\" y=\"114.314693\"/>\n    </g>\n    <g clip-path=\"url(#p4a2b895ed0)\">\n     <use style=\"fill:#fde725;stroke:#fde725;\" x=\"135.307491\" xlink:href=\"#C0_0_26aa327d02\" y=\"107.028009\"/>\n    </g>\n    <g clip-path=\"url(#p4a2b895ed0)\">\n     <use style=\"fill:#fde725;stroke:#fde725;\" x=\"165.629967\" xlink:href=\"#C0_0_26aa327d02\" y=\"137.922104\"/>\n    </g>\n    <g clip-path=\"url(#p4a2b895ed0)\">\n     <use style=\"fill:#440154;stroke:#440154;\" x=\"232.81834\" xlink:href=\"#C0_0_26aa327d02\" y=\"124.997524\"/>\n    </g>\n    <g clip-path=\"url(#p4a2b895ed0)\">\n     <use style=\"fill:#fde725;stroke:#fde725;\" x=\"119.176772\" xlink:href=\"#C0_0_26aa327d02\" y=\"110.382715\"/>\n    </g>\n    <g clip-path=\"url(#p4a2b895ed0)\">\n     <use style=\"fill:#fde725;stroke:#fde725;\" x=\"187.466857\" xlink:href=\"#C0_0_26aa327d02\" y=\"171.31186\"/>\n    </g>\n    <g clip-path=\"url(#p4a2b895ed0)\">\n     <use style=\"fill:#fde725;stroke:#fde725;\" x=\"139.116038\" xlink:href=\"#C0_0_26aa327d02\" y=\"144.887138\"/>\n    </g>\n    <g clip-path=\"url(#p4a2b895ed0)\">\n     <use style=\"fill:#fde725;stroke:#fde725;\" x=\"101.42073\" xlink:href=\"#C0_0_26aa327d02\" y=\"90.275382\"/>\n    </g>\n    <g clip-path=\"url(#p4a2b895ed0)\">\n     <use style=\"fill:#fde725;stroke:#fde725;\" x=\"107.75453\" xlink:href=\"#C0_0_26aa327d02\" y=\"123.990963\"/>\n    </g>\n    <g clip-path=\"url(#p4a2b895ed0)\">\n     <use style=\"fill:#440154;stroke:#440154;\" x=\"253.023688\" xlink:href=\"#C0_0_26aa327d02\" y=\"105.95201\"/>\n    </g>\n    <g clip-path=\"url(#p4a2b895ed0)\">\n     <use style=\"fill:#440154;stroke:#440154;\" x=\"220.183034\" xlink:href=\"#C0_0_26aa327d02\" y=\"103.865016\"/>\n    </g>\n    <g clip-path=\"url(#p4a2b895ed0)\">\n     <use style=\"fill:#fde725;stroke:#fde725;\" x=\"163.511858\" xlink:href=\"#C0_0_26aa327d02\" y=\"110.41743\"/>\n    </g>\n    <g clip-path=\"url(#p4a2b895ed0)\">\n     <use style=\"fill:#440154;stroke:#440154;\" x=\"206.589081\" xlink:href=\"#C0_0_26aa327d02\" y=\"101.927944\"/>\n    </g>\n    <g clip-path=\"url(#p4a2b895ed0)\">\n     <use style=\"fill:#440154;stroke:#440154;\" x=\"237.561092\" xlink:href=\"#C0_0_26aa327d02\" y=\"111.26551\"/>\n    </g>\n    <g clip-path=\"url(#p4a2b895ed0)\">\n     <use style=\"fill:#440154;stroke:#440154;\" x=\"171.53484\" xlink:href=\"#C0_0_26aa327d02\" y=\"96.632485\"/>\n    </g>\n    <g clip-path=\"url(#p4a2b895ed0)\">\n     <use style=\"fill:#fde725;stroke:#fde725;\" x=\"159.22992\" xlink:href=\"#C0_0_26aa327d02\" y=\"127.816038\"/>\n    </g>\n    <g clip-path=\"url(#p4a2b895ed0)\">\n     <use style=\"fill:#fde725;stroke:#fde725;\" x=\"192.709972\" xlink:href=\"#C0_0_26aa327d02\" y=\"169.494871\"/>\n    </g>\n    <g clip-path=\"url(#p4a2b895ed0)\">\n     <use style=\"fill:#440154;stroke:#440154;\" x=\"180.306617\" xlink:href=\"#C0_0_26aa327d02\" y=\"97.564932\"/>\n    </g>\n    <g clip-path=\"url(#p4a2b895ed0)\">\n     <use style=\"fill:#440154;stroke:#440154;\" x=\"222.578895\" xlink:href=\"#C0_0_26aa327d02\" y=\"107.099682\"/>\n    </g>\n    <g clip-path=\"url(#p4a2b895ed0)\">\n     <use style=\"fill:#fde725;stroke:#fde725;\" x=\"101.403216\" xlink:href=\"#C0_0_26aa327d02\" y=\"49.174345\"/>\n    </g>\n    <g clip-path=\"url(#p4a2b895ed0)\">\n     <use style=\"fill:#440154;stroke:#440154;\" x=\"138.014899\" xlink:href=\"#C0_0_26aa327d02\" y=\"84.713758\"/>\n    </g>\n    <g clip-path=\"url(#p4a2b895ed0)\">\n     <use style=\"fill:#440154;stroke:#440154;\" x=\"157.913839\" xlink:href=\"#C0_0_26aa327d02\" y=\"89.959535\"/>\n    </g>\n    <g clip-path=\"url(#p4a2b895ed0)\">\n     <use style=\"fill:#440154;stroke:#440154;\" x=\"195.203271\" xlink:href=\"#C0_0_26aa327d02\" y=\"110.348522\"/>\n    </g>\n    <g clip-path=\"url(#p4a2b895ed0)\">\n     <use style=\"fill:#440154;stroke:#440154;\" x=\"267.933397\" xlink:href=\"#C0_0_26aa327d02\" y=\"112.57311\"/>\n    </g>\n    <g clip-path=\"url(#p4a2b895ed0)\">\n     <use style=\"fill:#440154;stroke:#440154;\" x=\"215.452527\" xlink:href=\"#C0_0_26aa327d02\" y=\"100.424895\"/>\n    </g>\n    <g clip-path=\"url(#p4a2b895ed0)\">\n     <use style=\"fill:#fde725;stroke:#fde725;\" x=\"83.506514\" xlink:href=\"#C0_0_26aa327d02\" y=\"77.392952\"/>\n    </g>\n    <g clip-path=\"url(#p4a2b895ed0)\">\n     <use style=\"fill:#fde725;stroke:#fde725;\" x=\"144.182507\" xlink:href=\"#C0_0_26aa327d02\" y=\"65.461247\"/>\n    </g>\n    <g clip-path=\"url(#p4a2b895ed0)\">\n     <use style=\"fill:#440154;stroke:#440154;\" x=\"220.803459\" xlink:href=\"#C0_0_26aa327d02\" y=\"115.967793\"/>\n    </g>\n    <g clip-path=\"url(#p4a2b895ed0)\">\n     <use style=\"fill:#440154;stroke:#440154;\" x=\"203.44435\" xlink:href=\"#C0_0_26aa327d02\" y=\"94.104988\"/>\n    </g>\n    <g clip-path=\"url(#p4a2b895ed0)\">\n     <use style=\"fill:#fde725;stroke:#fde725;\" x=\"99.789734\" xlink:href=\"#C0_0_26aa327d02\" y=\"60.477405\"/>\n    </g>\n    <g clip-path=\"url(#p4a2b895ed0)\">\n     <use style=\"fill:#440154;stroke:#440154;\" x=\"327.222693\" xlink:href=\"#C0_0_26aa327d02\" y=\"131.537903\"/>\n    </g>\n    <g clip-path=\"url(#p4a2b895ed0)\">\n     <use style=\"fill:#fde725;stroke:#fde725;\" x=\"130.917782\" xlink:href=\"#C0_0_26aa327d02\" y=\"80.995386\"/>\n    </g>\n    <g clip-path=\"url(#p4a2b895ed0)\">\n     <use style=\"fill:#fde725;stroke:#fde725;\" x=\"117.726475\" xlink:href=\"#C0_0_26aa327d02\" y=\"94.006803\"/>\n    </g>\n    <g clip-path=\"url(#p4a2b895ed0)\">\n     <use style=\"fill:#440154;stroke:#440154;\" x=\"165.547829\" xlink:href=\"#C0_0_26aa327d02\" y=\"107.4398\"/>\n    </g>\n    <g clip-path=\"url(#p4a2b895ed0)\">\n     <use style=\"fill:#440154;stroke:#440154;\" x=\"118.420791\" xlink:href=\"#C0_0_26aa327d02\" y=\"78.093112\"/>\n    </g>\n    <g clip-path=\"url(#p4a2b895ed0)\">\n     <use style=\"fill:#440154;stroke:#440154;\" x=\"223.130643\" xlink:href=\"#C0_0_26aa327d02\" y=\"105.774046\"/>\n    </g>\n    <g clip-path=\"url(#p4a2b895ed0)\">\n     <use style=\"fill:#fde725;stroke:#fde725;\" x=\"102.160389\" xlink:href=\"#C0_0_26aa327d02\" y=\"116.870103\"/>\n    </g>\n    <g clip-path=\"url(#p4a2b895ed0)\">\n     <use style=\"fill:#fde725;stroke:#fde725;\" x=\"123.939019\" xlink:href=\"#C0_0_26aa327d02\" y=\"154.76141\"/>\n    </g>\n    <g clip-path=\"url(#p4a2b895ed0)\">\n     <use style=\"fill:#440154;stroke:#440154;\" x=\"210.54646\" xlink:href=\"#C0_0_26aa327d02\" y=\"100.142226\"/>\n    </g>\n    <g clip-path=\"url(#p4a2b895ed0)\">\n     <use style=\"fill:#fde725;stroke:#fde725;\" x=\"168.738388\" xlink:href=\"#C0_0_26aa327d02\" y=\"154.572865\"/>\n    </g>\n    <g clip-path=\"url(#p4a2b895ed0)\">\n     <use style=\"fill:#440154;stroke:#440154;\" x=\"267.111691\" xlink:href=\"#C0_0_26aa327d02\" y=\"114.622609\"/>\n    </g>\n    <g clip-path=\"url(#p4a2b895ed0)\">\n     <use style=\"fill:#fde725;stroke:#fde725;\" x=\"143.826089\" xlink:href=\"#C0_0_26aa327d02\" y=\"123.240451\"/>\n    </g>\n    <g clip-path=\"url(#p4a2b895ed0)\">\n     <use style=\"fill:#440154;stroke:#440154;\" x=\"216.808445\" xlink:href=\"#C0_0_26aa327d02\" y=\"110.04017\"/>\n    </g>\n    <g clip-path=\"url(#p4a2b895ed0)\">\n     <use style=\"fill:#440154;stroke:#440154;\" x=\"258.588254\" xlink:href=\"#C0_0_26aa327d02\" y=\"111.770035\"/>\n    </g>\n    <g clip-path=\"url(#p4a2b895ed0)\">\n     <use style=\"fill:#fde725;stroke:#fde725;\" x=\"113.713753\" xlink:href=\"#C0_0_26aa327d02\" y=\"93.363646\"/>\n    </g>\n    <g clip-path=\"url(#p4a2b895ed0)\">\n     <use style=\"fill:#fde725;stroke:#fde725;\" x=\"171.183516\" xlink:href=\"#C0_0_26aa327d02\" y=\"162.657728\"/>\n    </g>\n    <g clip-path=\"url(#p4a2b895ed0)\">\n     <use style=\"fill:#440154;stroke:#440154;\" x=\"209.694341\" xlink:href=\"#C0_0_26aa327d02\" y=\"88.241771\"/>\n    </g>\n    <g clip-path=\"url(#p4a2b895ed0)\">\n     <use style=\"fill:#fde725;stroke:#fde725;\" x=\"56.885369\" xlink:href=\"#C0_0_26aa327d02\" y=\"37.131272\"/>\n    </g>\n    <g clip-path=\"url(#p4a2b895ed0)\">\n     <use style=\"fill:#440154;stroke:#440154;\" x=\"191.946057\" xlink:href=\"#C0_0_26aa327d02\" y=\"106.337654\"/>\n    </g>\n    <g clip-path=\"url(#p4a2b895ed0)\">\n     <use style=\"fill:#fde725;stroke:#fde725;\" x=\"82.005241\" xlink:href=\"#C0_0_26aa327d02\" y=\"66.963665\"/>\n    </g>\n    <g clip-path=\"url(#p4a2b895ed0)\">\n     <use style=\"fill:#440154;stroke:#440154;\" x=\"159.860505\" xlink:href=\"#C0_0_26aa327d02\" y=\"97.408767\"/>\n    </g>\n    <g clip-path=\"url(#p4a2b895ed0)\">\n     <use style=\"fill:#fde725;stroke:#fde725;\" x=\"95.121687\" xlink:href=\"#C0_0_26aa327d02\" y=\"52.117859\"/>\n    </g>\n    <g clip-path=\"url(#p4a2b895ed0)\">\n     <use style=\"fill:#440154;stroke:#440154;\" x=\"158.646908\" xlink:href=\"#C0_0_26aa327d02\" y=\"81.694323\"/>\n    </g>\n    <g clip-path=\"url(#p4a2b895ed0)\">\n     <use style=\"fill:#440154;stroke:#440154;\" x=\"278.708616\" xlink:href=\"#C0_0_26aa327d02\" y=\"134.082964\"/>\n    </g>\n    <g clip-path=\"url(#p4a2b895ed0)\">\n     <use style=\"fill:#440154;stroke:#440154;\" x=\"267.151517\" xlink:href=\"#C0_0_26aa327d02\" y=\"118.891337\"/>\n    </g>\n    <g clip-path=\"url(#p4a2b895ed0)\">\n     <use style=\"fill:#fde725;stroke:#fde725;\" x=\"160.272066\" xlink:href=\"#C0_0_26aa327d02\" y=\"178.029508\"/>\n    </g>\n    <g clip-path=\"url(#p4a2b895ed0)\">\n     <use style=\"fill:#440154;stroke:#440154;\" x=\"166.41568\" xlink:href=\"#C0_0_26aa327d02\" y=\"86.953985\"/>\n    </g>\n    <g clip-path=\"url(#p4a2b895ed0)\">\n     <use style=\"fill:#440154;stroke:#440154;\" x=\"289.569439\" xlink:href=\"#C0_0_26aa327d02\" y=\"127.271621\"/>\n    </g>\n    <g clip-path=\"url(#p4a2b895ed0)\">\n     <use style=\"fill:#fde725;stroke:#fde725;\" x=\"141.155509\" xlink:href=\"#C0_0_26aa327d02\" y=\"109.942991\"/>\n    </g>\n    <g clip-path=\"url(#p4a2b895ed0)\">\n     <use style=\"fill:#440154;stroke:#440154;\" x=\"201.706546\" xlink:href=\"#C0_0_26aa327d02\" y=\"102.394863\"/>\n    </g>\n    <g clip-path=\"url(#p4a2b895ed0)\">\n     <use style=\"fill:#fde725;stroke:#fde725;\" x=\"136.326548\" xlink:href=\"#C0_0_26aa327d02\" y=\"163.161478\"/>\n    </g>\n    <g clip-path=\"url(#p4a2b895ed0)\">\n     <use style=\"fill:#440154;stroke:#440154;\" x=\"218.791784\" xlink:href=\"#C0_0_26aa327d02\" y=\"112.342042\"/>\n    </g>\n    <g clip-path=\"url(#p4a2b895ed0)\">\n     <use style=\"fill:#440154;stroke:#440154;\" x=\"211.433046\" xlink:href=\"#C0_0_26aa327d02\" y=\"117.660681\"/>\n    </g>\n    <g clip-path=\"url(#p4a2b895ed0)\">\n     <use style=\"fill:#440154;stroke:#440154;\" x=\"267.799108\" xlink:href=\"#C0_0_26aa327d02\" y=\"123.355551\"/>\n    </g>\n    <g clip-path=\"url(#p4a2b895ed0)\">\n     <use style=\"fill:#fde725;stroke:#fde725;\" x=\"99.492503\" xlink:href=\"#C0_0_26aa327d02\" y=\"83.402564\"/>\n    </g>\n    <g clip-path=\"url(#p4a2b895ed0)\">\n     <use style=\"fill:#fde725;stroke:#fde725;\" x=\"138.577012\" xlink:href=\"#C0_0_26aa327d02\" y=\"150.982364\"/>\n    </g>\n    <g clip-path=\"url(#p4a2b895ed0)\">\n     <use style=\"fill:#fde725;stroke:#fde725;\" x=\"212.791156\" xlink:href=\"#C0_0_26aa327d02\" y=\"207.114185\"/>\n    </g>\n    <g clip-path=\"url(#p4a2b895ed0)\">\n     <use style=\"fill:#fde725;stroke:#fde725;\" x=\"174.768834\" xlink:href=\"#C0_0_26aa327d02\" y=\"143.328274\"/>\n    </g>\n    <g clip-path=\"url(#p4a2b895ed0)\">\n     <use style=\"fill:#440154;stroke:#440154;\" x=\"273.949405\" xlink:href=\"#C0_0_26aa327d02\" y=\"125.240327\"/>\n    </g>\n    <g clip-path=\"url(#p4a2b895ed0)\">\n     <use style=\"fill:#440154;stroke:#440154;\" x=\"186.951614\" xlink:href=\"#C0_0_26aa327d02\" y=\"88.303332\"/>\n    </g>\n    <g clip-path=\"url(#p4a2b895ed0)\">\n     <use style=\"fill:#440154;stroke:#440154;\" x=\"243.772205\" xlink:href=\"#C0_0_26aa327d02\" y=\"106.129521\"/>\n    </g>\n    <g clip-path=\"url(#p4a2b895ed0)\">\n     <use style=\"fill:#fde725;stroke:#fde725;\" x=\"79.546336\" xlink:href=\"#C0_0_26aa327d02\" y=\"66.692781\"/>\n    </g>\n    <g clip-path=\"url(#p4a2b895ed0)\">\n     <use style=\"fill:#440154;stroke:#440154;\" x=\"259.255878\" xlink:href=\"#C0_0_26aa327d02\" y=\"116.384419\"/>\n    </g>\n    <g clip-path=\"url(#p4a2b895ed0)\">\n     <use style=\"fill:#fde725;stroke:#fde725;\" x=\"106.092624\" xlink:href=\"#C0_0_26aa327d02\" y=\"22.494546\"/>\n    </g>\n    <g clip-path=\"url(#p4a2b895ed0)\">\n     <use style=\"fill:#440154;stroke:#440154;\" x=\"266.001545\" xlink:href=\"#C0_0_26aa327d02\" y=\"118.900346\"/>\n    </g>\n    <g clip-path=\"url(#p4a2b895ed0)\">\n     <use style=\"fill:#440154;stroke:#440154;\" x=\"229.466761\" xlink:href=\"#C0_0_26aa327d02\" y=\"92.020457\"/>\n    </g>\n    <g clip-path=\"url(#p4a2b895ed0)\">\n     <use style=\"fill:#fde725;stroke:#fde725;\" x=\"136.28542\" xlink:href=\"#C0_0_26aa327d02\" y=\"119.017786\"/>\n    </g>\n    <g clip-path=\"url(#p4a2b895ed0)\">\n     <use style=\"fill:#440154;stroke:#440154;\" x=\"232.51585\" xlink:href=\"#C0_0_26aa327d02\" y=\"99.625542\"/>\n    </g>\n    <g clip-path=\"url(#p4a2b895ed0)\">\n     <use style=\"fill:#440154;stroke:#440154;\" x=\"186.438954\" xlink:href=\"#C0_0_26aa327d02\" y=\"103.931382\"/>\n    </g>\n    <g clip-path=\"url(#p4a2b895ed0)\">\n     <use style=\"fill:#fde725;stroke:#fde725;\" x=\"100.600285\" xlink:href=\"#C0_0_26aa327d02\" y=\"62.963872\"/>\n    </g>\n    <g clip-path=\"url(#p4a2b895ed0)\">\n     <use style=\"fill:#440154;stroke:#440154;\" x=\"264.619758\" xlink:href=\"#C0_0_26aa327d02\" y=\"129.181963\"/>\n    </g>\n    <g clip-path=\"url(#p4a2b895ed0)\">\n     <use style=\"fill:#fde725;stroke:#fde725;\" x=\"118.762668\" xlink:href=\"#C0_0_26aa327d02\" y=\"70.711726\"/>\n    </g>\n    <g clip-path=\"url(#p4a2b895ed0)\">\n     <use style=\"fill:#440154;stroke:#440154;\" x=\"178.891219\" xlink:href=\"#C0_0_26aa327d02\" y=\"88.700075\"/>\n    </g>\n    <g clip-path=\"url(#p4a2b895ed0)\">\n     <use style=\"fill:#fde725;stroke:#fde725;\" x=\"218.112191\" xlink:href=\"#C0_0_26aa327d02\" y=\"171.966068\"/>\n    </g>\n    <g clip-path=\"url(#p4a2b895ed0)\">\n     <use style=\"fill:#fde725;stroke:#fde725;\" x=\"165.184623\" xlink:href=\"#C0_0_26aa327d02\" y=\"160.567685\"/>\n    </g>\n    <g clip-path=\"url(#p4a2b895ed0)\">\n     <use style=\"fill:#440154;stroke:#440154;\" x=\"244.806213\" xlink:href=\"#C0_0_26aa327d02\" y=\"101.856084\"/>\n    </g>\n    <g clip-path=\"url(#p4a2b895ed0)\">\n     <use style=\"fill:#440154;stroke:#440154;\" x=\"213.618737\" xlink:href=\"#C0_0_26aa327d02\" y=\"106.474254\"/>\n    </g>\n    <g clip-path=\"url(#p4a2b895ed0)\">\n     <use style=\"fill:#440154;stroke:#440154;\" x=\"251.950031\" xlink:href=\"#C0_0_26aa327d02\" y=\"113.686761\"/>\n    </g>\n    <g clip-path=\"url(#p4a2b895ed0)\">\n     <use style=\"fill:#fde725;stroke:#fde725;\" x=\"122.04536\" xlink:href=\"#C0_0_26aa327d02\" y=\"99.423987\"/>\n    </g>\n    <g clip-path=\"url(#p4a2b895ed0)\">\n     <use style=\"fill:#fde725;stroke:#fde725;\" x=\"149.312671\" xlink:href=\"#C0_0_26aa327d02\" y=\"95.026326\"/>\n    </g>\n    <g clip-path=\"url(#p4a2b895ed0)\">\n     <use style=\"fill:#440154;stroke:#440154;\" x=\"130.899921\" xlink:href=\"#C0_0_26aa327d02\" y=\"80.380692\"/>\n    </g>\n    <g clip-path=\"url(#p4a2b895ed0)\">\n     <use style=\"fill:#fde725;stroke:#fde725;\" x=\"108.368998\" xlink:href=\"#C0_0_26aa327d02\" y=\"89.587629\"/>\n    </g>\n    <g clip-path=\"url(#p4a2b895ed0)\">\n     <use style=\"fill:#fde725;stroke:#fde725;\" x=\"117.91951\" xlink:href=\"#C0_0_26aa327d02\" y=\"98.850937\"/>\n    </g>\n    <g clip-path=\"url(#p4a2b895ed0)\">\n     <use style=\"fill:#440154;stroke:#440154;\" x=\"225.900524\" xlink:href=\"#C0_0_26aa327d02\" y=\"105.034885\"/>\n    </g>\n    <g clip-path=\"url(#p4a2b895ed0)\">\n     <use style=\"fill:#440154;stroke:#440154;\" x=\"261.125954\" xlink:href=\"#C0_0_26aa327d02\" y=\"123.75435\"/>\n    </g>\n    <g clip-path=\"url(#p4a2b895ed0)\">\n     <use style=\"fill:#440154;stroke:#440154;\" x=\"298.749244\" xlink:href=\"#C0_0_26aa327d02\" y=\"126.580966\"/>\n    </g>\n    <g clip-path=\"url(#p4a2b895ed0)\">\n     <use style=\"fill:#fde725;stroke:#fde725;\" x=\"113.049991\" xlink:href=\"#C0_0_26aa327d02\" y=\"104.456936\"/>\n    </g>\n    <g clip-path=\"url(#p4a2b895ed0)\">\n     <use style=\"fill:#440154;stroke:#440154;\" x=\"138.077557\" xlink:href=\"#C0_0_26aa327d02\" y=\"95.416197\"/>\n    </g>\n    <g clip-path=\"url(#p4a2b895ed0)\">\n     <use style=\"fill:#fde725;stroke:#fde725;\" x=\"99.634822\" xlink:href=\"#C0_0_26aa327d02\" y=\"115.867999\"/>\n    </g>\n    <g clip-path=\"url(#p4a2b895ed0)\">\n     <use style=\"fill:#fde725;stroke:#fde725;\" x=\"137.71581\" xlink:href=\"#C0_0_26aa327d02\" y=\"159.326459\"/>\n    </g>\n    <g clip-path=\"url(#p4a2b895ed0)\">\n     <use style=\"fill:#440154;stroke:#440154;\" x=\"258.792956\" xlink:href=\"#C0_0_26aa327d02\" y=\"113.190151\"/>\n    </g>\n    <g clip-path=\"url(#p4a2b895ed0)\">\n     <use style=\"fill:#fde725;stroke:#fde725;\" x=\"131.501546\" xlink:href=\"#C0_0_26aa327d02\" y=\"88.777869\"/>\n    </g>\n    <g clip-path=\"url(#p4a2b895ed0)\">\n     <use style=\"fill:#440154;stroke:#440154;\" x=\"173.703543\" xlink:href=\"#C0_0_26aa327d02\" y=\"85.735081\"/>\n    </g>\n    <g clip-path=\"url(#p4a2b895ed0)\">\n     <use style=\"fill:#fde725;stroke:#fde725;\" x=\"103.508591\" xlink:href=\"#C0_0_26aa327d02\" y=\"65.922328\"/>\n    </g>\n    <g clip-path=\"url(#p4a2b895ed0)\">\n     <use style=\"fill:#440154;stroke:#440154;\" x=\"294.295453\" xlink:href=\"#C0_0_26aa327d02\" y=\"140.785097\"/>\n    </g>\n    <g clip-path=\"url(#p4a2b895ed0)\">\n     <use style=\"fill:#440154;stroke:#440154;\" x=\"202.210586\" xlink:href=\"#C0_0_26aa327d02\" y=\"102.840209\"/>\n    </g>\n    <g clip-path=\"url(#p4a2b895ed0)\">\n     <use style=\"fill:#fde725;stroke:#fde725;\" x=\"145.606163\" xlink:href=\"#C0_0_26aa327d02\" y=\"124.06099\"/>\n    </g>\n    <g clip-path=\"url(#p4a2b895ed0)\">\n     <use style=\"fill:#fde725;stroke:#fde725;\" x=\"117.543384\" xlink:href=\"#C0_0_26aa327d02\" y=\"111.831915\"/>\n    </g>\n    <g clip-path=\"url(#p4a2b895ed0)\">\n     <use style=\"fill:#fde725;stroke:#fde725;\" x=\"187.074228\" xlink:href=\"#C0_0_26aa327d02\" y=\"188.668364\"/>\n    </g>\n    <g clip-path=\"url(#p4a2b895ed0)\">\n     <use style=\"fill:#fde725;stroke:#fde725;\" x=\"152.321343\" xlink:href=\"#C0_0_26aa327d02\" y=\"130.116188\"/>\n    </g>\n    <g clip-path=\"url(#p4a2b895ed0)\">\n     <use style=\"fill:#fde725;stroke:#fde725;\" x=\"102.686615\" xlink:href=\"#C0_0_26aa327d02\" y=\"53.323447\"/>\n    </g>\n    <g clip-path=\"url(#p4a2b895ed0)\">\n     <use style=\"fill:#fde725;stroke:#fde725;\" x=\"203.010065\" xlink:href=\"#C0_0_26aa327d02\" y=\"214.756364\"/>\n    </g>\n    <g clip-path=\"url(#p4a2b895ed0)\">\n     <use style=\"fill:#fde725;stroke:#fde725;\" x=\"156.966691\" xlink:href=\"#C0_0_26aa327d02\" y=\"141.209068\"/>\n    </g>\n    <g clip-path=\"url(#p4a2b895ed0)\">\n     <use style=\"fill:#440154;stroke:#440154;\" x=\"223.607398\" xlink:href=\"#C0_0_26aa327d02\" y=\"109.976652\"/>\n    </g>\n    <g clip-path=\"url(#p4a2b895ed0)\">\n     <use style=\"fill:#440154;stroke:#440154;\" x=\"221.204665\" xlink:href=\"#C0_0_26aa327d02\" y=\"114.912012\"/>\n    </g>\n    <g clip-path=\"url(#p4a2b895ed0)\">\n     <use style=\"fill:#440154;stroke:#440154;\" x=\"219.193866\" xlink:href=\"#C0_0_26aa327d02\" y=\"101.095919\"/>\n    </g>\n    <g clip-path=\"url(#p4a2b895ed0)\">\n     <use style=\"fill:#440154;stroke:#440154;\" x=\"275.482105\" xlink:href=\"#C0_0_26aa327d02\" y=\"117.92531\"/>\n    </g>\n    <g clip-path=\"url(#p4a2b895ed0)\">\n     <use style=\"fill:#fde725;stroke:#fde725;\" x=\"125.537151\" xlink:href=\"#C0_0_26aa327d02\" y=\"87.806374\"/>\n    </g>\n    <g clip-path=\"url(#p4a2b895ed0)\">\n     <use style=\"fill:#fde725;stroke:#fde725;\" x=\"131.608744\" xlink:href=\"#C0_0_26aa327d02\" y=\"120.242017\"/>\n    </g>\n    <g clip-path=\"url(#p4a2b895ed0)\">\n     <use style=\"fill:#fde725;stroke:#fde725;\" x=\"100.277686\" xlink:href=\"#C0_0_26aa327d02\" y=\"83.298758\"/>\n    </g>\n    <g clip-path=\"url(#p4a2b895ed0)\">\n     <use style=\"fill:#fde725;stroke:#fde725;\" x=\"129.44073\" xlink:href=\"#C0_0_26aa327d02\" y=\"90.916383\"/>\n    </g>\n    <g clip-path=\"url(#p4a2b895ed0)\">\n     <use style=\"fill:#440154;stroke:#440154;\" x=\"273.164779\" xlink:href=\"#C0_0_26aa327d02\" y=\"120.926117\"/>\n    </g>\n    <g clip-path=\"url(#p4a2b895ed0)\">\n     <use style=\"fill:#440154;stroke:#440154;\" x=\"278.102757\" xlink:href=\"#C0_0_26aa327d02\" y=\"123.358712\"/>\n    </g>\n   </g>\n   <g id=\"matplotlib.axis_1\">\n    <g id=\"xtick_1\">\n     <g id=\"line2d_1\">\n      <defs>\n       <path d=\"M 0 0 \nL 0 3.5 \n\" id=\"mf56f74b76a\" style=\"stroke:#000000;stroke-width:0.8;\"/>\n      </defs>\n      <g>\n       <use style=\"stroke:#000000;stroke-width:0.8;\" x=\"80.265069\" xlink:href=\"#mf56f74b76a\" y=\"224.64\"/>\n      </g>\n     </g>\n     <g id=\"text_1\">\n      <!-- −200 -->\n      <defs>\n       <path d=\"M 10.59375 35.5 \nL 73.1875 35.5 \nL 73.1875 27.203125 \nL 10.59375 27.203125 \nz\n\" id=\"DejaVuSans-8722\"/>\n       <path d=\"M 19.1875 8.296875 \nL 53.609375 8.296875 \nL 53.609375 0 \nL 7.328125 0 \nL 7.328125 8.296875 \nQ 12.9375 14.109375 22.625 23.890625 \nQ 32.328125 33.6875 34.8125 36.53125 \nQ 39.546875 41.84375 41.421875 45.53125 \nQ 43.3125 49.21875 43.3125 52.78125 \nQ 43.3125 58.59375 39.234375 62.25 \nQ 35.15625 65.921875 28.609375 65.921875 \nQ 23.96875 65.921875 18.8125 64.3125 \nQ 13.671875 62.703125 7.8125 59.421875 \nL 7.8125 69.390625 \nQ 13.765625 71.78125 18.9375 73 \nQ 24.125 74.21875 28.421875 74.21875 \nQ 39.75 74.21875 46.484375 68.546875 \nQ 53.21875 62.890625 53.21875 53.421875 \nQ 53.21875 48.921875 51.53125 44.890625 \nQ 49.859375 40.875 45.40625 35.40625 \nQ 44.1875 33.984375 37.640625 27.21875 \nQ 31.109375 20.453125 19.1875 8.296875 \nz\n\" id=\"DejaVuSans-50\"/>\n       <path d=\"M 31.78125 66.40625 \nQ 24.171875 66.40625 20.328125 58.90625 \nQ 16.5 51.421875 16.5 36.375 \nQ 16.5 21.390625 20.328125 13.890625 \nQ 24.171875 6.390625 31.78125 6.390625 \nQ 39.453125 6.390625 43.28125 13.890625 \nQ 47.125 21.390625 47.125 36.375 \nQ 47.125 51.421875 43.28125 58.90625 \nQ 39.453125 66.40625 31.78125 66.40625 \nz\nM 31.78125 74.21875 \nQ 44.046875 74.21875 50.515625 64.515625 \nQ 56.984375 54.828125 56.984375 36.375 \nQ 56.984375 17.96875 50.515625 8.265625 \nQ 44.046875 -1.421875 31.78125 -1.421875 \nQ 19.53125 -1.421875 13.0625 8.265625 \nQ 6.59375 17.96875 6.59375 36.375 \nQ 6.59375 54.828125 13.0625 64.515625 \nQ 19.53125 74.21875 31.78125 74.21875 \nz\n\" id=\"DejaVuSans-48\"/>\n      </defs>\n      <g transform=\"translate(66.531475 239.238437)scale(0.1 -0.1)\">\n       <use xlink:href=\"#DejaVuSans-8722\"/>\n       <use x=\"83.789062\" xlink:href=\"#DejaVuSans-50\"/>\n       <use x=\"147.412109\" xlink:href=\"#DejaVuSans-48\"/>\n       <use x=\"211.035156\" xlink:href=\"#DejaVuSans-48\"/>\n      </g>\n     </g>\n    </g>\n    <g id=\"xtick_2\">\n     <g id=\"line2d_2\">\n      <g>\n       <use style=\"stroke:#000000;stroke-width:0.8;\" x=\"130.466222\" xlink:href=\"#mf56f74b76a\" y=\"224.64\"/>\n      </g>\n     </g>\n     <g id=\"text_2\">\n      <!-- −100 -->\n      <defs>\n       <path d=\"M 12.40625 8.296875 \nL 28.515625 8.296875 \nL 28.515625 63.921875 \nL 10.984375 60.40625 \nL 10.984375 69.390625 \nL 28.421875 72.90625 \nL 38.28125 72.90625 \nL 38.28125 8.296875 \nL 54.390625 8.296875 \nL 54.390625 0 \nL 12.40625 0 \nz\n\" id=\"DejaVuSans-49\"/>\n      </defs>\n      <g transform=\"translate(116.732628 239.238437)scale(0.1 -0.1)\">\n       <use xlink:href=\"#DejaVuSans-8722\"/>\n       <use x=\"83.789062\" xlink:href=\"#DejaVuSans-49\"/>\n       <use x=\"147.412109\" xlink:href=\"#DejaVuSans-48\"/>\n       <use x=\"211.035156\" xlink:href=\"#DejaVuSans-48\"/>\n      </g>\n     </g>\n    </g>\n    <g id=\"xtick_3\">\n     <g id=\"line2d_3\">\n      <g>\n       <use style=\"stroke:#000000;stroke-width:0.8;\" x=\"180.667375\" xlink:href=\"#mf56f74b76a\" y=\"224.64\"/>\n      </g>\n     </g>\n     <g id=\"text_3\">\n      <!-- 0 -->\n      <g transform=\"translate(177.486125 239.238437)scale(0.1 -0.1)\">\n       <use xlink:href=\"#DejaVuSans-48\"/>\n      </g>\n     </g>\n    </g>\n    <g id=\"xtick_4\">\n     <g id=\"line2d_4\">\n      <g>\n       <use style=\"stroke:#000000;stroke-width:0.8;\" x=\"230.868529\" xlink:href=\"#mf56f74b76a\" y=\"224.64\"/>\n      </g>\n     </g>\n     <g id=\"text_4\">\n      <!-- 100 -->\n      <g transform=\"translate(221.324779 239.238437)scale(0.1 -0.1)\">\n       <use xlink:href=\"#DejaVuSans-49\"/>\n       <use x=\"63.623047\" xlink:href=\"#DejaVuSans-48\"/>\n       <use x=\"127.246094\" xlink:href=\"#DejaVuSans-48\"/>\n      </g>\n     </g>\n    </g>\n    <g id=\"xtick_5\">\n     <g id=\"line2d_5\">\n      <g>\n       <use style=\"stroke:#000000;stroke-width:0.8;\" x=\"281.069682\" xlink:href=\"#mf56f74b76a\" y=\"224.64\"/>\n      </g>\n     </g>\n     <g id=\"text_5\">\n      <!-- 200 -->\n      <g transform=\"translate(271.525932 239.238437)scale(0.1 -0.1)\">\n       <use xlink:href=\"#DejaVuSans-50\"/>\n       <use x=\"63.623047\" xlink:href=\"#DejaVuSans-48\"/>\n       <use x=\"127.246094\" xlink:href=\"#DejaVuSans-48\"/>\n      </g>\n     </g>\n    </g>\n    <g id=\"xtick_6\">\n     <g id=\"line2d_6\">\n      <g>\n       <use style=\"stroke:#000000;stroke-width:0.8;\" x=\"331.270835\" xlink:href=\"#mf56f74b76a\" y=\"224.64\"/>\n      </g>\n     </g>\n     <g id=\"text_6\">\n      <!-- 300 -->\n      <defs>\n       <path d=\"M 40.578125 39.3125 \nQ 47.65625 37.796875 51.625 33 \nQ 55.609375 28.21875 55.609375 21.1875 \nQ 55.609375 10.40625 48.1875 4.484375 \nQ 40.765625 -1.421875 27.09375 -1.421875 \nQ 22.515625 -1.421875 17.65625 -0.515625 \nQ 12.796875 0.390625 7.625 2.203125 \nL 7.625 11.71875 \nQ 11.71875 9.328125 16.59375 8.109375 \nQ 21.484375 6.890625 26.8125 6.890625 \nQ 36.078125 6.890625 40.9375 10.546875 \nQ 45.796875 14.203125 45.796875 21.1875 \nQ 45.796875 27.640625 41.28125 31.265625 \nQ 36.765625 34.90625 28.71875 34.90625 \nL 20.21875 34.90625 \nL 20.21875 43.015625 \nL 29.109375 43.015625 \nQ 36.375 43.015625 40.234375 45.921875 \nQ 44.09375 48.828125 44.09375 54.296875 \nQ 44.09375 59.90625 40.109375 62.90625 \nQ 36.140625 65.921875 28.71875 65.921875 \nQ 24.65625 65.921875 20.015625 65.03125 \nQ 15.375 64.15625 9.8125 62.3125 \nL 9.8125 71.09375 \nQ 15.4375 72.65625 20.34375 73.4375 \nQ 25.25 74.21875 29.59375 74.21875 \nQ 40.828125 74.21875 47.359375 69.109375 \nQ 53.90625 64.015625 53.90625 55.328125 \nQ 53.90625 49.265625 50.4375 45.09375 \nQ 46.96875 40.921875 40.578125 39.3125 \nz\n\" id=\"DejaVuSans-51\"/>\n      </defs>\n      <g transform=\"translate(321.727085 239.238437)scale(0.1 -0.1)\">\n       <use xlink:href=\"#DejaVuSans-51\"/>\n       <use x=\"63.623047\" xlink:href=\"#DejaVuSans-48\"/>\n       <use x=\"127.246094\" xlink:href=\"#DejaVuSans-48\"/>\n      </g>\n     </g>\n    </g>\n   </g>\n   <g id=\"matplotlib.axis_2\">\n    <g id=\"ytick_1\">\n     <g id=\"line2d_7\">\n      <defs>\n       <path d=\"M 0 0 \nL -3.5 0 \n\" id=\"me8d72be924\" style=\"stroke:#000000;stroke-width:0.8;\"/>\n      </defs>\n      <g>\n       <use style=\"stroke:#000000;stroke-width:0.8;\" x=\"41.667188\" xlink:href=\"#me8d72be924\" y=\"192.229995\"/>\n      </g>\n     </g>\n     <g id=\"text_7\">\n      <!-- −100 -->\n      <g transform=\"translate(7.2 196.029214)scale(0.1 -0.1)\">\n       <use xlink:href=\"#DejaVuSans-8722\"/>\n       <use x=\"83.789062\" xlink:href=\"#DejaVuSans-49\"/>\n       <use x=\"147.412109\" xlink:href=\"#DejaVuSans-48\"/>\n       <use x=\"211.035156\" xlink:href=\"#DejaVuSans-48\"/>\n      </g>\n     </g>\n    </g>\n    <g id=\"ytick_2\">\n     <g id=\"line2d_8\">\n      <g>\n       <use style=\"stroke:#000000;stroke-width:0.8;\" x=\"41.667188\" xlink:href=\"#me8d72be924\" y=\"150.990866\"/>\n      </g>\n     </g>\n     <g id=\"text_8\">\n      <!-- 0 -->\n      <g transform=\"translate(28.304688 154.790085)scale(0.1 -0.1)\">\n       <use xlink:href=\"#DejaVuSans-48\"/>\n      </g>\n     </g>\n    </g>\n    <g id=\"ytick_3\">\n     <g id=\"line2d_9\">\n      <g>\n       <use style=\"stroke:#000000;stroke-width:0.8;\" x=\"41.667188\" xlink:href=\"#me8d72be924\" y=\"109.751737\"/>\n      </g>\n     </g>\n     <g id=\"text_9\">\n      <!-- 100 -->\n      <g transform=\"translate(15.579688 113.550956)scale(0.1 -0.1)\">\n       <use xlink:href=\"#DejaVuSans-49\"/>\n       <use x=\"63.623047\" xlink:href=\"#DejaVuSans-48\"/>\n       <use x=\"127.246094\" xlink:href=\"#DejaVuSans-48\"/>\n      </g>\n     </g>\n    </g>\n    <g id=\"ytick_4\">\n     <g id=\"line2d_10\">\n      <g>\n       <use style=\"stroke:#000000;stroke-width:0.8;\" x=\"41.667188\" xlink:href=\"#me8d72be924\" y=\"68.512608\"/>\n      </g>\n     </g>\n     <g id=\"text_10\">\n      <!-- 200 -->\n      <g transform=\"translate(15.579688 72.311827)scale(0.1 -0.1)\">\n       <use xlink:href=\"#DejaVuSans-50\"/>\n       <use x=\"63.623047\" xlink:href=\"#DejaVuSans-48\"/>\n       <use x=\"127.246094\" xlink:href=\"#DejaVuSans-48\"/>\n      </g>\n     </g>\n    </g>\n    <g id=\"ytick_5\">\n     <g id=\"line2d_11\">\n      <g>\n       <use style=\"stroke:#000000;stroke-width:0.8;\" x=\"41.667188\" xlink:href=\"#me8d72be924\" y=\"27.273479\"/>\n      </g>\n     </g>\n     <g id=\"text_11\">\n      <!-- 300 -->\n      <g transform=\"translate(15.579688 31.072697)scale(0.1 -0.1)\">\n       <use xlink:href=\"#DejaVuSans-51\"/>\n       <use x=\"63.623047\" xlink:href=\"#DejaVuSans-48\"/>\n       <use x=\"127.246094\" xlink:href=\"#DejaVuSans-48\"/>\n      </g>\n     </g>\n    </g>\n   </g>\n   <g id=\"patch_3\">\n    <path d=\"M 41.667188 224.64 \nL 41.667188 7.2 \n\" style=\"fill:none;stroke:#000000;stroke-linecap:square;stroke-linejoin:miter;stroke-width:0.8;\"/>\n   </g>\n   <g id=\"patch_4\">\n    <path d=\"M 376.467188 224.64 \nL 376.467188 7.2 \n\" style=\"fill:none;stroke:#000000;stroke-linecap:square;stroke-linejoin:miter;stroke-width:0.8;\"/>\n   </g>\n   <g id=\"patch_5\">\n    <path d=\"M 41.667187 224.64 \nL 376.467188 224.64 \n\" style=\"fill:none;stroke:#000000;stroke-linecap:square;stroke-linejoin:miter;stroke-width:0.8;\"/>\n   </g>\n   <g id=\"patch_6\">\n    <path d=\"M 41.667187 7.2 \nL 376.467188 7.2 \n\" style=\"fill:none;stroke:#000000;stroke-linecap:square;stroke-linejoin:miter;stroke-width:0.8;\"/>\n   </g>\n  </g>\n </g>\n <defs>\n  <clipPath id=\"p4a2b895ed0\">\n   <rect height=\"217.44\" width=\"334.8\" x=\"41.667188\" y=\"7.2\"/>\n  </clipPath>\n </defs>\n</svg>\n"
          },
          "metadata": {
            "tags": [],
            "needs_background": "light"
          }
        }
      ]
    },
    {
      "cell_type": "code",
      "metadata": {
        "id": "d1VDBJYJNTNr"
      },
      "source": [
        "X = preprocessing.scale(X)"
      ],
      "execution_count": 190,
      "outputs": []
    },
    {
      "cell_type": "code",
      "metadata": {
        "colab": {
          "base_uri": "https://localhost:8080/"
        },
        "id": "JD9qsjyaNu6Q",
        "outputId": "ff11672e-a2bd-4d99-9765-eb942cfd8c0a"
      },
      "source": [
        "X_train,X_test,y_train,y_test = train_test_split(X,y,test_size=.2)\n",
        "clf = SVC()\n",
        "clf.fit(X_train, y_train)\n",
        "clf.score(X_test, y_test)"
      ],
      "execution_count": 191,
      "outputs": [
        {
          "output_type": "execute_result",
          "data": {
            "text/plain": [
              "0.9833333333333333"
            ]
          },
          "metadata": {
            "tags": []
          },
          "execution_count": 191
        }
      ]
    },
    {
      "cell_type": "markdown",
      "metadata": {
        "id": "p8NFuvlPPI7F"
      },
      "source": [
        "## 交叉验证"
      ]
    },
    {
      "cell_type": "code",
      "metadata": {
        "id": "yGVc7XFnPIfv"
      },
      "source": [
        "iris = datasets.load_iris()\n",
        "iris_X = iris.data\n",
        "iris_y = iris.target"
      ],
      "execution_count": 230,
      "outputs": []
    },
    {
      "cell_type": "code",
      "metadata": {
        "colab": {
          "base_uri": "https://localhost:8080/"
        },
        "id": "txNk7uNnQ1Rr",
        "outputId": "0f96cbda-0416-4e80-94b8-4e9ab01bae98"
      },
      "source": [
        "X_train, X_test, y_train, y_test = train_test_split(iris_X, iris_y,\n",
        "                                                    random_state=4)\n",
        "knn = KNeighborsClassifier(n_neighbors=5)\n",
        "knn.fit(X_train, y_train)\n",
        "knn.score(X_test, y_test)"
      ],
      "execution_count": 231,
      "outputs": [
        {
          "output_type": "execute_result",
          "data": {
            "text/plain": [
              "0.9736842105263158"
            ]
          },
          "metadata": {
            "tags": []
          },
          "execution_count": 231
        }
      ]
    },
    {
      "cell_type": "code",
      "metadata": {
        "colab": {
          "base_uri": "https://localhost:8080/"
        },
        "id": "0pv0SgwNSM8F",
        "outputId": "792fd0bf-b95d-4b13-f974-a70accc3cc48"
      },
      "source": [
        "from sklearn.model_selection import cross_val_score\n",
        "scores = cross_val_score(knn, iris_X, iris_y, cv=5, scoring='accuracy')\n",
        "scores.mean()"
      ],
      "execution_count": 232,
      "outputs": [
        {
          "output_type": "execute_result",
          "data": {
            "text/plain": [
              "0.9733333333333334"
            ]
          },
          "metadata": {
            "tags": []
          },
          "execution_count": 232
        }
      ]
    },
    {
      "cell_type": "code",
      "metadata": {
        "id": "7X5iDCSWTH9Y"
      },
      "source": [
        "k_range = range(1,31)\n",
        "k_scores = []\n",
        "for k in k_range:\n",
        "    knn = KNeighborsClassifier(n_neighbors=k)\n",
        "    # loss = -cross_val_score(knn, iris_X, iris_y, cv=10, scoring='neg_mean_squared_error') # for regression\n",
        "    scores = cross_val_score(knn, iris_X, iris_y, cv=10, scoring='accuracy') # for classification\n",
        "    k_scores.append(scores.mean())"
      ],
      "execution_count": 243,
      "outputs": []
    },
    {
      "cell_type": "code",
      "metadata": {
        "colab": {
          "base_uri": "https://localhost:8080/",
          "height": 387
        },
        "id": "XUOM99InTmTa",
        "outputId": "2eff5238-db77-4274-c079-187e8e94d333"
      },
      "source": [
        "plt.plot(k_range, k_scores)\n",
        "plt.xlabel('Value of K for KNN')\n",
        "plt.ylabel('Cross-Validated Accuracy')"
      ],
      "execution_count": 244,
      "outputs": [
        {
          "output_type": "execute_result",
          "data": {
            "text/plain": [
              "Text(0, 0.5, 'Cross-Validated Accuracy')"
            ]
          },
          "metadata": {
            "tags": []
          },
          "execution_count": 244
        },
        {
          "output_type": "display_data",
          "data": {
            "text/plain": [
              "<Figure size 432x288 with 1 Axes>"
            ],
            "image/svg+xml": "<?xml version=\"1.0\" encoding=\"utf-8\" standalone=\"no\"?>\n<!DOCTYPE svg PUBLIC \"-//W3C//DTD SVG 1.1//EN\"\n  \"http://www.w3.org/Graphics/SVG/1.1/DTD/svg11.dtd\">\n<!-- Created with matplotlib (https://matplotlib.org/) -->\n<svg height=\"262.19625pt\" version=\"1.1\" viewBox=\"0 0 398.50625 262.19625\" width=\"398.50625pt\" xmlns=\"http://www.w3.org/2000/svg\" xmlns:xlink=\"http://www.w3.org/1999/xlink\">\n <defs>\n  <style type=\"text/css\">\n*{stroke-linecap:butt;stroke-linejoin:round;}\n  </style>\n </defs>\n <g id=\"figure_1\">\n  <g id=\"patch_1\">\n   <path d=\"M 0 262.19625 \nL 398.50625 262.19625 \nL 398.50625 0 \nL 0 0 \nz\n\" style=\"fill:none;\"/>\n  </g>\n  <g id=\"axes_1\">\n   <g id=\"patch_2\">\n    <path d=\"M 56.50625 224.64 \nL 391.30625 224.64 \nL 391.30625 7.2 \nL 56.50625 7.2 \nz\n\" style=\"fill:#ffffff;\"/>\n   </g>\n   <g id=\"matplotlib.axis_1\">\n    <g id=\"xtick_1\">\n     <g id=\"line2d_1\">\n      <defs>\n       <path d=\"M 0 0 \nL 0 3.5 \n\" id=\"ma545c93c6f\" style=\"stroke:#000000;stroke-width:0.8;\"/>\n      </defs>\n      <g>\n       <use style=\"stroke:#000000;stroke-width:0.8;\" x=\"61.229134\" xlink:href=\"#ma545c93c6f\" y=\"224.64\"/>\n      </g>\n     </g>\n     <g id=\"text_1\">\n      <!-- 0 -->\n      <defs>\n       <path d=\"M 31.78125 66.40625 \nQ 24.171875 66.40625 20.328125 58.90625 \nQ 16.5 51.421875 16.5 36.375 \nQ 16.5 21.390625 20.328125 13.890625 \nQ 24.171875 6.390625 31.78125 6.390625 \nQ 39.453125 6.390625 43.28125 13.890625 \nQ 47.125 21.390625 47.125 36.375 \nQ 47.125 51.421875 43.28125 58.90625 \nQ 39.453125 66.40625 31.78125 66.40625 \nz\nM 31.78125 74.21875 \nQ 44.046875 74.21875 50.515625 64.515625 \nQ 56.984375 54.828125 56.984375 36.375 \nQ 56.984375 17.96875 50.515625 8.265625 \nQ 44.046875 -1.421875 31.78125 -1.421875 \nQ 19.53125 -1.421875 13.0625 8.265625 \nQ 6.59375 17.96875 6.59375 36.375 \nQ 6.59375 54.828125 13.0625 64.515625 \nQ 19.53125 74.21875 31.78125 74.21875 \nz\n\" id=\"DejaVuSans-48\"/>\n      </defs>\n      <g transform=\"translate(58.047884 239.238437)scale(0.1 -0.1)\">\n       <use xlink:href=\"#DejaVuSans-48\"/>\n      </g>\n     </g>\n    </g>\n    <g id=\"xtick_2\">\n     <g id=\"line2d_2\">\n      <g>\n       <use style=\"stroke:#000000;stroke-width:0.8;\" x=\"113.705623\" xlink:href=\"#ma545c93c6f\" y=\"224.64\"/>\n      </g>\n     </g>\n     <g id=\"text_2\">\n      <!-- 5 -->\n      <defs>\n       <path d=\"M 10.796875 72.90625 \nL 49.515625 72.90625 \nL 49.515625 64.59375 \nL 19.828125 64.59375 \nL 19.828125 46.734375 \nQ 21.96875 47.46875 24.109375 47.828125 \nQ 26.265625 48.1875 28.421875 48.1875 \nQ 40.625 48.1875 47.75 41.5 \nQ 54.890625 34.8125 54.890625 23.390625 \nQ 54.890625 11.625 47.5625 5.09375 \nQ 40.234375 -1.421875 26.90625 -1.421875 \nQ 22.3125 -1.421875 17.546875 -0.640625 \nQ 12.796875 0.140625 7.71875 1.703125 \nL 7.71875 11.625 \nQ 12.109375 9.234375 16.796875 8.0625 \nQ 21.484375 6.890625 26.703125 6.890625 \nQ 35.15625 6.890625 40.078125 11.328125 \nQ 45.015625 15.765625 45.015625 23.390625 \nQ 45.015625 31 40.078125 35.4375 \nQ 35.15625 39.890625 26.703125 39.890625 \nQ 22.75 39.890625 18.8125 39.015625 \nQ 14.890625 38.140625 10.796875 36.28125 \nz\n\" id=\"DejaVuSans-53\"/>\n      </defs>\n      <g transform=\"translate(110.524373 239.238437)scale(0.1 -0.1)\">\n       <use xlink:href=\"#DejaVuSans-53\"/>\n      </g>\n     </g>\n    </g>\n    <g id=\"xtick_3\">\n     <g id=\"line2d_3\">\n      <g>\n       <use style=\"stroke:#000000;stroke-width:0.8;\" x=\"166.182112\" xlink:href=\"#ma545c93c6f\" y=\"224.64\"/>\n      </g>\n     </g>\n     <g id=\"text_3\">\n      <!-- 10 -->\n      <defs>\n       <path d=\"M 12.40625 8.296875 \nL 28.515625 8.296875 \nL 28.515625 63.921875 \nL 10.984375 60.40625 \nL 10.984375 69.390625 \nL 28.421875 72.90625 \nL 38.28125 72.90625 \nL 38.28125 8.296875 \nL 54.390625 8.296875 \nL 54.390625 0 \nL 12.40625 0 \nz\n\" id=\"DejaVuSans-49\"/>\n      </defs>\n      <g transform=\"translate(159.819612 239.238437)scale(0.1 -0.1)\">\n       <use xlink:href=\"#DejaVuSans-49\"/>\n       <use x=\"63.623047\" xlink:href=\"#DejaVuSans-48\"/>\n      </g>\n     </g>\n    </g>\n    <g id=\"xtick_4\">\n     <g id=\"line2d_4\">\n      <g>\n       <use style=\"stroke:#000000;stroke-width:0.8;\" x=\"218.658601\" xlink:href=\"#ma545c93c6f\" y=\"224.64\"/>\n      </g>\n     </g>\n     <g id=\"text_4\">\n      <!-- 15 -->\n      <g transform=\"translate(212.296101 239.238437)scale(0.1 -0.1)\">\n       <use xlink:href=\"#DejaVuSans-49\"/>\n       <use x=\"63.623047\" xlink:href=\"#DejaVuSans-53\"/>\n      </g>\n     </g>\n    </g>\n    <g id=\"xtick_5\">\n     <g id=\"line2d_5\">\n      <g>\n       <use style=\"stroke:#000000;stroke-width:0.8;\" x=\"271.13509\" xlink:href=\"#ma545c93c6f\" y=\"224.64\"/>\n      </g>\n     </g>\n     <g id=\"text_5\">\n      <!-- 20 -->\n      <defs>\n       <path d=\"M 19.1875 8.296875 \nL 53.609375 8.296875 \nL 53.609375 0 \nL 7.328125 0 \nL 7.328125 8.296875 \nQ 12.9375 14.109375 22.625 23.890625 \nQ 32.328125 33.6875 34.8125 36.53125 \nQ 39.546875 41.84375 41.421875 45.53125 \nQ 43.3125 49.21875 43.3125 52.78125 \nQ 43.3125 58.59375 39.234375 62.25 \nQ 35.15625 65.921875 28.609375 65.921875 \nQ 23.96875 65.921875 18.8125 64.3125 \nQ 13.671875 62.703125 7.8125 59.421875 \nL 7.8125 69.390625 \nQ 13.765625 71.78125 18.9375 73 \nQ 24.125 74.21875 28.421875 74.21875 \nQ 39.75 74.21875 46.484375 68.546875 \nQ 53.21875 62.890625 53.21875 53.421875 \nQ 53.21875 48.921875 51.53125 44.890625 \nQ 49.859375 40.875 45.40625 35.40625 \nQ 44.1875 33.984375 37.640625 27.21875 \nQ 31.109375 20.453125 19.1875 8.296875 \nz\n\" id=\"DejaVuSans-50\"/>\n      </defs>\n      <g transform=\"translate(264.77259 239.238437)scale(0.1 -0.1)\">\n       <use xlink:href=\"#DejaVuSans-50\"/>\n       <use x=\"63.623047\" xlink:href=\"#DejaVuSans-48\"/>\n      </g>\n     </g>\n    </g>\n    <g id=\"xtick_6\">\n     <g id=\"line2d_6\">\n      <g>\n       <use style=\"stroke:#000000;stroke-width:0.8;\" x=\"323.611579\" xlink:href=\"#ma545c93c6f\" y=\"224.64\"/>\n      </g>\n     </g>\n     <g id=\"text_6\">\n      <!-- 25 -->\n      <g transform=\"translate(317.249079 239.238437)scale(0.1 -0.1)\">\n       <use xlink:href=\"#DejaVuSans-50\"/>\n       <use x=\"63.623047\" xlink:href=\"#DejaVuSans-53\"/>\n      </g>\n     </g>\n    </g>\n    <g id=\"xtick_7\">\n     <g id=\"line2d_7\">\n      <g>\n       <use style=\"stroke:#000000;stroke-width:0.8;\" x=\"376.088068\" xlink:href=\"#ma545c93c6f\" y=\"224.64\"/>\n      </g>\n     </g>\n     <g id=\"text_7\">\n      <!-- 30 -->\n      <defs>\n       <path d=\"M 40.578125 39.3125 \nQ 47.65625 37.796875 51.625 33 \nQ 55.609375 28.21875 55.609375 21.1875 \nQ 55.609375 10.40625 48.1875 4.484375 \nQ 40.765625 -1.421875 27.09375 -1.421875 \nQ 22.515625 -1.421875 17.65625 -0.515625 \nQ 12.796875 0.390625 7.625 2.203125 \nL 7.625 11.71875 \nQ 11.71875 9.328125 16.59375 8.109375 \nQ 21.484375 6.890625 26.8125 6.890625 \nQ 36.078125 6.890625 40.9375 10.546875 \nQ 45.796875 14.203125 45.796875 21.1875 \nQ 45.796875 27.640625 41.28125 31.265625 \nQ 36.765625 34.90625 28.71875 34.90625 \nL 20.21875 34.90625 \nL 20.21875 43.015625 \nL 29.109375 43.015625 \nQ 36.375 43.015625 40.234375 45.921875 \nQ 44.09375 48.828125 44.09375 54.296875 \nQ 44.09375 59.90625 40.109375 62.90625 \nQ 36.140625 65.921875 28.71875 65.921875 \nQ 24.65625 65.921875 20.015625 65.03125 \nQ 15.375 64.15625 9.8125 62.3125 \nL 9.8125 71.09375 \nQ 15.4375 72.65625 20.34375 73.4375 \nQ 25.25 74.21875 29.59375 74.21875 \nQ 40.828125 74.21875 47.359375 69.109375 \nQ 53.90625 64.015625 53.90625 55.328125 \nQ 53.90625 49.265625 50.4375 45.09375 \nQ 46.96875 40.921875 40.578125 39.3125 \nz\n\" id=\"DejaVuSans-51\"/>\n      </defs>\n      <g transform=\"translate(369.725568 239.238437)scale(0.1 -0.1)\">\n       <use xlink:href=\"#DejaVuSans-51\"/>\n       <use x=\"63.623047\" xlink:href=\"#DejaVuSans-48\"/>\n      </g>\n     </g>\n    </g>\n    <g id=\"text_8\">\n     <!-- Value of K for KNN -->\n     <defs>\n      <path d=\"M 28.609375 0 \nL 0.78125 72.90625 \nL 11.078125 72.90625 \nL 34.1875 11.53125 \nL 57.328125 72.90625 \nL 67.578125 72.90625 \nL 39.796875 0 \nz\n\" id=\"DejaVuSans-86\"/>\n      <path d=\"M 34.28125 27.484375 \nQ 23.390625 27.484375 19.1875 25 \nQ 14.984375 22.515625 14.984375 16.5 \nQ 14.984375 11.71875 18.140625 8.90625 \nQ 21.296875 6.109375 26.703125 6.109375 \nQ 34.1875 6.109375 38.703125 11.40625 \nQ 43.21875 16.703125 43.21875 25.484375 \nL 43.21875 27.484375 \nz\nM 52.203125 31.203125 \nL 52.203125 0 \nL 43.21875 0 \nL 43.21875 8.296875 \nQ 40.140625 3.328125 35.546875 0.953125 \nQ 30.953125 -1.421875 24.3125 -1.421875 \nQ 15.921875 -1.421875 10.953125 3.296875 \nQ 6 8.015625 6 15.921875 \nQ 6 25.140625 12.171875 29.828125 \nQ 18.359375 34.515625 30.609375 34.515625 \nL 43.21875 34.515625 \nL 43.21875 35.40625 \nQ 43.21875 41.609375 39.140625 45 \nQ 35.0625 48.390625 27.6875 48.390625 \nQ 23 48.390625 18.546875 47.265625 \nQ 14.109375 46.140625 10.015625 43.890625 \nL 10.015625 52.203125 \nQ 14.9375 54.109375 19.578125 55.046875 \nQ 24.21875 56 28.609375 56 \nQ 40.484375 56 46.34375 49.84375 \nQ 52.203125 43.703125 52.203125 31.203125 \nz\n\" id=\"DejaVuSans-97\"/>\n      <path d=\"M 9.421875 75.984375 \nL 18.40625 75.984375 \nL 18.40625 0 \nL 9.421875 0 \nz\n\" id=\"DejaVuSans-108\"/>\n      <path d=\"M 8.5 21.578125 \nL 8.5 54.6875 \nL 17.484375 54.6875 \nL 17.484375 21.921875 \nQ 17.484375 14.15625 20.5 10.265625 \nQ 23.53125 6.390625 29.59375 6.390625 \nQ 36.859375 6.390625 41.078125 11.03125 \nQ 45.3125 15.671875 45.3125 23.6875 \nL 45.3125 54.6875 \nL 54.296875 54.6875 \nL 54.296875 0 \nL 45.3125 0 \nL 45.3125 8.40625 \nQ 42.046875 3.421875 37.71875 1 \nQ 33.40625 -1.421875 27.6875 -1.421875 \nQ 18.265625 -1.421875 13.375 4.4375 \nQ 8.5 10.296875 8.5 21.578125 \nz\nM 31.109375 56 \nz\n\" id=\"DejaVuSans-117\"/>\n      <path d=\"M 56.203125 29.59375 \nL 56.203125 25.203125 \nL 14.890625 25.203125 \nQ 15.484375 15.921875 20.484375 11.0625 \nQ 25.484375 6.203125 34.421875 6.203125 \nQ 39.59375 6.203125 44.453125 7.46875 \nQ 49.3125 8.734375 54.109375 11.28125 \nL 54.109375 2.78125 \nQ 49.265625 0.734375 44.1875 -0.34375 \nQ 39.109375 -1.421875 33.890625 -1.421875 \nQ 20.796875 -1.421875 13.15625 6.1875 \nQ 5.515625 13.8125 5.515625 26.8125 \nQ 5.515625 40.234375 12.765625 48.109375 \nQ 20.015625 56 32.328125 56 \nQ 43.359375 56 49.78125 48.890625 \nQ 56.203125 41.796875 56.203125 29.59375 \nz\nM 47.21875 32.234375 \nQ 47.125 39.59375 43.09375 43.984375 \nQ 39.0625 48.390625 32.421875 48.390625 \nQ 24.90625 48.390625 20.390625 44.140625 \nQ 15.875 39.890625 15.1875 32.171875 \nz\n\" id=\"DejaVuSans-101\"/>\n      <path id=\"DejaVuSans-32\"/>\n      <path d=\"M 30.609375 48.390625 \nQ 23.390625 48.390625 19.1875 42.75 \nQ 14.984375 37.109375 14.984375 27.296875 \nQ 14.984375 17.484375 19.15625 11.84375 \nQ 23.34375 6.203125 30.609375 6.203125 \nQ 37.796875 6.203125 41.984375 11.859375 \nQ 46.1875 17.53125 46.1875 27.296875 \nQ 46.1875 37.015625 41.984375 42.703125 \nQ 37.796875 48.390625 30.609375 48.390625 \nz\nM 30.609375 56 \nQ 42.328125 56 49.015625 48.375 \nQ 55.71875 40.765625 55.71875 27.296875 \nQ 55.71875 13.875 49.015625 6.21875 \nQ 42.328125 -1.421875 30.609375 -1.421875 \nQ 18.84375 -1.421875 12.171875 6.21875 \nQ 5.515625 13.875 5.515625 27.296875 \nQ 5.515625 40.765625 12.171875 48.375 \nQ 18.84375 56 30.609375 56 \nz\n\" id=\"DejaVuSans-111\"/>\n      <path d=\"M 37.109375 75.984375 \nL 37.109375 68.5 \nL 28.515625 68.5 \nQ 23.6875 68.5 21.796875 66.546875 \nQ 19.921875 64.59375 19.921875 59.515625 \nL 19.921875 54.6875 \nL 34.71875 54.6875 \nL 34.71875 47.703125 \nL 19.921875 47.703125 \nL 19.921875 0 \nL 10.890625 0 \nL 10.890625 47.703125 \nL 2.296875 47.703125 \nL 2.296875 54.6875 \nL 10.890625 54.6875 \nL 10.890625 58.5 \nQ 10.890625 67.625 15.140625 71.796875 \nQ 19.390625 75.984375 28.609375 75.984375 \nz\n\" id=\"DejaVuSans-102\"/>\n      <path d=\"M 9.8125 72.90625 \nL 19.671875 72.90625 \nL 19.671875 42.09375 \nL 52.390625 72.90625 \nL 65.09375 72.90625 \nL 28.90625 38.921875 \nL 67.671875 0 \nL 54.6875 0 \nL 19.671875 35.109375 \nL 19.671875 0 \nL 9.8125 0 \nz\n\" id=\"DejaVuSans-75\"/>\n      <path d=\"M 41.109375 46.296875 \nQ 39.59375 47.171875 37.8125 47.578125 \nQ 36.03125 48 33.890625 48 \nQ 26.265625 48 22.1875 43.046875 \nQ 18.109375 38.09375 18.109375 28.8125 \nL 18.109375 0 \nL 9.078125 0 \nL 9.078125 54.6875 \nL 18.109375 54.6875 \nL 18.109375 46.1875 \nQ 20.953125 51.171875 25.484375 53.578125 \nQ 30.03125 56 36.53125 56 \nQ 37.453125 56 38.578125 55.875 \nQ 39.703125 55.765625 41.0625 55.515625 \nz\n\" id=\"DejaVuSans-114\"/>\n      <path d=\"M 9.8125 72.90625 \nL 23.09375 72.90625 \nL 55.421875 11.921875 \nL 55.421875 72.90625 \nL 64.984375 72.90625 \nL 64.984375 0 \nL 51.703125 0 \nL 19.390625 60.984375 \nL 19.390625 0 \nL 9.8125 0 \nz\n\" id=\"DejaVuSans-78\"/>\n     </defs>\n     <g transform=\"translate(178.085156 252.916562)scale(0.1 -0.1)\">\n      <use xlink:href=\"#DejaVuSans-86\"/>\n      <use x=\"60.658203\" xlink:href=\"#DejaVuSans-97\"/>\n      <use x=\"121.9375\" xlink:href=\"#DejaVuSans-108\"/>\n      <use x=\"149.720703\" xlink:href=\"#DejaVuSans-117\"/>\n      <use x=\"213.099609\" xlink:href=\"#DejaVuSans-101\"/>\n      <use x=\"274.623047\" xlink:href=\"#DejaVuSans-32\"/>\n      <use x=\"306.410156\" xlink:href=\"#DejaVuSans-111\"/>\n      <use x=\"367.591797\" xlink:href=\"#DejaVuSans-102\"/>\n      <use x=\"402.796875\" xlink:href=\"#DejaVuSans-32\"/>\n      <use x=\"434.583984\" xlink:href=\"#DejaVuSans-75\"/>\n      <use x=\"500.160156\" xlink:href=\"#DejaVuSans-32\"/>\n      <use x=\"531.947266\" xlink:href=\"#DejaVuSans-102\"/>\n      <use x=\"567.152344\" xlink:href=\"#DejaVuSans-111\"/>\n      <use x=\"628.333984\" xlink:href=\"#DejaVuSans-114\"/>\n      <use x=\"669.447266\" xlink:href=\"#DejaVuSans-32\"/>\n      <use x=\"701.234375\" xlink:href=\"#DejaVuSans-75\"/>\n      <use x=\"766.810547\" xlink:href=\"#DejaVuSans-78\"/>\n      <use x=\"841.615234\" xlink:href=\"#DejaVuSans-78\"/>\n     </g>\n    </g>\n   </g>\n   <g id=\"matplotlib.axis_2\">\n    <g id=\"ytick_1\">\n     <g id=\"line2d_8\">\n      <defs>\n       <path d=\"M 0 0 \nL -3.5 0 \n\" id=\"ma51ed74744\" style=\"stroke:#000000;stroke-width:0.8;\"/>\n      </defs>\n      <g>\n       <use style=\"stroke:#000000;stroke-width:0.8;\" x=\"56.50625\" xlink:href=\"#ma51ed74744\" y=\"202.401818\"/>\n      </g>\n     </g>\n     <g id=\"text_9\">\n      <!-- 0.955 -->\n      <defs>\n       <path d=\"M 10.6875 12.40625 \nL 21 12.40625 \nL 21 0 \nL 10.6875 0 \nz\n\" id=\"DejaVuSans-46\"/>\n       <path d=\"M 10.984375 1.515625 \nL 10.984375 10.5 \nQ 14.703125 8.734375 18.5 7.8125 \nQ 22.3125 6.890625 25.984375 6.890625 \nQ 35.75 6.890625 40.890625 13.453125 \nQ 46.046875 20.015625 46.78125 33.40625 \nQ 43.953125 29.203125 39.59375 26.953125 \nQ 35.25 24.703125 29.984375 24.703125 \nQ 19.046875 24.703125 12.671875 31.3125 \nQ 6.296875 37.9375 6.296875 49.421875 \nQ 6.296875 60.640625 12.9375 67.421875 \nQ 19.578125 74.21875 30.609375 74.21875 \nQ 43.265625 74.21875 49.921875 64.515625 \nQ 56.59375 54.828125 56.59375 36.375 \nQ 56.59375 19.140625 48.40625 8.859375 \nQ 40.234375 -1.421875 26.421875 -1.421875 \nQ 22.703125 -1.421875 18.890625 -0.6875 \nQ 15.09375 0.046875 10.984375 1.515625 \nz\nM 30.609375 32.421875 \nQ 37.25 32.421875 41.125 36.953125 \nQ 45.015625 41.5 45.015625 49.421875 \nQ 45.015625 57.28125 41.125 61.84375 \nQ 37.25 66.40625 30.609375 66.40625 \nQ 23.96875 66.40625 20.09375 61.84375 \nQ 16.21875 57.28125 16.21875 49.421875 \nQ 16.21875 41.5 20.09375 36.953125 \nQ 23.96875 32.421875 30.609375 32.421875 \nz\n\" id=\"DejaVuSans-57\"/>\n      </defs>\n      <g transform=\"translate(20.878125 206.201037)scale(0.1 -0.1)\">\n       <use xlink:href=\"#DejaVuSans-48\"/>\n       <use x=\"63.623047\" xlink:href=\"#DejaVuSans-46\"/>\n       <use x=\"95.410156\" xlink:href=\"#DejaVuSans-57\"/>\n       <use x=\"159.033203\" xlink:href=\"#DejaVuSans-53\"/>\n       <use x=\"222.65625\" xlink:href=\"#DejaVuSans-53\"/>\n      </g>\n     </g>\n    </g>\n    <g id=\"ytick_2\">\n     <g id=\"line2d_9\">\n      <g>\n       <use style=\"stroke:#000000;stroke-width:0.8;\" x=\"56.50625\" xlink:href=\"#ma51ed74744\" y=\"165.338182\"/>\n      </g>\n     </g>\n     <g id=\"text_10\">\n      <!-- 0.960 -->\n      <defs>\n       <path d=\"M 33.015625 40.375 \nQ 26.375 40.375 22.484375 35.828125 \nQ 18.609375 31.296875 18.609375 23.390625 \nQ 18.609375 15.53125 22.484375 10.953125 \nQ 26.375 6.390625 33.015625 6.390625 \nQ 39.65625 6.390625 43.53125 10.953125 \nQ 47.40625 15.53125 47.40625 23.390625 \nQ 47.40625 31.296875 43.53125 35.828125 \nQ 39.65625 40.375 33.015625 40.375 \nz\nM 52.59375 71.296875 \nL 52.59375 62.3125 \nQ 48.875 64.0625 45.09375 64.984375 \nQ 41.3125 65.921875 37.59375 65.921875 \nQ 27.828125 65.921875 22.671875 59.328125 \nQ 17.53125 52.734375 16.796875 39.40625 \nQ 19.671875 43.65625 24.015625 45.921875 \nQ 28.375 48.1875 33.59375 48.1875 \nQ 44.578125 48.1875 50.953125 41.515625 \nQ 57.328125 34.859375 57.328125 23.390625 \nQ 57.328125 12.15625 50.6875 5.359375 \nQ 44.046875 -1.421875 33.015625 -1.421875 \nQ 20.359375 -1.421875 13.671875 8.265625 \nQ 6.984375 17.96875 6.984375 36.375 \nQ 6.984375 53.65625 15.1875 63.9375 \nQ 23.390625 74.21875 37.203125 74.21875 \nQ 40.921875 74.21875 44.703125 73.484375 \nQ 48.484375 72.75 52.59375 71.296875 \nz\n\" id=\"DejaVuSans-54\"/>\n      </defs>\n      <g transform=\"translate(20.878125 169.137401)scale(0.1 -0.1)\">\n       <use xlink:href=\"#DejaVuSans-48\"/>\n       <use x=\"63.623047\" xlink:href=\"#DejaVuSans-46\"/>\n       <use x=\"95.410156\" xlink:href=\"#DejaVuSans-57\"/>\n       <use x=\"159.033203\" xlink:href=\"#DejaVuSans-54\"/>\n       <use x=\"222.65625\" xlink:href=\"#DejaVuSans-48\"/>\n      </g>\n     </g>\n    </g>\n    <g id=\"ytick_3\">\n     <g id=\"line2d_10\">\n      <g>\n       <use style=\"stroke:#000000;stroke-width:0.8;\" x=\"56.50625\" xlink:href=\"#ma51ed74744\" y=\"128.274545\"/>\n      </g>\n     </g>\n     <g id=\"text_11\">\n      <!-- 0.965 -->\n      <g transform=\"translate(20.878125 132.073764)scale(0.1 -0.1)\">\n       <use xlink:href=\"#DejaVuSans-48\"/>\n       <use x=\"63.623047\" xlink:href=\"#DejaVuSans-46\"/>\n       <use x=\"95.410156\" xlink:href=\"#DejaVuSans-57\"/>\n       <use x=\"159.033203\" xlink:href=\"#DejaVuSans-54\"/>\n       <use x=\"222.65625\" xlink:href=\"#DejaVuSans-53\"/>\n      </g>\n     </g>\n    </g>\n    <g id=\"ytick_4\">\n     <g id=\"line2d_11\">\n      <g>\n       <use style=\"stroke:#000000;stroke-width:0.8;\" x=\"56.50625\" xlink:href=\"#ma51ed74744\" y=\"91.210909\"/>\n      </g>\n     </g>\n     <g id=\"text_12\">\n      <!-- 0.970 -->\n      <defs>\n       <path d=\"M 8.203125 72.90625 \nL 55.078125 72.90625 \nL 55.078125 68.703125 \nL 28.609375 0 \nL 18.3125 0 \nL 43.21875 64.59375 \nL 8.203125 64.59375 \nz\n\" id=\"DejaVuSans-55\"/>\n      </defs>\n      <g transform=\"translate(20.878125 95.010128)scale(0.1 -0.1)\">\n       <use xlink:href=\"#DejaVuSans-48\"/>\n       <use x=\"63.623047\" xlink:href=\"#DejaVuSans-46\"/>\n       <use x=\"95.410156\" xlink:href=\"#DejaVuSans-57\"/>\n       <use x=\"159.033203\" xlink:href=\"#DejaVuSans-55\"/>\n       <use x=\"222.65625\" xlink:href=\"#DejaVuSans-48\"/>\n      </g>\n     </g>\n    </g>\n    <g id=\"ytick_5\">\n     <g id=\"line2d_12\">\n      <g>\n       <use style=\"stroke:#000000;stroke-width:0.8;\" x=\"56.50625\" xlink:href=\"#ma51ed74744\" y=\"54.147273\"/>\n      </g>\n     </g>\n     <g id=\"text_13\">\n      <!-- 0.975 -->\n      <g transform=\"translate(20.878125 57.946491)scale(0.1 -0.1)\">\n       <use xlink:href=\"#DejaVuSans-48\"/>\n       <use x=\"63.623047\" xlink:href=\"#DejaVuSans-46\"/>\n       <use x=\"95.410156\" xlink:href=\"#DejaVuSans-57\"/>\n       <use x=\"159.033203\" xlink:href=\"#DejaVuSans-55\"/>\n       <use x=\"222.65625\" xlink:href=\"#DejaVuSans-53\"/>\n      </g>\n     </g>\n    </g>\n    <g id=\"ytick_6\">\n     <g id=\"line2d_13\">\n      <g>\n       <use style=\"stroke:#000000;stroke-width:0.8;\" x=\"56.50625\" xlink:href=\"#ma51ed74744\" y=\"17.083636\"/>\n      </g>\n     </g>\n     <g id=\"text_14\">\n      <!-- 0.980 -->\n      <defs>\n       <path d=\"M 31.78125 34.625 \nQ 24.75 34.625 20.71875 30.859375 \nQ 16.703125 27.09375 16.703125 20.515625 \nQ 16.703125 13.921875 20.71875 10.15625 \nQ 24.75 6.390625 31.78125 6.390625 \nQ 38.8125 6.390625 42.859375 10.171875 \nQ 46.921875 13.96875 46.921875 20.515625 \nQ 46.921875 27.09375 42.890625 30.859375 \nQ 38.875 34.625 31.78125 34.625 \nz\nM 21.921875 38.8125 \nQ 15.578125 40.375 12.03125 44.71875 \nQ 8.5 49.078125 8.5 55.328125 \nQ 8.5 64.0625 14.71875 69.140625 \nQ 20.953125 74.21875 31.78125 74.21875 \nQ 42.671875 74.21875 48.875 69.140625 \nQ 55.078125 64.0625 55.078125 55.328125 \nQ 55.078125 49.078125 51.53125 44.71875 \nQ 48 40.375 41.703125 38.8125 \nQ 48.828125 37.15625 52.796875 32.3125 \nQ 56.78125 27.484375 56.78125 20.515625 \nQ 56.78125 9.90625 50.3125 4.234375 \nQ 43.84375 -1.421875 31.78125 -1.421875 \nQ 19.734375 -1.421875 13.25 4.234375 \nQ 6.78125 9.90625 6.78125 20.515625 \nQ 6.78125 27.484375 10.78125 32.3125 \nQ 14.796875 37.15625 21.921875 38.8125 \nz\nM 18.3125 54.390625 \nQ 18.3125 48.734375 21.84375 45.5625 \nQ 25.390625 42.390625 31.78125 42.390625 \nQ 38.140625 42.390625 41.71875 45.5625 \nQ 45.3125 48.734375 45.3125 54.390625 \nQ 45.3125 60.0625 41.71875 63.234375 \nQ 38.140625 66.40625 31.78125 66.40625 \nQ 25.390625 66.40625 21.84375 63.234375 \nQ 18.3125 60.0625 18.3125 54.390625 \nz\n\" id=\"DejaVuSans-56\"/>\n      </defs>\n      <g transform=\"translate(20.878125 20.882855)scale(0.1 -0.1)\">\n       <use xlink:href=\"#DejaVuSans-48\"/>\n       <use x=\"63.623047\" xlink:href=\"#DejaVuSans-46\"/>\n       <use x=\"95.410156\" xlink:href=\"#DejaVuSans-57\"/>\n       <use x=\"159.033203\" xlink:href=\"#DejaVuSans-56\"/>\n       <use x=\"222.65625\" xlink:href=\"#DejaVuSans-48\"/>\n      </g>\n     </g>\n    </g>\n    <g id=\"text_15\">\n     <!-- Cross-Validated Accuracy -->\n     <defs>\n      <path d=\"M 64.40625 67.28125 \nL 64.40625 56.890625 \nQ 59.421875 61.53125 53.78125 63.8125 \nQ 48.140625 66.109375 41.796875 66.109375 \nQ 29.296875 66.109375 22.65625 58.46875 \nQ 16.015625 50.828125 16.015625 36.375 \nQ 16.015625 21.96875 22.65625 14.328125 \nQ 29.296875 6.6875 41.796875 6.6875 \nQ 48.140625 6.6875 53.78125 8.984375 \nQ 59.421875 11.28125 64.40625 15.921875 \nL 64.40625 5.609375 \nQ 59.234375 2.09375 53.4375 0.328125 \nQ 47.65625 -1.421875 41.21875 -1.421875 \nQ 24.65625 -1.421875 15.125 8.703125 \nQ 5.609375 18.84375 5.609375 36.375 \nQ 5.609375 53.953125 15.125 64.078125 \nQ 24.65625 74.21875 41.21875 74.21875 \nQ 47.75 74.21875 53.53125 72.484375 \nQ 59.328125 70.75 64.40625 67.28125 \nz\n\" id=\"DejaVuSans-67\"/>\n      <path d=\"M 44.28125 53.078125 \nL 44.28125 44.578125 \nQ 40.484375 46.53125 36.375 47.5 \nQ 32.28125 48.484375 27.875 48.484375 \nQ 21.1875 48.484375 17.84375 46.4375 \nQ 14.5 44.390625 14.5 40.28125 \nQ 14.5 37.15625 16.890625 35.375 \nQ 19.28125 33.59375 26.515625 31.984375 \nL 29.59375 31.296875 \nQ 39.15625 29.25 43.1875 25.515625 \nQ 47.21875 21.78125 47.21875 15.09375 \nQ 47.21875 7.46875 41.1875 3.015625 \nQ 35.15625 -1.421875 24.609375 -1.421875 \nQ 20.21875 -1.421875 15.453125 -0.5625 \nQ 10.6875 0.296875 5.421875 2 \nL 5.421875 11.28125 \nQ 10.40625 8.6875 15.234375 7.390625 \nQ 20.0625 6.109375 24.8125 6.109375 \nQ 31.15625 6.109375 34.5625 8.28125 \nQ 37.984375 10.453125 37.984375 14.40625 \nQ 37.984375 18.0625 35.515625 20.015625 \nQ 33.0625 21.96875 24.703125 23.78125 \nL 21.578125 24.515625 \nQ 13.234375 26.265625 9.515625 29.90625 \nQ 5.8125 33.546875 5.8125 39.890625 \nQ 5.8125 47.609375 11.28125 51.796875 \nQ 16.75 56 26.8125 56 \nQ 31.78125 56 36.171875 55.265625 \nQ 40.578125 54.546875 44.28125 53.078125 \nz\n\" id=\"DejaVuSans-115\"/>\n      <path d=\"M 4.890625 31.390625 \nL 31.203125 31.390625 \nL 31.203125 23.390625 \nL 4.890625 23.390625 \nz\n\" id=\"DejaVuSans-45\"/>\n      <path d=\"M 9.421875 54.6875 \nL 18.40625 54.6875 \nL 18.40625 0 \nL 9.421875 0 \nz\nM 9.421875 75.984375 \nL 18.40625 75.984375 \nL 18.40625 64.59375 \nL 9.421875 64.59375 \nz\n\" id=\"DejaVuSans-105\"/>\n      <path d=\"M 45.40625 46.390625 \nL 45.40625 75.984375 \nL 54.390625 75.984375 \nL 54.390625 0 \nL 45.40625 0 \nL 45.40625 8.203125 \nQ 42.578125 3.328125 38.25 0.953125 \nQ 33.9375 -1.421875 27.875 -1.421875 \nQ 17.96875 -1.421875 11.734375 6.484375 \nQ 5.515625 14.40625 5.515625 27.296875 \nQ 5.515625 40.1875 11.734375 48.09375 \nQ 17.96875 56 27.875 56 \nQ 33.9375 56 38.25 53.625 \nQ 42.578125 51.265625 45.40625 46.390625 \nz\nM 14.796875 27.296875 \nQ 14.796875 17.390625 18.875 11.75 \nQ 22.953125 6.109375 30.078125 6.109375 \nQ 37.203125 6.109375 41.296875 11.75 \nQ 45.40625 17.390625 45.40625 27.296875 \nQ 45.40625 37.203125 41.296875 42.84375 \nQ 37.203125 48.484375 30.078125 48.484375 \nQ 22.953125 48.484375 18.875 42.84375 \nQ 14.796875 37.203125 14.796875 27.296875 \nz\n\" id=\"DejaVuSans-100\"/>\n      <path d=\"M 18.3125 70.21875 \nL 18.3125 54.6875 \nL 36.8125 54.6875 \nL 36.8125 47.703125 \nL 18.3125 47.703125 \nL 18.3125 18.015625 \nQ 18.3125 11.328125 20.140625 9.421875 \nQ 21.96875 7.515625 27.59375 7.515625 \nL 36.8125 7.515625 \nL 36.8125 0 \nL 27.59375 0 \nQ 17.1875 0 13.234375 3.875 \nQ 9.28125 7.765625 9.28125 18.015625 \nL 9.28125 47.703125 \nL 2.6875 47.703125 \nL 2.6875 54.6875 \nL 9.28125 54.6875 \nL 9.28125 70.21875 \nz\n\" id=\"DejaVuSans-116\"/>\n      <path d=\"M 34.1875 63.1875 \nL 20.796875 26.90625 \nL 47.609375 26.90625 \nz\nM 28.609375 72.90625 \nL 39.796875 72.90625 \nL 67.578125 0 \nL 57.328125 0 \nL 50.6875 18.703125 \nL 17.828125 18.703125 \nL 11.1875 0 \nL 0.78125 0 \nz\n\" id=\"DejaVuSans-65\"/>\n      <path d=\"M 48.78125 52.59375 \nL 48.78125 44.1875 \nQ 44.96875 46.296875 41.140625 47.34375 \nQ 37.3125 48.390625 33.40625 48.390625 \nQ 24.65625 48.390625 19.8125 42.84375 \nQ 14.984375 37.3125 14.984375 27.296875 \nQ 14.984375 17.28125 19.8125 11.734375 \nQ 24.65625 6.203125 33.40625 6.203125 \nQ 37.3125 6.203125 41.140625 7.25 \nQ 44.96875 8.296875 48.78125 10.40625 \nL 48.78125 2.09375 \nQ 45.015625 0.34375 40.984375 -0.53125 \nQ 36.96875 -1.421875 32.421875 -1.421875 \nQ 20.0625 -1.421875 12.78125 6.34375 \nQ 5.515625 14.109375 5.515625 27.296875 \nQ 5.515625 40.671875 12.859375 48.328125 \nQ 20.21875 56 33.015625 56 \nQ 37.15625 56 41.109375 55.140625 \nQ 45.0625 54.296875 48.78125 52.59375 \nz\n\" id=\"DejaVuSans-99\"/>\n      <path d=\"M 32.171875 -5.078125 \nQ 28.375 -14.84375 24.75 -17.8125 \nQ 21.140625 -20.796875 15.09375 -20.796875 \nL 7.90625 -20.796875 \nL 7.90625 -13.28125 \nL 13.1875 -13.28125 \nQ 16.890625 -13.28125 18.9375 -11.515625 \nQ 21 -9.765625 23.484375 -3.21875 \nL 25.09375 0.875 \nL 2.984375 54.6875 \nL 12.5 54.6875 \nL 29.59375 11.921875 \nL 46.6875 54.6875 \nL 56.203125 54.6875 \nz\n\" id=\"DejaVuSans-121\"/>\n     </defs>\n     <g transform=\"translate(14.798438 178.874687)rotate(-90)scale(0.1 -0.1)\">\n      <use xlink:href=\"#DejaVuSans-67\"/>\n      <use x=\"69.824219\" xlink:href=\"#DejaVuSans-114\"/>\n      <use x=\"108.6875\" xlink:href=\"#DejaVuSans-111\"/>\n      <use x=\"169.869141\" xlink:href=\"#DejaVuSans-115\"/>\n      <use x=\"221.96875\" xlink:href=\"#DejaVuSans-115\"/>\n      <use x=\"274.068359\" xlink:href=\"#DejaVuSans-45\"/>\n      <use x=\"304.277344\" xlink:href=\"#DejaVuSans-86\"/>\n      <use x=\"364.935547\" xlink:href=\"#DejaVuSans-97\"/>\n      <use x=\"426.214844\" xlink:href=\"#DejaVuSans-108\"/>\n      <use x=\"453.998047\" xlink:href=\"#DejaVuSans-105\"/>\n      <use x=\"481.78125\" xlink:href=\"#DejaVuSans-100\"/>\n      <use x=\"545.257812\" xlink:href=\"#DejaVuSans-97\"/>\n      <use x=\"606.537109\" xlink:href=\"#DejaVuSans-116\"/>\n      <use x=\"645.746094\" xlink:href=\"#DejaVuSans-101\"/>\n      <use x=\"707.269531\" xlink:href=\"#DejaVuSans-100\"/>\n      <use x=\"770.746094\" xlink:href=\"#DejaVuSans-32\"/>\n      <use x=\"802.533203\" xlink:href=\"#DejaVuSans-65\"/>\n      <use x=\"869.191406\" xlink:href=\"#DejaVuSans-99\"/>\n      <use x=\"924.171875\" xlink:href=\"#DejaVuSans-99\"/>\n      <use x=\"979.152344\" xlink:href=\"#DejaVuSans-117\"/>\n      <use x=\"1042.53125\" xlink:href=\"#DejaVuSans-114\"/>\n      <use x=\"1083.644531\" xlink:href=\"#DejaVuSans-97\"/>\n      <use x=\"1144.923828\" xlink:href=\"#DejaVuSans-99\"/>\n      <use x=\"1199.904297\" xlink:href=\"#DejaVuSans-121\"/>\n     </g>\n    </g>\n   </g>\n   <g id=\"line2d_14\">\n    <path clip-path=\"url(#pca5b063680)\" d=\"M 71.724432 165.338182 \nL 82.21973 214.756364 \nL 92.715027 115.92 \nL 103.210325 115.92 \nL 113.705623 115.92 \nL 124.200921 115.92 \nL 134.696219 115.92 \nL 145.191516 115.92 \nL 155.686814 66.501818 \nL 166.182112 115.92 \nL 176.67741 115.92 \nL 187.172708 66.501818 \nL 197.668005 17.083636 \nL 208.163303 66.501818 \nL 218.658601 66.501818 \nL 229.153899 66.501818 \nL 239.649197 66.501818 \nL 250.144495 17.083636 \nL 260.639792 66.501818 \nL 271.13509 17.083636 \nL 281.630388 115.92 \nL 292.125686 115.92 \nL 302.620984 66.501818 \nL 313.116281 165.338182 \nL 323.611579 115.92 \nL 334.106877 165.338182 \nL 344.602175 115.92 \nL 355.097473 214.756364 \nL 365.59277 214.756364 \nL 376.088068 214.756364 \n\" style=\"fill:none;stroke:#1f77b4;stroke-linecap:square;stroke-width:1.5;\"/>\n   </g>\n   <g id=\"patch_3\">\n    <path d=\"M 56.50625 224.64 \nL 56.50625 7.2 \n\" style=\"fill:none;stroke:#000000;stroke-linecap:square;stroke-linejoin:miter;stroke-width:0.8;\"/>\n   </g>\n   <g id=\"patch_4\">\n    <path d=\"M 391.30625 224.64 \nL 391.30625 7.2 \n\" style=\"fill:none;stroke:#000000;stroke-linecap:square;stroke-linejoin:miter;stroke-width:0.8;\"/>\n   </g>\n   <g id=\"patch_5\">\n    <path d=\"M 56.50625 224.64 \nL 391.30625 224.64 \n\" style=\"fill:none;stroke:#000000;stroke-linecap:square;stroke-linejoin:miter;stroke-width:0.8;\"/>\n   </g>\n   <g id=\"patch_6\">\n    <path d=\"M 56.50625 7.2 \nL 391.30625 7.2 \n\" style=\"fill:none;stroke:#000000;stroke-linecap:square;stroke-linejoin:miter;stroke-width:0.8;\"/>\n   </g>\n  </g>\n </g>\n <defs>\n  <clipPath id=\"pca5b063680\">\n   <rect height=\"217.44\" width=\"334.8\" x=\"56.50625\" y=\"7.2\"/>\n  </clipPath>\n </defs>\n</svg>\n"
          },
          "metadata": {
            "tags": [],
            "needs_background": "light"
          }
        }
      ]
    },
    {
      "cell_type": "markdown",
      "metadata": {
        "id": "3nW21cA9XHyd"
      },
      "source": [
        "### over fitting\n",
        "过拟合"
      ]
    },
    {
      "cell_type": "code",
      "metadata": {
        "id": "MK4JKO3-XL7u"
      },
      "source": [
        "from sklearn.model_selection import learning_curve\n",
        "from sklearn.model_selection import validation_curve\n",
        "from sklearn.datasets import load_digits"
      ],
      "execution_count": 255,
      "outputs": []
    },
    {
      "cell_type": "code",
      "metadata": {
        "id": "AUSisUsgYYHt"
      },
      "source": [
        "digits = load_digits()\n",
        "X = digits.data\n",
        "y = digits.target"
      ],
      "execution_count": 247,
      "outputs": []
    },
    {
      "cell_type": "code",
      "metadata": {
        "id": "Qo0LU8NtYidk"
      },
      "source": [
        "train_sizes, train_loss, test_loss = learning_curve(\n",
        "    SVC(gamma=0.001), X, y, cv=10, scoring='neg_mean_squared_error',\n",
        "    train_sizes=[0.1,0.25,0.5,0.75,1]\n",
        ")\n",
        "train_loss_mean = -np.mean(train_loss, axis=1)\n",
        "test_loss_mean = -np.mean(test_loss, axis=1)"
      ],
      "execution_count": 253,
      "outputs": []
    },
    {
      "cell_type": "code",
      "metadata": {
        "colab": {
          "base_uri": "https://localhost:8080/",
          "height": 387
        },
        "id": "LGOnTOhIZuyM",
        "outputId": "bbcdb883-0370-402c-ce28-337f829c4bd6"
      },
      "source": [
        "plt.plot(train_sizes, train_loss_mean,'o-',color='r',\n",
        "         label='Training')\n",
        "plt.plot(train_sizes, test_loss_mean,'o-',color='g',\n",
        "         label=\"Cross-validation\")\n",
        "plt.xlabel(\"Training examples\")\n",
        "plt.ylabel(\"Loss\")\n",
        "plt.legend(loc=\"best\")"
      ],
      "execution_count": 254,
      "outputs": [
        {
          "output_type": "execute_result",
          "data": {
            "text/plain": [
              "<matplotlib.legend.Legend at 0x7f933a55aa90>"
            ]
          },
          "metadata": {
            "tags": []
          },
          "execution_count": 254
        },
        {
          "output_type": "display_data",
          "data": {
            "text/plain": [
              "<Figure size 432x288 with 1 Axes>"
            ],
            "image/svg+xml": "<?xml version=\"1.0\" encoding=\"utf-8\" standalone=\"no\"?>\n<!DOCTYPE svg PUBLIC \"-//W3C//DTD SVG 1.1//EN\"\n  \"http://www.w3.org/Graphics/SVG/1.1/DTD/svg11.dtd\">\n<!-- Created with matplotlib (https://matplotlib.org/) -->\n<svg height=\"262.19625pt\" version=\"1.1\" viewBox=\"0 0 376.240625 262.19625\" width=\"376.240625pt\" xmlns=\"http://www.w3.org/2000/svg\" xmlns:xlink=\"http://www.w3.org/1999/xlink\">\n <defs>\n  <style type=\"text/css\">\n*{stroke-linecap:butt;stroke-linejoin:round;}\n  </style>\n </defs>\n <g id=\"figure_1\">\n  <g id=\"patch_1\">\n   <path d=\"M 0 262.19625 \nL 376.240625 262.19625 \nL 376.240625 0 \nL 0 0 \nz\n\" style=\"fill:none;\"/>\n  </g>\n  <g id=\"axes_1\">\n   <g id=\"patch_2\">\n    <path d=\"M 34.240625 224.64 \nL 369.040625 224.64 \nL 369.040625 7.2 \nL 34.240625 7.2 \nz\n\" style=\"fill:#ffffff;\"/>\n   </g>\n   <g id=\"matplotlib.axis_1\">\n    <g id=\"xtick_1\">\n     <g id=\"line2d_1\">\n      <defs>\n       <path d=\"M 0 0 \nL 0 3.5 \n\" id=\"md0c4859b27\" style=\"stroke:#000000;stroke-width:0.8;\"/>\n      </defs>\n      <g>\n       <use style=\"stroke:#000000;stroke-width:0.8;\" x=\"57.611404\" xlink:href=\"#md0c4859b27\" y=\"224.64\"/>\n      </g>\n     </g>\n     <g id=\"text_1\">\n      <!-- 200 -->\n      <defs>\n       <path d=\"M 19.1875 8.296875 \nL 53.609375 8.296875 \nL 53.609375 0 \nL 7.328125 0 \nL 7.328125 8.296875 \nQ 12.9375 14.109375 22.625 23.890625 \nQ 32.328125 33.6875 34.8125 36.53125 \nQ 39.546875 41.84375 41.421875 45.53125 \nQ 43.3125 49.21875 43.3125 52.78125 \nQ 43.3125 58.59375 39.234375 62.25 \nQ 35.15625 65.921875 28.609375 65.921875 \nQ 23.96875 65.921875 18.8125 64.3125 \nQ 13.671875 62.703125 7.8125 59.421875 \nL 7.8125 69.390625 \nQ 13.765625 71.78125 18.9375 73 \nQ 24.125 74.21875 28.421875 74.21875 \nQ 39.75 74.21875 46.484375 68.546875 \nQ 53.21875 62.890625 53.21875 53.421875 \nQ 53.21875 48.921875 51.53125 44.890625 \nQ 49.859375 40.875 45.40625 35.40625 \nQ 44.1875 33.984375 37.640625 27.21875 \nQ 31.109375 20.453125 19.1875 8.296875 \nz\n\" id=\"DejaVuSans-50\"/>\n       <path d=\"M 31.78125 66.40625 \nQ 24.171875 66.40625 20.328125 58.90625 \nQ 16.5 51.421875 16.5 36.375 \nQ 16.5 21.390625 20.328125 13.890625 \nQ 24.171875 6.390625 31.78125 6.390625 \nQ 39.453125 6.390625 43.28125 13.890625 \nQ 47.125 21.390625 47.125 36.375 \nQ 47.125 51.421875 43.28125 58.90625 \nQ 39.453125 66.40625 31.78125 66.40625 \nz\nM 31.78125 74.21875 \nQ 44.046875 74.21875 50.515625 64.515625 \nQ 56.984375 54.828125 56.984375 36.375 \nQ 56.984375 17.96875 50.515625 8.265625 \nQ 44.046875 -1.421875 31.78125 -1.421875 \nQ 19.53125 -1.421875 13.0625 8.265625 \nQ 6.59375 17.96875 6.59375 36.375 \nQ 6.59375 54.828125 13.0625 64.515625 \nQ 19.53125 74.21875 31.78125 74.21875 \nz\n\" id=\"DejaVuSans-48\"/>\n      </defs>\n      <g transform=\"translate(48.067654 239.238437)scale(0.1 -0.1)\">\n       <use xlink:href=\"#DejaVuSans-50\"/>\n       <use x=\"63.623047\" xlink:href=\"#DejaVuSans-48\"/>\n       <use x=\"127.246094\" xlink:href=\"#DejaVuSans-48\"/>\n      </g>\n     </g>\n    </g>\n    <g id=\"xtick_2\">\n     <g id=\"line2d_2\">\n      <g>\n       <use style=\"stroke:#000000;stroke-width:0.8;\" x=\"99.419596\" xlink:href=\"#md0c4859b27\" y=\"224.64\"/>\n      </g>\n     </g>\n     <g id=\"text_2\">\n      <!-- 400 -->\n      <defs>\n       <path d=\"M 37.796875 64.3125 \nL 12.890625 25.390625 \nL 37.796875 25.390625 \nz\nM 35.203125 72.90625 \nL 47.609375 72.90625 \nL 47.609375 25.390625 \nL 58.015625 25.390625 \nL 58.015625 17.1875 \nL 47.609375 17.1875 \nL 47.609375 0 \nL 37.796875 0 \nL 37.796875 17.1875 \nL 4.890625 17.1875 \nL 4.890625 26.703125 \nz\n\" id=\"DejaVuSans-52\"/>\n      </defs>\n      <g transform=\"translate(89.875846 239.238437)scale(0.1 -0.1)\">\n       <use xlink:href=\"#DejaVuSans-52\"/>\n       <use x=\"63.623047\" xlink:href=\"#DejaVuSans-48\"/>\n       <use x=\"127.246094\" xlink:href=\"#DejaVuSans-48\"/>\n      </g>\n     </g>\n    </g>\n    <g id=\"xtick_3\">\n     <g id=\"line2d_3\">\n      <g>\n       <use style=\"stroke:#000000;stroke-width:0.8;\" x=\"141.227788\" xlink:href=\"#md0c4859b27\" y=\"224.64\"/>\n      </g>\n     </g>\n     <g id=\"text_3\">\n      <!-- 600 -->\n      <defs>\n       <path d=\"M 33.015625 40.375 \nQ 26.375 40.375 22.484375 35.828125 \nQ 18.609375 31.296875 18.609375 23.390625 \nQ 18.609375 15.53125 22.484375 10.953125 \nQ 26.375 6.390625 33.015625 6.390625 \nQ 39.65625 6.390625 43.53125 10.953125 \nQ 47.40625 15.53125 47.40625 23.390625 \nQ 47.40625 31.296875 43.53125 35.828125 \nQ 39.65625 40.375 33.015625 40.375 \nz\nM 52.59375 71.296875 \nL 52.59375 62.3125 \nQ 48.875 64.0625 45.09375 64.984375 \nQ 41.3125 65.921875 37.59375 65.921875 \nQ 27.828125 65.921875 22.671875 59.328125 \nQ 17.53125 52.734375 16.796875 39.40625 \nQ 19.671875 43.65625 24.015625 45.921875 \nQ 28.375 48.1875 33.59375 48.1875 \nQ 44.578125 48.1875 50.953125 41.515625 \nQ 57.328125 34.859375 57.328125 23.390625 \nQ 57.328125 12.15625 50.6875 5.359375 \nQ 44.046875 -1.421875 33.015625 -1.421875 \nQ 20.359375 -1.421875 13.671875 8.265625 \nQ 6.984375 17.96875 6.984375 36.375 \nQ 6.984375 53.65625 15.1875 63.9375 \nQ 23.390625 74.21875 37.203125 74.21875 \nQ 40.921875 74.21875 44.703125 73.484375 \nQ 48.484375 72.75 52.59375 71.296875 \nz\n\" id=\"DejaVuSans-54\"/>\n      </defs>\n      <g transform=\"translate(131.684038 239.238437)scale(0.1 -0.1)\">\n       <use xlink:href=\"#DejaVuSans-54\"/>\n       <use x=\"63.623047\" xlink:href=\"#DejaVuSans-48\"/>\n       <use x=\"127.246094\" xlink:href=\"#DejaVuSans-48\"/>\n      </g>\n     </g>\n    </g>\n    <g id=\"xtick_4\">\n     <g id=\"line2d_4\">\n      <g>\n       <use style=\"stroke:#000000;stroke-width:0.8;\" x=\"183.03598\" xlink:href=\"#md0c4859b27\" y=\"224.64\"/>\n      </g>\n     </g>\n     <g id=\"text_4\">\n      <!-- 800 -->\n      <defs>\n       <path d=\"M 31.78125 34.625 \nQ 24.75 34.625 20.71875 30.859375 \nQ 16.703125 27.09375 16.703125 20.515625 \nQ 16.703125 13.921875 20.71875 10.15625 \nQ 24.75 6.390625 31.78125 6.390625 \nQ 38.8125 6.390625 42.859375 10.171875 \nQ 46.921875 13.96875 46.921875 20.515625 \nQ 46.921875 27.09375 42.890625 30.859375 \nQ 38.875 34.625 31.78125 34.625 \nz\nM 21.921875 38.8125 \nQ 15.578125 40.375 12.03125 44.71875 \nQ 8.5 49.078125 8.5 55.328125 \nQ 8.5 64.0625 14.71875 69.140625 \nQ 20.953125 74.21875 31.78125 74.21875 \nQ 42.671875 74.21875 48.875 69.140625 \nQ 55.078125 64.0625 55.078125 55.328125 \nQ 55.078125 49.078125 51.53125 44.71875 \nQ 48 40.375 41.703125 38.8125 \nQ 48.828125 37.15625 52.796875 32.3125 \nQ 56.78125 27.484375 56.78125 20.515625 \nQ 56.78125 9.90625 50.3125 4.234375 \nQ 43.84375 -1.421875 31.78125 -1.421875 \nQ 19.734375 -1.421875 13.25 4.234375 \nQ 6.78125 9.90625 6.78125 20.515625 \nQ 6.78125 27.484375 10.78125 32.3125 \nQ 14.796875 37.15625 21.921875 38.8125 \nz\nM 18.3125 54.390625 \nQ 18.3125 48.734375 21.84375 45.5625 \nQ 25.390625 42.390625 31.78125 42.390625 \nQ 38.140625 42.390625 41.71875 45.5625 \nQ 45.3125 48.734375 45.3125 54.390625 \nQ 45.3125 60.0625 41.71875 63.234375 \nQ 38.140625 66.40625 31.78125 66.40625 \nQ 25.390625 66.40625 21.84375 63.234375 \nQ 18.3125 60.0625 18.3125 54.390625 \nz\n\" id=\"DejaVuSans-56\"/>\n      </defs>\n      <g transform=\"translate(173.49223 239.238437)scale(0.1 -0.1)\">\n       <use xlink:href=\"#DejaVuSans-56\"/>\n       <use x=\"63.623047\" xlink:href=\"#DejaVuSans-48\"/>\n       <use x=\"127.246094\" xlink:href=\"#DejaVuSans-48\"/>\n      </g>\n     </g>\n    </g>\n    <g id=\"xtick_5\">\n     <g id=\"line2d_5\">\n      <g>\n       <use style=\"stroke:#000000;stroke-width:0.8;\" x=\"224.844171\" xlink:href=\"#md0c4859b27\" y=\"224.64\"/>\n      </g>\n     </g>\n     <g id=\"text_5\">\n      <!-- 1000 -->\n      <defs>\n       <path d=\"M 12.40625 8.296875 \nL 28.515625 8.296875 \nL 28.515625 63.921875 \nL 10.984375 60.40625 \nL 10.984375 69.390625 \nL 28.421875 72.90625 \nL 38.28125 72.90625 \nL 38.28125 8.296875 \nL 54.390625 8.296875 \nL 54.390625 0 \nL 12.40625 0 \nz\n\" id=\"DejaVuSans-49\"/>\n      </defs>\n      <g transform=\"translate(212.119171 239.238437)scale(0.1 -0.1)\">\n       <use xlink:href=\"#DejaVuSans-49\"/>\n       <use x=\"63.623047\" xlink:href=\"#DejaVuSans-48\"/>\n       <use x=\"127.246094\" xlink:href=\"#DejaVuSans-48\"/>\n       <use x=\"190.869141\" xlink:href=\"#DejaVuSans-48\"/>\n      </g>\n     </g>\n    </g>\n    <g id=\"xtick_6\">\n     <g id=\"line2d_6\">\n      <g>\n       <use style=\"stroke:#000000;stroke-width:0.8;\" x=\"266.652363\" xlink:href=\"#md0c4859b27\" y=\"224.64\"/>\n      </g>\n     </g>\n     <g id=\"text_6\">\n      <!-- 1200 -->\n      <g transform=\"translate(253.927363 239.238437)scale(0.1 -0.1)\">\n       <use xlink:href=\"#DejaVuSans-49\"/>\n       <use x=\"63.623047\" xlink:href=\"#DejaVuSans-50\"/>\n       <use x=\"127.246094\" xlink:href=\"#DejaVuSans-48\"/>\n       <use x=\"190.869141\" xlink:href=\"#DejaVuSans-48\"/>\n      </g>\n     </g>\n    </g>\n    <g id=\"xtick_7\">\n     <g id=\"line2d_7\">\n      <g>\n       <use style=\"stroke:#000000;stroke-width:0.8;\" x=\"308.460555\" xlink:href=\"#md0c4859b27\" y=\"224.64\"/>\n      </g>\n     </g>\n     <g id=\"text_7\">\n      <!-- 1400 -->\n      <g transform=\"translate(295.735555 239.238437)scale(0.1 -0.1)\">\n       <use xlink:href=\"#DejaVuSans-49\"/>\n       <use x=\"63.623047\" xlink:href=\"#DejaVuSans-52\"/>\n       <use x=\"127.246094\" xlink:href=\"#DejaVuSans-48\"/>\n       <use x=\"190.869141\" xlink:href=\"#DejaVuSans-48\"/>\n      </g>\n     </g>\n    </g>\n    <g id=\"xtick_8\">\n     <g id=\"line2d_8\">\n      <g>\n       <use style=\"stroke:#000000;stroke-width:0.8;\" x=\"350.268747\" xlink:href=\"#md0c4859b27\" y=\"224.64\"/>\n      </g>\n     </g>\n     <g id=\"text_8\">\n      <!-- 1600 -->\n      <g transform=\"translate(337.543747 239.238437)scale(0.1 -0.1)\">\n       <use xlink:href=\"#DejaVuSans-49\"/>\n       <use x=\"63.623047\" xlink:href=\"#DejaVuSans-54\"/>\n       <use x=\"127.246094\" xlink:href=\"#DejaVuSans-48\"/>\n       <use x=\"190.869141\" xlink:href=\"#DejaVuSans-48\"/>\n      </g>\n     </g>\n    </g>\n    <g id=\"text_9\">\n     <!-- Training examples -->\n     <defs>\n      <path d=\"M -0.296875 72.90625 \nL 61.375 72.90625 \nL 61.375 64.59375 \nL 35.5 64.59375 \nL 35.5 0 \nL 25.59375 0 \nL 25.59375 64.59375 \nL -0.296875 64.59375 \nz\n\" id=\"DejaVuSans-84\"/>\n      <path d=\"M 41.109375 46.296875 \nQ 39.59375 47.171875 37.8125 47.578125 \nQ 36.03125 48 33.890625 48 \nQ 26.265625 48 22.1875 43.046875 \nQ 18.109375 38.09375 18.109375 28.8125 \nL 18.109375 0 \nL 9.078125 0 \nL 9.078125 54.6875 \nL 18.109375 54.6875 \nL 18.109375 46.1875 \nQ 20.953125 51.171875 25.484375 53.578125 \nQ 30.03125 56 36.53125 56 \nQ 37.453125 56 38.578125 55.875 \nQ 39.703125 55.765625 41.0625 55.515625 \nz\n\" id=\"DejaVuSans-114\"/>\n      <path d=\"M 34.28125 27.484375 \nQ 23.390625 27.484375 19.1875 25 \nQ 14.984375 22.515625 14.984375 16.5 \nQ 14.984375 11.71875 18.140625 8.90625 \nQ 21.296875 6.109375 26.703125 6.109375 \nQ 34.1875 6.109375 38.703125 11.40625 \nQ 43.21875 16.703125 43.21875 25.484375 \nL 43.21875 27.484375 \nz\nM 52.203125 31.203125 \nL 52.203125 0 \nL 43.21875 0 \nL 43.21875 8.296875 \nQ 40.140625 3.328125 35.546875 0.953125 \nQ 30.953125 -1.421875 24.3125 -1.421875 \nQ 15.921875 -1.421875 10.953125 3.296875 \nQ 6 8.015625 6 15.921875 \nQ 6 25.140625 12.171875 29.828125 \nQ 18.359375 34.515625 30.609375 34.515625 \nL 43.21875 34.515625 \nL 43.21875 35.40625 \nQ 43.21875 41.609375 39.140625 45 \nQ 35.0625 48.390625 27.6875 48.390625 \nQ 23 48.390625 18.546875 47.265625 \nQ 14.109375 46.140625 10.015625 43.890625 \nL 10.015625 52.203125 \nQ 14.9375 54.109375 19.578125 55.046875 \nQ 24.21875 56 28.609375 56 \nQ 40.484375 56 46.34375 49.84375 \nQ 52.203125 43.703125 52.203125 31.203125 \nz\n\" id=\"DejaVuSans-97\"/>\n      <path d=\"M 9.421875 54.6875 \nL 18.40625 54.6875 \nL 18.40625 0 \nL 9.421875 0 \nz\nM 9.421875 75.984375 \nL 18.40625 75.984375 \nL 18.40625 64.59375 \nL 9.421875 64.59375 \nz\n\" id=\"DejaVuSans-105\"/>\n      <path d=\"M 54.890625 33.015625 \nL 54.890625 0 \nL 45.90625 0 \nL 45.90625 32.71875 \nQ 45.90625 40.484375 42.875 44.328125 \nQ 39.84375 48.1875 33.796875 48.1875 \nQ 26.515625 48.1875 22.3125 43.546875 \nQ 18.109375 38.921875 18.109375 30.90625 \nL 18.109375 0 \nL 9.078125 0 \nL 9.078125 54.6875 \nL 18.109375 54.6875 \nL 18.109375 46.1875 \nQ 21.34375 51.125 25.703125 53.5625 \nQ 30.078125 56 35.796875 56 \nQ 45.21875 56 50.046875 50.171875 \nQ 54.890625 44.34375 54.890625 33.015625 \nz\n\" id=\"DejaVuSans-110\"/>\n      <path d=\"M 45.40625 27.984375 \nQ 45.40625 37.75 41.375 43.109375 \nQ 37.359375 48.484375 30.078125 48.484375 \nQ 22.859375 48.484375 18.828125 43.109375 \nQ 14.796875 37.75 14.796875 27.984375 \nQ 14.796875 18.265625 18.828125 12.890625 \nQ 22.859375 7.515625 30.078125 7.515625 \nQ 37.359375 7.515625 41.375 12.890625 \nQ 45.40625 18.265625 45.40625 27.984375 \nz\nM 54.390625 6.78125 \nQ 54.390625 -7.171875 48.1875 -13.984375 \nQ 42 -20.796875 29.203125 -20.796875 \nQ 24.46875 -20.796875 20.265625 -20.09375 \nQ 16.0625 -19.390625 12.109375 -17.921875 \nL 12.109375 -9.1875 \nQ 16.0625 -11.328125 19.921875 -12.34375 \nQ 23.78125 -13.375 27.78125 -13.375 \nQ 36.625 -13.375 41.015625 -8.765625 \nQ 45.40625 -4.15625 45.40625 5.171875 \nL 45.40625 9.625 \nQ 42.625 4.78125 38.28125 2.390625 \nQ 33.9375 0 27.875 0 \nQ 17.828125 0 11.671875 7.65625 \nQ 5.515625 15.328125 5.515625 27.984375 \nQ 5.515625 40.671875 11.671875 48.328125 \nQ 17.828125 56 27.875 56 \nQ 33.9375 56 38.28125 53.609375 \nQ 42.625 51.21875 45.40625 46.390625 \nL 45.40625 54.6875 \nL 54.390625 54.6875 \nz\n\" id=\"DejaVuSans-103\"/>\n      <path id=\"DejaVuSans-32\"/>\n      <path d=\"M 56.203125 29.59375 \nL 56.203125 25.203125 \nL 14.890625 25.203125 \nQ 15.484375 15.921875 20.484375 11.0625 \nQ 25.484375 6.203125 34.421875 6.203125 \nQ 39.59375 6.203125 44.453125 7.46875 \nQ 49.3125 8.734375 54.109375 11.28125 \nL 54.109375 2.78125 \nQ 49.265625 0.734375 44.1875 -0.34375 \nQ 39.109375 -1.421875 33.890625 -1.421875 \nQ 20.796875 -1.421875 13.15625 6.1875 \nQ 5.515625 13.8125 5.515625 26.8125 \nQ 5.515625 40.234375 12.765625 48.109375 \nQ 20.015625 56 32.328125 56 \nQ 43.359375 56 49.78125 48.890625 \nQ 56.203125 41.796875 56.203125 29.59375 \nz\nM 47.21875 32.234375 \nQ 47.125 39.59375 43.09375 43.984375 \nQ 39.0625 48.390625 32.421875 48.390625 \nQ 24.90625 48.390625 20.390625 44.140625 \nQ 15.875 39.890625 15.1875 32.171875 \nz\n\" id=\"DejaVuSans-101\"/>\n      <path d=\"M 54.890625 54.6875 \nL 35.109375 28.078125 \nL 55.90625 0 \nL 45.3125 0 \nL 29.390625 21.484375 \nL 13.484375 0 \nL 2.875 0 \nL 24.125 28.609375 \nL 4.6875 54.6875 \nL 15.28125 54.6875 \nL 29.78125 35.203125 \nL 44.28125 54.6875 \nz\n\" id=\"DejaVuSans-120\"/>\n      <path d=\"M 52 44.1875 \nQ 55.375 50.25 60.0625 53.125 \nQ 64.75 56 71.09375 56 \nQ 79.640625 56 84.28125 50.015625 \nQ 88.921875 44.046875 88.921875 33.015625 \nL 88.921875 0 \nL 79.890625 0 \nL 79.890625 32.71875 \nQ 79.890625 40.578125 77.09375 44.375 \nQ 74.3125 48.1875 68.609375 48.1875 \nQ 61.625 48.1875 57.5625 43.546875 \nQ 53.515625 38.921875 53.515625 30.90625 \nL 53.515625 0 \nL 44.484375 0 \nL 44.484375 32.71875 \nQ 44.484375 40.625 41.703125 44.40625 \nQ 38.921875 48.1875 33.109375 48.1875 \nQ 26.21875 48.1875 22.15625 43.53125 \nQ 18.109375 38.875 18.109375 30.90625 \nL 18.109375 0 \nL 9.078125 0 \nL 9.078125 54.6875 \nL 18.109375 54.6875 \nL 18.109375 46.1875 \nQ 21.1875 51.21875 25.484375 53.609375 \nQ 29.78125 56 35.6875 56 \nQ 41.65625 56 45.828125 52.96875 \nQ 50 49.953125 52 44.1875 \nz\n\" id=\"DejaVuSans-109\"/>\n      <path d=\"M 18.109375 8.203125 \nL 18.109375 -20.796875 \nL 9.078125 -20.796875 \nL 9.078125 54.6875 \nL 18.109375 54.6875 \nL 18.109375 46.390625 \nQ 20.953125 51.265625 25.265625 53.625 \nQ 29.59375 56 35.59375 56 \nQ 45.5625 56 51.78125 48.09375 \nQ 58.015625 40.1875 58.015625 27.296875 \nQ 58.015625 14.40625 51.78125 6.484375 \nQ 45.5625 -1.421875 35.59375 -1.421875 \nQ 29.59375 -1.421875 25.265625 0.953125 \nQ 20.953125 3.328125 18.109375 8.203125 \nz\nM 48.6875 27.296875 \nQ 48.6875 37.203125 44.609375 42.84375 \nQ 40.53125 48.484375 33.40625 48.484375 \nQ 26.265625 48.484375 22.1875 42.84375 \nQ 18.109375 37.203125 18.109375 27.296875 \nQ 18.109375 17.390625 22.1875 11.75 \nQ 26.265625 6.109375 33.40625 6.109375 \nQ 40.53125 6.109375 44.609375 11.75 \nQ 48.6875 17.390625 48.6875 27.296875 \nz\n\" id=\"DejaVuSans-112\"/>\n      <path d=\"M 9.421875 75.984375 \nL 18.40625 75.984375 \nL 18.40625 0 \nL 9.421875 0 \nz\n\" id=\"DejaVuSans-108\"/>\n      <path d=\"M 44.28125 53.078125 \nL 44.28125 44.578125 \nQ 40.484375 46.53125 36.375 47.5 \nQ 32.28125 48.484375 27.875 48.484375 \nQ 21.1875 48.484375 17.84375 46.4375 \nQ 14.5 44.390625 14.5 40.28125 \nQ 14.5 37.15625 16.890625 35.375 \nQ 19.28125 33.59375 26.515625 31.984375 \nL 29.59375 31.296875 \nQ 39.15625 29.25 43.1875 25.515625 \nQ 47.21875 21.78125 47.21875 15.09375 \nQ 47.21875 7.46875 41.1875 3.015625 \nQ 35.15625 -1.421875 24.609375 -1.421875 \nQ 20.21875 -1.421875 15.453125 -0.5625 \nQ 10.6875 0.296875 5.421875 2 \nL 5.421875 11.28125 \nQ 10.40625 8.6875 15.234375 7.390625 \nQ 20.0625 6.109375 24.8125 6.109375 \nQ 31.15625 6.109375 34.5625 8.28125 \nQ 37.984375 10.453125 37.984375 14.40625 \nQ 37.984375 18.0625 35.515625 20.015625 \nQ 33.0625 21.96875 24.703125 23.78125 \nL 21.578125 24.515625 \nQ 13.234375 26.265625 9.515625 29.90625 \nQ 5.8125 33.546875 5.8125 39.890625 \nQ 5.8125 47.609375 11.28125 51.796875 \nQ 16.75 56 26.8125 56 \nQ 31.78125 56 36.171875 55.265625 \nQ 40.578125 54.546875 44.28125 53.078125 \nz\n\" id=\"DejaVuSans-115\"/>\n     </defs>\n     <g transform=\"translate(156.198438 252.916562)scale(0.1 -0.1)\">\n      <use xlink:href=\"#DejaVuSans-84\"/>\n      <use x=\"46.333984\" xlink:href=\"#DejaVuSans-114\"/>\n      <use x=\"87.447266\" xlink:href=\"#DejaVuSans-97\"/>\n      <use x=\"148.726562\" xlink:href=\"#DejaVuSans-105\"/>\n      <use x=\"176.509766\" xlink:href=\"#DejaVuSans-110\"/>\n      <use x=\"239.888672\" xlink:href=\"#DejaVuSans-105\"/>\n      <use x=\"267.671875\" xlink:href=\"#DejaVuSans-110\"/>\n      <use x=\"331.050781\" xlink:href=\"#DejaVuSans-103\"/>\n      <use x=\"394.527344\" xlink:href=\"#DejaVuSans-32\"/>\n      <use x=\"426.314453\" xlink:href=\"#DejaVuSans-101\"/>\n      <use x=\"486.087891\" xlink:href=\"#DejaVuSans-120\"/>\n      <use x=\"545.267578\" xlink:href=\"#DejaVuSans-97\"/>\n      <use x=\"606.546875\" xlink:href=\"#DejaVuSans-109\"/>\n      <use x=\"703.958984\" xlink:href=\"#DejaVuSans-112\"/>\n      <use x=\"767.435547\" xlink:href=\"#DejaVuSans-108\"/>\n      <use x=\"795.21875\" xlink:href=\"#DejaVuSans-101\"/>\n      <use x=\"856.742188\" xlink:href=\"#DejaVuSans-115\"/>\n     </g>\n    </g>\n   </g>\n   <g id=\"matplotlib.axis_2\">\n    <g id=\"ytick_1\">\n     <g id=\"line2d_9\">\n      <defs>\n       <path d=\"M 0 0 \nL -3.5 0 \n\" id=\"mab017aaf6a\" style=\"stroke:#000000;stroke-width:0.8;\"/>\n      </defs>\n      <g>\n       <use style=\"stroke:#000000;stroke-width:0.8;\" x=\"34.240625\" xlink:href=\"#mab017aaf6a\" y=\"215.291672\"/>\n      </g>\n     </g>\n     <g id=\"text_10\">\n      <!-- 0 -->\n      <g transform=\"translate(20.878125 219.090891)scale(0.1 -0.1)\">\n       <use xlink:href=\"#DejaVuSans-48\"/>\n      </g>\n     </g>\n    </g>\n    <g id=\"ytick_2\">\n     <g id=\"line2d_10\">\n      <g>\n       <use style=\"stroke:#000000;stroke-width:0.8;\" x=\"34.240625\" xlink:href=\"#mab017aaf6a\" y=\"171.454273\"/>\n      </g>\n     </g>\n     <g id=\"text_11\">\n      <!-- 1 -->\n      <g transform=\"translate(20.878125 175.253492)scale(0.1 -0.1)\">\n       <use xlink:href=\"#DejaVuSans-49\"/>\n      </g>\n     </g>\n    </g>\n    <g id=\"ytick_3\">\n     <g id=\"line2d_11\">\n      <g>\n       <use style=\"stroke:#000000;stroke-width:0.8;\" x=\"34.240625\" xlink:href=\"#mab017aaf6a\" y=\"127.616875\"/>\n      </g>\n     </g>\n     <g id=\"text_12\">\n      <!-- 2 -->\n      <g transform=\"translate(20.878125 131.416094)scale(0.1 -0.1)\">\n       <use xlink:href=\"#DejaVuSans-50\"/>\n      </g>\n     </g>\n    </g>\n    <g id=\"ytick_4\">\n     <g id=\"line2d_12\">\n      <g>\n       <use style=\"stroke:#000000;stroke-width:0.8;\" x=\"34.240625\" xlink:href=\"#mab017aaf6a\" y=\"83.779476\"/>\n      </g>\n     </g>\n     <g id=\"text_13\">\n      <!-- 3 -->\n      <defs>\n       <path d=\"M 40.578125 39.3125 \nQ 47.65625 37.796875 51.625 33 \nQ 55.609375 28.21875 55.609375 21.1875 \nQ 55.609375 10.40625 48.1875 4.484375 \nQ 40.765625 -1.421875 27.09375 -1.421875 \nQ 22.515625 -1.421875 17.65625 -0.515625 \nQ 12.796875 0.390625 7.625 2.203125 \nL 7.625 11.71875 \nQ 11.71875 9.328125 16.59375 8.109375 \nQ 21.484375 6.890625 26.8125 6.890625 \nQ 36.078125 6.890625 40.9375 10.546875 \nQ 45.796875 14.203125 45.796875 21.1875 \nQ 45.796875 27.640625 41.28125 31.265625 \nQ 36.765625 34.90625 28.71875 34.90625 \nL 20.21875 34.90625 \nL 20.21875 43.015625 \nL 29.109375 43.015625 \nQ 36.375 43.015625 40.234375 45.921875 \nQ 44.09375 48.828125 44.09375 54.296875 \nQ 44.09375 59.90625 40.109375 62.90625 \nQ 36.140625 65.921875 28.71875 65.921875 \nQ 24.65625 65.921875 20.015625 65.03125 \nQ 15.375 64.15625 9.8125 62.3125 \nL 9.8125 71.09375 \nQ 15.4375 72.65625 20.34375 73.4375 \nQ 25.25 74.21875 29.59375 74.21875 \nQ 40.828125 74.21875 47.359375 69.109375 \nQ 53.90625 64.015625 53.90625 55.328125 \nQ 53.90625 49.265625 50.4375 45.09375 \nQ 46.96875 40.921875 40.578125 39.3125 \nz\n\" id=\"DejaVuSans-51\"/>\n      </defs>\n      <g transform=\"translate(20.878125 87.578695)scale(0.1 -0.1)\">\n       <use xlink:href=\"#DejaVuSans-51\"/>\n      </g>\n     </g>\n    </g>\n    <g id=\"ytick_5\">\n     <g id=\"line2d_13\">\n      <g>\n       <use style=\"stroke:#000000;stroke-width:0.8;\" x=\"34.240625\" xlink:href=\"#mab017aaf6a\" y=\"39.942078\"/>\n      </g>\n     </g>\n     <g id=\"text_14\">\n      <!-- 4 -->\n      <g transform=\"translate(20.878125 43.741296)scale(0.1 -0.1)\">\n       <use xlink:href=\"#DejaVuSans-52\"/>\n      </g>\n     </g>\n    </g>\n    <g id=\"text_15\">\n     <!-- Loss -->\n     <defs>\n      <path d=\"M 9.8125 72.90625 \nL 19.671875 72.90625 \nL 19.671875 8.296875 \nL 55.171875 8.296875 \nL 55.171875 0 \nL 9.8125 0 \nz\n\" id=\"DejaVuSans-76\"/>\n      <path d=\"M 30.609375 48.390625 \nQ 23.390625 48.390625 19.1875 42.75 \nQ 14.984375 37.109375 14.984375 27.296875 \nQ 14.984375 17.484375 19.15625 11.84375 \nQ 23.34375 6.203125 30.609375 6.203125 \nQ 37.796875 6.203125 41.984375 11.859375 \nQ 46.1875 17.53125 46.1875 27.296875 \nQ 46.1875 37.015625 41.984375 42.703125 \nQ 37.796875 48.390625 30.609375 48.390625 \nz\nM 30.609375 56 \nQ 42.328125 56 49.015625 48.375 \nQ 55.71875 40.765625 55.71875 27.296875 \nQ 55.71875 13.875 49.015625 6.21875 \nQ 42.328125 -1.421875 30.609375 -1.421875 \nQ 18.84375 -1.421875 12.171875 6.21875 \nQ 5.515625 13.875 5.515625 27.296875 \nQ 5.515625 40.765625 12.171875 48.375 \nQ 18.84375 56 30.609375 56 \nz\n\" id=\"DejaVuSans-111\"/>\n     </defs>\n     <g transform=\"translate(14.798437 126.887187)rotate(-90)scale(0.1 -0.1)\">\n      <use xlink:href=\"#DejaVuSans-76\"/>\n      <use x=\"53.962891\" xlink:href=\"#DejaVuSans-111\"/>\n      <use x=\"115.144531\" xlink:href=\"#DejaVuSans-115\"/>\n      <use x=\"167.244141\" xlink:href=\"#DejaVuSans-115\"/>\n     </g>\n    </g>\n   </g>\n   <g id=\"line2d_14\">\n    <path clip-path=\"url(#pc517c22aab)\" d=\"M 49.458807 211.370811 \nL 100.25576 213.729151 \nL 184.708307 214.315096 \nL 269.160855 214.756364 \nL 353.822443 214.120506 \n\" style=\"fill:none;stroke:#ff0000;stroke-linecap:square;stroke-width:1.5;\"/>\n    <defs>\n     <path d=\"M 0 3 \nC 0.795609 3 1.55874 2.683901 2.12132 2.12132 \nC 2.683901 1.55874 3 0.795609 3 0 \nC 3 -0.795609 2.683901 -1.55874 2.12132 -2.12132 \nC 1.55874 -2.683901 0.795609 -3 0 -3 \nC -0.795609 -3 -1.55874 -2.683901 -2.12132 -2.12132 \nC -2.683901 -1.55874 -3 -0.795609 -3 0 \nC -3 0.795609 -2.683901 1.55874 -2.12132 2.12132 \nC -1.55874 2.683901 -0.795609 3 0 3 \nz\n\" id=\"m7fd603855a\" style=\"stroke:#ff0000;\"/>\n    </defs>\n    <g clip-path=\"url(#pc517c22aab)\">\n     <use style=\"fill:#ff0000;stroke:#ff0000;\" x=\"49.458807\" xlink:href=\"#m7fd603855a\" y=\"211.370811\"/>\n     <use style=\"fill:#ff0000;stroke:#ff0000;\" x=\"100.25576\" xlink:href=\"#m7fd603855a\" y=\"213.729151\"/>\n     <use style=\"fill:#ff0000;stroke:#ff0000;\" x=\"184.708307\" xlink:href=\"#m7fd603855a\" y=\"214.315096\"/>\n     <use style=\"fill:#ff0000;stroke:#ff0000;\" x=\"269.160855\" xlink:href=\"#m7fd603855a\" y=\"214.756364\"/>\n     <use style=\"fill:#ff0000;stroke:#ff0000;\" x=\"353.822443\" xlink:href=\"#m7fd603855a\" y=\"214.120506\"/>\n    </g>\n   </g>\n   <g id=\"line2d_15\">\n    <path clip-path=\"url(#pc517c22aab)\" d=\"M 49.458807 17.083636 \nL 100.25576 140.869456 \nL 184.708307 181.492112 \nL 269.160855 191.551857 \nL 353.822443 199.696606 \n\" style=\"fill:none;stroke:#008000;stroke-linecap:square;stroke-width:1.5;\"/>\n    <defs>\n     <path d=\"M 0 3 \nC 0.795609 3 1.55874 2.683901 2.12132 2.12132 \nC 2.683901 1.55874 3 0.795609 3 0 \nC 3 -0.795609 2.683901 -1.55874 2.12132 -2.12132 \nC 1.55874 -2.683901 0.795609 -3 0 -3 \nC -0.795609 -3 -1.55874 -2.683901 -2.12132 -2.12132 \nC -2.683901 -1.55874 -3 -0.795609 -3 0 \nC -3 0.795609 -2.683901 1.55874 -2.12132 2.12132 \nC -1.55874 2.683901 -0.795609 3 0 3 \nz\n\" id=\"mf1084a2cf4\" style=\"stroke:#008000;\"/>\n    </defs>\n    <g clip-path=\"url(#pc517c22aab)\">\n     <use style=\"fill:#008000;stroke:#008000;\" x=\"49.458807\" xlink:href=\"#mf1084a2cf4\" y=\"17.083636\"/>\n     <use style=\"fill:#008000;stroke:#008000;\" x=\"100.25576\" xlink:href=\"#mf1084a2cf4\" y=\"140.869456\"/>\n     <use style=\"fill:#008000;stroke:#008000;\" x=\"184.708307\" xlink:href=\"#mf1084a2cf4\" y=\"181.492112\"/>\n     <use style=\"fill:#008000;stroke:#008000;\" x=\"269.160855\" xlink:href=\"#mf1084a2cf4\" y=\"191.551857\"/>\n     <use style=\"fill:#008000;stroke:#008000;\" x=\"353.822443\" xlink:href=\"#mf1084a2cf4\" y=\"199.696606\"/>\n    </g>\n   </g>\n   <g id=\"patch_3\">\n    <path d=\"M 34.240625 224.64 \nL 34.240625 7.2 \n\" style=\"fill:none;stroke:#000000;stroke-linecap:square;stroke-linejoin:miter;stroke-width:0.8;\"/>\n   </g>\n   <g id=\"patch_4\">\n    <path d=\"M 369.040625 224.64 \nL 369.040625 7.2 \n\" style=\"fill:none;stroke:#000000;stroke-linecap:square;stroke-linejoin:miter;stroke-width:0.8;\"/>\n   </g>\n   <g id=\"patch_5\">\n    <path d=\"M 34.240625 224.64 \nL 369.040625 224.64 \n\" style=\"fill:none;stroke:#000000;stroke-linecap:square;stroke-linejoin:miter;stroke-width:0.8;\"/>\n   </g>\n   <g id=\"patch_6\">\n    <path d=\"M 34.240625 7.2 \nL 369.040625 7.2 \n\" style=\"fill:none;stroke:#000000;stroke-linecap:square;stroke-linejoin:miter;stroke-width:0.8;\"/>\n   </g>\n   <g id=\"legend_1\">\n    <g id=\"patch_7\">\n     <path d=\"M 250.054688 44.55625 \nL 362.040625 44.55625 \nQ 364.040625 44.55625 364.040625 42.55625 \nL 364.040625 14.2 \nQ 364.040625 12.2 362.040625 12.2 \nL 250.054688 12.2 \nQ 248.054688 12.2 248.054688 14.2 \nL 248.054688 42.55625 \nQ 248.054688 44.55625 250.054688 44.55625 \nz\n\" style=\"fill:#ffffff;opacity:0.8;stroke:#cccccc;stroke-linejoin:miter;\"/>\n    </g>\n    <g id=\"line2d_16\">\n     <path d=\"M 252.054688 20.298437 \nL 272.054688 20.298437 \n\" style=\"fill:none;stroke:#ff0000;stroke-linecap:square;stroke-width:1.5;\"/>\n    </g>\n    <g id=\"line2d_17\">\n     <g>\n      <use style=\"fill:#ff0000;stroke:#ff0000;\" x=\"262.054688\" xlink:href=\"#m7fd603855a\" y=\"20.298437\"/>\n     </g>\n    </g>\n    <g id=\"text_16\">\n     <!-- Training -->\n     <g transform=\"translate(280.054688 23.798437)scale(0.1 -0.1)\">\n      <use xlink:href=\"#DejaVuSans-84\"/>\n      <use x=\"46.333984\" xlink:href=\"#DejaVuSans-114\"/>\n      <use x=\"87.447266\" xlink:href=\"#DejaVuSans-97\"/>\n      <use x=\"148.726562\" xlink:href=\"#DejaVuSans-105\"/>\n      <use x=\"176.509766\" xlink:href=\"#DejaVuSans-110\"/>\n      <use x=\"239.888672\" xlink:href=\"#DejaVuSans-105\"/>\n      <use x=\"267.671875\" xlink:href=\"#DejaVuSans-110\"/>\n      <use x=\"331.050781\" xlink:href=\"#DejaVuSans-103\"/>\n     </g>\n    </g>\n    <g id=\"line2d_18\">\n     <path d=\"M 252.054688 34.976562 \nL 272.054688 34.976562 \n\" style=\"fill:none;stroke:#008000;stroke-linecap:square;stroke-width:1.5;\"/>\n    </g>\n    <g id=\"line2d_19\">\n     <g>\n      <use style=\"fill:#008000;stroke:#008000;\" x=\"262.054688\" xlink:href=\"#mf1084a2cf4\" y=\"34.976562\"/>\n     </g>\n    </g>\n    <g id=\"text_17\">\n     <!-- Cross-validation -->\n     <defs>\n      <path d=\"M 64.40625 67.28125 \nL 64.40625 56.890625 \nQ 59.421875 61.53125 53.78125 63.8125 \nQ 48.140625 66.109375 41.796875 66.109375 \nQ 29.296875 66.109375 22.65625 58.46875 \nQ 16.015625 50.828125 16.015625 36.375 \nQ 16.015625 21.96875 22.65625 14.328125 \nQ 29.296875 6.6875 41.796875 6.6875 \nQ 48.140625 6.6875 53.78125 8.984375 \nQ 59.421875 11.28125 64.40625 15.921875 \nL 64.40625 5.609375 \nQ 59.234375 2.09375 53.4375 0.328125 \nQ 47.65625 -1.421875 41.21875 -1.421875 \nQ 24.65625 -1.421875 15.125 8.703125 \nQ 5.609375 18.84375 5.609375 36.375 \nQ 5.609375 53.953125 15.125 64.078125 \nQ 24.65625 74.21875 41.21875 74.21875 \nQ 47.75 74.21875 53.53125 72.484375 \nQ 59.328125 70.75 64.40625 67.28125 \nz\n\" id=\"DejaVuSans-67\"/>\n      <path d=\"M 4.890625 31.390625 \nL 31.203125 31.390625 \nL 31.203125 23.390625 \nL 4.890625 23.390625 \nz\n\" id=\"DejaVuSans-45\"/>\n      <path d=\"M 2.984375 54.6875 \nL 12.5 54.6875 \nL 29.59375 8.796875 \nL 46.6875 54.6875 \nL 56.203125 54.6875 \nL 35.6875 0 \nL 23.484375 0 \nz\n\" id=\"DejaVuSans-118\"/>\n      <path d=\"M 45.40625 46.390625 \nL 45.40625 75.984375 \nL 54.390625 75.984375 \nL 54.390625 0 \nL 45.40625 0 \nL 45.40625 8.203125 \nQ 42.578125 3.328125 38.25 0.953125 \nQ 33.9375 -1.421875 27.875 -1.421875 \nQ 17.96875 -1.421875 11.734375 6.484375 \nQ 5.515625 14.40625 5.515625 27.296875 \nQ 5.515625 40.1875 11.734375 48.09375 \nQ 17.96875 56 27.875 56 \nQ 33.9375 56 38.25 53.625 \nQ 42.578125 51.265625 45.40625 46.390625 \nz\nM 14.796875 27.296875 \nQ 14.796875 17.390625 18.875 11.75 \nQ 22.953125 6.109375 30.078125 6.109375 \nQ 37.203125 6.109375 41.296875 11.75 \nQ 45.40625 17.390625 45.40625 27.296875 \nQ 45.40625 37.203125 41.296875 42.84375 \nQ 37.203125 48.484375 30.078125 48.484375 \nQ 22.953125 48.484375 18.875 42.84375 \nQ 14.796875 37.203125 14.796875 27.296875 \nz\n\" id=\"DejaVuSans-100\"/>\n      <path d=\"M 18.3125 70.21875 \nL 18.3125 54.6875 \nL 36.8125 54.6875 \nL 36.8125 47.703125 \nL 18.3125 47.703125 \nL 18.3125 18.015625 \nQ 18.3125 11.328125 20.140625 9.421875 \nQ 21.96875 7.515625 27.59375 7.515625 \nL 36.8125 7.515625 \nL 36.8125 0 \nL 27.59375 0 \nQ 17.1875 0 13.234375 3.875 \nQ 9.28125 7.765625 9.28125 18.015625 \nL 9.28125 47.703125 \nL 2.6875 47.703125 \nL 2.6875 54.6875 \nL 9.28125 54.6875 \nL 9.28125 70.21875 \nz\n\" id=\"DejaVuSans-116\"/>\n     </defs>\n     <g transform=\"translate(280.054688 38.476562)scale(0.1 -0.1)\">\n      <use xlink:href=\"#DejaVuSans-67\"/>\n      <use x=\"69.824219\" xlink:href=\"#DejaVuSans-114\"/>\n      <use x=\"108.6875\" xlink:href=\"#DejaVuSans-111\"/>\n      <use x=\"169.869141\" xlink:href=\"#DejaVuSans-115\"/>\n      <use x=\"221.96875\" xlink:href=\"#DejaVuSans-115\"/>\n      <use x=\"274.068359\" xlink:href=\"#DejaVuSans-45\"/>\n      <use x=\"307.527344\" xlink:href=\"#DejaVuSans-118\"/>\n      <use x=\"366.707031\" xlink:href=\"#DejaVuSans-97\"/>\n      <use x=\"427.986328\" xlink:href=\"#DejaVuSans-108\"/>\n      <use x=\"455.769531\" xlink:href=\"#DejaVuSans-105\"/>\n      <use x=\"483.552734\" xlink:href=\"#DejaVuSans-100\"/>\n      <use x=\"547.029297\" xlink:href=\"#DejaVuSans-97\"/>\n      <use x=\"608.308594\" xlink:href=\"#DejaVuSans-116\"/>\n      <use x=\"647.517578\" xlink:href=\"#DejaVuSans-105\"/>\n      <use x=\"675.300781\" xlink:href=\"#DejaVuSans-111\"/>\n      <use x=\"736.482422\" xlink:href=\"#DejaVuSans-110\"/>\n     </g>\n    </g>\n   </g>\n  </g>\n </g>\n <defs>\n  <clipPath id=\"pc517c22aab\">\n   <rect height=\"217.44\" width=\"334.8\" x=\"34.240625\" y=\"7.2\"/>\n  </clipPath>\n </defs>\n</svg>\n"
          },
          "metadata": {
            "tags": [],
            "needs_background": "light"
          }
        }
      ]
    },
    {
      "cell_type": "code",
      "metadata": {
        "id": "zs0AY86ccYdI"
      },
      "source": [
        "param_range = np.logspace(-6, -2.3, 5)"
      ],
      "execution_count": 260,
      "outputs": []
    },
    {
      "cell_type": "code",
      "metadata": {
        "id": "5pqfT6G4cPR3"
      },
      "source": [
        "train_loss, test_loss = validation_curve(\n",
        "    SVC(), X, y, param_name='gamma',param_range=param_range, \n",
        "    cv=10, scoring='neg_mean_squared_error'\n",
        ")\n",
        "train_loss_mean = -np.mean(train_loss, axis=1)\n",
        "test_loss_mean = -np.mean(test_loss, axis=1)"
      ],
      "execution_count": 261,
      "outputs": []
    },
    {
      "cell_type": "code",
      "metadata": {
        "colab": {
          "base_uri": "https://localhost:8080/",
          "height": 387
        },
        "id": "BnImas_mdAUo",
        "outputId": "2164a999-12ba-452f-d024-8ef36e422e40"
      },
      "source": [
        "plt.plot(param_range, train_loss_mean,'o-',color='r',\n",
        "         label='Training')\n",
        "plt.plot(param_range, test_loss_mean,'o-',color='g',\n",
        "         label=\"Cross-validation\")\n",
        "plt.xlabel(\"gamma\")\n",
        "plt.ylabel(\"Loss\")\n",
        "plt.legend(loc=\"best\")"
      ],
      "execution_count": 263,
      "outputs": [
        {
          "output_type": "execute_result",
          "data": {
            "text/plain": [
              "<matplotlib.legend.Legend at 0x7f933a47a550>"
            ]
          },
          "metadata": {
            "tags": []
          },
          "execution_count": 263
        },
        {
          "output_type": "display_data",
          "data": {
            "text/plain": [
              "<Figure size 432x288 with 1 Axes>"
            ],
            "image/svg+xml": "<?xml version=\"1.0\" encoding=\"utf-8\" standalone=\"no\"?>\n<!DOCTYPE svg PUBLIC \"-//W3C//DTD SVG 1.1//EN\"\n  \"http://www.w3.org/Graphics/SVG/1.1/DTD/svg11.dtd\">\n<!-- Created with matplotlib (https://matplotlib.org/) -->\n<svg height=\"262.19625pt\" version=\"1.1\" viewBox=\"0 0 382.603125 262.19625\" width=\"382.603125pt\" xmlns=\"http://www.w3.org/2000/svg\" xmlns:xlink=\"http://www.w3.org/1999/xlink\">\n <defs>\n  <style type=\"text/css\">\n*{stroke-linecap:butt;stroke-linejoin:round;}\n  </style>\n </defs>\n <g id=\"figure_1\">\n  <g id=\"patch_1\">\n   <path d=\"M 0 262.19625 \nL 382.603125 262.19625 \nL 382.603125 0 \nL 0 0 \nz\n\" style=\"fill:none;\"/>\n  </g>\n  <g id=\"axes_1\">\n   <g id=\"patch_2\">\n    <path d=\"M 40.603125 224.64 \nL 375.403125 224.64 \nL 375.403125 7.2 \nL 40.603125 7.2 \nz\n\" style=\"fill:#ffffff;\"/>\n   </g>\n   <g id=\"matplotlib.axis_1\">\n    <g id=\"xtick_1\">\n     <g id=\"line2d_1\">\n      <defs>\n       <path d=\"M 0 0 \nL 0 3.5 \n\" id=\"m7ac1441411\" style=\"stroke:#000000;stroke-width:0.8;\"/>\n      </defs>\n      <g>\n       <use style=\"stroke:#000000;stroke-width:0.8;\" x=\"55.760566\" xlink:href=\"#m7ac1441411\" y=\"224.64\"/>\n      </g>\n     </g>\n     <g id=\"text_1\">\n      <!-- 0.000 -->\n      <defs>\n       <path d=\"M 31.78125 66.40625 \nQ 24.171875 66.40625 20.328125 58.90625 \nQ 16.5 51.421875 16.5 36.375 \nQ 16.5 21.390625 20.328125 13.890625 \nQ 24.171875 6.390625 31.78125 6.390625 \nQ 39.453125 6.390625 43.28125 13.890625 \nQ 47.125 21.390625 47.125 36.375 \nQ 47.125 51.421875 43.28125 58.90625 \nQ 39.453125 66.40625 31.78125 66.40625 \nz\nM 31.78125 74.21875 \nQ 44.046875 74.21875 50.515625 64.515625 \nQ 56.984375 54.828125 56.984375 36.375 \nQ 56.984375 17.96875 50.515625 8.265625 \nQ 44.046875 -1.421875 31.78125 -1.421875 \nQ 19.53125 -1.421875 13.0625 8.265625 \nQ 6.59375 17.96875 6.59375 36.375 \nQ 6.59375 54.828125 13.0625 64.515625 \nQ 19.53125 74.21875 31.78125 74.21875 \nz\n\" id=\"DejaVuSans-48\"/>\n       <path d=\"M 10.6875 12.40625 \nL 21 12.40625 \nL 21 0 \nL 10.6875 0 \nz\n\" id=\"DejaVuSans-46\"/>\n      </defs>\n      <g transform=\"translate(41.446504 239.238438)scale(0.1 -0.1)\">\n       <use xlink:href=\"#DejaVuSans-48\"/>\n       <use x=\"63.623047\" xlink:href=\"#DejaVuSans-46\"/>\n       <use x=\"95.410156\" xlink:href=\"#DejaVuSans-48\"/>\n       <use x=\"159.033203\" xlink:href=\"#DejaVuSans-48\"/>\n       <use x=\"222.65625\" xlink:href=\"#DejaVuSans-48\"/>\n      </g>\n     </g>\n    </g>\n    <g id=\"xtick_2\">\n     <g id=\"line2d_2\">\n      <g>\n       <use style=\"stroke:#000000;stroke-width:0.8;\" x=\"116.501215\" xlink:href=\"#m7ac1441411\" y=\"224.64\"/>\n      </g>\n     </g>\n     <g id=\"text_2\">\n      <!-- 0.001 -->\n      <defs>\n       <path d=\"M 12.40625 8.296875 \nL 28.515625 8.296875 \nL 28.515625 63.921875 \nL 10.984375 60.40625 \nL 10.984375 69.390625 \nL 28.421875 72.90625 \nL 38.28125 72.90625 \nL 38.28125 8.296875 \nL 54.390625 8.296875 \nL 54.390625 0 \nL 12.40625 0 \nz\n\" id=\"DejaVuSans-49\"/>\n      </defs>\n      <g transform=\"translate(102.187152 239.238438)scale(0.1 -0.1)\">\n       <use xlink:href=\"#DejaVuSans-48\"/>\n       <use x=\"63.623047\" xlink:href=\"#DejaVuSans-46\"/>\n       <use x=\"95.410156\" xlink:href=\"#DejaVuSans-48\"/>\n       <use x=\"159.033203\" xlink:href=\"#DejaVuSans-48\"/>\n       <use x=\"222.65625\" xlink:href=\"#DejaVuSans-49\"/>\n      </g>\n     </g>\n    </g>\n    <g id=\"xtick_3\">\n     <g id=\"line2d_3\">\n      <g>\n       <use style=\"stroke:#000000;stroke-width:0.8;\" x=\"177.241864\" xlink:href=\"#m7ac1441411\" y=\"224.64\"/>\n      </g>\n     </g>\n     <g id=\"text_3\">\n      <!-- 0.002 -->\n      <defs>\n       <path d=\"M 19.1875 8.296875 \nL 53.609375 8.296875 \nL 53.609375 0 \nL 7.328125 0 \nL 7.328125 8.296875 \nQ 12.9375 14.109375 22.625 23.890625 \nQ 32.328125 33.6875 34.8125 36.53125 \nQ 39.546875 41.84375 41.421875 45.53125 \nQ 43.3125 49.21875 43.3125 52.78125 \nQ 43.3125 58.59375 39.234375 62.25 \nQ 35.15625 65.921875 28.609375 65.921875 \nQ 23.96875 65.921875 18.8125 64.3125 \nQ 13.671875 62.703125 7.8125 59.421875 \nL 7.8125 69.390625 \nQ 13.765625 71.78125 18.9375 73 \nQ 24.125 74.21875 28.421875 74.21875 \nQ 39.75 74.21875 46.484375 68.546875 \nQ 53.21875 62.890625 53.21875 53.421875 \nQ 53.21875 48.921875 51.53125 44.890625 \nQ 49.859375 40.875 45.40625 35.40625 \nQ 44.1875 33.984375 37.640625 27.21875 \nQ 31.109375 20.453125 19.1875 8.296875 \nz\n\" id=\"DejaVuSans-50\"/>\n      </defs>\n      <g transform=\"translate(162.927801 239.238438)scale(0.1 -0.1)\">\n       <use xlink:href=\"#DejaVuSans-48\"/>\n       <use x=\"63.623047\" xlink:href=\"#DejaVuSans-46\"/>\n       <use x=\"95.410156\" xlink:href=\"#DejaVuSans-48\"/>\n       <use x=\"159.033203\" xlink:href=\"#DejaVuSans-48\"/>\n       <use x=\"222.65625\" xlink:href=\"#DejaVuSans-50\"/>\n      </g>\n     </g>\n    </g>\n    <g id=\"xtick_4\">\n     <g id=\"line2d_4\">\n      <g>\n       <use style=\"stroke:#000000;stroke-width:0.8;\" x=\"237.982512\" xlink:href=\"#m7ac1441411\" y=\"224.64\"/>\n      </g>\n     </g>\n     <g id=\"text_4\">\n      <!-- 0.003 -->\n      <defs>\n       <path d=\"M 40.578125 39.3125 \nQ 47.65625 37.796875 51.625 33 \nQ 55.609375 28.21875 55.609375 21.1875 \nQ 55.609375 10.40625 48.1875 4.484375 \nQ 40.765625 -1.421875 27.09375 -1.421875 \nQ 22.515625 -1.421875 17.65625 -0.515625 \nQ 12.796875 0.390625 7.625 2.203125 \nL 7.625 11.71875 \nQ 11.71875 9.328125 16.59375 8.109375 \nQ 21.484375 6.890625 26.8125 6.890625 \nQ 36.078125 6.890625 40.9375 10.546875 \nQ 45.796875 14.203125 45.796875 21.1875 \nQ 45.796875 27.640625 41.28125 31.265625 \nQ 36.765625 34.90625 28.71875 34.90625 \nL 20.21875 34.90625 \nL 20.21875 43.015625 \nL 29.109375 43.015625 \nQ 36.375 43.015625 40.234375 45.921875 \nQ 44.09375 48.828125 44.09375 54.296875 \nQ 44.09375 59.90625 40.109375 62.90625 \nQ 36.140625 65.921875 28.71875 65.921875 \nQ 24.65625 65.921875 20.015625 65.03125 \nQ 15.375 64.15625 9.8125 62.3125 \nL 9.8125 71.09375 \nQ 15.4375 72.65625 20.34375 73.4375 \nQ 25.25 74.21875 29.59375 74.21875 \nQ 40.828125 74.21875 47.359375 69.109375 \nQ 53.90625 64.015625 53.90625 55.328125 \nQ 53.90625 49.265625 50.4375 45.09375 \nQ 46.96875 40.921875 40.578125 39.3125 \nz\n\" id=\"DejaVuSans-51\"/>\n      </defs>\n      <g transform=\"translate(223.66845 239.238438)scale(0.1 -0.1)\">\n       <use xlink:href=\"#DejaVuSans-48\"/>\n       <use x=\"63.623047\" xlink:href=\"#DejaVuSans-46\"/>\n       <use x=\"95.410156\" xlink:href=\"#DejaVuSans-48\"/>\n       <use x=\"159.033203\" xlink:href=\"#DejaVuSans-48\"/>\n       <use x=\"222.65625\" xlink:href=\"#DejaVuSans-51\"/>\n      </g>\n     </g>\n    </g>\n    <g id=\"xtick_5\">\n     <g id=\"line2d_5\">\n      <g>\n       <use style=\"stroke:#000000;stroke-width:0.8;\" x=\"298.723161\" xlink:href=\"#m7ac1441411\" y=\"224.64\"/>\n      </g>\n     </g>\n     <g id=\"text_5\">\n      <!-- 0.004 -->\n      <defs>\n       <path d=\"M 37.796875 64.3125 \nL 12.890625 25.390625 \nL 37.796875 25.390625 \nz\nM 35.203125 72.90625 \nL 47.609375 72.90625 \nL 47.609375 25.390625 \nL 58.015625 25.390625 \nL 58.015625 17.1875 \nL 47.609375 17.1875 \nL 47.609375 0 \nL 37.796875 0 \nL 37.796875 17.1875 \nL 4.890625 17.1875 \nL 4.890625 26.703125 \nz\n\" id=\"DejaVuSans-52\"/>\n      </defs>\n      <g transform=\"translate(284.409099 239.238438)scale(0.1 -0.1)\">\n       <use xlink:href=\"#DejaVuSans-48\"/>\n       <use x=\"63.623047\" xlink:href=\"#DejaVuSans-46\"/>\n       <use x=\"95.410156\" xlink:href=\"#DejaVuSans-48\"/>\n       <use x=\"159.033203\" xlink:href=\"#DejaVuSans-48\"/>\n       <use x=\"222.65625\" xlink:href=\"#DejaVuSans-52\"/>\n      </g>\n     </g>\n    </g>\n    <g id=\"xtick_6\">\n     <g id=\"line2d_6\">\n      <g>\n       <use style=\"stroke:#000000;stroke-width:0.8;\" x=\"359.46381\" xlink:href=\"#m7ac1441411\" y=\"224.64\"/>\n      </g>\n     </g>\n     <g id=\"text_6\">\n      <!-- 0.005 -->\n      <defs>\n       <path d=\"M 10.796875 72.90625 \nL 49.515625 72.90625 \nL 49.515625 64.59375 \nL 19.828125 64.59375 \nL 19.828125 46.734375 \nQ 21.96875 47.46875 24.109375 47.828125 \nQ 26.265625 48.1875 28.421875 48.1875 \nQ 40.625 48.1875 47.75 41.5 \nQ 54.890625 34.8125 54.890625 23.390625 \nQ 54.890625 11.625 47.5625 5.09375 \nQ 40.234375 -1.421875 26.90625 -1.421875 \nQ 22.3125 -1.421875 17.546875 -0.640625 \nQ 12.796875 0.140625 7.71875 1.703125 \nL 7.71875 11.625 \nQ 12.109375 9.234375 16.796875 8.0625 \nQ 21.484375 6.890625 26.703125 6.890625 \nQ 35.15625 6.890625 40.078125 11.328125 \nQ 45.015625 15.765625 45.015625 23.390625 \nQ 45.015625 31 40.078125 35.4375 \nQ 35.15625 39.890625 26.703125 39.890625 \nQ 22.75 39.890625 18.8125 39.015625 \nQ 14.890625 38.140625 10.796875 36.28125 \nz\n\" id=\"DejaVuSans-53\"/>\n      </defs>\n      <g transform=\"translate(345.149747 239.238438)scale(0.1 -0.1)\">\n       <use xlink:href=\"#DejaVuSans-48\"/>\n       <use x=\"63.623047\" xlink:href=\"#DejaVuSans-46\"/>\n       <use x=\"95.410156\" xlink:href=\"#DejaVuSans-48\"/>\n       <use x=\"159.033203\" xlink:href=\"#DejaVuSans-48\"/>\n       <use x=\"222.65625\" xlink:href=\"#DejaVuSans-53\"/>\n      </g>\n     </g>\n    </g>\n    <g id=\"text_7\">\n     <!-- gamma -->\n     <defs>\n      <path d=\"M 45.40625 27.984375 \nQ 45.40625 37.75 41.375 43.109375 \nQ 37.359375 48.484375 30.078125 48.484375 \nQ 22.859375 48.484375 18.828125 43.109375 \nQ 14.796875 37.75 14.796875 27.984375 \nQ 14.796875 18.265625 18.828125 12.890625 \nQ 22.859375 7.515625 30.078125 7.515625 \nQ 37.359375 7.515625 41.375 12.890625 \nQ 45.40625 18.265625 45.40625 27.984375 \nz\nM 54.390625 6.78125 \nQ 54.390625 -7.171875 48.1875 -13.984375 \nQ 42 -20.796875 29.203125 -20.796875 \nQ 24.46875 -20.796875 20.265625 -20.09375 \nQ 16.0625 -19.390625 12.109375 -17.921875 \nL 12.109375 -9.1875 \nQ 16.0625 -11.328125 19.921875 -12.34375 \nQ 23.78125 -13.375 27.78125 -13.375 \nQ 36.625 -13.375 41.015625 -8.765625 \nQ 45.40625 -4.15625 45.40625 5.171875 \nL 45.40625 9.625 \nQ 42.625 4.78125 38.28125 2.390625 \nQ 33.9375 0 27.875 0 \nQ 17.828125 0 11.671875 7.65625 \nQ 5.515625 15.328125 5.515625 27.984375 \nQ 5.515625 40.671875 11.671875 48.328125 \nQ 17.828125 56 27.875 56 \nQ 33.9375 56 38.28125 53.609375 \nQ 42.625 51.21875 45.40625 46.390625 \nL 45.40625 54.6875 \nL 54.390625 54.6875 \nz\n\" id=\"DejaVuSans-103\"/>\n      <path d=\"M 34.28125 27.484375 \nQ 23.390625 27.484375 19.1875 25 \nQ 14.984375 22.515625 14.984375 16.5 \nQ 14.984375 11.71875 18.140625 8.90625 \nQ 21.296875 6.109375 26.703125 6.109375 \nQ 34.1875 6.109375 38.703125 11.40625 \nQ 43.21875 16.703125 43.21875 25.484375 \nL 43.21875 27.484375 \nz\nM 52.203125 31.203125 \nL 52.203125 0 \nL 43.21875 0 \nL 43.21875 8.296875 \nQ 40.140625 3.328125 35.546875 0.953125 \nQ 30.953125 -1.421875 24.3125 -1.421875 \nQ 15.921875 -1.421875 10.953125 3.296875 \nQ 6 8.015625 6 15.921875 \nQ 6 25.140625 12.171875 29.828125 \nQ 18.359375 34.515625 30.609375 34.515625 \nL 43.21875 34.515625 \nL 43.21875 35.40625 \nQ 43.21875 41.609375 39.140625 45 \nQ 35.0625 48.390625 27.6875 48.390625 \nQ 23 48.390625 18.546875 47.265625 \nQ 14.109375 46.140625 10.015625 43.890625 \nL 10.015625 52.203125 \nQ 14.9375 54.109375 19.578125 55.046875 \nQ 24.21875 56 28.609375 56 \nQ 40.484375 56 46.34375 49.84375 \nQ 52.203125 43.703125 52.203125 31.203125 \nz\n\" id=\"DejaVuSans-97\"/>\n      <path d=\"M 52 44.1875 \nQ 55.375 50.25 60.0625 53.125 \nQ 64.75 56 71.09375 56 \nQ 79.640625 56 84.28125 50.015625 \nQ 88.921875 44.046875 88.921875 33.015625 \nL 88.921875 0 \nL 79.890625 0 \nL 79.890625 32.71875 \nQ 79.890625 40.578125 77.09375 44.375 \nQ 74.3125 48.1875 68.609375 48.1875 \nQ 61.625 48.1875 57.5625 43.546875 \nQ 53.515625 38.921875 53.515625 30.90625 \nL 53.515625 0 \nL 44.484375 0 \nL 44.484375 32.71875 \nQ 44.484375 40.625 41.703125 44.40625 \nQ 38.921875 48.1875 33.109375 48.1875 \nQ 26.21875 48.1875 22.15625 43.53125 \nQ 18.109375 38.875 18.109375 30.90625 \nL 18.109375 0 \nL 9.078125 0 \nL 9.078125 54.6875 \nL 18.109375 54.6875 \nL 18.109375 46.1875 \nQ 21.1875 51.21875 25.484375 53.609375 \nQ 29.78125 56 35.6875 56 \nQ 41.65625 56 45.828125 52.96875 \nQ 50 49.953125 52 44.1875 \nz\n\" id=\"DejaVuSans-109\"/>\n     </defs>\n     <g transform=\"translate(188.960156 252.916563)scale(0.1 -0.1)\">\n      <use xlink:href=\"#DejaVuSans-103\"/>\n      <use x=\"63.476562\" xlink:href=\"#DejaVuSans-97\"/>\n      <use x=\"124.755859\" xlink:href=\"#DejaVuSans-109\"/>\n      <use x=\"222.167969\" xlink:href=\"#DejaVuSans-109\"/>\n      <use x=\"319.580078\" xlink:href=\"#DejaVuSans-97\"/>\n     </g>\n    </g>\n   </g>\n   <g id=\"matplotlib.axis_2\">\n    <g id=\"ytick_1\">\n     <g id=\"line2d_7\">\n      <defs>\n       <path d=\"M 0 0 \nL -3.5 0 \n\" id=\"mfe4b369590\" style=\"stroke:#000000;stroke-width:0.8;\"/>\n      </defs>\n      <g>\n       <use style=\"stroke:#000000;stroke-width:0.8;\" x=\"40.603125\" xlink:href=\"#mfe4b369590\" y=\"214.756364\"/>\n      </g>\n     </g>\n     <g id=\"text_8\">\n      <!-- 0 -->\n      <g transform=\"translate(27.240625 218.555582)scale(0.1 -0.1)\">\n       <use xlink:href=\"#DejaVuSans-48\"/>\n      </g>\n     </g>\n    </g>\n    <g id=\"ytick_2\">\n     <g id=\"line2d_8\">\n      <g>\n       <use style=\"stroke:#000000;stroke-width:0.8;\" x=\"40.603125\" xlink:href=\"#mfe4b369590\" y=\"177.794499\"/>\n      </g>\n     </g>\n     <g id=\"text_9\">\n      <!-- 2 -->\n      <g transform=\"translate(27.240625 181.593718)scale(0.1 -0.1)\">\n       <use xlink:href=\"#DejaVuSans-50\"/>\n      </g>\n     </g>\n    </g>\n    <g id=\"ytick_3\">\n     <g id=\"line2d_9\">\n      <g>\n       <use style=\"stroke:#000000;stroke-width:0.8;\" x=\"40.603125\" xlink:href=\"#mfe4b369590\" y=\"140.832635\"/>\n      </g>\n     </g>\n     <g id=\"text_10\">\n      <!-- 4 -->\n      <g transform=\"translate(27.240625 144.631854)scale(0.1 -0.1)\">\n       <use xlink:href=\"#DejaVuSans-52\"/>\n      </g>\n     </g>\n    </g>\n    <g id=\"ytick_4\">\n     <g id=\"line2d_10\">\n      <g>\n       <use style=\"stroke:#000000;stroke-width:0.8;\" x=\"40.603125\" xlink:href=\"#mfe4b369590\" y=\"103.870771\"/>\n      </g>\n     </g>\n     <g id=\"text_11\">\n      <!-- 6 -->\n      <defs>\n       <path d=\"M 33.015625 40.375 \nQ 26.375 40.375 22.484375 35.828125 \nQ 18.609375 31.296875 18.609375 23.390625 \nQ 18.609375 15.53125 22.484375 10.953125 \nQ 26.375 6.390625 33.015625 6.390625 \nQ 39.65625 6.390625 43.53125 10.953125 \nQ 47.40625 15.53125 47.40625 23.390625 \nQ 47.40625 31.296875 43.53125 35.828125 \nQ 39.65625 40.375 33.015625 40.375 \nz\nM 52.59375 71.296875 \nL 52.59375 62.3125 \nQ 48.875 64.0625 45.09375 64.984375 \nQ 41.3125 65.921875 37.59375 65.921875 \nQ 27.828125 65.921875 22.671875 59.328125 \nQ 17.53125 52.734375 16.796875 39.40625 \nQ 19.671875 43.65625 24.015625 45.921875 \nQ 28.375 48.1875 33.59375 48.1875 \nQ 44.578125 48.1875 50.953125 41.515625 \nQ 57.328125 34.859375 57.328125 23.390625 \nQ 57.328125 12.15625 50.6875 5.359375 \nQ 44.046875 -1.421875 33.015625 -1.421875 \nQ 20.359375 -1.421875 13.671875 8.265625 \nQ 6.984375 17.96875 6.984375 36.375 \nQ 6.984375 53.65625 15.1875 63.9375 \nQ 23.390625 74.21875 37.203125 74.21875 \nQ 40.921875 74.21875 44.703125 73.484375 \nQ 48.484375 72.75 52.59375 71.296875 \nz\n\" id=\"DejaVuSans-54\"/>\n      </defs>\n      <g transform=\"translate(27.240625 107.669989)scale(0.1 -0.1)\">\n       <use xlink:href=\"#DejaVuSans-54\"/>\n      </g>\n     </g>\n    </g>\n    <g id=\"ytick_5\">\n     <g id=\"line2d_11\">\n      <g>\n       <use style=\"stroke:#000000;stroke-width:0.8;\" x=\"40.603125\" xlink:href=\"#mfe4b369590\" y=\"66.908906\"/>\n      </g>\n     </g>\n     <g id=\"text_12\">\n      <!-- 8 -->\n      <defs>\n       <path d=\"M 31.78125 34.625 \nQ 24.75 34.625 20.71875 30.859375 \nQ 16.703125 27.09375 16.703125 20.515625 \nQ 16.703125 13.921875 20.71875 10.15625 \nQ 24.75 6.390625 31.78125 6.390625 \nQ 38.8125 6.390625 42.859375 10.171875 \nQ 46.921875 13.96875 46.921875 20.515625 \nQ 46.921875 27.09375 42.890625 30.859375 \nQ 38.875 34.625 31.78125 34.625 \nz\nM 21.921875 38.8125 \nQ 15.578125 40.375 12.03125 44.71875 \nQ 8.5 49.078125 8.5 55.328125 \nQ 8.5 64.0625 14.71875 69.140625 \nQ 20.953125 74.21875 31.78125 74.21875 \nQ 42.671875 74.21875 48.875 69.140625 \nQ 55.078125 64.0625 55.078125 55.328125 \nQ 55.078125 49.078125 51.53125 44.71875 \nQ 48 40.375 41.703125 38.8125 \nQ 48.828125 37.15625 52.796875 32.3125 \nQ 56.78125 27.484375 56.78125 20.515625 \nQ 56.78125 9.90625 50.3125 4.234375 \nQ 43.84375 -1.421875 31.78125 -1.421875 \nQ 19.734375 -1.421875 13.25 4.234375 \nQ 6.78125 9.90625 6.78125 20.515625 \nQ 6.78125 27.484375 10.78125 32.3125 \nQ 14.796875 37.15625 21.921875 38.8125 \nz\nM 18.3125 54.390625 \nQ 18.3125 48.734375 21.84375 45.5625 \nQ 25.390625 42.390625 31.78125 42.390625 \nQ 38.140625 42.390625 41.71875 45.5625 \nQ 45.3125 48.734375 45.3125 54.390625 \nQ 45.3125 60.0625 41.71875 63.234375 \nQ 38.140625 66.40625 31.78125 66.40625 \nQ 25.390625 66.40625 21.84375 63.234375 \nQ 18.3125 60.0625 18.3125 54.390625 \nz\n\" id=\"DejaVuSans-56\"/>\n      </defs>\n      <g transform=\"translate(27.240625 70.708125)scale(0.1 -0.1)\">\n       <use xlink:href=\"#DejaVuSans-56\"/>\n      </g>\n     </g>\n    </g>\n    <g id=\"ytick_6\">\n     <g id=\"line2d_12\">\n      <g>\n       <use style=\"stroke:#000000;stroke-width:0.8;\" x=\"40.603125\" xlink:href=\"#mfe4b369590\" y=\"29.947042\"/>\n      </g>\n     </g>\n     <g id=\"text_13\">\n      <!-- 10 -->\n      <g transform=\"translate(20.878125 33.746261)scale(0.1 -0.1)\">\n       <use xlink:href=\"#DejaVuSans-49\"/>\n       <use x=\"63.623047\" xlink:href=\"#DejaVuSans-48\"/>\n      </g>\n     </g>\n    </g>\n    <g id=\"text_14\">\n     <!-- Loss -->\n     <defs>\n      <path d=\"M 9.8125 72.90625 \nL 19.671875 72.90625 \nL 19.671875 8.296875 \nL 55.171875 8.296875 \nL 55.171875 0 \nL 9.8125 0 \nz\n\" id=\"DejaVuSans-76\"/>\n      <path d=\"M 30.609375 48.390625 \nQ 23.390625 48.390625 19.1875 42.75 \nQ 14.984375 37.109375 14.984375 27.296875 \nQ 14.984375 17.484375 19.15625 11.84375 \nQ 23.34375 6.203125 30.609375 6.203125 \nQ 37.796875 6.203125 41.984375 11.859375 \nQ 46.1875 17.53125 46.1875 27.296875 \nQ 46.1875 37.015625 41.984375 42.703125 \nQ 37.796875 48.390625 30.609375 48.390625 \nz\nM 30.609375 56 \nQ 42.328125 56 49.015625 48.375 \nQ 55.71875 40.765625 55.71875 27.296875 \nQ 55.71875 13.875 49.015625 6.21875 \nQ 42.328125 -1.421875 30.609375 -1.421875 \nQ 18.84375 -1.421875 12.171875 6.21875 \nQ 5.515625 13.875 5.515625 27.296875 \nQ 5.515625 40.765625 12.171875 48.375 \nQ 18.84375 56 30.609375 56 \nz\n\" id=\"DejaVuSans-111\"/>\n      <path d=\"M 44.28125 53.078125 \nL 44.28125 44.578125 \nQ 40.484375 46.53125 36.375 47.5 \nQ 32.28125 48.484375 27.875 48.484375 \nQ 21.1875 48.484375 17.84375 46.4375 \nQ 14.5 44.390625 14.5 40.28125 \nQ 14.5 37.15625 16.890625 35.375 \nQ 19.28125 33.59375 26.515625 31.984375 \nL 29.59375 31.296875 \nQ 39.15625 29.25 43.1875 25.515625 \nQ 47.21875 21.78125 47.21875 15.09375 \nQ 47.21875 7.46875 41.1875 3.015625 \nQ 35.15625 -1.421875 24.609375 -1.421875 \nQ 20.21875 -1.421875 15.453125 -0.5625 \nQ 10.6875 0.296875 5.421875 2 \nL 5.421875 11.28125 \nQ 10.40625 8.6875 15.234375 7.390625 \nQ 20.0625 6.109375 24.8125 6.109375 \nQ 31.15625 6.109375 34.5625 8.28125 \nQ 37.984375 10.453125 37.984375 14.40625 \nQ 37.984375 18.0625 35.515625 20.015625 \nQ 33.0625 21.96875 24.703125 23.78125 \nL 21.578125 24.515625 \nQ 13.234375 26.265625 9.515625 29.90625 \nQ 5.8125 33.546875 5.8125 39.890625 \nQ 5.8125 47.609375 11.28125 51.796875 \nQ 16.75 56 26.8125 56 \nQ 31.78125 56 36.171875 55.265625 \nQ 40.578125 54.546875 44.28125 53.078125 \nz\n\" id=\"DejaVuSans-115\"/>\n     </defs>\n     <g transform=\"translate(14.798438 126.887188)rotate(-90)scale(0.1 -0.1)\">\n      <use xlink:href=\"#DejaVuSans-76\"/>\n      <use x=\"53.962891\" xlink:href=\"#DejaVuSans-111\"/>\n      <use x=\"115.144531\" xlink:href=\"#DejaVuSans-115\"/>\n      <use x=\"167.244141\" xlink:href=\"#DejaVuSans-115\"/>\n     </g>\n    </g>\n   </g>\n   <g id=\"line2d_13\">\n    <path clip-path=\"url(#pc777944673)\" d=\"M 55.821307 19.827093 \nL 56.271635 178.07563 \nL 60.060675 206.382629 \nL 91.941471 213.954148 \nL 360.184943 214.756364 \n\" style=\"fill:none;stroke:#ff0000;stroke-linecap:square;stroke-width:1.5;\"/>\n    <defs>\n     <path d=\"M 0 3 \nC 0.795609 3 1.55874 2.683901 2.12132 2.12132 \nC 2.683901 1.55874 3 0.795609 3 0 \nC 3 -0.795609 2.683901 -1.55874 2.12132 -2.12132 \nC 1.55874 -2.683901 0.795609 -3 0 -3 \nC -0.795609 -3 -1.55874 -2.683901 -2.12132 -2.12132 \nC -2.683901 -1.55874 -3 -0.795609 -3 0 \nC -3 0.795609 -2.683901 1.55874 -2.12132 2.12132 \nC -1.55874 2.683901 -0.795609 3 0 3 \nz\n\" id=\"maa2e1de2d2\" style=\"stroke:#ff0000;\"/>\n    </defs>\n    <g clip-path=\"url(#pc777944673)\">\n     <use style=\"fill:#ff0000;stroke:#ff0000;\" x=\"55.821307\" xlink:href=\"#maa2e1de2d2\" y=\"19.827093\"/>\n     <use style=\"fill:#ff0000;stroke:#ff0000;\" x=\"56.271635\" xlink:href=\"#maa2e1de2d2\" y=\"178.07563\"/>\n     <use style=\"fill:#ff0000;stroke:#ff0000;\" x=\"60.060675\" xlink:href=\"#maa2e1de2d2\" y=\"206.382629\"/>\n     <use style=\"fill:#ff0000;stroke:#ff0000;\" x=\"91.941471\" xlink:href=\"#maa2e1de2d2\" y=\"213.954148\"/>\n     <use style=\"fill:#ff0000;stroke:#ff0000;\" x=\"360.184943\" xlink:href=\"#maa2e1de2d2\" y=\"214.756364\"/>\n    </g>\n   </g>\n   <g id=\"line2d_14\">\n    <path clip-path=\"url(#pc777944673)\" d=\"M 55.821307 17.083636 \nL 56.271635 165.7266 \nL 60.060675 192.713177 \nL 91.941471 207.039915 \nL 360.184943 181.063479 \n\" style=\"fill:none;stroke:#008000;stroke-linecap:square;stroke-width:1.5;\"/>\n    <defs>\n     <path d=\"M 0 3 \nC 0.795609 3 1.55874 2.683901 2.12132 2.12132 \nC 2.683901 1.55874 3 0.795609 3 0 \nC 3 -0.795609 2.683901 -1.55874 2.12132 -2.12132 \nC 1.55874 -2.683901 0.795609 -3 0 -3 \nC -0.795609 -3 -1.55874 -2.683901 -2.12132 -2.12132 \nC -2.683901 -1.55874 -3 -0.795609 -3 0 \nC -3 0.795609 -2.683901 1.55874 -2.12132 2.12132 \nC -1.55874 2.683901 -0.795609 3 0 3 \nz\n\" id=\"m83322ff057\" style=\"stroke:#008000;\"/>\n    </defs>\n    <g clip-path=\"url(#pc777944673)\">\n     <use style=\"fill:#008000;stroke:#008000;\" x=\"55.821307\" xlink:href=\"#m83322ff057\" y=\"17.083636\"/>\n     <use style=\"fill:#008000;stroke:#008000;\" x=\"56.271635\" xlink:href=\"#m83322ff057\" y=\"165.7266\"/>\n     <use style=\"fill:#008000;stroke:#008000;\" x=\"60.060675\" xlink:href=\"#m83322ff057\" y=\"192.713177\"/>\n     <use style=\"fill:#008000;stroke:#008000;\" x=\"91.941471\" xlink:href=\"#m83322ff057\" y=\"207.039915\"/>\n     <use style=\"fill:#008000;stroke:#008000;\" x=\"360.184943\" xlink:href=\"#m83322ff057\" y=\"181.063479\"/>\n    </g>\n   </g>\n   <g id=\"patch_3\">\n    <path d=\"M 40.603125 224.64 \nL 40.603125 7.2 \n\" style=\"fill:none;stroke:#000000;stroke-linecap:square;stroke-linejoin:miter;stroke-width:0.8;\"/>\n   </g>\n   <g id=\"patch_4\">\n    <path d=\"M 375.403125 224.64 \nL 375.403125 7.2 \n\" style=\"fill:none;stroke:#000000;stroke-linecap:square;stroke-linejoin:miter;stroke-width:0.8;\"/>\n   </g>\n   <g id=\"patch_5\">\n    <path d=\"M 40.603125 224.64 \nL 375.403125 224.64 \n\" style=\"fill:none;stroke:#000000;stroke-linecap:square;stroke-linejoin:miter;stroke-width:0.8;\"/>\n   </g>\n   <g id=\"patch_6\">\n    <path d=\"M 40.603125 7.2 \nL 375.403125 7.2 \n\" style=\"fill:none;stroke:#000000;stroke-linecap:square;stroke-linejoin:miter;stroke-width:0.8;\"/>\n   </g>\n   <g id=\"legend_1\">\n    <g id=\"patch_7\">\n     <path d=\"M 256.417187 44.55625 \nL 368.403125 44.55625 \nQ 370.403125 44.55625 370.403125 42.55625 \nL 370.403125 14.2 \nQ 370.403125 12.2 368.403125 12.2 \nL 256.417187 12.2 \nQ 254.417187 12.2 254.417187 14.2 \nL 254.417187 42.55625 \nQ 254.417187 44.55625 256.417187 44.55625 \nz\n\" style=\"fill:#ffffff;opacity:0.8;stroke:#cccccc;stroke-linejoin:miter;\"/>\n    </g>\n    <g id=\"line2d_15\">\n     <path d=\"M 258.417187 20.298438 \nL 278.417187 20.298438 \n\" style=\"fill:none;stroke:#ff0000;stroke-linecap:square;stroke-width:1.5;\"/>\n    </g>\n    <g id=\"line2d_16\">\n     <g>\n      <use style=\"fill:#ff0000;stroke:#ff0000;\" x=\"268.417187\" xlink:href=\"#maa2e1de2d2\" y=\"20.298438\"/>\n     </g>\n    </g>\n    <g id=\"text_15\">\n     <!-- Training -->\n     <defs>\n      <path d=\"M -0.296875 72.90625 \nL 61.375 72.90625 \nL 61.375 64.59375 \nL 35.5 64.59375 \nL 35.5 0 \nL 25.59375 0 \nL 25.59375 64.59375 \nL -0.296875 64.59375 \nz\n\" id=\"DejaVuSans-84\"/>\n      <path d=\"M 41.109375 46.296875 \nQ 39.59375 47.171875 37.8125 47.578125 \nQ 36.03125 48 33.890625 48 \nQ 26.265625 48 22.1875 43.046875 \nQ 18.109375 38.09375 18.109375 28.8125 \nL 18.109375 0 \nL 9.078125 0 \nL 9.078125 54.6875 \nL 18.109375 54.6875 \nL 18.109375 46.1875 \nQ 20.953125 51.171875 25.484375 53.578125 \nQ 30.03125 56 36.53125 56 \nQ 37.453125 56 38.578125 55.875 \nQ 39.703125 55.765625 41.0625 55.515625 \nz\n\" id=\"DejaVuSans-114\"/>\n      <path d=\"M 9.421875 54.6875 \nL 18.40625 54.6875 \nL 18.40625 0 \nL 9.421875 0 \nz\nM 9.421875 75.984375 \nL 18.40625 75.984375 \nL 18.40625 64.59375 \nL 9.421875 64.59375 \nz\n\" id=\"DejaVuSans-105\"/>\n      <path d=\"M 54.890625 33.015625 \nL 54.890625 0 \nL 45.90625 0 \nL 45.90625 32.71875 \nQ 45.90625 40.484375 42.875 44.328125 \nQ 39.84375 48.1875 33.796875 48.1875 \nQ 26.515625 48.1875 22.3125 43.546875 \nQ 18.109375 38.921875 18.109375 30.90625 \nL 18.109375 0 \nL 9.078125 0 \nL 9.078125 54.6875 \nL 18.109375 54.6875 \nL 18.109375 46.1875 \nQ 21.34375 51.125 25.703125 53.5625 \nQ 30.078125 56 35.796875 56 \nQ 45.21875 56 50.046875 50.171875 \nQ 54.890625 44.34375 54.890625 33.015625 \nz\n\" id=\"DejaVuSans-110\"/>\n     </defs>\n     <g transform=\"translate(286.417187 23.798438)scale(0.1 -0.1)\">\n      <use xlink:href=\"#DejaVuSans-84\"/>\n      <use x=\"46.333984\" xlink:href=\"#DejaVuSans-114\"/>\n      <use x=\"87.447266\" xlink:href=\"#DejaVuSans-97\"/>\n      <use x=\"148.726562\" xlink:href=\"#DejaVuSans-105\"/>\n      <use x=\"176.509766\" xlink:href=\"#DejaVuSans-110\"/>\n      <use x=\"239.888672\" xlink:href=\"#DejaVuSans-105\"/>\n      <use x=\"267.671875\" xlink:href=\"#DejaVuSans-110\"/>\n      <use x=\"331.050781\" xlink:href=\"#DejaVuSans-103\"/>\n     </g>\n    </g>\n    <g id=\"line2d_17\">\n     <path d=\"M 258.417187 34.976562 \nL 278.417187 34.976562 \n\" style=\"fill:none;stroke:#008000;stroke-linecap:square;stroke-width:1.5;\"/>\n    </g>\n    <g id=\"line2d_18\">\n     <g>\n      <use style=\"fill:#008000;stroke:#008000;\" x=\"268.417187\" xlink:href=\"#m83322ff057\" y=\"34.976562\"/>\n     </g>\n    </g>\n    <g id=\"text_16\">\n     <!-- Cross-validation -->\n     <defs>\n      <path d=\"M 64.40625 67.28125 \nL 64.40625 56.890625 \nQ 59.421875 61.53125 53.78125 63.8125 \nQ 48.140625 66.109375 41.796875 66.109375 \nQ 29.296875 66.109375 22.65625 58.46875 \nQ 16.015625 50.828125 16.015625 36.375 \nQ 16.015625 21.96875 22.65625 14.328125 \nQ 29.296875 6.6875 41.796875 6.6875 \nQ 48.140625 6.6875 53.78125 8.984375 \nQ 59.421875 11.28125 64.40625 15.921875 \nL 64.40625 5.609375 \nQ 59.234375 2.09375 53.4375 0.328125 \nQ 47.65625 -1.421875 41.21875 -1.421875 \nQ 24.65625 -1.421875 15.125 8.703125 \nQ 5.609375 18.84375 5.609375 36.375 \nQ 5.609375 53.953125 15.125 64.078125 \nQ 24.65625 74.21875 41.21875 74.21875 \nQ 47.75 74.21875 53.53125 72.484375 \nQ 59.328125 70.75 64.40625 67.28125 \nz\n\" id=\"DejaVuSans-67\"/>\n      <path d=\"M 4.890625 31.390625 \nL 31.203125 31.390625 \nL 31.203125 23.390625 \nL 4.890625 23.390625 \nz\n\" id=\"DejaVuSans-45\"/>\n      <path d=\"M 2.984375 54.6875 \nL 12.5 54.6875 \nL 29.59375 8.796875 \nL 46.6875 54.6875 \nL 56.203125 54.6875 \nL 35.6875 0 \nL 23.484375 0 \nz\n\" id=\"DejaVuSans-118\"/>\n      <path d=\"M 9.421875 75.984375 \nL 18.40625 75.984375 \nL 18.40625 0 \nL 9.421875 0 \nz\n\" id=\"DejaVuSans-108\"/>\n      <path d=\"M 45.40625 46.390625 \nL 45.40625 75.984375 \nL 54.390625 75.984375 \nL 54.390625 0 \nL 45.40625 0 \nL 45.40625 8.203125 \nQ 42.578125 3.328125 38.25 0.953125 \nQ 33.9375 -1.421875 27.875 -1.421875 \nQ 17.96875 -1.421875 11.734375 6.484375 \nQ 5.515625 14.40625 5.515625 27.296875 \nQ 5.515625 40.1875 11.734375 48.09375 \nQ 17.96875 56 27.875 56 \nQ 33.9375 56 38.25 53.625 \nQ 42.578125 51.265625 45.40625 46.390625 \nz\nM 14.796875 27.296875 \nQ 14.796875 17.390625 18.875 11.75 \nQ 22.953125 6.109375 30.078125 6.109375 \nQ 37.203125 6.109375 41.296875 11.75 \nQ 45.40625 17.390625 45.40625 27.296875 \nQ 45.40625 37.203125 41.296875 42.84375 \nQ 37.203125 48.484375 30.078125 48.484375 \nQ 22.953125 48.484375 18.875 42.84375 \nQ 14.796875 37.203125 14.796875 27.296875 \nz\n\" id=\"DejaVuSans-100\"/>\n      <path d=\"M 18.3125 70.21875 \nL 18.3125 54.6875 \nL 36.8125 54.6875 \nL 36.8125 47.703125 \nL 18.3125 47.703125 \nL 18.3125 18.015625 \nQ 18.3125 11.328125 20.140625 9.421875 \nQ 21.96875 7.515625 27.59375 7.515625 \nL 36.8125 7.515625 \nL 36.8125 0 \nL 27.59375 0 \nQ 17.1875 0 13.234375 3.875 \nQ 9.28125 7.765625 9.28125 18.015625 \nL 9.28125 47.703125 \nL 2.6875 47.703125 \nL 2.6875 54.6875 \nL 9.28125 54.6875 \nL 9.28125 70.21875 \nz\n\" id=\"DejaVuSans-116\"/>\n     </defs>\n     <g transform=\"translate(286.417187 38.476562)scale(0.1 -0.1)\">\n      <use xlink:href=\"#DejaVuSans-67\"/>\n      <use x=\"69.824219\" xlink:href=\"#DejaVuSans-114\"/>\n      <use x=\"108.6875\" xlink:href=\"#DejaVuSans-111\"/>\n      <use x=\"169.869141\" xlink:href=\"#DejaVuSans-115\"/>\n      <use x=\"221.96875\" xlink:href=\"#DejaVuSans-115\"/>\n      <use x=\"274.068359\" xlink:href=\"#DejaVuSans-45\"/>\n      <use x=\"307.527344\" xlink:href=\"#DejaVuSans-118\"/>\n      <use x=\"366.707031\" xlink:href=\"#DejaVuSans-97\"/>\n      <use x=\"427.986328\" xlink:href=\"#DejaVuSans-108\"/>\n      <use x=\"455.769531\" xlink:href=\"#DejaVuSans-105\"/>\n      <use x=\"483.552734\" xlink:href=\"#DejaVuSans-100\"/>\n      <use x=\"547.029297\" xlink:href=\"#DejaVuSans-97\"/>\n      <use x=\"608.308594\" xlink:href=\"#DejaVuSans-116\"/>\n      <use x=\"647.517578\" xlink:href=\"#DejaVuSans-105\"/>\n      <use x=\"675.300781\" xlink:href=\"#DejaVuSans-111\"/>\n      <use x=\"736.482422\" xlink:href=\"#DejaVuSans-110\"/>\n     </g>\n    </g>\n   </g>\n  </g>\n </g>\n <defs>\n  <clipPath id=\"pc777944673\">\n   <rect height=\"217.44\" width=\"334.8\" x=\"40.603125\" y=\"7.2\"/>\n  </clipPath>\n </defs>\n</svg>\n"
          },
          "metadata": {
            "tags": [],
            "needs_background": "light"
          }
        }
      ]
    },
    {
      "cell_type": "markdown",
      "metadata": {
        "id": "wZ12PIz3epEN"
      },
      "source": [
        "## save"
      ]
    },
    {
      "cell_type": "code",
      "metadata": {
        "id": "CXmAVP7qeqzl"
      },
      "source": [
        "from sklearn import svm"
      ],
      "execution_count": 265,
      "outputs": []
    },
    {
      "cell_type": "code",
      "metadata": {
        "colab": {
          "base_uri": "https://localhost:8080/"
        },
        "id": "sbyt95yte8Hq",
        "outputId": "c906fe70-d27f-4111-c224-b52fce42587f"
      },
      "source": [
        "clf = svm.SVC()\n",
        "iris = datasets.load_iris()\n",
        "X, y = iris.data, iris.target\n",
        "clf.fit(X, y)"
      ],
      "execution_count": 266,
      "outputs": [
        {
          "output_type": "execute_result",
          "data": {
            "text/plain": [
              "SVC(C=1.0, break_ties=False, cache_size=200, class_weight=None, coef0=0.0,\n",
              "    decision_function_shape='ovr', degree=3, gamma='scale', kernel='rbf',\n",
              "    max_iter=-1, probability=False, random_state=None, shrinking=True,\n",
              "    tol=0.001, verbose=False)"
            ]
          },
          "metadata": {
            "tags": []
          },
          "execution_count": 266
        }
      ]
    },
    {
      "cell_type": "code",
      "metadata": {
        "colab": {
          "base_uri": "https://localhost:8080/"
        },
        "id": "972rCm-4f1cY",
        "outputId": "494654e5-240e-4716-bf8c-67de3269a571"
      },
      "source": [
        "from google.colab import drive \n",
        "drive.mount('/content/gdrive')"
      ],
      "execution_count": 268,
      "outputs": [
        {
          "output_type": "stream",
          "text": [
            "Mounted at /content/gdrive\n"
          ],
          "name": "stdout"
        }
      ]
    },
    {
      "cell_type": "code",
      "metadata": {
        "id": "wgnMOKsEfLZv"
      },
      "source": [
        "# method 1: pickle\n",
        "import pickle\n",
        "with open('gdrive/My Drive/ML/clf.pickle','wb') as f:\n",
        "    pickle.dump(clf, f)"
      ],
      "execution_count": 269,
      "outputs": []
    },
    {
      "cell_type": "code",
      "metadata": {
        "colab": {
          "base_uri": "https://localhost:8080/"
        },
        "id": "hR_ZVAa3gIYQ",
        "outputId": "eb0187b3-7689-4ad5-f40c-14650b6cf9a9"
      },
      "source": [
        "with open('gdrive/My Drive/ML/clf.pickle','rb') as f:\n",
        "    clf2 = pickle.load(f)\n",
        "clf2.predict(X[0:1])"
      ],
      "execution_count": 271,
      "outputs": [
        {
          "output_type": "execute_result",
          "data": {
            "text/plain": [
              "array([0])"
            ]
          },
          "metadata": {
            "tags": []
          },
          "execution_count": 271
        }
      ]
    },
    {
      "cell_type": "code",
      "metadata": {
        "colab": {
          "base_uri": "https://localhost:8080/"
        },
        "id": "4zm5rVkEgo7z",
        "outputId": "1861a8a8-ebd5-4493-b56d-01c0ca5e2af6"
      },
      "source": [
        "# method 2: joblib\n",
        "from sklearn.externals import joblib\n",
        "# save\n",
        "joblib.dump(clf, 'gdrive/My Drive/ML/clf.pkl')\n",
        "# restore\n",
        "clf3 = joblib.load('gdrive/My Drive/ML/clf.pkl')\n",
        "clf3.predict(X[0:1])"
      ],
      "execution_count": 275,
      "outputs": [
        {
          "output_type": "execute_result",
          "data": {
            "text/plain": [
              "array([0])"
            ]
          },
          "metadata": {
            "tags": []
          },
          "execution_count": 275
        }
      ]
    }
  ]
}