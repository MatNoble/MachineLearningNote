{
 "metadata": {
  "language_info": {
   "codemirror_mode": {
    "name": "ipython",
    "version": 3
   },
   "file_extension": ".py",
   "mimetype": "text/x-python",
   "name": "python",
   "nbconvert_exporter": "python",
   "pygments_lexer": "ipython3",
   "version": 3
  },
  "orig_nbformat": 2
 },
 "nbformat": 4,
 "nbformat_minor": 2,
 "cells": [
  {
   "source": [
    "## Optimizer\n",
    "<img src=\"https://cdn.jsdelivr.net/gh/MatNoble/Images/20210320215021.png\"/>"
   ],
   "cell_type": "markdown",
   "metadata": {}
  },
  {
   "source": [
    "### 梯度下降法 (Gradient Descent)\n",
    "$$\n",
    "w^{n+1} = w^n - \\alpha \\cdot \\nabla_{w}L(w)\n",
    "$$"
   ],
   "cell_type": "markdown",
   "metadata": {}
  },
  {
   "source": [
    "#### 批量梯度下降法 BGD\n",
    "$$\n",
    "w^{n+1} = w^n - \\alpha \\frac{1}{n} \\sum_{i=1}^n \\nabla_{w} L(w,x_i)\n",
    "$$"
   ],
   "cell_type": "markdown",
   "metadata": {}
  },
  {
   "source": [
    "#### 随机梯度下降法 SGD\n",
    "$$\n",
    "w^{n+1} = w^n - \\alpha \\nabla_{w} L(w,x_i)\n",
    "$$"
   ],
   "cell_type": "markdown",
   "metadata": {}
  },
  {
   "source": [
    "#### 小批量梯度下降法\n",
    "$$\n",
    "w^{n+1} = w^n - \\alpha \\frac{1}{m} \\sum_{i=x}^{x+m-1} \\nabla_{w} L(w,x_i)\n",
    "$$"
   ],
   "cell_type": "markdown",
   "metadata": {}
  },
  {
   "source": [
    "**缺点**\n",
    "- 选择合适的learning rate比较困难 ，学习率太低会收敛缓慢，学习率过高会使收敛时的波动过大\n",
    "- 所有参数都是用同样的learning rate\n",
    "- SGD 容易收敛到局部最优，并且在某些情况下可能被困在鞍点"
   ],
   "cell_type": "markdown",
   "metadata": {}
  },
  {
   "source": [
    "### 动量优化法\n",
    "momentum 算法思想：参数更新时在一定程度上保留之前更新的方向，同时又利用当前batch的梯度微调最终的更新方向，简言之就是通过积累之前的动量来加速当前的梯度。  \n",
    "假设 $m_t$ 表示 $t$ 时刻的动量， $\\mu$ 表示动量因子，通常取值 $0.9$ 或者近似值，在 SGD 的基础上增加动量，则参数更新公式如下：\n",
    "$$\n",
    "\\begin{aligned}\n",
    "m_{t+1} &= m_t + \\alpha \\nabla_{\\theta} L(\\theta) \\\\\n",
    "w_{t+1} &= w_t - m_{t+1}\n",
    "\\end{aligned}\n",
    "$$\n",
    "- 在梯度方向改变时，momentum 能够降低参数更新速度，从而减少震荡；\n",
    "- 在梯度方向相同时，momentum 可以加速参数更新，从而加速收敛。  \n",
    "总而言之，momentum 能够加速 SGD 收敛，抑制震荡。"
   ],
   "cell_type": "markdown",
   "metadata": {}
  },
  {
   "source": [
    "### 自适应学习率优化算法\n",
    "\n",
    "#### AdaGrad\n",
    "\n",
    "#### Adadelta\n",
    "\n",
    "#### RMSprop\n",
    "\n",
    "#### Adam: Adaptive Moment Estimation"
   ],
   "cell_type": "markdown",
   "metadata": {}
  }
 ]
}