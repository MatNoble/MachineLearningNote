{
  "nbformat": 4,
  "nbformat_minor": 0,
  "metadata": {
    "colab": {
      "name": "decision_tree_titanic.ipynb",
      "provenance": []
    },
    "kernelspec": {
      "name": "python3",
      "display_name": "Python 3"
    }
  },
  "cells": [
    {
      "cell_type": "markdown",
      "metadata": {
        "id": "kbGmqs3hOAh4"
      },
      "source": [
        "## Load package and data"
      ]
    },
    {
      "cell_type": "code",
      "metadata": {
        "colab": {
          "base_uri": "https://localhost:8080/"
        },
        "id": "jbwTmY32KtE7",
        "outputId": "58d40bc4-c230-423a-ead9-f6b0117a71ad"
      },
      "source": [
        "import pandas as pd\n",
        "import numpy as np\n",
        "import matplotlib.pyplot as plt\n",
        "%matplotlib inline\n",
        "%config InlineBackend.figure_format = 'svg'\n",
        "import matplotlib\n",
        "matplotlib.rcParams[\"figure.figsize\"] = (8,6)\n",
        "\n",
        "from google.colab import drive \n",
        "drive.mount('/content/gdrive')"
      ],
      "execution_count": null,
      "outputs": [
        {
          "output_type": "stream",
          "text": [
            "Drive already mounted at /content/gdrive; to attempt to forcibly remount, call drive.mount(\"/content/gdrive\", force_remount=True).\n"
          ],
          "name": "stdout"
        }
      ]
    },
    {
      "cell_type": "code",
      "metadata": {
        "colab": {
          "base_uri": "https://localhost:8080/",
          "height": 204
        },
        "id": "_Wb5-bouLR0y",
        "outputId": "df21d46f-e873-4537-9272-fd7f552d32c7"
      },
      "source": [
        "df = pd.read_csv('gdrive/My Drive/ML/titanic.csv')\n",
        "df.head()"
      ],
      "execution_count": null,
      "outputs": [
        {
          "output_type": "execute_result",
          "data": {
            "text/html": [
              "<div>\n",
              "<style scoped>\n",
              "    .dataframe tbody tr th:only-of-type {\n",
              "        vertical-align: middle;\n",
              "    }\n",
              "\n",
              "    .dataframe tbody tr th {\n",
              "        vertical-align: top;\n",
              "    }\n",
              "\n",
              "    .dataframe thead th {\n",
              "        text-align: right;\n",
              "    }\n",
              "</style>\n",
              "<table border=\"1\" class=\"dataframe\">\n",
              "  <thead>\n",
              "    <tr style=\"text-align: right;\">\n",
              "      <th></th>\n",
              "      <th>PassengerId</th>\n",
              "      <th>Survived</th>\n",
              "      <th>Pclass</th>\n",
              "      <th>Name</th>\n",
              "      <th>Sex</th>\n",
              "      <th>Age</th>\n",
              "      <th>SibSp</th>\n",
              "      <th>Parch</th>\n",
              "      <th>Ticket</th>\n",
              "      <th>Fare</th>\n",
              "      <th>Cabin</th>\n",
              "      <th>Embarked</th>\n",
              "    </tr>\n",
              "  </thead>\n",
              "  <tbody>\n",
              "    <tr>\n",
              "      <th>0</th>\n",
              "      <td>1</td>\n",
              "      <td>0</td>\n",
              "      <td>3</td>\n",
              "      <td>Braund, Mr. Owen Harris</td>\n",
              "      <td>male</td>\n",
              "      <td>22.0</td>\n",
              "      <td>1</td>\n",
              "      <td>0</td>\n",
              "      <td>A/5 21171</td>\n",
              "      <td>7.2500</td>\n",
              "      <td>NaN</td>\n",
              "      <td>S</td>\n",
              "    </tr>\n",
              "    <tr>\n",
              "      <th>1</th>\n",
              "      <td>2</td>\n",
              "      <td>1</td>\n",
              "      <td>1</td>\n",
              "      <td>Cumings, Mrs. John Bradley (Florence Briggs Th...</td>\n",
              "      <td>female</td>\n",
              "      <td>38.0</td>\n",
              "      <td>1</td>\n",
              "      <td>0</td>\n",
              "      <td>PC 17599</td>\n",
              "      <td>71.2833</td>\n",
              "      <td>C85</td>\n",
              "      <td>C</td>\n",
              "    </tr>\n",
              "    <tr>\n",
              "      <th>2</th>\n",
              "      <td>3</td>\n",
              "      <td>1</td>\n",
              "      <td>3</td>\n",
              "      <td>Heikkinen, Miss. Laina</td>\n",
              "      <td>female</td>\n",
              "      <td>26.0</td>\n",
              "      <td>0</td>\n",
              "      <td>0</td>\n",
              "      <td>STON/O2. 3101282</td>\n",
              "      <td>7.9250</td>\n",
              "      <td>NaN</td>\n",
              "      <td>S</td>\n",
              "    </tr>\n",
              "    <tr>\n",
              "      <th>3</th>\n",
              "      <td>4</td>\n",
              "      <td>1</td>\n",
              "      <td>1</td>\n",
              "      <td>Futrelle, Mrs. Jacques Heath (Lily May Peel)</td>\n",
              "      <td>female</td>\n",
              "      <td>35.0</td>\n",
              "      <td>1</td>\n",
              "      <td>0</td>\n",
              "      <td>113803</td>\n",
              "      <td>53.1000</td>\n",
              "      <td>C123</td>\n",
              "      <td>S</td>\n",
              "    </tr>\n",
              "    <tr>\n",
              "      <th>4</th>\n",
              "      <td>5</td>\n",
              "      <td>0</td>\n",
              "      <td>3</td>\n",
              "      <td>Allen, Mr. William Henry</td>\n",
              "      <td>male</td>\n",
              "      <td>35.0</td>\n",
              "      <td>0</td>\n",
              "      <td>0</td>\n",
              "      <td>373450</td>\n",
              "      <td>8.0500</td>\n",
              "      <td>NaN</td>\n",
              "      <td>S</td>\n",
              "    </tr>\n",
              "  </tbody>\n",
              "</table>\n",
              "</div>"
            ],
            "text/plain": [
              "   PassengerId  Survived  Pclass  ...     Fare Cabin  Embarked\n",
              "0            1         0       3  ...   7.2500   NaN         S\n",
              "1            2         1       1  ...  71.2833   C85         C\n",
              "2            3         1       3  ...   7.9250   NaN         S\n",
              "3            4         1       1  ...  53.1000  C123         S\n",
              "4            5         0       3  ...   8.0500   NaN         S\n",
              "\n",
              "[5 rows x 12 columns]"
            ]
          },
          "metadata": {
            "tags": []
          },
          "execution_count": 213
        }
      ]
    },
    {
      "cell_type": "markdown",
      "metadata": {
        "id": "XFLrQhDROpjw"
      },
      "source": [
        "## 2. Feature Selection"
      ]
    },
    {
      "cell_type": "code",
      "metadata": {
        "colab": {
          "base_uri": "https://localhost:8080/",
          "height": 204
        },
        "id": "RGpv5lnEL41U",
        "outputId": "af268f3c-2495-40a4-8d7b-0d7b0210a98e"
      },
      "source": [
        "df.drop(['PassengerId','Name','SibSp','Parch','Ticket','Cabin','Embarked'], axis='columns',inplace=True)\n",
        "df.head()"
      ],
      "execution_count": null,
      "outputs": [
        {
          "output_type": "execute_result",
          "data": {
            "text/html": [
              "<div>\n",
              "<style scoped>\n",
              "    .dataframe tbody tr th:only-of-type {\n",
              "        vertical-align: middle;\n",
              "    }\n",
              "\n",
              "    .dataframe tbody tr th {\n",
              "        vertical-align: top;\n",
              "    }\n",
              "\n",
              "    .dataframe thead th {\n",
              "        text-align: right;\n",
              "    }\n",
              "</style>\n",
              "<table border=\"1\" class=\"dataframe\">\n",
              "  <thead>\n",
              "    <tr style=\"text-align: right;\">\n",
              "      <th></th>\n",
              "      <th>Survived</th>\n",
              "      <th>Pclass</th>\n",
              "      <th>Sex</th>\n",
              "      <th>Age</th>\n",
              "      <th>Fare</th>\n",
              "    </tr>\n",
              "  </thead>\n",
              "  <tbody>\n",
              "    <tr>\n",
              "      <th>0</th>\n",
              "      <td>0</td>\n",
              "      <td>3</td>\n",
              "      <td>male</td>\n",
              "      <td>22.0</td>\n",
              "      <td>7.2500</td>\n",
              "    </tr>\n",
              "    <tr>\n",
              "      <th>1</th>\n",
              "      <td>1</td>\n",
              "      <td>1</td>\n",
              "      <td>female</td>\n",
              "      <td>38.0</td>\n",
              "      <td>71.2833</td>\n",
              "    </tr>\n",
              "    <tr>\n",
              "      <th>2</th>\n",
              "      <td>1</td>\n",
              "      <td>3</td>\n",
              "      <td>female</td>\n",
              "      <td>26.0</td>\n",
              "      <td>7.9250</td>\n",
              "    </tr>\n",
              "    <tr>\n",
              "      <th>3</th>\n",
              "      <td>1</td>\n",
              "      <td>1</td>\n",
              "      <td>female</td>\n",
              "      <td>35.0</td>\n",
              "      <td>53.1000</td>\n",
              "    </tr>\n",
              "    <tr>\n",
              "      <th>4</th>\n",
              "      <td>0</td>\n",
              "      <td>3</td>\n",
              "      <td>male</td>\n",
              "      <td>35.0</td>\n",
              "      <td>8.0500</td>\n",
              "    </tr>\n",
              "  </tbody>\n",
              "</table>\n",
              "</div>"
            ],
            "text/plain": [
              "   Survived  Pclass     Sex   Age     Fare\n",
              "0         0       3    male  22.0   7.2500\n",
              "1         1       1  female  38.0  71.2833\n",
              "2         1       3  female  26.0   7.9250\n",
              "3         1       1  female  35.0  53.1000\n",
              "4         0       3    male  35.0   8.0500"
            ]
          },
          "metadata": {
            "tags": []
          },
          "execution_count": 214
        }
      ]
    },
    {
      "cell_type": "code",
      "metadata": {
        "colab": {
          "base_uri": "https://localhost:8080/"
        },
        "id": "Pza7dO2vOdFq",
        "outputId": "91c3c931-2538-447e-9697-bb75098b3d40"
      },
      "source": [
        "df.shape"
      ],
      "execution_count": null,
      "outputs": [
        {
          "output_type": "execute_result",
          "data": {
            "text/plain": [
              "(891, 5)"
            ]
          },
          "metadata": {
            "tags": []
          },
          "execution_count": 215
        }
      ]
    },
    {
      "cell_type": "markdown",
      "metadata": {
        "id": "yu1jL7BwOsbD"
      },
      "source": [
        "## 3. Data Cleaning"
      ]
    },
    {
      "cell_type": "code",
      "metadata": {
        "colab": {
          "base_uri": "https://localhost:8080/"
        },
        "id": "q78BjyU2OTzq",
        "outputId": "e7b9dbe6-1794-4fbb-d221-c864d1ba9803"
      },
      "source": [
        "df.isnull().sum()"
      ],
      "execution_count": null,
      "outputs": [
        {
          "output_type": "execute_result",
          "data": {
            "text/plain": [
              "Survived      0\n",
              "Pclass        0\n",
              "Sex           0\n",
              "Age         177\n",
              "Fare          0\n",
              "dtype: int64"
            ]
          },
          "metadata": {
            "tags": []
          },
          "execution_count": 216
        }
      ]
    },
    {
      "cell_type": "code",
      "metadata": {
        "colab": {
          "base_uri": "https://localhost:8080/"
        },
        "id": "xe49Ab7ZOxec",
        "outputId": "82cd6584-72a5-4cc0-899f-1d407f1df73a"
      },
      "source": [
        "# df1 = df.dropna()\n",
        "df.Age = df.Age.fillna(inputs.Age.mean())\n",
        "df.isnull().sum()"
      ],
      "execution_count": null,
      "outputs": [
        {
          "output_type": "execute_result",
          "data": {
            "text/plain": [
              "Survived    0\n",
              "Pclass      0\n",
              "Sex         0\n",
              "Age         0\n",
              "Fare        0\n",
              "dtype: int64"
            ]
          },
          "metadata": {
            "tags": []
          },
          "execution_count": 217
        }
      ]
    },
    {
      "cell_type": "markdown",
      "metadata": {
        "id": "_SPNilNLOyO2"
      },
      "source": [
        "## 4. Feature Engineering"
      ]
    },
    {
      "cell_type": "code",
      "metadata": {
        "colab": {
          "base_uri": "https://localhost:8080/",
          "height": 204
        },
        "id": "tSdgqxYkNEUw",
        "outputId": "bc9bbebf-274e-4d59-8834-b5f443f4b3f6"
      },
      "source": [
        "# df['Sex_n'] = df['Sex'].apply(lambda x: 1 if x == 'male' else 2)\n",
        "df.Sex = df.Sex.map({'male': 1, 'female': 2})\n",
        "df.head()"
      ],
      "execution_count": null,
      "outputs": [
        {
          "output_type": "execute_result",
          "data": {
            "text/html": [
              "<div>\n",
              "<style scoped>\n",
              "    .dataframe tbody tr th:only-of-type {\n",
              "        vertical-align: middle;\n",
              "    }\n",
              "\n",
              "    .dataframe tbody tr th {\n",
              "        vertical-align: top;\n",
              "    }\n",
              "\n",
              "    .dataframe thead th {\n",
              "        text-align: right;\n",
              "    }\n",
              "</style>\n",
              "<table border=\"1\" class=\"dataframe\">\n",
              "  <thead>\n",
              "    <tr style=\"text-align: right;\">\n",
              "      <th></th>\n",
              "      <th>Survived</th>\n",
              "      <th>Pclass</th>\n",
              "      <th>Sex</th>\n",
              "      <th>Age</th>\n",
              "      <th>Fare</th>\n",
              "    </tr>\n",
              "  </thead>\n",
              "  <tbody>\n",
              "    <tr>\n",
              "      <th>0</th>\n",
              "      <td>0</td>\n",
              "      <td>3</td>\n",
              "      <td>1</td>\n",
              "      <td>22.0</td>\n",
              "      <td>7.2500</td>\n",
              "    </tr>\n",
              "    <tr>\n",
              "      <th>1</th>\n",
              "      <td>1</td>\n",
              "      <td>1</td>\n",
              "      <td>2</td>\n",
              "      <td>38.0</td>\n",
              "      <td>71.2833</td>\n",
              "    </tr>\n",
              "    <tr>\n",
              "      <th>2</th>\n",
              "      <td>1</td>\n",
              "      <td>3</td>\n",
              "      <td>2</td>\n",
              "      <td>26.0</td>\n",
              "      <td>7.9250</td>\n",
              "    </tr>\n",
              "    <tr>\n",
              "      <th>3</th>\n",
              "      <td>1</td>\n",
              "      <td>1</td>\n",
              "      <td>2</td>\n",
              "      <td>35.0</td>\n",
              "      <td>53.1000</td>\n",
              "    </tr>\n",
              "    <tr>\n",
              "      <th>4</th>\n",
              "      <td>0</td>\n",
              "      <td>3</td>\n",
              "      <td>1</td>\n",
              "      <td>35.0</td>\n",
              "      <td>8.0500</td>\n",
              "    </tr>\n",
              "  </tbody>\n",
              "</table>\n",
              "</div>"
            ],
            "text/plain": [
              "   Survived  Pclass  Sex   Age     Fare\n",
              "0         0       3    1  22.0   7.2500\n",
              "1         1       1    2  38.0  71.2833\n",
              "2         1       3    2  26.0   7.9250\n",
              "3         1       1    2  35.0  53.1000\n",
              "4         0       3    1  35.0   8.0500"
            ]
          },
          "metadata": {
            "tags": []
          },
          "execution_count": 218
        }
      ]
    },
    {
      "cell_type": "code",
      "metadata": {
        "colab": {
          "base_uri": "https://localhost:8080/",
          "height": 532
        },
        "id": "2cIB6U6PTcvf",
        "outputId": "bb59671d-b0ab-4fb1-8d7a-9fffe86cad7e"
      },
      "source": [
        "df0 = df[df['Survived'] == 0]\n",
        "plt.scatter(df0['Age'],df0['Sex'],\n",
        "            alpha=0.6,\n",
        "            s=80, lw=0, cmap='RdYlGn')\n",
        "df1 = df[df['Survived'] == 1]\n",
        "plt.scatter(df1['Age'],df1['Sex'],\n",
        "            alpha=0.6,\n",
        "            s=80, lw=0, cmap='RdYlGn')\n",
        "plt.xlabel('Age')\n",
        "plt.ylabel('Sex')\n",
        "plt.ylim(0.5, 2.5)\n",
        "plt.yticks([1, 2],\n",
        "       [r'male', r'female'])\n",
        "plt.legend((\"Unsurvived\",\"Survived\"),loc=\"best\")"
      ],
      "execution_count": null,
      "outputs": [
        {
          "output_type": "execute_result",
          "data": {
            "text/plain": [
              "<matplotlib.legend.Legend at 0x7fe24fbcbf28>"
            ]
          },
          "metadata": {
            "tags": []
          },
          "execution_count": 244
        },
        {
          "output_type": "display_data",
          "data": {
            "text/plain": [
              "<Figure size 576x432 with 1 Axes>"
            ],
            "image/svg+xml": "<?xml version=\"1.0\" encoding=\"utf-8\" standalone=\"no\"?>\n<!DOCTYPE svg PUBLIC \"-//W3C//DTD SVG 1.1//EN\"\n  \"http://www.w3.org/Graphics/SVG/1.1/DTD/svg11.dtd\">\n<!-- Created with matplotlib (https://matplotlib.org/) -->\n<svg height=\"370.91625pt\" version=\"1.1\" viewBox=\"0 0 515.951562 370.91625\" width=\"515.951562pt\" xmlns=\"http://www.w3.org/2000/svg\" xmlns:xlink=\"http://www.w3.org/1999/xlink\">\n <defs>\n  <style type=\"text/css\">\n*{stroke-linecap:butt;stroke-linejoin:round;}\n  </style>\n </defs>\n <g id=\"figure_1\">\n  <g id=\"patch_1\">\n   <path d=\"M 0 370.91625 \nL 515.951562 370.91625 \nL 515.951562 0 \nL 0 0 \nz\n\" style=\"fill:none;\"/>\n  </g>\n  <g id=\"axes_1\">\n   <g id=\"patch_2\">\n    <path d=\"M 62.351563 333.36 \nL 508.751562 333.36 \nL 508.751562 7.2 \nL 62.351563 7.2 \nz\n\" style=\"fill:#ffffff;\"/>\n   </g>\n   <g id=\"PathCollection_1\">\n    <defs>\n     <path d=\"M 0 4.472136 \nC 1.186024 4.472136 2.323632 4.000923 3.162278 3.162278 \nC 4.000923 2.323632 4.472136 1.186024 4.472136 0 \nC 4.472136 -1.186024 4.000923 -2.323632 3.162278 -3.162278 \nC 2.323632 -4.000923 1.186024 -4.472136 0 -4.472136 \nC -1.186024 -4.472136 -2.323632 -4.000923 -3.162278 -3.162278 \nC -4.000923 -2.323632 -4.472136 -1.186024 -4.472136 0 \nC -4.472136 1.186024 -4.000923 2.323632 -3.162278 3.162278 \nC -2.323632 4.000923 -1.186024 4.472136 0 4.472136 \nz\n\" id=\"m10fa1368fe\"/>\n    </defs>\n    <g clip-path=\"url(#p19dc794945)\">\n     <use style=\"fill:#1f77b4;fill-opacity:0.6;\" x=\"192.689674\" xlink:href=\"#m10fa1368fe\" y=\"251.82\"/>\n     <use style=\"fill:#1f77b4;fill-opacity:0.6;\" x=\"258.983169\" xlink:href=\"#m10fa1368fe\" y=\"251.82\"/>\n     <use style=\"fill:#1f77b4;fill-opacity:0.6;\" x=\"231.951322\" xlink:href=\"#m10fa1368fe\" y=\"251.82\"/>\n     <use style=\"fill:#1f77b4;fill-opacity:0.6;\" x=\"355.873663\" xlink:href=\"#m10fa1368fe\" y=\"251.82\"/>\n     <use style=\"fill:#1f77b4;fill-opacity:0.6;\" x=\"90.699681\" xlink:href=\"#m10fa1368fe\" y=\"251.82\"/>\n     <use style=\"fill:#1f77b4;fill-opacity:0.6;\" x=\"182.490675\" xlink:href=\"#m10fa1368fe\" y=\"251.82\"/>\n     <use style=\"fill:#1f77b4;fill-opacity:0.6;\" x=\"279.381168\" xlink:href=\"#m10fa1368fe\" y=\"251.82\"/>\n     <use style=\"fill:#1f77b4;fill-opacity:0.6;\" x=\"151.893677\" xlink:href=\"#m10fa1368fe\" y=\"88.74\"/>\n     <use style=\"fill:#1f77b4;fill-opacity:0.6;\" x=\"90.699681\" xlink:href=\"#m10fa1368fe\" y=\"251.82\"/>\n     <use style=\"fill:#1f77b4;fill-opacity:0.6;\" x=\"238.585171\" xlink:href=\"#m10fa1368fe\" y=\"88.74\"/>\n     <use style=\"fill:#1f77b4;fill-opacity:0.6;\" x=\"258.983169\" xlink:href=\"#m10fa1368fe\" y=\"251.82\"/>\n     <use style=\"fill:#1f77b4;fill-opacity:0.6;\" x=\"121.296679\" xlink:href=\"#m10fa1368fe\" y=\"88.74\"/>\n     <use style=\"fill:#1f77b4;fill-opacity:0.6;\" x=\"231.951322\" xlink:href=\"#m10fa1368fe\" y=\"251.82\"/>\n     <use style=\"fill:#1f77b4;fill-opacity:0.6;\" x=\"177.391175\" xlink:href=\"#m10fa1368fe\" y=\"251.82\"/>\n     <use style=\"fill:#1f77b4;fill-opacity:0.6;\" x=\"231.951322\" xlink:href=\"#m10fa1368fe\" y=\"251.82\"/>\n     <use style=\"fill:#1f77b4;fill-opacity:0.6;\" x=\"284.480668\" xlink:href=\"#m10fa1368fe\" y=\"251.82\"/>\n     <use style=\"fill:#1f77b4;fill-opacity:0.6;\" x=\"417.067658\" xlink:href=\"#m10fa1368fe\" y=\"251.82\"/>\n     <use style=\"fill:#1f77b4;fill-opacity:0.6;\" x=\"223.286672\" xlink:href=\"#m10fa1368fe\" y=\"251.82\"/>\n     <use style=\"fill:#1f77b4;fill-opacity:0.6;\" x=\"294.679667\" xlink:href=\"#m10fa1368fe\" y=\"251.82\"/>\n     <use style=\"fill:#1f77b4;fill-opacity:0.6;\" x=\"187.590174\" xlink:href=\"#m10fa1368fe\" y=\"251.82\"/>\n     <use style=\"fill:#1f77b4;fill-opacity:0.6;\" x=\"172.291675\" xlink:href=\"#m10fa1368fe\" y=\"88.74\"/>\n     <use style=\"fill:#1f77b4;fill-opacity:0.6;\" x=\"284.480668\" xlink:href=\"#m10fa1368fe\" y=\"88.74\"/>\n     <use style=\"fill:#1f77b4;fill-opacity:0.6;\" x=\"218.187172\" xlink:href=\"#m10fa1368fe\" y=\"88.74\"/>\n     <use style=\"fill:#1f77b4;fill-opacity:0.6;\" x=\"231.951322\" xlink:href=\"#m10fa1368fe\" y=\"251.82\"/>\n     <use style=\"fill:#1f77b4;fill-opacity:0.6;\" x=\"231.951322\" xlink:href=\"#m10fa1368fe\" y=\"251.82\"/>\n     <use style=\"fill:#1f77b4;fill-opacity:0.6;\" x=\"231.951322\" xlink:href=\"#m10fa1368fe\" y=\"251.82\"/>\n     <use style=\"fill:#1f77b4;fill-opacity:0.6;\" x=\"231.951322\" xlink:href=\"#m10fa1368fe\" y=\"251.82\"/>\n     <use style=\"fill:#1f77b4;fill-opacity:0.6;\" x=\"172.291675\" xlink:href=\"#m10fa1368fe\" y=\"88.74\"/>\n     <use style=\"fill:#1f77b4;fill-opacity:0.6;\" x=\"116.197179\" xlink:href=\"#m10fa1368fe\" y=\"251.82\"/>\n     <use style=\"fill:#1f77b4;fill-opacity:0.6;\" x=\"187.590174\" xlink:href=\"#m10fa1368fe\" y=\"251.82\"/>\n     <use style=\"fill:#1f77b4;fill-opacity:0.6;\" x=\"411.968159\" xlink:href=\"#m10fa1368fe\" y=\"251.82\"/>\n     <use style=\"fill:#1f77b4;fill-opacity:0.6;\" x=\"225.836422\" xlink:href=\"#m10fa1368fe\" y=\"251.82\"/>\n     <use style=\"fill:#1f77b4;fill-opacity:0.6;\" x=\"136.595178\" xlink:href=\"#m10fa1368fe\" y=\"251.82\"/>\n     <use style=\"fill:#1f77b4;fill-opacity:0.6;\" x=\"192.689674\" xlink:href=\"#m10fa1368fe\" y=\"251.82\"/>\n     <use style=\"fill:#1f77b4;fill-opacity:0.6;\" x=\"309.978166\" xlink:href=\"#m10fa1368fe\" y=\"251.82\"/>\n     <use style=\"fill:#1f77b4;fill-opacity:0.6;\" x=\"100.89868\" xlink:href=\"#m10fa1368fe\" y=\"251.82\"/>\n     <use style=\"fill:#1f77b4;fill-opacity:0.6;\" x=\"231.951322\" xlink:href=\"#m10fa1368fe\" y=\"251.82\"/>\n     <use style=\"fill:#1f77b4;fill-opacity:0.6;\" x=\"177.391175\" xlink:href=\"#m10fa1368fe\" y=\"251.82\"/>\n     <use style=\"fill:#1f77b4;fill-opacity:0.6;\" x=\"213.087673\" xlink:href=\"#m10fa1368fe\" y=\"251.82\"/>\n     <use style=\"fill:#1f77b4;fill-opacity:0.6;\" x=\"243.68467\" xlink:href=\"#m10fa1368fe\" y=\"251.82\"/>\n     <use style=\"fill:#1f77b4;fill-opacity:0.6;\" x=\"162.092676\" xlink:href=\"#m10fa1368fe\" y=\"88.74\"/>\n     <use style=\"fill:#1f77b4;fill-opacity:0.6;\" x=\"187.590174\" xlink:href=\"#m10fa1368fe\" y=\"251.82\"/>\n     <use style=\"fill:#1f77b4;fill-opacity:0.6;\" x=\"213.087673\" xlink:href=\"#m10fa1368fe\" y=\"251.82\"/>\n     <use style=\"fill:#1f77b4;fill-opacity:0.6;\" x=\"207.988173\" xlink:href=\"#m10fa1368fe\" y=\"251.82\"/>\n     <use style=\"fill:#1f77b4;fill-opacity:0.6;\" x=\"231.951322\" xlink:href=\"#m10fa1368fe\" y=\"251.82\"/>\n     <use style=\"fill:#1f77b4;fill-opacity:0.6;\" x=\"231.951322\" xlink:href=\"#m10fa1368fe\" y=\"251.82\"/>\n     <use style=\"fill:#1f77b4;fill-opacity:0.6;\" x=\"192.689674\" xlink:href=\"#m10fa1368fe\" y=\"251.82\"/>\n     <use style=\"fill:#1f77b4;fill-opacity:0.6;\" x=\"223.286672\" xlink:href=\"#m10fa1368fe\" y=\"251.82\"/>\n     <use style=\"fill:#1f77b4;fill-opacity:0.6;\" x=\"162.092676\" xlink:href=\"#m10fa1368fe\" y=\"251.82\"/>\n     <use style=\"fill:#1f77b4;fill-opacity:0.6;\" x=\"231.951322\" xlink:href=\"#m10fa1368fe\" y=\"251.82\"/>\n     <use style=\"fill:#1f77b4;fill-opacity:0.6;\" x=\"202.888673\" xlink:href=\"#m10fa1368fe\" y=\"251.82\"/>\n     <use style=\"fill:#1f77b4;fill-opacity:0.6;\" x=\"228.386171\" xlink:href=\"#m10fa1368fe\" y=\"251.82\"/>\n     <use style=\"fill:#1f77b4;fill-opacity:0.6;\" x=\"182.490675\" xlink:href=\"#m10fa1368fe\" y=\"251.82\"/>\n     <use style=\"fill:#1f77b4;fill-opacity:0.6;\" x=\"315.077665\" xlink:href=\"#m10fa1368fe\" y=\"251.82\"/>\n     <use style=\"fill:#1f77b4;fill-opacity:0.6;\" x=\"213.087673\" xlink:href=\"#m10fa1368fe\" y=\"251.82\"/>\n     <use style=\"fill:#1f77b4;fill-opacity:0.6;\" x=\"381.371161\" xlink:href=\"#m10fa1368fe\" y=\"251.82\"/>\n     <use style=\"fill:#1f77b4;fill-opacity:0.6;\" x=\"231.951322\" xlink:href=\"#m10fa1368fe\" y=\"251.82\"/>\n     <use style=\"fill:#1f77b4;fill-opacity:0.6;\" x=\"442.565157\" xlink:href=\"#m10fa1368fe\" y=\"251.82\"/>\n     <use style=\"fill:#1f77b4;fill-opacity:0.6;\" x=\"253.88367\" xlink:href=\"#m10fa1368fe\" y=\"251.82\"/>\n     <use style=\"fill:#1f77b4;fill-opacity:0.6;\" x=\"223.286672\" xlink:href=\"#m10fa1368fe\" y=\"88.74\"/>\n     <use style=\"fill:#1f77b4;fill-opacity:0.6;\" x=\"231.951322\" xlink:href=\"#m10fa1368fe\" y=\"251.82\"/>\n     <use style=\"fill:#1f77b4;fill-opacity:0.6;\" x=\"187.590174\" xlink:href=\"#m10fa1368fe\" y=\"251.82\"/>\n     <use style=\"fill:#1f77b4;fill-opacity:0.6;\" x=\"248.78417\" xlink:href=\"#m10fa1368fe\" y=\"251.82\"/>\n     <use style=\"fill:#1f77b4;fill-opacity:0.6;\" x=\"269.182169\" xlink:href=\"#m10fa1368fe\" y=\"251.82\"/>\n     <use style=\"fill:#1f77b4;fill-opacity:0.6;\" x=\"223.286672\" xlink:href=\"#m10fa1368fe\" y=\"251.82\"/>\n     <use style=\"fill:#1f77b4;fill-opacity:0.6;\" x=\"274.281668\" xlink:href=\"#m10fa1368fe\" y=\"251.82\"/>\n     <use style=\"fill:#1f77b4;fill-opacity:0.6;\" x=\"320.177165\" xlink:href=\"#m10fa1368fe\" y=\"251.82\"/>\n     <use style=\"fill:#1f77b4;fill-opacity:0.6;\" x=\"154.443427\" xlink:href=\"#m10fa1368fe\" y=\"88.74\"/>\n     <use style=\"fill:#1f77b4;fill-opacity:0.6;\" x=\"192.689674\" xlink:href=\"#m10fa1368fe\" y=\"251.82\"/>\n     <use style=\"fill:#1f77b4;fill-opacity:0.6;\" x=\"182.490675\" xlink:href=\"#m10fa1368fe\" y=\"88.74\"/>\n     <use style=\"fill:#1f77b4;fill-opacity:0.6;\" x=\"167.192176\" xlink:href=\"#m10fa1368fe\" y=\"88.74\"/>\n     <use style=\"fill:#1f77b4;fill-opacity:0.6;\" x=\"187.590174\" xlink:href=\"#m10fa1368fe\" y=\"251.82\"/>\n     <use style=\"fill:#1f77b4;fill-opacity:0.6;\" x=\"440.015407\" xlink:href=\"#m10fa1368fe\" y=\"251.82\"/>\n     <use style=\"fill:#1f77b4;fill-opacity:0.6;\" x=\"228.386171\" xlink:href=\"#m10fa1368fe\" y=\"251.82\"/>\n     <use style=\"fill:#1f77b4;fill-opacity:0.6;\" x=\"202.888673\" xlink:href=\"#m10fa1368fe\" y=\"251.82\"/>\n     <use style=\"fill:#1f77b4;fill-opacity:0.6;\" x=\"90.699681\" xlink:href=\"#m10fa1368fe\" y=\"88.74\"/>\n     <use style=\"fill:#1f77b4;fill-opacity:0.6;\" x=\"187.590174\" xlink:href=\"#m10fa1368fe\" y=\"251.82\"/>\n     <use style=\"fill:#1f77b4;fill-opacity:0.6;\" x=\"231.951322\" xlink:href=\"#m10fa1368fe\" y=\"251.82\"/>\n     <use style=\"fill:#1f77b4;fill-opacity:0.6;\" x=\"246.23442\" xlink:href=\"#m10fa1368fe\" y=\"251.82\"/>\n     <use style=\"fill:#1f77b4;fill-opacity:0.6;\" x=\"355.873663\" xlink:href=\"#m10fa1368fe\" y=\"251.82\"/>\n     <use style=\"fill:#1f77b4;fill-opacity:0.6;\" x=\"231.951322\" xlink:href=\"#m10fa1368fe\" y=\"251.82\"/>\n     <use style=\"fill:#1f77b4;fill-opacity:0.6;\" x=\"309.978166\" xlink:href=\"#m10fa1368fe\" y=\"251.82\"/>\n     <use style=\"fill:#1f77b4;fill-opacity:0.6;\" x=\"248.78417\" xlink:href=\"#m10fa1368fe\" y=\"251.82\"/>\n     <use style=\"fill:#1f77b4;fill-opacity:0.6;\" x=\"182.490675\" xlink:href=\"#m10fa1368fe\" y=\"251.82\"/>\n     <use style=\"fill:#1f77b4;fill-opacity:0.6;\" x=\"320.177165\" xlink:href=\"#m10fa1368fe\" y=\"88.74\"/>\n     <use style=\"fill:#1f77b4;fill-opacity:0.6;\" x=\"207.988173\" xlink:href=\"#m10fa1368fe\" y=\"251.82\"/>\n     <use style=\"fill:#1f77b4;fill-opacity:0.6;\" x=\"197.789174\" xlink:href=\"#m10fa1368fe\" y=\"251.82\"/>\n     <use style=\"fill:#1f77b4;fill-opacity:0.6;\" x=\"269.182169\" xlink:href=\"#m10fa1368fe\" y=\"251.82\"/>\n     <use style=\"fill:#1f77b4;fill-opacity:0.6;\" x=\"162.092676\" xlink:href=\"#m10fa1368fe\" y=\"251.82\"/>\n     <use style=\"fill:#1f77b4;fill-opacity:0.6;\" x=\"202.888673\" xlink:href=\"#m10fa1368fe\" y=\"251.82\"/>\n     <use style=\"fill:#1f77b4;fill-opacity:0.6;\" x=\"231.951322\" xlink:href=\"#m10fa1368fe\" y=\"88.74\"/>\n     <use style=\"fill:#1f77b4;fill-opacity:0.6;\" x=\"177.391175\" xlink:href=\"#m10fa1368fe\" y=\"251.82\"/>\n     <use style=\"fill:#1f77b4;fill-opacity:0.6;\" x=\"172.291675\" xlink:href=\"#m10fa1368fe\" y=\"251.82\"/>\n     <use style=\"fill:#1f77b4;fill-opacity:0.6;\" x=\"177.391175\" xlink:href=\"#m10fa1368fe\" y=\"251.82\"/>\n     <use style=\"fill:#1f77b4;fill-opacity:0.6;\" x=\"126.396179\" xlink:href=\"#m10fa1368fe\" y=\"88.74\"/>\n     <use style=\"fill:#1f77b4;fill-opacity:0.6;\" x=\"266.632419\" xlink:href=\"#m10fa1368fe\" y=\"251.82\"/>\n     <use style=\"fill:#1f77b4;fill-opacity:0.6;\" x=\"294.679667\" xlink:href=\"#m10fa1368fe\" y=\"251.82\"/>\n     <use style=\"fill:#1f77b4;fill-opacity:0.6;\" x=\"340.575164\" xlink:href=\"#m10fa1368fe\" y=\"251.82\"/>\n     <use style=\"fill:#1f77b4;fill-opacity:0.6;\" x=\"363.522912\" xlink:href=\"#m10fa1368fe\" y=\"251.82\"/>\n     <use style=\"fill:#1f77b4;fill-opacity:0.6;\" x=\"287.030417\" xlink:href=\"#m10fa1368fe\" y=\"251.82\"/>\n     <use style=\"fill:#1f77b4;fill-opacity:0.6;\" x=\"231.951322\" xlink:href=\"#m10fa1368fe\" y=\"251.82\"/>\n     <use style=\"fill:#1f77b4;fill-opacity:0.6;\" x=\"340.575164\" xlink:href=\"#m10fa1368fe\" y=\"251.82\"/>\n     <use style=\"fill:#1f77b4;fill-opacity:0.6;\" x=\"233.485671\" xlink:href=\"#m10fa1368fe\" y=\"251.82\"/>\n     <use style=\"fill:#1f77b4;fill-opacity:0.6;\" x=\"231.951322\" xlink:href=\"#m10fa1368fe\" y=\"251.82\"/>\n     <use style=\"fill:#1f77b4;fill-opacity:0.6;\" x=\"231.951322\" xlink:href=\"#m10fa1368fe\" y=\"251.82\"/>\n     <use style=\"fill:#1f77b4;fill-opacity:0.6;\" x=\"304.878666\" xlink:href=\"#m10fa1368fe\" y=\"251.82\"/>\n     <use style=\"fill:#1f77b4;fill-opacity:0.6;\" x=\"213.087673\" xlink:href=\"#m10fa1368fe\" y=\"251.82\"/>\n     <use style=\"fill:#1f77b4;fill-opacity:0.6;\" x=\"167.192176\" xlink:href=\"#m10fa1368fe\" y=\"251.82\"/>\n     <use style=\"fill:#1f77b4;fill-opacity:0.6;\" x=\"85.600181\" xlink:href=\"#m10fa1368fe\" y=\"251.82\"/>\n     <use style=\"fill:#1f77b4;fill-opacity:0.6;\" x=\"309.978166\" xlink:href=\"#m10fa1368fe\" y=\"88.74\"/>\n     <use style=\"fill:#1f77b4;fill-opacity:0.6;\" x=\"231.951322\" xlink:href=\"#m10fa1368fe\" y=\"251.82\"/>\n     <use style=\"fill:#1f77b4;fill-opacity:0.6;\" x=\"223.286672\" xlink:href=\"#m10fa1368fe\" y=\"251.82\"/>\n     <use style=\"fill:#1f77b4;fill-opacity:0.6;\" x=\"391.57016\" xlink:href=\"#m10fa1368fe\" y=\"251.82\"/>\n     <use style=\"fill:#1f77b4;fill-opacity:0.6;\" x=\"100.89868\" xlink:href=\"#m10fa1368fe\" y=\"251.82\"/>\n     <use style=\"fill:#1f77b4;fill-opacity:0.6;\" x=\"187.590174\" xlink:href=\"#m10fa1368fe\" y=\"251.82\"/>\n     <use style=\"fill:#1f77b4;fill-opacity:0.6;\" x=\"366.072662\" xlink:href=\"#m10fa1368fe\" y=\"251.82\"/>\n     <use style=\"fill:#1f77b4;fill-opacity:0.6;\" x=\"172.291675\" xlink:href=\"#m10fa1368fe\" y=\"251.82\"/>\n     <use style=\"fill:#1f77b4;fill-opacity:0.6;\" x=\"231.951322\" xlink:href=\"#m10fa1368fe\" y=\"251.82\"/>\n     <use style=\"fill:#1f77b4;fill-opacity:0.6;\" x=\"335.475664\" xlink:href=\"#m10fa1368fe\" y=\"88.74\"/>\n     <use style=\"fill:#1f77b4;fill-opacity:0.6;\" x=\"233.485671\" xlink:href=\"#m10fa1368fe\" y=\"251.82\"/>\n     <use style=\"fill:#1f77b4;fill-opacity:0.6;\" x=\"264.082669\" xlink:href=\"#m10fa1368fe\" y=\"251.82\"/>\n     <use style=\"fill:#1f77b4;fill-opacity:0.6;\" x=\"231.951322\" xlink:href=\"#m10fa1368fe\" y=\"88.74\"/>\n     <use style=\"fill:#1f77b4;fill-opacity:0.6;\" x=\"231.951322\" xlink:href=\"#m10fa1368fe\" y=\"251.82\"/>\n     <use style=\"fill:#1f77b4;fill-opacity:0.6;\" x=\"126.396179\" xlink:href=\"#m10fa1368fe\" y=\"251.82\"/>\n     <use style=\"fill:#1f77b4;fill-opacity:0.6;\" x=\"231.951322\" xlink:href=\"#m10fa1368fe\" y=\"251.82\"/>\n     <use style=\"fill:#1f77b4;fill-opacity:0.6;\" x=\"284.480668\" xlink:href=\"#m10fa1368fe\" y=\"251.82\"/>\n     <use style=\"fill:#1f77b4;fill-opacity:0.6;\" x=\"264.082669\" xlink:href=\"#m10fa1368fe\" y=\"251.82\"/>\n     <use style=\"fill:#1f77b4;fill-opacity:0.6;\" x=\"177.391175\" xlink:href=\"#m10fa1368fe\" y=\"251.82\"/>\n     <use style=\"fill:#1f77b4;fill-opacity:0.6;\" x=\"231.951322\" xlink:href=\"#m10fa1368fe\" y=\"251.82\"/>\n     <use style=\"fill:#1f77b4;fill-opacity:0.6;\" x=\"294.679667\" xlink:href=\"#m10fa1368fe\" y=\"251.82\"/>\n     <use style=\"fill:#1f77b4;fill-opacity:0.6;\" x=\"202.888673\" xlink:href=\"#m10fa1368fe\" y=\"88.74\"/>\n     <use style=\"fill:#1f77b4;fill-opacity:0.6;\" x=\"223.286672\" xlink:href=\"#m10fa1368fe\" y=\"251.82\"/>\n     <use style=\"fill:#1f77b4;fill-opacity:0.6;\" x=\"231.951322\" xlink:href=\"#m10fa1368fe\" y=\"251.82\"/>\n     <use style=\"fill:#1f77b4;fill-opacity:0.6;\" x=\"253.88367\" xlink:href=\"#m10fa1368fe\" y=\"251.82\"/>\n     <use style=\"fill:#1f77b4;fill-opacity:0.6;\" x=\"312.527916\" xlink:href=\"#m10fa1368fe\" y=\"251.82\"/>\n     <use style=\"fill:#1f77b4;fill-opacity:0.6;\" x=\"90.699681\" xlink:href=\"#m10fa1368fe\" y=\"88.74\"/>\n     <use style=\"fill:#1f77b4;fill-opacity:0.6;\" x=\"243.68467\" xlink:href=\"#m10fa1368fe\" y=\"251.82\"/>\n     <use style=\"fill:#1f77b4;fill-opacity:0.6;\" x=\"202.888673\" xlink:href=\"#m10fa1368fe\" y=\"251.82\"/>\n     <use style=\"fill:#1f77b4;fill-opacity:0.6;\" x=\"192.689674\" xlink:href=\"#m10fa1368fe\" y=\"251.82\"/>\n     <use style=\"fill:#1f77b4;fill-opacity:0.6;\" x=\"233.485671\" xlink:href=\"#m10fa1368fe\" y=\"251.82\"/>\n     <use style=\"fill:#1f77b4;fill-opacity:0.6;\" x=\"231.951322\" xlink:href=\"#m10fa1368fe\" y=\"251.82\"/>\n     <use style=\"fill:#1f77b4;fill-opacity:0.6;\" x=\"294.679667\" xlink:href=\"#m10fa1368fe\" y=\"251.82\"/>\n     <use style=\"fill:#1f77b4;fill-opacity:0.6;\" x=\"233.485671\" xlink:href=\"#m10fa1368fe\" y=\"251.82\"/>\n     <use style=\"fill:#1f77b4;fill-opacity:0.6;\" x=\"218.187172\" xlink:href=\"#m10fa1368fe\" y=\"251.82\"/>\n     <use style=\"fill:#1f77b4;fill-opacity:0.6;\" x=\"340.575164\" xlink:href=\"#m10fa1368fe\" y=\"251.82\"/>\n     <use style=\"fill:#1f77b4;fill-opacity:0.6;\" x=\"231.951322\" xlink:href=\"#m10fa1368fe\" y=\"251.82\"/>\n     <use style=\"fill:#1f77b4;fill-opacity:0.6;\" x=\"192.689674\" xlink:href=\"#m10fa1368fe\" y=\"251.82\"/>\n     <use style=\"fill:#1f77b4;fill-opacity:0.6;\" x=\"185.040424\" xlink:href=\"#m10fa1368fe\" y=\"251.82\"/>\n     <use style=\"fill:#1f77b4;fill-opacity:0.6;\" x=\"172.291675\" xlink:href=\"#m10fa1368fe\" y=\"251.82\"/>\n     <use style=\"fill:#1f77b4;fill-opacity:0.6;\" x=\"231.951322\" xlink:href=\"#m10fa1368fe\" y=\"88.74\"/>\n     <use style=\"fill:#1f77b4;fill-opacity:0.6;\" x=\"228.386171\" xlink:href=\"#m10fa1368fe\" y=\"251.82\"/>\n     <use style=\"fill:#1f77b4;fill-opacity:0.6;\" x=\"381.371161\" xlink:href=\"#m10fa1368fe\" y=\"251.82\"/>\n     <use style=\"fill:#1f77b4;fill-opacity:0.6;\" x=\"202.888673\" xlink:href=\"#m10fa1368fe\" y=\"251.82\"/>\n     <use style=\"fill:#1f77b4;fill-opacity:0.6;\" x=\"231.951322\" xlink:href=\"#m10fa1368fe\" y=\"88.74\"/>\n     <use style=\"fill:#1f77b4;fill-opacity:0.6;\" x=\"304.878666\" xlink:href=\"#m10fa1368fe\" y=\"251.82\"/>\n     <use style=\"fill:#1f77b4;fill-opacity:0.6;\" x=\"177.391175\" xlink:href=\"#m10fa1368fe\" y=\"251.82\"/>\n     <use style=\"fill:#1f77b4;fill-opacity:0.6;\" x=\"248.78417\" xlink:href=\"#m10fa1368fe\" y=\"251.82\"/>\n     <use style=\"fill:#1f77b4;fill-opacity:0.6;\" x=\"231.951322\" xlink:href=\"#m10fa1368fe\" y=\"88.74\"/>\n     <use style=\"fill:#1f77b4;fill-opacity:0.6;\" x=\"228.386171\" xlink:href=\"#m10fa1368fe\" y=\"251.82\"/>\n     <use style=\"fill:#1f77b4;fill-opacity:0.6;\" x=\"192.689674\" xlink:href=\"#m10fa1368fe\" y=\"251.82\"/>\n     <use style=\"fill:#1f77b4;fill-opacity:0.6;\" x=\"233.485671\" xlink:href=\"#m10fa1368fe\" y=\"251.82\"/>\n     <use style=\"fill:#1f77b4;fill-opacity:0.6;\" x=\"304.878666\" xlink:href=\"#m10fa1368fe\" y=\"251.82\"/>\n     <use style=\"fill:#1f77b4;fill-opacity:0.6;\" x=\"207.988173\" xlink:href=\"#m10fa1368fe\" y=\"88.74\"/>\n     <use style=\"fill:#1f77b4;fill-opacity:0.6;\" x=\"355.873663\" xlink:href=\"#m10fa1368fe\" y=\"251.82\"/>\n     <use style=\"fill:#1f77b4;fill-opacity:0.6;\" x=\"231.951322\" xlink:href=\"#m10fa1368fe\" y=\"251.82\"/>\n     <use style=\"fill:#1f77b4;fill-opacity:0.6;\" x=\"228.386171\" xlink:href=\"#m10fa1368fe\" y=\"88.74\"/>\n     <use style=\"fill:#1f77b4;fill-opacity:0.6;\" x=\"396.66966\" xlink:href=\"#m10fa1368fe\" y=\"251.82\"/>\n     <use style=\"fill:#1f77b4;fill-opacity:0.6;\" x=\"233.485671\" xlink:href=\"#m10fa1368fe\" y=\"251.82\"/>\n     <use style=\"fill:#1f77b4;fill-opacity:0.6;\" x=\"289.580167\" xlink:href=\"#m10fa1368fe\" y=\"88.74\"/>\n     <use style=\"fill:#1f77b4;fill-opacity:0.6;\" x=\"231.951322\" xlink:href=\"#m10fa1368fe\" y=\"251.82\"/>\n     <use style=\"fill:#1f77b4;fill-opacity:0.6;\" x=\"345.674663\" xlink:href=\"#m10fa1368fe\" y=\"251.82\"/>\n     <use style=\"fill:#1f77b4;fill-opacity:0.6;\" x=\"284.480668\" xlink:href=\"#m10fa1368fe\" y=\"251.82\"/>\n     <use style=\"fill:#1f77b4;fill-opacity:0.6;\" x=\"231.951322\" xlink:href=\"#m10fa1368fe\" y=\"88.74\"/>\n     <use style=\"fill:#1f77b4;fill-opacity:0.6;\" x=\"264.082669\" xlink:href=\"#m10fa1368fe\" y=\"251.82\"/>\n     <use style=\"fill:#1f77b4;fill-opacity:0.6;\" x=\"162.092676\" xlink:href=\"#m10fa1368fe\" y=\"251.82\"/>\n     <use style=\"fill:#1f77b4;fill-opacity:0.6;\" x=\"231.951322\" xlink:href=\"#m10fa1368fe\" y=\"251.82\"/>\n     <use style=\"fill:#1f77b4;fill-opacity:0.6;\" x=\"269.182169\" xlink:href=\"#m10fa1368fe\" y=\"251.82\"/>\n     <use style=\"fill:#1f77b4;fill-opacity:0.6;\" x=\"309.978166\" xlink:href=\"#m10fa1368fe\" y=\"88.74\"/>\n     <use style=\"fill:#1f77b4;fill-opacity:0.6;\" x=\"231.951322\" xlink:href=\"#m10fa1368fe\" y=\"251.82\"/>\n     <use style=\"fill:#1f77b4;fill-opacity:0.6;\" x=\"116.197179\" xlink:href=\"#m10fa1368fe\" y=\"251.82\"/>\n     <use style=\"fill:#1f77b4;fill-opacity:0.6;\" x=\"411.968159\" xlink:href=\"#m10fa1368fe\" y=\"251.82\"/>\n     <use style=\"fill:#1f77b4;fill-opacity:0.6;\" x=\"223.286672\" xlink:href=\"#m10fa1368fe\" y=\"251.82\"/>\n     <use style=\"fill:#1f77b4;fill-opacity:0.6;\" x=\"162.092676\" xlink:href=\"#m10fa1368fe\" y=\"251.82\"/>\n     <use style=\"fill:#1f77b4;fill-opacity:0.6;\" x=\"231.951322\" xlink:href=\"#m10fa1368fe\" y=\"251.82\"/>\n     <use style=\"fill:#1f77b4;fill-opacity:0.6;\" x=\"248.78417\" xlink:href=\"#m10fa1368fe\" y=\"251.82\"/>\n     <use style=\"fill:#1f77b4;fill-opacity:0.6;\" x=\"192.689674\" xlink:href=\"#m10fa1368fe\" y=\"251.82\"/>\n     <use style=\"fill:#1f77b4;fill-opacity:0.6;\" x=\"264.082669\" xlink:href=\"#m10fa1368fe\" y=\"251.82\"/>\n     <use style=\"fill:#1f77b4;fill-opacity:0.6;\" x=\"202.888673\" xlink:href=\"#m10fa1368fe\" y=\"88.74\"/>\n     <use style=\"fill:#1f77b4;fill-opacity:0.6;\" x=\"202.888673\" xlink:href=\"#m10fa1368fe\" y=\"251.82\"/>\n     <use style=\"fill:#1f77b4;fill-opacity:0.6;\" x=\"231.951322\" xlink:href=\"#m10fa1368fe\" y=\"251.82\"/>\n     <use style=\"fill:#1f77b4;fill-opacity:0.6;\" x=\"200.338923\" xlink:href=\"#m10fa1368fe\" y=\"251.82\"/>\n     <use style=\"fill:#1f77b4;fill-opacity:0.6;\" x=\"90.699681\" xlink:href=\"#m10fa1368fe\" y=\"88.74\"/>\n     <use style=\"fill:#1f77b4;fill-opacity:0.6;\" x=\"177.391175\" xlink:href=\"#m10fa1368fe\" y=\"251.82\"/>\n     <use style=\"fill:#1f77b4;fill-opacity:0.6;\" x=\"231.951322\" xlink:href=\"#m10fa1368fe\" y=\"251.82\"/>\n     <use style=\"fill:#1f77b4;fill-opacity:0.6;\" x=\"233.485671\" xlink:href=\"#m10fa1368fe\" y=\"251.82\"/>\n     <use style=\"fill:#1f77b4;fill-opacity:0.6;\" x=\"213.087673\" xlink:href=\"#m10fa1368fe\" y=\"88.74\"/>\n     <use style=\"fill:#1f77b4;fill-opacity:0.6;\" x=\"223.286672\" xlink:href=\"#m10fa1368fe\" y=\"251.82\"/>\n     <use style=\"fill:#1f77b4;fill-opacity:0.6;\" x=\"299.779167\" xlink:href=\"#m10fa1368fe\" y=\"251.82\"/>\n     <use style=\"fill:#1f77b4;fill-opacity:0.6;\" x=\"355.873663\" xlink:href=\"#m10fa1368fe\" y=\"251.82\"/>\n     <use style=\"fill:#1f77b4;fill-opacity:0.6;\" x=\"192.689674\" xlink:href=\"#m10fa1368fe\" y=\"251.82\"/>\n     <use style=\"fill:#1f77b4;fill-opacity:0.6;\" x=\"218.187172\" xlink:href=\"#m10fa1368fe\" y=\"251.82\"/>\n     <use style=\"fill:#1f77b4;fill-opacity:0.6;\" x=\"231.951322\" xlink:href=\"#m10fa1368fe\" y=\"251.82\"/>\n     <use style=\"fill:#1f77b4;fill-opacity:0.6;\" x=\"391.57016\" xlink:href=\"#m10fa1368fe\" y=\"251.82\"/>\n     <use style=\"fill:#1f77b4;fill-opacity:0.6;\" x=\"312.527916\" xlink:href=\"#m10fa1368fe\" y=\"251.82\"/>\n     <use style=\"fill:#1f77b4;fill-opacity:0.6;\" x=\"274.281668\" xlink:href=\"#m10fa1368fe\" y=\"251.82\"/>\n     <use style=\"fill:#1f77b4;fill-opacity:0.6;\" x=\"162.092676\" xlink:href=\"#m10fa1368fe\" y=\"251.82\"/>\n     <use style=\"fill:#1f77b4;fill-opacity:0.6;\" x=\"231.951322\" xlink:href=\"#m10fa1368fe\" y=\"251.82\"/>\n     <use style=\"fill:#1f77b4;fill-opacity:0.6;\" x=\"228.386171\" xlink:href=\"#m10fa1368fe\" y=\"251.82\"/>\n     <use style=\"fill:#1f77b4;fill-opacity:0.6;\" x=\"309.978166\" xlink:href=\"#m10fa1368fe\" y=\"251.82\"/>\n     <use style=\"fill:#1f77b4;fill-opacity:0.6;\" x=\"223.286672\" xlink:href=\"#m10fa1368fe\" y=\"251.82\"/>\n     <use style=\"fill:#1f77b4;fill-opacity:0.6;\" x=\"207.988173\" xlink:href=\"#m10fa1368fe\" y=\"251.82\"/>\n     <use style=\"fill:#1f77b4;fill-opacity:0.6;\" x=\"264.082669\" xlink:href=\"#m10fa1368fe\" y=\"251.82\"/>\n     <use style=\"fill:#1f77b4;fill-opacity:0.6;\" x=\"294.679667\" xlink:href=\"#m10fa1368fe\" y=\"251.82\"/>\n     <use style=\"fill:#1f77b4;fill-opacity:0.6;\" x=\"197.789174\" xlink:href=\"#m10fa1368fe\" y=\"251.82\"/>\n     <use style=\"fill:#1f77b4;fill-opacity:0.6;\" x=\"231.951322\" xlink:href=\"#m10fa1368fe\" y=\"251.82\"/>\n     <use style=\"fill:#1f77b4;fill-opacity:0.6;\" x=\"156.993176\" xlink:href=\"#m10fa1368fe\" y=\"251.82\"/>\n     <use style=\"fill:#1f77b4;fill-opacity:0.6;\" x=\"207.988173\" xlink:href=\"#m10fa1368fe\" y=\"251.82\"/>\n     <use style=\"fill:#1f77b4;fill-opacity:0.6;\" x=\"231.951322\" xlink:href=\"#m10fa1368fe\" y=\"251.82\"/>\n     <use style=\"fill:#1f77b4;fill-opacity:0.6;\" x=\"223.286672\" xlink:href=\"#m10fa1368fe\" y=\"251.82\"/>\n     <use style=\"fill:#1f77b4;fill-opacity:0.6;\" x=\"274.281668\" xlink:href=\"#m10fa1368fe\" y=\"88.74\"/>\n     <use style=\"fill:#1f77b4;fill-opacity:0.6;\" x=\"284.480668\" xlink:href=\"#m10fa1368fe\" y=\"251.82\"/>\n     <use style=\"fill:#1f77b4;fill-opacity:0.6;\" x=\"228.386171\" xlink:href=\"#m10fa1368fe\" y=\"251.82\"/>\n     <use style=\"fill:#1f77b4;fill-opacity:0.6;\" x=\"309.978166\" xlink:href=\"#m10fa1368fe\" y=\"88.74\"/>\n     <use style=\"fill:#1f77b4;fill-opacity:0.6;\" x=\"258.983169\" xlink:href=\"#m10fa1368fe\" y=\"251.82\"/>\n     <use style=\"fill:#1f77b4;fill-opacity:0.6;\" x=\"231.951322\" xlink:href=\"#m10fa1368fe\" y=\"251.82\"/>\n     <use style=\"fill:#1f77b4;fill-opacity:0.6;\" x=\"233.485671\" xlink:href=\"#m10fa1368fe\" y=\"251.82\"/>\n     <use style=\"fill:#1f77b4;fill-opacity:0.6;\" x=\"172.291675\" xlink:href=\"#m10fa1368fe\" y=\"251.82\"/>\n     <use style=\"fill:#1f77b4;fill-opacity:0.6;\" x=\"177.391175\" xlink:href=\"#m10fa1368fe\" y=\"251.82\"/>\n     <use style=\"fill:#1f77b4;fill-opacity:0.6;\" x=\"192.689674\" xlink:href=\"#m10fa1368fe\" y=\"251.82\"/>\n     <use style=\"fill:#1f77b4;fill-opacity:0.6;\" x=\"95.799181\" xlink:href=\"#m10fa1368fe\" y=\"88.74\"/>\n     <use style=\"fill:#1f77b4;fill-opacity:0.6;\" x=\"218.187172\" xlink:href=\"#m10fa1368fe\" y=\"251.82\"/>\n     <use style=\"fill:#1f77b4;fill-opacity:0.6;\" x=\"182.490675\" xlink:href=\"#m10fa1368fe\" y=\"251.82\"/>\n     <use style=\"fill:#1f77b4;fill-opacity:0.6;\" x=\"177.391175\" xlink:href=\"#m10fa1368fe\" y=\"251.82\"/>\n     <use style=\"fill:#1f77b4;fill-opacity:0.6;\" x=\"243.68467\" xlink:href=\"#m10fa1368fe\" y=\"251.82\"/>\n     <use style=\"fill:#1f77b4;fill-opacity:0.6;\" x=\"231.951322\" xlink:href=\"#m10fa1368fe\" y=\"251.82\"/>\n     <use style=\"fill:#1f77b4;fill-opacity:0.6;\" x=\"172.291675\" xlink:href=\"#m10fa1368fe\" y=\"251.82\"/>\n     <use style=\"fill:#1f77b4;fill-opacity:0.6;\" x=\"85.600181\" xlink:href=\"#m10fa1368fe\" y=\"251.82\"/>\n     <use style=\"fill:#1f77b4;fill-opacity:0.6;\" x=\"231.951322\" xlink:href=\"#m10fa1368fe\" y=\"251.82\"/>\n     <use style=\"fill:#1f77b4;fill-opacity:0.6;\" x=\"223.286672\" xlink:href=\"#m10fa1368fe\" y=\"251.82\"/>\n     <use style=\"fill:#1f77b4;fill-opacity:0.6;\" x=\"192.689674\" xlink:href=\"#m10fa1368fe\" y=\"251.82\"/>\n     <use style=\"fill:#1f77b4;fill-opacity:0.6;\" x=\"238.585171\" xlink:href=\"#m10fa1368fe\" y=\"88.74\"/>\n     <use style=\"fill:#1f77b4;fill-opacity:0.6;\" x=\"315.077665\" xlink:href=\"#m10fa1368fe\" y=\"251.82\"/>\n     <use style=\"fill:#1f77b4;fill-opacity:0.6;\" x=\"197.789174\" xlink:href=\"#m10fa1368fe\" y=\"251.82\"/>\n     <use style=\"fill:#1f77b4;fill-opacity:0.6;\" x=\"213.087673\" xlink:href=\"#m10fa1368fe\" y=\"251.82\"/>\n     <use style=\"fill:#1f77b4;fill-opacity:0.6;\" x=\"187.590174\" xlink:href=\"#m10fa1368fe\" y=\"88.74\"/>\n     <use style=\"fill:#1f77b4;fill-opacity:0.6;\" x=\"223.286672\" xlink:href=\"#m10fa1368fe\" y=\"251.82\"/>\n     <use style=\"fill:#1f77b4;fill-opacity:0.6;\" x=\"182.490675\" xlink:href=\"#m10fa1368fe\" y=\"88.74\"/>\n     <use style=\"fill:#1f77b4;fill-opacity:0.6;\" x=\"253.88367\" xlink:href=\"#m10fa1368fe\" y=\"251.82\"/>\n     <use style=\"fill:#1f77b4;fill-opacity:0.6;\" x=\"340.575164\" xlink:href=\"#m10fa1368fe\" y=\"251.82\"/>\n     <use style=\"fill:#1f77b4;fill-opacity:0.6;\" x=\"187.590174\" xlink:href=\"#m10fa1368fe\" y=\"251.82\"/>\n     <use style=\"fill:#1f77b4;fill-opacity:0.6;\" x=\"231.951322\" xlink:href=\"#m10fa1368fe\" y=\"88.74\"/>\n     <use style=\"fill:#1f77b4;fill-opacity:0.6;\" x=\"231.951322\" xlink:href=\"#m10fa1368fe\" y=\"251.82\"/>\n     <use style=\"fill:#1f77b4;fill-opacity:0.6;\" x=\"231.951322\" xlink:href=\"#m10fa1368fe\" y=\"251.82\"/>\n     <use style=\"fill:#1f77b4;fill-opacity:0.6;\" x=\"231.951322\" xlink:href=\"#m10fa1368fe\" y=\"251.82\"/>\n     <use style=\"fill:#1f77b4;fill-opacity:0.6;\" x=\"231.951322\" xlink:href=\"#m10fa1368fe\" y=\"88.74\"/>\n     <use style=\"fill:#1f77b4;fill-opacity:0.6;\" x=\"233.485671\" xlink:href=\"#m10fa1368fe\" y=\"251.82\"/>\n     <use style=\"fill:#1f77b4;fill-opacity:0.6;\" x=\"131.495678\" xlink:href=\"#m10fa1368fe\" y=\"88.74\"/>\n     <use style=\"fill:#1f77b4;fill-opacity:0.6;\" x=\"231.951322\" xlink:href=\"#m10fa1368fe\" y=\"251.82\"/>\n     <use style=\"fill:#1f77b4;fill-opacity:0.6;\" x=\"187.590174\" xlink:href=\"#m10fa1368fe\" y=\"251.82\"/>\n     <use style=\"fill:#1f77b4;fill-opacity:0.6;\" x=\"228.386171\" xlink:href=\"#m10fa1368fe\" y=\"251.82\"/>\n     <use style=\"fill:#1f77b4;fill-opacity:0.6;\" x=\"223.286672\" xlink:href=\"#m10fa1368fe\" y=\"88.74\"/>\n     <use style=\"fill:#1f77b4;fill-opacity:0.6;\" x=\"172.291675\" xlink:href=\"#m10fa1368fe\" y=\"251.82\"/>\n     <use style=\"fill:#1f77b4;fill-opacity:0.6;\" x=\"231.951322\" xlink:href=\"#m10fa1368fe\" y=\"251.82\"/>\n     <use style=\"fill:#1f77b4;fill-opacity:0.6;\" x=\"231.951322\" xlink:href=\"#m10fa1368fe\" y=\"251.82\"/>\n     <use style=\"fill:#1f77b4;fill-opacity:0.6;\" x=\"167.192176\" xlink:href=\"#m10fa1368fe\" y=\"251.82\"/>\n     <use style=\"fill:#1f77b4;fill-opacity:0.6;\" x=\"335.475664\" xlink:href=\"#m10fa1368fe\" y=\"251.82\"/>\n     <use style=\"fill:#1f77b4;fill-opacity:0.6;\" x=\"187.590174\" xlink:href=\"#m10fa1368fe\" y=\"88.74\"/>\n     <use style=\"fill:#1f77b4;fill-opacity:0.6;\" x=\"406.868659\" xlink:href=\"#m10fa1368fe\" y=\"251.82\"/>\n     <use style=\"fill:#1f77b4;fill-opacity:0.6;\" x=\"238.585171\" xlink:href=\"#m10fa1368fe\" y=\"251.82\"/>\n     <use style=\"fill:#1f77b4;fill-opacity:0.6;\" x=\"182.490675\" xlink:href=\"#m10fa1368fe\" y=\"251.82\"/>\n     <use style=\"fill:#1f77b4;fill-opacity:0.6;\" x=\"207.988173\" xlink:href=\"#m10fa1368fe\" y=\"251.82\"/>\n     <use style=\"fill:#1f77b4;fill-opacity:0.6;\" x=\"264.082669\" xlink:href=\"#m10fa1368fe\" y=\"251.82\"/>\n     <use style=\"fill:#1f77b4;fill-opacity:0.6;\" x=\"231.951322\" xlink:href=\"#m10fa1368fe\" y=\"251.82\"/>\n     <use style=\"fill:#1f77b4;fill-opacity:0.6;\" x=\"233.485671\" xlink:href=\"#m10fa1368fe\" y=\"251.82\"/>\n     <use style=\"fill:#1f77b4;fill-opacity:0.6;\" x=\"231.951322\" xlink:href=\"#m10fa1368fe\" y=\"251.82\"/>\n     <use style=\"fill:#1f77b4;fill-opacity:0.6;\" x=\"411.968159\" xlink:href=\"#m10fa1368fe\" y=\"251.82\"/>\n     <use style=\"fill:#1f77b4;fill-opacity:0.6;\" x=\"231.951322\" xlink:href=\"#m10fa1368fe\" y=\"251.82\"/>\n     <use style=\"fill:#1f77b4;fill-opacity:0.6;\" x=\"253.88367\" xlink:href=\"#m10fa1368fe\" y=\"251.82\"/>\n     <use style=\"fill:#1f77b4;fill-opacity:0.6;\" x=\"320.177165\" xlink:href=\"#m10fa1368fe\" y=\"251.82\"/>\n     <use style=\"fill:#1f77b4;fill-opacity:0.6;\" x=\"325.276665\" xlink:href=\"#m10fa1368fe\" y=\"251.82\"/>\n     <use style=\"fill:#1f77b4;fill-opacity:0.6;\" x=\"231.951322\" xlink:href=\"#m10fa1368fe\" y=\"251.82\"/>\n     <use style=\"fill:#1f77b4;fill-opacity:0.6;\" x=\"274.281668\" xlink:href=\"#m10fa1368fe\" y=\"251.82\"/>\n     <use style=\"fill:#1f77b4;fill-opacity:0.6;\" x=\"231.951322\" xlink:href=\"#m10fa1368fe\" y=\"251.82\"/>\n     <use style=\"fill:#1f77b4;fill-opacity:0.6;\" x=\"366.072662\" xlink:href=\"#m10fa1368fe\" y=\"251.82\"/>\n     <use style=\"fill:#1f77b4;fill-opacity:0.6;\" x=\"231.951322\" xlink:href=\"#m10fa1368fe\" y=\"251.82\"/>\n     <use style=\"fill:#1f77b4;fill-opacity:0.6;\" x=\"231.951322\" xlink:href=\"#m10fa1368fe\" y=\"251.82\"/>\n     <use style=\"fill:#1f77b4;fill-opacity:0.6;\" x=\"274.281668\" xlink:href=\"#m10fa1368fe\" y=\"251.82\"/>\n     <use style=\"fill:#1f77b4;fill-opacity:0.6;\" x=\"192.689674\" xlink:href=\"#m10fa1368fe\" y=\"88.74\"/>\n     <use style=\"fill:#1f77b4;fill-opacity:0.6;\" x=\"231.951322\" xlink:href=\"#m10fa1368fe\" y=\"251.82\"/>\n     <use style=\"fill:#1f77b4;fill-opacity:0.6;\" x=\"253.88367\" xlink:href=\"#m10fa1368fe\" y=\"251.82\"/>\n     <use style=\"fill:#1f77b4;fill-opacity:0.6;\" x=\"228.386171\" xlink:href=\"#m10fa1368fe\" y=\"251.82\"/>\n     <use style=\"fill:#1f77b4;fill-opacity:0.6;\" x=\"192.689674\" xlink:href=\"#m10fa1368fe\" y=\"251.82\"/>\n     <use style=\"fill:#1f77b4;fill-opacity:0.6;\" x=\"126.396179\" xlink:href=\"#m10fa1368fe\" y=\"251.82\"/>\n     <use style=\"fill:#1f77b4;fill-opacity:0.6;\" x=\"231.951322\" xlink:href=\"#m10fa1368fe\" y=\"251.82\"/>\n     <use style=\"fill:#1f77b4;fill-opacity:0.6;\" x=\"335.475664\" xlink:href=\"#m10fa1368fe\" y=\"251.82\"/>\n     <use style=\"fill:#1f77b4;fill-opacity:0.6;\" x=\"231.951322\" xlink:href=\"#m10fa1368fe\" y=\"88.74\"/>\n     <use style=\"fill:#1f77b4;fill-opacity:0.6;\" x=\"376.271661\" xlink:href=\"#m10fa1368fe\" y=\"251.82\"/>\n     <use style=\"fill:#1f77b4;fill-opacity:0.6;\" x=\"233.485671\" xlink:href=\"#m10fa1368fe\" y=\"251.82\"/>\n     <use style=\"fill:#1f77b4;fill-opacity:0.6;\" x=\"231.951322\" xlink:href=\"#m10fa1368fe\" y=\"251.82\"/>\n     <use style=\"fill:#1f77b4;fill-opacity:0.6;\" x=\"187.590174\" xlink:href=\"#m10fa1368fe\" y=\"251.82\"/>\n     <use style=\"fill:#1f77b4;fill-opacity:0.6;\" x=\"360.973162\" xlink:href=\"#m10fa1368fe\" y=\"251.82\"/>\n     <use style=\"fill:#1f77b4;fill-opacity:0.6;\" x=\"442.565157\" xlink:href=\"#m10fa1368fe\" y=\"251.82\"/>\n     <use style=\"fill:#1f77b4;fill-opacity:0.6;\" x=\"187.590174\" xlink:href=\"#m10fa1368fe\" y=\"251.82\"/>\n     <use style=\"fill:#1f77b4;fill-opacity:0.6;\" x=\"231.951322\" xlink:href=\"#m10fa1368fe\" y=\"251.82\"/>\n     <use style=\"fill:#1f77b4;fill-opacity:0.6;\" x=\"231.951322\" xlink:href=\"#m10fa1368fe\" y=\"251.82\"/>\n     <use style=\"fill:#1f77b4;fill-opacity:0.6;\" x=\"207.988173\" xlink:href=\"#m10fa1368fe\" y=\"88.74\"/>\n     <use style=\"fill:#1f77b4;fill-opacity:0.6;\" x=\"202.888673\" xlink:href=\"#m10fa1368fe\" y=\"251.82\"/>\n     <use style=\"fill:#1f77b4;fill-opacity:0.6;\" x=\"167.192176\" xlink:href=\"#m10fa1368fe\" y=\"251.82\"/>\n     <use style=\"fill:#1f77b4;fill-opacity:0.6;\" x=\"187.590174\" xlink:href=\"#m10fa1368fe\" y=\"88.74\"/>\n     <use style=\"fill:#1f77b4;fill-opacity:0.6;\" x=\"231.951322\" xlink:href=\"#m10fa1368fe\" y=\"88.74\"/>\n     <use style=\"fill:#1f77b4;fill-opacity:0.6;\" x=\"269.182169\" xlink:href=\"#m10fa1368fe\" y=\"88.74\"/>\n     <use style=\"fill:#1f77b4;fill-opacity:0.6;\" x=\"172.291675\" xlink:href=\"#m10fa1368fe\" y=\"251.82\"/>\n     <use style=\"fill:#1f77b4;fill-opacity:0.6;\" x=\"223.286672\" xlink:href=\"#m10fa1368fe\" y=\"251.82\"/>\n     <use style=\"fill:#1f77b4;fill-opacity:0.6;\" x=\"231.951322\" xlink:href=\"#m10fa1368fe\" y=\"251.82\"/>\n     <use style=\"fill:#1f77b4;fill-opacity:0.6;\" x=\"202.888673\" xlink:href=\"#m10fa1368fe\" y=\"251.82\"/>\n     <use style=\"fill:#1f77b4;fill-opacity:0.6;\" x=\"320.177165\" xlink:href=\"#m10fa1368fe\" y=\"251.82\"/>\n     <use style=\"fill:#1f77b4;fill-opacity:0.6;\" x=\"231.951322\" xlink:href=\"#m10fa1368fe\" y=\"251.82\"/>\n     <use style=\"fill:#1f77b4;fill-opacity:0.6;\" x=\"243.68467\" xlink:href=\"#m10fa1368fe\" y=\"251.82\"/>\n     <use style=\"fill:#1f77b4;fill-opacity:0.6;\" x=\"192.689674\" xlink:href=\"#m10fa1368fe\" y=\"251.82\"/>\n     <use style=\"fill:#1f77b4;fill-opacity:0.6;\" x=\"231.951322\" xlink:href=\"#m10fa1368fe\" y=\"251.82\"/>\n     <use style=\"fill:#1f77b4;fill-opacity:0.6;\" x=\"231.951322\" xlink:href=\"#m10fa1368fe\" y=\"251.82\"/>\n     <use style=\"fill:#1f77b4;fill-opacity:0.6;\" x=\"287.030417\" xlink:href=\"#m10fa1368fe\" y=\"251.82\"/>\n     <use style=\"fill:#1f77b4;fill-opacity:0.6;\" x=\"231.951322\" xlink:href=\"#m10fa1368fe\" y=\"251.82\"/>\n     <use style=\"fill:#1f77b4;fill-opacity:0.6;\" x=\"279.381168\" xlink:href=\"#m10fa1368fe\" y=\"251.82\"/>\n     <use style=\"fill:#1f77b4;fill-opacity:0.6;\" x=\"197.789174\" xlink:href=\"#m10fa1368fe\" y=\"251.82\"/>\n     <use style=\"fill:#1f77b4;fill-opacity:0.6;\" x=\"231.951322\" xlink:href=\"#m10fa1368fe\" y=\"251.82\"/>\n     <use style=\"fill:#1f77b4;fill-opacity:0.6;\" x=\"167.192176\" xlink:href=\"#m10fa1368fe\" y=\"251.82\"/>\n     <use style=\"fill:#1f77b4;fill-opacity:0.6;\" x=\"233.485671\" xlink:href=\"#m10fa1368fe\" y=\"88.74\"/>\n     <use style=\"fill:#1f77b4;fill-opacity:0.6;\" x=\"309.978166\" xlink:href=\"#m10fa1368fe\" y=\"251.82\"/>\n     <use style=\"fill:#1f77b4;fill-opacity:0.6;\" x=\"231.951322\" xlink:href=\"#m10fa1368fe\" y=\"251.82\"/>\n     <use style=\"fill:#1f77b4;fill-opacity:0.6;\" x=\"126.396179\" xlink:href=\"#m10fa1368fe\" y=\"88.74\"/>\n     <use style=\"fill:#1f77b4;fill-opacity:0.6;\" x=\"136.595178\" xlink:href=\"#m10fa1368fe\" y=\"88.74\"/>\n     <use style=\"fill:#1f77b4;fill-opacity:0.6;\" x=\"335.475664\" xlink:href=\"#m10fa1368fe\" y=\"251.82\"/>\n     <use style=\"fill:#1f77b4;fill-opacity:0.6;\" x=\"406.868659\" xlink:href=\"#m10fa1368fe\" y=\"251.82\"/>\n     <use style=\"fill:#1f77b4;fill-opacity:0.6;\" x=\"248.78417\" xlink:href=\"#m10fa1368fe\" y=\"251.82\"/>\n     <use style=\"fill:#1f77b4;fill-opacity:0.6;\" x=\"218.187172\" xlink:href=\"#m10fa1368fe\" y=\"251.82\"/>\n     <use style=\"fill:#1f77b4;fill-opacity:0.6;\" x=\"231.951322\" xlink:href=\"#m10fa1368fe\" y=\"251.82\"/>\n     <use style=\"fill:#1f77b4;fill-opacity:0.6;\" x=\"396.66966\" xlink:href=\"#m10fa1368fe\" y=\"251.82\"/>\n     <use style=\"fill:#1f77b4;fill-opacity:0.6;\" x=\"231.951322\" xlink:href=\"#m10fa1368fe\" y=\"251.82\"/>\n     <use style=\"fill:#1f77b4;fill-opacity:0.6;\" x=\"231.951322\" xlink:href=\"#m10fa1368fe\" y=\"251.82\"/>\n     <use style=\"fill:#1f77b4;fill-opacity:0.6;\" x=\"284.480668\" xlink:href=\"#m10fa1368fe\" y=\"251.82\"/>\n     <use style=\"fill:#1f77b4;fill-opacity:0.6;\" x=\"223.286672\" xlink:href=\"#m10fa1368fe\" y=\"251.82\"/>\n     <use style=\"fill:#1f77b4;fill-opacity:0.6;\" x=\"231.951322\" xlink:href=\"#m10fa1368fe\" y=\"251.82\"/>\n     <use style=\"fill:#1f77b4;fill-opacity:0.6;\" x=\"231.951322\" xlink:href=\"#m10fa1368fe\" y=\"88.74\"/>\n     <use style=\"fill:#1f77b4;fill-opacity:0.6;\" x=\"202.888673\" xlink:href=\"#m10fa1368fe\" y=\"251.82\"/>\n     <use style=\"fill:#1f77b4;fill-opacity:0.6;\" x=\"177.391175\" xlink:href=\"#m10fa1368fe\" y=\"251.82\"/>\n     <use style=\"fill:#1f77b4;fill-opacity:0.6;\" x=\"228.386171\" xlink:href=\"#m10fa1368fe\" y=\"88.74\"/>\n     <use style=\"fill:#1f77b4;fill-opacity:0.6;\" x=\"231.951322\" xlink:href=\"#m10fa1368fe\" y=\"251.82\"/>\n     <use style=\"fill:#1f77b4;fill-opacity:0.6;\" x=\"162.092676\" xlink:href=\"#m10fa1368fe\" y=\"251.82\"/>\n     <use style=\"fill:#1f77b4;fill-opacity:0.6;\" x=\"177.391175\" xlink:href=\"#m10fa1368fe\" y=\"251.82\"/>\n     <use style=\"fill:#1f77b4;fill-opacity:0.6;\" x=\"231.951322\" xlink:href=\"#m10fa1368fe\" y=\"88.74\"/>\n     <use style=\"fill:#1f77b4;fill-opacity:0.6;\" x=\"355.873663\" xlink:href=\"#m10fa1368fe\" y=\"251.82\"/>\n     <use style=\"fill:#1f77b4;fill-opacity:0.6;\" x=\"264.082669\" xlink:href=\"#m10fa1368fe\" y=\"251.82\"/>\n     <use style=\"fill:#1f77b4;fill-opacity:0.6;\" x=\"231.951322\" xlink:href=\"#m10fa1368fe\" y=\"251.82\"/>\n     <use style=\"fill:#1f77b4;fill-opacity:0.6;\" x=\"320.177165\" xlink:href=\"#m10fa1368fe\" y=\"251.82\"/>\n     <use style=\"fill:#1f77b4;fill-opacity:0.6;\" x=\"192.689674\" xlink:href=\"#m10fa1368fe\" y=\"251.82\"/>\n     <use style=\"fill:#1f77b4;fill-opacity:0.6;\" x=\"231.951322\" xlink:href=\"#m10fa1368fe\" y=\"251.82\"/>\n     <use style=\"fill:#1f77b4;fill-opacity:0.6;\" x=\"258.983169\" xlink:href=\"#m10fa1368fe\" y=\"251.82\"/>\n     <use style=\"fill:#1f77b4;fill-opacity:0.6;\" x=\"320.177165\" xlink:href=\"#m10fa1368fe\" y=\"251.82\"/>\n     <use style=\"fill:#1f77b4;fill-opacity:0.6;\" x=\"231.951322\" xlink:href=\"#m10fa1368fe\" y=\"88.74\"/>\n     <use style=\"fill:#1f77b4;fill-opacity:0.6;\" x=\"269.182169\" xlink:href=\"#m10fa1368fe\" y=\"251.82\"/>\n     <use style=\"fill:#1f77b4;fill-opacity:0.6;\" x=\"264.082669\" xlink:href=\"#m10fa1368fe\" y=\"251.82\"/>\n     <use style=\"fill:#1f77b4;fill-opacity:0.6;\" x=\"330.376164\" xlink:href=\"#m10fa1368fe\" y=\"251.82\"/>\n     <use style=\"fill:#1f77b4;fill-opacity:0.6;\" x=\"231.951322\" xlink:href=\"#m10fa1368fe\" y=\"251.82\"/>\n     <use style=\"fill:#1f77b4;fill-opacity:0.6;\" x=\"231.951322\" xlink:href=\"#m10fa1368fe\" y=\"251.82\"/>\n     <use style=\"fill:#1f77b4;fill-opacity:0.6;\" x=\"231.951322\" xlink:href=\"#m10fa1368fe\" y=\"251.82\"/>\n     <use style=\"fill:#1f77b4;fill-opacity:0.6;\" x=\"304.878666\" xlink:href=\"#m10fa1368fe\" y=\"251.82\"/>\n     <use style=\"fill:#1f77b4;fill-opacity:0.6;\" x=\"264.082669\" xlink:href=\"#m10fa1368fe\" y=\"251.82\"/>\n     <use style=\"fill:#1f77b4;fill-opacity:0.6;\" x=\"233.485671\" xlink:href=\"#m10fa1368fe\" y=\"251.82\"/>\n     <use style=\"fill:#1f77b4;fill-opacity:0.6;\" x=\"279.381168\" xlink:href=\"#m10fa1368fe\" y=\"88.74\"/>\n     <use style=\"fill:#1f77b4;fill-opacity:0.6;\" x=\"231.951322\" xlink:href=\"#m10fa1368fe\" y=\"251.82\"/>\n     <use style=\"fill:#1f77b4;fill-opacity:0.6;\" x=\"231.951322\" xlink:href=\"#m10fa1368fe\" y=\"251.82\"/>\n     <use style=\"fill:#1f77b4;fill-opacity:0.6;\" x=\"258.983169\" xlink:href=\"#m10fa1368fe\" y=\"251.82\"/>\n     <use style=\"fill:#1f77b4;fill-opacity:0.6;\" x=\"253.88367\" xlink:href=\"#m10fa1368fe\" y=\"251.82\"/>\n     <use style=\"fill:#1f77b4;fill-opacity:0.6;\" x=\"213.087673\" xlink:href=\"#m10fa1368fe\" y=\"88.74\"/>\n     <use style=\"fill:#1f77b4;fill-opacity:0.6;\" x=\"213.087673\" xlink:href=\"#m10fa1368fe\" y=\"251.82\"/>\n     <use style=\"fill:#1f77b4;fill-opacity:0.6;\" x=\"218.187172\" xlink:href=\"#m10fa1368fe\" y=\"251.82\"/>\n     <use style=\"fill:#1f77b4;fill-opacity:0.6;\" x=\"187.590174\" xlink:href=\"#m10fa1368fe\" y=\"251.82\"/>\n     <use style=\"fill:#1f77b4;fill-opacity:0.6;\" x=\"187.590174\" xlink:href=\"#m10fa1368fe\" y=\"251.82\"/>\n     <use style=\"fill:#1f77b4;fill-opacity:0.6;\" x=\"391.57016\" xlink:href=\"#m10fa1368fe\" y=\"251.82\"/>\n     <use style=\"fill:#1f77b4;fill-opacity:0.6;\" x=\"371.172162\" xlink:href=\"#m10fa1368fe\" y=\"251.82\"/>\n     <use style=\"fill:#1f77b4;fill-opacity:0.6;\" x=\"213.087673\" xlink:href=\"#m10fa1368fe\" y=\"251.82\"/>\n     <use style=\"fill:#1f77b4;fill-opacity:0.6;\" x=\"231.951322\" xlink:href=\"#m10fa1368fe\" y=\"251.82\"/>\n     <use style=\"fill:#1f77b4;fill-opacity:0.6;\" x=\"340.575164\" xlink:href=\"#m10fa1368fe\" y=\"251.82\"/>\n     <use style=\"fill:#1f77b4;fill-opacity:0.6;\" x=\"231.951322\" xlink:href=\"#m10fa1368fe\" y=\"251.82\"/>\n     <use style=\"fill:#1f77b4;fill-opacity:0.6;\" x=\"126.396179\" xlink:href=\"#m10fa1368fe\" y=\"88.74\"/>\n     <use style=\"fill:#1f77b4;fill-opacity:0.6;\" x=\"243.68467\" xlink:href=\"#m10fa1368fe\" y=\"251.82\"/>\n     <use style=\"fill:#1f77b4;fill-opacity:0.6;\" x=\"238.585171\" xlink:href=\"#m10fa1368fe\" y=\"251.82\"/>\n     <use style=\"fill:#1f77b4;fill-opacity:0.6;\" x=\"289.580167\" xlink:href=\"#m10fa1368fe\" y=\"88.74\"/>\n     <use style=\"fill:#1f77b4;fill-opacity:0.6;\" x=\"231.951322\" xlink:href=\"#m10fa1368fe\" y=\"251.82\"/>\n     <use style=\"fill:#1f77b4;fill-opacity:0.6;\" x=\"182.490675\" xlink:href=\"#m10fa1368fe\" y=\"251.82\"/>\n     <use style=\"fill:#1f77b4;fill-opacity:0.6;\" x=\"90.699681\" xlink:href=\"#m10fa1368fe\" y=\"88.74\"/>\n     <use style=\"fill:#1f77b4;fill-opacity:0.6;\" x=\"177.391175\" xlink:href=\"#m10fa1368fe\" y=\"251.82\"/>\n     <use style=\"fill:#1f77b4;fill-opacity:0.6;\" x=\"231.951322\" xlink:href=\"#m10fa1368fe\" y=\"251.82\"/>\n     <use style=\"fill:#1f77b4;fill-opacity:0.6;\" x=\"231.951322\" xlink:href=\"#m10fa1368fe\" y=\"251.82\"/>\n     <use style=\"fill:#1f77b4;fill-opacity:0.6;\" x=\"187.590174\" xlink:href=\"#m10fa1368fe\" y=\"251.82\"/>\n     <use style=\"fill:#1f77b4;fill-opacity:0.6;\" x=\"172.291675\" xlink:href=\"#m10fa1368fe\" y=\"88.74\"/>\n     <use style=\"fill:#1f77b4;fill-opacity:0.6;\" x=\"202.888673\" xlink:href=\"#m10fa1368fe\" y=\"251.82\"/>\n     <use style=\"fill:#1f77b4;fill-opacity:0.6;\" x=\"231.951322\" xlink:href=\"#m10fa1368fe\" y=\"251.82\"/>\n     <use style=\"fill:#1f77b4;fill-opacity:0.6;\" x=\"243.68467\" xlink:href=\"#m10fa1368fe\" y=\"88.74\"/>\n     <use style=\"fill:#1f77b4;fill-opacity:0.6;\" x=\"197.789174\" xlink:href=\"#m10fa1368fe\" y=\"251.82\"/>\n     <use style=\"fill:#1f77b4;fill-opacity:0.6;\" x=\"376.271661\" xlink:href=\"#m10fa1368fe\" y=\"251.82\"/>\n     <use style=\"fill:#1f77b4;fill-opacity:0.6;\" x=\"284.480668\" xlink:href=\"#m10fa1368fe\" y=\"251.82\"/>\n     <use style=\"fill:#1f77b4;fill-opacity:0.6;\" x=\"320.177165\" xlink:href=\"#m10fa1368fe\" y=\"251.82\"/>\n     <use style=\"fill:#1f77b4;fill-opacity:0.6;\" x=\"264.082669\" xlink:href=\"#m10fa1368fe\" y=\"251.82\"/>\n     <use style=\"fill:#1f77b4;fill-opacity:0.6;\" x=\"243.68467\" xlink:href=\"#m10fa1368fe\" y=\"251.82\"/>\n     <use style=\"fill:#1f77b4;fill-opacity:0.6;\" x=\"207.988173\" xlink:href=\"#m10fa1368fe\" y=\"251.82\"/>\n     <use style=\"fill:#1f77b4;fill-opacity:0.6;\" x=\"231.951322\" xlink:href=\"#m10fa1368fe\" y=\"251.82\"/>\n     <use style=\"fill:#1f77b4;fill-opacity:0.6;\" x=\"299.779167\" xlink:href=\"#m10fa1368fe\" y=\"251.82\"/>\n     <use style=\"fill:#1f77b4;fill-opacity:0.6;\" x=\"238.585171\" xlink:href=\"#m10fa1368fe\" y=\"251.82\"/>\n     <use style=\"fill:#1f77b4;fill-opacity:0.6;\" x=\"437.465657\" xlink:href=\"#m10fa1368fe\" y=\"251.82\"/>\n     <use style=\"fill:#1f77b4;fill-opacity:0.6;\" x=\"231.951322\" xlink:href=\"#m10fa1368fe\" y=\"251.82\"/>\n     <use style=\"fill:#1f77b4;fill-opacity:0.6;\" x=\"172.291675\" xlink:href=\"#m10fa1368fe\" y=\"251.82\"/>\n     <use style=\"fill:#1f77b4;fill-opacity:0.6;\" x=\"205.438423\" xlink:href=\"#m10fa1368fe\" y=\"251.82\"/>\n     <use style=\"fill:#1f77b4;fill-opacity:0.6;\" x=\"299.779167\" xlink:href=\"#m10fa1368fe\" y=\"88.74\"/>\n     <use style=\"fill:#1f77b4;fill-opacity:0.6;\" x=\"231.951322\" xlink:href=\"#m10fa1368fe\" y=\"88.74\"/>\n     <use style=\"fill:#1f77b4;fill-opacity:0.6;\" x=\"182.490675\" xlink:href=\"#m10fa1368fe\" y=\"251.82\"/>\n     <use style=\"fill:#1f77b4;fill-opacity:0.6;\" x=\"151.893677\" xlink:href=\"#m10fa1368fe\" y=\"251.82\"/>\n     <use style=\"fill:#1f77b4;fill-opacity:0.6;\" x=\"386.47066\" xlink:href=\"#m10fa1368fe\" y=\"251.82\"/>\n     <use style=\"fill:#1f77b4;fill-opacity:0.6;\" x=\"207.988173\" xlink:href=\"#m10fa1368fe\" y=\"251.82\"/>\n     <use style=\"fill:#1f77b4;fill-opacity:0.6;\" x=\"151.893677\" xlink:href=\"#m10fa1368fe\" y=\"251.82\"/>\n     <use style=\"fill:#1f77b4;fill-opacity:0.6;\" x=\"177.391175\" xlink:href=\"#m10fa1368fe\" y=\"251.82\"/>\n     <use style=\"fill:#1f77b4;fill-opacity:0.6;\" x=\"172.291675\" xlink:href=\"#m10fa1368fe\" y=\"251.82\"/>\n     <use style=\"fill:#1f77b4;fill-opacity:0.6;\" x=\"207.988173\" xlink:href=\"#m10fa1368fe\" y=\"251.82\"/>\n     <use style=\"fill:#1f77b4;fill-opacity:0.6;\" x=\"386.47066\" xlink:href=\"#m10fa1368fe\" y=\"251.82\"/>\n     <use style=\"fill:#1f77b4;fill-opacity:0.6;\" x=\"345.674663\" xlink:href=\"#m10fa1368fe\" y=\"251.82\"/>\n     <use style=\"fill:#1f77b4;fill-opacity:0.6;\" x=\"304.878666\" xlink:href=\"#m10fa1368fe\" y=\"251.82\"/>\n     <use style=\"fill:#1f77b4;fill-opacity:0.6;\" x=\"330.376164\" xlink:href=\"#m10fa1368fe\" y=\"251.82\"/>\n     <use style=\"fill:#1f77b4;fill-opacity:0.6;\" x=\"294.679667\" xlink:href=\"#m10fa1368fe\" y=\"251.82\"/>\n     <use style=\"fill:#1f77b4;fill-opacity:0.6;\" x=\"172.291675\" xlink:href=\"#m10fa1368fe\" y=\"88.74\"/>\n     <use style=\"fill:#1f77b4;fill-opacity:0.6;\" x=\"207.988173\" xlink:href=\"#m10fa1368fe\" y=\"251.82\"/>\n     <use style=\"fill:#1f77b4;fill-opacity:0.6;\" x=\"213.087673\" xlink:href=\"#m10fa1368fe\" y=\"251.82\"/>\n     <use style=\"fill:#1f77b4;fill-opacity:0.6;\" x=\"279.381168\" xlink:href=\"#m10fa1368fe\" y=\"251.82\"/>\n     <use style=\"fill:#1f77b4;fill-opacity:0.6;\" x=\"231.951322\" xlink:href=\"#m10fa1368fe\" y=\"251.82\"/>\n     <use style=\"fill:#1f77b4;fill-opacity:0.6;\" x=\"228.386171\" xlink:href=\"#m10fa1368fe\" y=\"251.82\"/>\n     <use style=\"fill:#1f77b4;fill-opacity:0.6;\" x=\"345.674663\" xlink:href=\"#m10fa1368fe\" y=\"251.82\"/>\n     <use style=\"fill:#1f77b4;fill-opacity:0.6;\" x=\"177.391175\" xlink:href=\"#m10fa1368fe\" y=\"251.82\"/>\n     <use style=\"fill:#1f77b4;fill-opacity:0.6;\" x=\"231.951322\" xlink:href=\"#m10fa1368fe\" y=\"251.82\"/>\n     <use style=\"fill:#1f77b4;fill-opacity:0.6;\" x=\"248.78417\" xlink:href=\"#m10fa1368fe\" y=\"251.82\"/>\n     <use style=\"fill:#1f77b4;fill-opacity:0.6;\" x=\"167.192176\" xlink:href=\"#m10fa1368fe\" y=\"251.82\"/>\n     <use style=\"fill:#1f77b4;fill-opacity:0.6;\" x=\"253.88367\" xlink:href=\"#m10fa1368fe\" y=\"251.82\"/>\n     <use style=\"fill:#1f77b4;fill-opacity:0.6;\" x=\"335.475664\" xlink:href=\"#m10fa1368fe\" y=\"251.82\"/>\n     <use style=\"fill:#1f77b4;fill-opacity:0.6;\" x=\"182.490675\" xlink:href=\"#m10fa1368fe\" y=\"251.82\"/>\n     <use style=\"fill:#1f77b4;fill-opacity:0.6;\" x=\"207.988173\" xlink:href=\"#m10fa1368fe\" y=\"251.82\"/>\n     <use style=\"fill:#1f77b4;fill-opacity:0.6;\" x=\"207.988173\" xlink:href=\"#m10fa1368fe\" y=\"88.74\"/>\n     <use style=\"fill:#1f77b4;fill-opacity:0.6;\" x=\"136.595178\" xlink:href=\"#m10fa1368fe\" y=\"251.82\"/>\n     <use style=\"fill:#1f77b4;fill-opacity:0.6;\" x=\"231.951322\" xlink:href=\"#m10fa1368fe\" y=\"251.82\"/>\n     <use style=\"fill:#1f77b4;fill-opacity:0.6;\" x=\"197.789174\" xlink:href=\"#m10fa1368fe\" y=\"251.82\"/>\n     <use style=\"fill:#1f77b4;fill-opacity:0.6;\" x=\"197.789174\" xlink:href=\"#m10fa1368fe\" y=\"251.82\"/>\n     <use style=\"fill:#1f77b4;fill-opacity:0.6;\" x=\"225.836422\" xlink:href=\"#m10fa1368fe\" y=\"251.82\"/>\n     <use style=\"fill:#1f77b4;fill-opacity:0.6;\" x=\"325.276665\" xlink:href=\"#m10fa1368fe\" y=\"88.74\"/>\n     <use style=\"fill:#1f77b4;fill-opacity:0.6;\" x=\"231.951322\" xlink:href=\"#m10fa1368fe\" y=\"251.82\"/>\n     <use style=\"fill:#1f77b4;fill-opacity:0.6;\" x=\"231.951322\" xlink:href=\"#m10fa1368fe\" y=\"251.82\"/>\n     <use style=\"fill:#1f77b4;fill-opacity:0.6;\" x=\"264.082669\" xlink:href=\"#m10fa1368fe\" y=\"251.82\"/>\n     <use style=\"fill:#1f77b4;fill-opacity:0.6;\" x=\"202.888673\" xlink:href=\"#m10fa1368fe\" y=\"251.82\"/>\n     <use style=\"fill:#1f77b4;fill-opacity:0.6;\" x=\"437.465657\" xlink:href=\"#m10fa1368fe\" y=\"251.82\"/>\n     <use style=\"fill:#1f77b4;fill-opacity:0.6;\" x=\"162.092676\" xlink:href=\"#m10fa1368fe\" y=\"251.82\"/>\n     <use style=\"fill:#1f77b4;fill-opacity:0.6;\" x=\"177.391175\" xlink:href=\"#m10fa1368fe\" y=\"251.82\"/>\n     <use style=\"fill:#1f77b4;fill-opacity:0.6;\" x=\"238.585171\" xlink:href=\"#m10fa1368fe\" y=\"251.82\"/>\n     <use style=\"fill:#1f77b4;fill-opacity:0.6;\" x=\"248.78417\" xlink:href=\"#m10fa1368fe\" y=\"251.82\"/>\n     <use style=\"fill:#1f77b4;fill-opacity:0.6;\" x=\"197.789174\" xlink:href=\"#m10fa1368fe\" y=\"251.82\"/>\n     <use style=\"fill:#1f77b4;fill-opacity:0.6;\" x=\"223.286672\" xlink:href=\"#m10fa1368fe\" y=\"251.82\"/>\n     <use style=\"fill:#1f77b4;fill-opacity:0.6;\" x=\"172.291675\" xlink:href=\"#m10fa1368fe\" y=\"251.82\"/>\n     <use style=\"fill:#1f77b4;fill-opacity:0.6;\" x=\"253.88367\" xlink:href=\"#m10fa1368fe\" y=\"251.82\"/>\n     <use style=\"fill:#1f77b4;fill-opacity:0.6;\" x=\"231.951322\" xlink:href=\"#m10fa1368fe\" y=\"251.82\"/>\n     <use style=\"fill:#1f77b4;fill-opacity:0.6;\" x=\"289.580167\" xlink:href=\"#m10fa1368fe\" y=\"251.82\"/>\n     <use style=\"fill:#1f77b4;fill-opacity:0.6;\" x=\"162.092676\" xlink:href=\"#m10fa1368fe\" y=\"251.82\"/>\n     <use style=\"fill:#1f77b4;fill-opacity:0.6;\" x=\"231.951322\" xlink:href=\"#m10fa1368fe\" y=\"251.82\"/>\n     <use style=\"fill:#1f77b4;fill-opacity:0.6;\" x=\"236.035421\" xlink:href=\"#m10fa1368fe\" y=\"88.74\"/>\n     <use style=\"fill:#1f77b4;fill-opacity:0.6;\" x=\"231.951322\" xlink:href=\"#m10fa1368fe\" y=\"251.82\"/>\n     <use style=\"fill:#1f77b4;fill-opacity:0.6;\" x=\"243.68467\" xlink:href=\"#m10fa1368fe\" y=\"251.82\"/>\n     <use style=\"fill:#1f77b4;fill-opacity:0.6;\" x=\"202.888673\" xlink:href=\"#m10fa1368fe\" y=\"251.82\"/>\n     <use style=\"fill:#1f77b4;fill-opacity:0.6;\" x=\"325.276665\" xlink:href=\"#m10fa1368fe\" y=\"251.82\"/>\n     <use style=\"fill:#1f77b4;fill-opacity:0.6;\" x=\"371.172162\" xlink:href=\"#m10fa1368fe\" y=\"88.74\"/>\n     <use style=\"fill:#1f77b4;fill-opacity:0.6;\" x=\"231.951322\" xlink:href=\"#m10fa1368fe\" y=\"251.82\"/>\n     <use style=\"fill:#1f77b4;fill-opacity:0.6;\" x=\"172.291675\" xlink:href=\"#m10fa1368fe\" y=\"251.82\"/>\n     <use style=\"fill:#1f77b4;fill-opacity:0.6;\" x=\"231.951322\" xlink:href=\"#m10fa1368fe\" y=\"251.82\"/>\n     <use style=\"fill:#1f77b4;fill-opacity:0.6;\" x=\"231.951322\" xlink:href=\"#m10fa1368fe\" y=\"251.82\"/>\n     <use style=\"fill:#1f77b4;fill-opacity:0.6;\" x=\"228.386171\" xlink:href=\"#m10fa1368fe\" y=\"251.82\"/>\n     <use style=\"fill:#1f77b4;fill-opacity:0.6;\" x=\"231.951322\" xlink:href=\"#m10fa1368fe\" y=\"251.82\"/>\n     <use style=\"fill:#1f77b4;fill-opacity:0.6;\" x=\"207.988173\" xlink:href=\"#m10fa1368fe\" y=\"251.82\"/>\n     <use style=\"fill:#1f77b4;fill-opacity:0.6;\" x=\"207.988173\" xlink:href=\"#m10fa1368fe\" y=\"251.82\"/>\n     <use style=\"fill:#1f77b4;fill-opacity:0.6;\" x=\"121.296679\" xlink:href=\"#m10fa1368fe\" y=\"251.82\"/>\n     <use style=\"fill:#1f77b4;fill-opacity:0.6;\" x=\"315.077665\" xlink:href=\"#m10fa1368fe\" y=\"251.82\"/>\n     <use style=\"fill:#1f77b4;fill-opacity:0.6;\" x=\"231.951322\" xlink:href=\"#m10fa1368fe\" y=\"251.82\"/>\n     <use style=\"fill:#1f77b4;fill-opacity:0.6;\" x=\"162.092676\" xlink:href=\"#m10fa1368fe\" y=\"251.82\"/>\n     <use style=\"fill:#1f77b4;fill-opacity:0.6;\" x=\"231.951322\" xlink:href=\"#m10fa1368fe\" y=\"88.74\"/>\n     <use style=\"fill:#1f77b4;fill-opacity:0.6;\" x=\"231.951322\" xlink:href=\"#m10fa1368fe\" y=\"251.82\"/>\n     <use style=\"fill:#1f77b4;fill-opacity:0.6;\" x=\"207.988173\" xlink:href=\"#m10fa1368fe\" y=\"251.82\"/>\n     <use style=\"fill:#1f77b4;fill-opacity:0.6;\" x=\"279.381168\" xlink:href=\"#m10fa1368fe\" y=\"251.82\"/>\n     <use style=\"fill:#1f77b4;fill-opacity:0.6;\" x=\"233.485671\" xlink:href=\"#m10fa1368fe\" y=\"251.82\"/>\n     <use style=\"fill:#1f77b4;fill-opacity:0.6;\" x=\"233.485671\" xlink:href=\"#m10fa1368fe\" y=\"88.74\"/>\n     <use style=\"fill:#1f77b4;fill-opacity:0.6;\" x=\"253.88367\" xlink:href=\"#m10fa1368fe\" y=\"251.82\"/>\n     <use style=\"fill:#1f77b4;fill-opacity:0.6;\" x=\"238.585171\" xlink:href=\"#m10fa1368fe\" y=\"251.82\"/>\n     <use style=\"fill:#1f77b4;fill-opacity:0.6;\" x=\"279.381168\" xlink:href=\"#m10fa1368fe\" y=\"251.82\"/>\n     <use style=\"fill:#1f77b4;fill-opacity:0.6;\" x=\"172.291675\" xlink:href=\"#m10fa1368fe\" y=\"88.74\"/>\n     <use style=\"fill:#1f77b4;fill-opacity:0.6;\" x=\"279.381168\" xlink:href=\"#m10fa1368fe\" y=\"251.82\"/>\n     <use style=\"fill:#1f77b4;fill-opacity:0.6;\" x=\"213.087673\" xlink:href=\"#m10fa1368fe\" y=\"251.82\"/>\n     <use style=\"fill:#1f77b4;fill-opacity:0.6;\" x=\"279.381168\" xlink:href=\"#m10fa1368fe\" y=\"251.82\"/>\n     <use style=\"fill:#1f77b4;fill-opacity:0.6;\" x=\"258.983169\" xlink:href=\"#m10fa1368fe\" y=\"251.82\"/>\n     <use style=\"fill:#1f77b4;fill-opacity:0.6;\" x=\"111.09768\" xlink:href=\"#m10fa1368fe\" y=\"88.74\"/>\n     <use style=\"fill:#1f77b4;fill-opacity:0.6;\" x=\"236.035421\" xlink:href=\"#m10fa1368fe\" y=\"251.82\"/>\n     <use style=\"fill:#1f77b4;fill-opacity:0.6;\" x=\"231.951322\" xlink:href=\"#m10fa1368fe\" y=\"251.82\"/>\n     <use style=\"fill:#1f77b4;fill-opacity:0.6;\" x=\"197.789174\" xlink:href=\"#m10fa1368fe\" y=\"88.74\"/>\n     <use style=\"fill:#1f77b4;fill-opacity:0.6;\" x=\"238.585171\" xlink:href=\"#m10fa1368fe\" y=\"251.82\"/>\n     <use style=\"fill:#1f77b4;fill-opacity:0.6;\" x=\"299.779167\" xlink:href=\"#m10fa1368fe\" y=\"251.82\"/>\n     <use style=\"fill:#1f77b4;fill-opacity:0.6;\" x=\"131.495678\" xlink:href=\"#m10fa1368fe\" y=\"251.82\"/>\n     <use style=\"fill:#1f77b4;fill-opacity:0.6;\" x=\"274.281668\" xlink:href=\"#m10fa1368fe\" y=\"251.82\"/>\n     <use style=\"fill:#1f77b4;fill-opacity:0.6;\" x=\"90.699681\" xlink:href=\"#m10fa1368fe\" y=\"251.82\"/>\n     <use style=\"fill:#1f77b4;fill-opacity:0.6;\" x=\"231.951322\" xlink:href=\"#m10fa1368fe\" y=\"251.82\"/>\n     <use style=\"fill:#1f77b4;fill-opacity:0.6;\" x=\"231.951322\" xlink:href=\"#m10fa1368fe\" y=\"251.82\"/>\n     <use style=\"fill:#1f77b4;fill-opacity:0.6;\" x=\"231.951322\" xlink:href=\"#m10fa1368fe\" y=\"251.82\"/>\n     <use style=\"fill:#1f77b4;fill-opacity:0.6;\" x=\"197.789174\" xlink:href=\"#m10fa1368fe\" y=\"251.82\"/>\n     <use style=\"fill:#1f77b4;fill-opacity:0.6;\" x=\"172.291675\" xlink:href=\"#m10fa1368fe\" y=\"251.82\"/>\n     <use style=\"fill:#1f77b4;fill-opacity:0.6;\" x=\"187.590174\" xlink:href=\"#m10fa1368fe\" y=\"251.82\"/>\n     <use style=\"fill:#1f77b4;fill-opacity:0.6;\" x=\"231.951322\" xlink:href=\"#m10fa1368fe\" y=\"251.82\"/>\n     <use style=\"fill:#1f77b4;fill-opacity:0.6;\" x=\"182.490675\" xlink:href=\"#m10fa1368fe\" y=\"251.82\"/>\n     <use style=\"fill:#1f77b4;fill-opacity:0.6;\" x=\"162.092676\" xlink:href=\"#m10fa1368fe\" y=\"251.82\"/>\n     <use style=\"fill:#1f77b4;fill-opacity:0.6;\" x=\"256.43342\" xlink:href=\"#m10fa1368fe\" y=\"251.82\"/>\n     <use style=\"fill:#1f77b4;fill-opacity:0.6;\" x=\"167.192176\" xlink:href=\"#m10fa1368fe\" y=\"251.82\"/>\n     <use style=\"fill:#1f77b4;fill-opacity:0.6;\" x=\"294.679667\" xlink:href=\"#m10fa1368fe\" y=\"251.82\"/>\n     <use style=\"fill:#1f77b4;fill-opacity:0.6;\" x=\"231.951322\" xlink:href=\"#m10fa1368fe\" y=\"251.82\"/>\n     <use style=\"fill:#1f77b4;fill-opacity:0.6;\" x=\"258.983169\" xlink:href=\"#m10fa1368fe\" y=\"251.82\"/>\n     <use style=\"fill:#1f77b4;fill-opacity:0.6;\" x=\"223.286672\" xlink:href=\"#m10fa1368fe\" y=\"251.82\"/>\n     <use style=\"fill:#1f77b4;fill-opacity:0.6;\" x=\"100.89868\" xlink:href=\"#m10fa1368fe\" y=\"251.82\"/>\n     <use style=\"fill:#1f77b4;fill-opacity:0.6;\" x=\"457.863656\" xlink:href=\"#m10fa1368fe\" y=\"251.82\"/>\n     <use style=\"fill:#1f77b4;fill-opacity:0.6;\" x=\"126.396179\" xlink:href=\"#m10fa1368fe\" y=\"88.74\"/>\n     <use style=\"fill:#1f77b4;fill-opacity:0.6;\" x=\"304.878666\" xlink:href=\"#m10fa1368fe\" y=\"88.74\"/>\n     <use style=\"fill:#1f77b4;fill-opacity:0.6;\" x=\"231.951322\" xlink:href=\"#m10fa1368fe\" y=\"251.82\"/>\n     <use style=\"fill:#1f77b4;fill-opacity:0.6;\" x=\"289.580167\" xlink:href=\"#m10fa1368fe\" y=\"251.82\"/>\n     <use style=\"fill:#1f77b4;fill-opacity:0.6;\" x=\"187.590174\" xlink:href=\"#m10fa1368fe\" y=\"251.82\"/>\n     <use style=\"fill:#1f77b4;fill-opacity:0.6;\" x=\"231.951322\" xlink:href=\"#m10fa1368fe\" y=\"88.74\"/>\n     <use style=\"fill:#1f77b4;fill-opacity:0.6;\" x=\"202.888673\" xlink:href=\"#m10fa1368fe\" y=\"251.82\"/>\n     <use style=\"fill:#1f77b4;fill-opacity:0.6;\" x=\"238.585171\" xlink:href=\"#m10fa1368fe\" y=\"251.82\"/>\n     <use style=\"fill:#1f77b4;fill-opacity:0.6;\" x=\"231.951322\" xlink:href=\"#m10fa1368fe\" y=\"251.82\"/>\n     <use style=\"fill:#1f77b4;fill-opacity:0.6;\" x=\"213.087673\" xlink:href=\"#m10fa1368fe\" y=\"251.82\"/>\n     <use style=\"fill:#1f77b4;fill-opacity:0.6;\" x=\"248.78417\" xlink:href=\"#m10fa1368fe\" y=\"251.82\"/>\n     <use style=\"fill:#1f77b4;fill-opacity:0.6;\" x=\"320.177165\" xlink:href=\"#m10fa1368fe\" y=\"251.82\"/>\n     <use style=\"fill:#1f77b4;fill-opacity:0.6;\" x=\"182.490675\" xlink:href=\"#m10fa1368fe\" y=\"251.82\"/>\n     <use style=\"fill:#1f77b4;fill-opacity:0.6;\" x=\"177.391175\" xlink:href=\"#m10fa1368fe\" y=\"251.82\"/>\n     <use style=\"fill:#1f77b4;fill-opacity:0.6;\" x=\"231.951322\" xlink:href=\"#m10fa1368fe\" y=\"251.82\"/>\n     <use style=\"fill:#1f77b4;fill-opacity:0.6;\" x=\"248.78417\" xlink:href=\"#m10fa1368fe\" y=\"251.82\"/>\n     <use style=\"fill:#1f77b4;fill-opacity:0.6;\" x=\"192.689674\" xlink:href=\"#m10fa1368fe\" y=\"88.74\"/>\n     <use style=\"fill:#1f77b4;fill-opacity:0.6;\" x=\"223.286672\" xlink:href=\"#m10fa1368fe\" y=\"251.82\"/>\n     <use style=\"fill:#1f77b4;fill-opacity:0.6;\" x=\"207.988173\" xlink:href=\"#m10fa1368fe\" y=\"251.82\"/>\n     <use style=\"fill:#1f77b4;fill-opacity:0.6;\" x=\"279.381168\" xlink:href=\"#m10fa1368fe\" y=\"88.74\"/>\n     <use style=\"fill:#1f77b4;fill-opacity:0.6;\" x=\"218.187172\" xlink:href=\"#m10fa1368fe\" y=\"251.82\"/>\n     <use style=\"fill:#1f77b4;fill-opacity:0.6;\" x=\"231.951322\" xlink:href=\"#m10fa1368fe\" y=\"88.74\"/>\n     <use style=\"fill:#1f77b4;fill-opacity:0.6;\" x=\"243.68467\" xlink:href=\"#m10fa1368fe\" y=\"251.82\"/>\n    </g>\n   </g>\n   <g id=\"PathCollection_2\">\n    <defs>\n     <path d=\"M 0 4.472136 \nC 1.186024 4.472136 2.323632 4.000923 3.162278 3.162278 \nC 4.000923 2.323632 4.472136 1.186024 4.472136 0 \nC 4.472136 -1.186024 4.000923 -2.323632 3.162278 -3.162278 \nC 2.323632 -4.000923 1.186024 -4.472136 0 -4.472136 \nC -1.186024 -4.472136 -2.323632 -4.000923 -3.162278 -3.162278 \nC -4.000923 -2.323632 -4.472136 -1.186024 -4.472136 0 \nC -4.472136 1.186024 -4.000923 2.323632 -3.162278 3.162278 \nC -2.323632 4.000923 -1.186024 4.472136 0 4.472136 \nz\n\" id=\"mf72c41c6f0\"/>\n    </defs>\n    <g clip-path=\"url(#p19dc794945)\">\n     <use style=\"fill:#ff7f0e;fill-opacity:0.6;\" x=\"274.281668\" xlink:href=\"#mf72c41c6f0\" y=\"88.74\"/>\n     <use style=\"fill:#ff7f0e;fill-opacity:0.6;\" x=\"213.087673\" xlink:href=\"#mf72c41c6f0\" y=\"88.74\"/>\n     <use style=\"fill:#ff7f0e;fill-opacity:0.6;\" x=\"258.983169\" xlink:href=\"#mf72c41c6f0\" y=\"88.74\"/>\n     <use style=\"fill:#ff7f0e;fill-opacity:0.6;\" x=\"218.187172\" xlink:href=\"#mf72c41c6f0\" y=\"88.74\"/>\n     <use style=\"fill:#ff7f0e;fill-opacity:0.6;\" x=\"151.893677\" xlink:href=\"#mf72c41c6f0\" y=\"88.74\"/>\n     <use style=\"fill:#ff7f0e;fill-opacity:0.6;\" x=\"100.89868\" xlink:href=\"#mf72c41c6f0\" y=\"88.74\"/>\n     <use style=\"fill:#ff7f0e;fill-opacity:0.6;\" x=\"376.271661\" xlink:href=\"#mf72c41c6f0\" y=\"88.74\"/>\n     <use style=\"fill:#ff7f0e;fill-opacity:0.6;\" x=\"360.973162\" xlink:href=\"#mf72c41c6f0\" y=\"88.74\"/>\n     <use style=\"fill:#ff7f0e;fill-opacity:0.6;\" x=\"231.951322\" xlink:href=\"#mf72c41c6f0\" y=\"251.82\"/>\n     <use style=\"fill:#ff7f0e;fill-opacity:0.6;\" x=\"231.951322\" xlink:href=\"#mf72c41c6f0\" y=\"88.74\"/>\n     <use style=\"fill:#ff7f0e;fill-opacity:0.6;\" x=\"253.88367\" xlink:href=\"#mf72c41c6f0\" y=\"251.82\"/>\n     <use style=\"fill:#ff7f0e;fill-opacity:0.6;\" x=\"156.993176\" xlink:href=\"#mf72c41c6f0\" y=\"88.74\"/>\n     <use style=\"fill:#ff7f0e;fill-opacity:0.6;\" x=\"223.286672\" xlink:href=\"#mf72c41c6f0\" y=\"251.82\"/>\n     <use style=\"fill:#ff7f0e;fill-opacity:0.6;\" x=\"274.281668\" xlink:href=\"#mf72c41c6f0\" y=\"88.74\"/>\n     <use style=\"fill:#ff7f0e;fill-opacity:0.6;\" x=\"231.951322\" xlink:href=\"#mf72c41c6f0\" y=\"88.74\"/>\n     <use style=\"fill:#ff7f0e;fill-opacity:0.6;\" x=\"231.951322\" xlink:href=\"#mf72c41c6f0\" y=\"88.74\"/>\n     <use style=\"fill:#ff7f0e;fill-opacity:0.6;\" x=\"231.951322\" xlink:href=\"#mf72c41c6f0\" y=\"88.74\"/>\n     <use style=\"fill:#ff7f0e;fill-opacity:0.6;\" x=\"231.951322\" xlink:href=\"#mf72c41c6f0\" y=\"251.82\"/>\n     <use style=\"fill:#ff7f0e;fill-opacity:0.6;\" x=\"151.893677\" xlink:href=\"#mf72c41c6f0\" y=\"88.74\"/>\n     <use style=\"fill:#ff7f0e;fill-opacity:0.6;\" x=\"95.799181\" xlink:href=\"#mf72c41c6f0\" y=\"88.74\"/>\n     <use style=\"fill:#ff7f0e;fill-opacity:0.6;\" x=\"177.391175\" xlink:href=\"#mf72c41c6f0\" y=\"88.74\"/>\n     <use style=\"fill:#ff7f0e;fill-opacity:0.6;\" x=\"231.951322\" xlink:href=\"#mf72c41c6f0\" y=\"88.74\"/>\n     <use style=\"fill:#ff7f0e;fill-opacity:0.6;\" x=\"330.376164\" xlink:href=\"#mf72c41c6f0\" y=\"88.74\"/>\n     <use style=\"fill:#ff7f0e;fill-opacity:0.6;\" x=\"228.386171\" xlink:href=\"#mf72c41c6f0\" y=\"88.74\"/>\n     <use style=\"fill:#ff7f0e;fill-opacity:0.6;\" x=\"231.951322\" xlink:href=\"#mf72c41c6f0\" y=\"251.82\"/>\n     <use style=\"fill:#ff7f0e;fill-opacity:0.6;\" x=\"187.590174\" xlink:href=\"#mf72c41c6f0\" y=\"88.74\"/>\n     <use style=\"fill:#ff7f0e;fill-opacity:0.6;\" x=\"105.99818\" xlink:href=\"#mf72c41c6f0\" y=\"88.74\"/>\n     <use style=\"fill:#ff7f0e;fill-opacity:0.6;\" x=\"274.281668\" xlink:href=\"#mf72c41c6f0\" y=\"88.74\"/>\n     <use style=\"fill:#ff7f0e;fill-opacity:0.6;\" x=\"231.951322\" xlink:href=\"#mf72c41c6f0\" y=\"251.82\"/>\n     <use style=\"fill:#ff7f0e;fill-opacity:0.6;\" x=\"228.386171\" xlink:href=\"#mf72c41c6f0\" y=\"88.74\"/>\n     <use style=\"fill:#ff7f0e;fill-opacity:0.6;\" x=\"167.192176\" xlink:href=\"#mf72c41c6f0\" y=\"88.74\"/>\n     <use style=\"fill:#ff7f0e;fill-opacity:0.6;\" x=\"243.68467\" xlink:href=\"#mf72c41c6f0\" y=\"251.82\"/>\n     <use style=\"fill:#ff7f0e;fill-opacity:0.6;\" x=\"84.733266\" xlink:href=\"#mf72c41c6f0\" y=\"251.82\"/>\n     <use style=\"fill:#ff7f0e;fill-opacity:0.6;\" x=\"233.485671\" xlink:href=\"#mf72c41c6f0\" y=\"88.74\"/>\n     <use style=\"fill:#ff7f0e;fill-opacity:0.6;\" x=\"228.386171\" xlink:href=\"#mf72c41c6f0\" y=\"251.82\"/>\n     <use style=\"fill:#ff7f0e;fill-opacity:0.6;\" x=\"231.951322\" xlink:href=\"#mf72c41c6f0\" y=\"88.74\"/>\n     <use style=\"fill:#ff7f0e;fill-opacity:0.6;\" x=\"167.192176\" xlink:href=\"#mf72c41c6f0\" y=\"88.74\"/>\n     <use style=\"fill:#ff7f0e;fill-opacity:0.6;\" x=\"248.78417\" xlink:href=\"#mf72c41c6f0\" y=\"88.74\"/>\n     <use style=\"fill:#ff7f0e;fill-opacity:0.6;\" x=\"197.789174\" xlink:href=\"#mf72c41c6f0\" y=\"88.74\"/>\n     <use style=\"fill:#ff7f0e;fill-opacity:0.6;\" x=\"197.789174\" xlink:href=\"#mf72c41c6f0\" y=\"251.82\"/>\n     <use style=\"fill:#ff7f0e;fill-opacity:0.6;\" x=\"253.88367\" xlink:href=\"#mf72c41c6f0\" y=\"88.74\"/>\n     <use style=\"fill:#ff7f0e;fill-opacity:0.6;\" x=\"187.590174\" xlink:href=\"#mf72c41c6f0\" y=\"88.74\"/>\n     <use style=\"fill:#ff7f0e;fill-opacity:0.6;\" x=\"231.951322\" xlink:href=\"#mf72c41c6f0\" y=\"251.82\"/>\n     <use style=\"fill:#ff7f0e;fill-opacity:0.6;\" x=\"231.951322\" xlink:href=\"#mf72c41c6f0\" y=\"88.74\"/>\n     <use style=\"fill:#ff7f0e;fill-opacity:0.6;\" x=\"246.23442\" xlink:href=\"#mf72c41c6f0\" y=\"88.74\"/>\n     <use style=\"fill:#ff7f0e;fill-opacity:0.6;\" x=\"141.694677\" xlink:href=\"#mf72c41c6f0\" y=\"251.82\"/>\n     <use style=\"fill:#ff7f0e;fill-opacity:0.6;\" x=\"202.888673\" xlink:href=\"#mf72c41c6f0\" y=\"251.82\"/>\n     <use style=\"fill:#ff7f0e;fill-opacity:0.6;\" x=\"231.951322\" xlink:href=\"#mf72c41c6f0\" y=\"88.74\"/>\n     <use style=\"fill:#ff7f0e;fill-opacity:0.6;\" x=\"228.386171\" xlink:href=\"#mf72c41c6f0\" y=\"88.74\"/>\n     <use style=\"fill:#ff7f0e;fill-opacity:0.6;\" x=\"177.391175\" xlink:href=\"#mf72c41c6f0\" y=\"88.74\"/>\n     <use style=\"fill:#ff7f0e;fill-opacity:0.6;\" x=\"192.689674\" xlink:href=\"#mf72c41c6f0\" y=\"88.74\"/>\n     <use style=\"fill:#ff7f0e;fill-opacity:0.6;\" x=\"202.888673\" xlink:href=\"#mf72c41c6f0\" y=\"88.74\"/>\n     <use style=\"fill:#ff7f0e;fill-opacity:0.6;\" x=\"218.187172\" xlink:href=\"#mf72c41c6f0\" y=\"251.82\"/>\n     <use style=\"fill:#ff7f0e;fill-opacity:0.6;\" x=\"192.689674\" xlink:href=\"#mf72c41c6f0\" y=\"88.74\"/>\n     <use style=\"fill:#ff7f0e;fill-opacity:0.6;\" x=\"162.092676\" xlink:href=\"#mf72c41c6f0\" y=\"88.74\"/>\n     <use style=\"fill:#ff7f0e;fill-opacity:0.6;\" x=\"284.480668\" xlink:href=\"#mf72c41c6f0\" y=\"88.74\"/>\n     <use style=\"fill:#ff7f0e;fill-opacity:0.6;\" x=\"126.396179\" xlink:href=\"#mf72c41c6f0\" y=\"251.82\"/>\n     <use style=\"fill:#ff7f0e;fill-opacity:0.6;\" x=\"231.951322\" xlink:href=\"#mf72c41c6f0\" y=\"88.74\"/>\n     <use style=\"fill:#ff7f0e;fill-opacity:0.6;\" x=\"85.600181\" xlink:href=\"#mf72c41c6f0\" y=\"88.74\"/>\n     <use style=\"fill:#ff7f0e;fill-opacity:0.6;\" x=\"85.600181\" xlink:href=\"#mf72c41c6f0\" y=\"251.82\"/>\n     <use style=\"fill:#ff7f0e;fill-opacity:0.6;\" x=\"100.89868\" xlink:href=\"#mf72c41c6f0\" y=\"88.74\"/>\n     <use style=\"fill:#ff7f0e;fill-opacity:0.6;\" x=\"231.951322\" xlink:href=\"#mf72c41c6f0\" y=\"88.74\"/>\n     <use style=\"fill:#ff7f0e;fill-opacity:0.6;\" x=\"309.978166\" xlink:href=\"#mf72c41c6f0\" y=\"251.82\"/>\n     <use style=\"fill:#ff7f0e;fill-opacity:0.6;\" x=\"243.68467\" xlink:href=\"#mf72c41c6f0\" y=\"88.74\"/>\n     <use style=\"fill:#ff7f0e;fill-opacity:0.6;\" x=\"177.391175\" xlink:href=\"#mf72c41c6f0\" y=\"88.74\"/>\n     <use style=\"fill:#ff7f0e;fill-opacity:0.6;\" x=\"95.799181\" xlink:href=\"#mf72c41c6f0\" y=\"251.82\"/>\n     <use style=\"fill:#ff7f0e;fill-opacity:0.6;\" x=\"304.878666\" xlink:href=\"#mf72c41c6f0\" y=\"88.74\"/>\n     <use style=\"fill:#ff7f0e;fill-opacity:0.6;\" x=\"376.271661\" xlink:href=\"#mf72c41c6f0\" y=\"88.74\"/>\n     <use style=\"fill:#ff7f0e;fill-opacity:0.6;\" x=\"231.951322\" xlink:href=\"#mf72c41c6f0\" y=\"88.74\"/>\n     <use style=\"fill:#ff7f0e;fill-opacity:0.6;\" x=\"172.291675\" xlink:href=\"#mf72c41c6f0\" y=\"251.82\"/>\n     <use style=\"fill:#ff7f0e;fill-opacity:0.6;\" x=\"213.087673\" xlink:href=\"#mf72c41c6f0\" y=\"251.82\"/>\n     <use style=\"fill:#ff7f0e;fill-opacity:0.6;\" x=\"162.092676\" xlink:href=\"#mf72c41c6f0\" y=\"88.74\"/>\n     <use style=\"fill:#ff7f0e;fill-opacity:0.6;\" x=\"284.480668\" xlink:href=\"#mf72c41c6f0\" y=\"251.82\"/>\n     <use style=\"fill:#ff7f0e;fill-opacity:0.6;\" x=\"258.983169\" xlink:href=\"#mf72c41c6f0\" y=\"88.74\"/>\n     <use style=\"fill:#ff7f0e;fill-opacity:0.6;\" x=\"238.585171\" xlink:href=\"#mf72c41c6f0\" y=\"88.74\"/>\n     <use style=\"fill:#ff7f0e;fill-opacity:0.6;\" x=\"218.187172\" xlink:href=\"#mf72c41c6f0\" y=\"88.74\"/>\n     <use style=\"fill:#ff7f0e;fill-opacity:0.6;\" x=\"243.68467\" xlink:href=\"#mf72c41c6f0\" y=\"88.74\"/>\n     <use style=\"fill:#ff7f0e;fill-opacity:0.6;\" x=\"162.092676\" xlink:href=\"#mf72c41c6f0\" y=\"251.82\"/>\n     <use style=\"fill:#ff7f0e;fill-opacity:0.6;\" x=\"274.281668\" xlink:href=\"#mf72c41c6f0\" y=\"251.82\"/>\n     <use style=\"fill:#ff7f0e;fill-opacity:0.6;\" x=\"177.391175\" xlink:href=\"#mf72c41c6f0\" y=\"251.82\"/>\n     <use style=\"fill:#ff7f0e;fill-opacity:0.6;\" x=\"258.983169\" xlink:href=\"#mf72c41c6f0\" y=\"88.74\"/>\n     <use style=\"fill:#ff7f0e;fill-opacity:0.6;\" x=\"105.99818\" xlink:href=\"#mf72c41c6f0\" y=\"88.74\"/>\n     <use style=\"fill:#ff7f0e;fill-opacity:0.6;\" x=\"121.296679\" xlink:href=\"#mf72c41c6f0\" y=\"88.74\"/>\n     <use style=\"fill:#ff7f0e;fill-opacity:0.6;\" x=\"231.951322\" xlink:href=\"#mf72c41c6f0\" y=\"88.74\"/>\n     <use style=\"fill:#ff7f0e;fill-opacity:0.6;\" x=\"202.888673\" xlink:href=\"#mf72c41c6f0\" y=\"88.74\"/>\n     <use style=\"fill:#ff7f0e;fill-opacity:0.6;\" x=\"269.182169\" xlink:href=\"#mf72c41c6f0\" y=\"251.82\"/>\n     <use style=\"fill:#ff7f0e;fill-opacity:0.6;\" x=\"228.386171\" xlink:href=\"#mf72c41c6f0\" y=\"88.74\"/>\n     <use style=\"fill:#ff7f0e;fill-opacity:0.6;\" x=\"231.951322\" xlink:href=\"#mf72c41c6f0\" y=\"88.74\"/>\n     <use style=\"fill:#ff7f0e;fill-opacity:0.6;\" x=\"233.485671\" xlink:href=\"#mf72c41c6f0\" y=\"88.74\"/>\n     <use style=\"fill:#ff7f0e;fill-opacity:0.6;\" x=\"258.983169\" xlink:href=\"#mf72c41c6f0\" y=\"88.74\"/>\n     <use style=\"fill:#ff7f0e;fill-opacity:0.6;\" x=\"335.475664\" xlink:href=\"#mf72c41c6f0\" y=\"88.74\"/>\n     <use style=\"fill:#ff7f0e;fill-opacity:0.6;\" x=\"95.799181\" xlink:href=\"#mf72c41c6f0\" y=\"251.82\"/>\n     <use style=\"fill:#ff7f0e;fill-opacity:0.6;\" x=\"207.988173\" xlink:href=\"#mf72c41c6f0\" y=\"251.82\"/>\n     <use style=\"fill:#ff7f0e;fill-opacity:0.6;\" x=\"376.271661\" xlink:href=\"#mf72c41c6f0\" y=\"88.74\"/>\n     <use style=\"fill:#ff7f0e;fill-opacity:0.6;\" x=\"258.983169\" xlink:href=\"#mf72c41c6f0\" y=\"88.74\"/>\n     <use style=\"fill:#ff7f0e;fill-opacity:0.6;\" x=\"207.988173\" xlink:href=\"#mf72c41c6f0\" y=\"251.82\"/>\n     <use style=\"fill:#ff7f0e;fill-opacity:0.6;\" x=\"289.580167\" xlink:href=\"#mf72c41c6f0\" y=\"88.74\"/>\n     <use style=\"fill:#ff7f0e;fill-opacity:0.6;\" x=\"231.951322\" xlink:href=\"#mf72c41c6f0\" y=\"88.74\"/>\n     <use style=\"fill:#ff7f0e;fill-opacity:0.6;\" x=\"401.769159\" xlink:href=\"#mf72c41c6f0\" y=\"88.74\"/>\n     <use style=\"fill:#ff7f0e;fill-opacity:0.6;\" x=\"258.983169\" xlink:href=\"#mf72c41c6f0\" y=\"88.74\"/>\n     <use style=\"fill:#ff7f0e;fill-opacity:0.6;\" x=\"177.391175\" xlink:href=\"#mf72c41c6f0\" y=\"251.82\"/>\n     <use style=\"fill:#ff7f0e;fill-opacity:0.6;\" x=\"233.485671\" xlink:href=\"#mf72c41c6f0\" y=\"251.82\"/>\n     <use style=\"fill:#ff7f0e;fill-opacity:0.6;\" x=\"294.679667\" xlink:href=\"#mf72c41c6f0\" y=\"251.82\"/>\n     <use style=\"fill:#ff7f0e;fill-opacity:0.6;\" x=\"192.689674\" xlink:href=\"#mf72c41c6f0\" y=\"88.74\"/>\n     <use style=\"fill:#ff7f0e;fill-opacity:0.6;\" x=\"213.087673\" xlink:href=\"#mf72c41c6f0\" y=\"88.74\"/>\n     <use style=\"fill:#ff7f0e;fill-opacity:0.6;\" x=\"177.391175\" xlink:href=\"#mf72c41c6f0\" y=\"88.74\"/>\n     <use style=\"fill:#ff7f0e;fill-opacity:0.6;\" x=\"231.951322\" xlink:href=\"#mf72c41c6f0\" y=\"251.82\"/>\n     <use style=\"fill:#ff7f0e;fill-opacity:0.6;\" x=\"335.475664\" xlink:href=\"#mf72c41c6f0\" y=\"88.74\"/>\n     <use style=\"fill:#ff7f0e;fill-opacity:0.6;\" x=\"231.951322\" xlink:href=\"#mf72c41c6f0\" y=\"88.74\"/>\n     <use style=\"fill:#ff7f0e;fill-opacity:0.6;\" x=\"231.951322\" xlink:href=\"#mf72c41c6f0\" y=\"251.82\"/>\n     <use style=\"fill:#ff7f0e;fill-opacity:0.6;\" x=\"231.951322\" xlink:href=\"#mf72c41c6f0\" y=\"88.74\"/>\n     <use style=\"fill:#ff7f0e;fill-opacity:0.6;\" x=\"85.192221\" xlink:href=\"#mf72c41c6f0\" y=\"251.82\"/>\n     <use style=\"fill:#ff7f0e;fill-opacity:0.6;\" x=\"231.951322\" xlink:href=\"#mf72c41c6f0\" y=\"88.74\"/>\n     <use style=\"fill:#ff7f0e;fill-opacity:0.6;\" x=\"167.192176\" xlink:href=\"#mf72c41c6f0\" y=\"88.74\"/>\n     <use style=\"fill:#ff7f0e;fill-opacity:0.6;\" x=\"233.485671\" xlink:href=\"#mf72c41c6f0\" y=\"88.74\"/>\n     <use style=\"fill:#ff7f0e;fill-opacity:0.6;\" x=\"202.888673\" xlink:href=\"#mf72c41c6f0\" y=\"88.74\"/>\n     <use style=\"fill:#ff7f0e;fill-opacity:0.6;\" x=\"172.291675\" xlink:href=\"#mf72c41c6f0\" y=\"88.74\"/>\n     <use style=\"fill:#ff7f0e;fill-opacity:0.6;\" x=\"213.087673\" xlink:href=\"#mf72c41c6f0\" y=\"88.74\"/>\n     <use style=\"fill:#ff7f0e;fill-opacity:0.6;\" x=\"202.888673\" xlink:href=\"#mf72c41c6f0\" y=\"88.74\"/>\n     <use style=\"fill:#ff7f0e;fill-opacity:0.6;\" x=\"238.585171\" xlink:href=\"#mf72c41c6f0\" y=\"88.74\"/>\n     <use style=\"fill:#ff7f0e;fill-opacity:0.6;\" x=\"284.480668\" xlink:href=\"#mf72c41c6f0\" y=\"88.74\"/>\n     <use style=\"fill:#ff7f0e;fill-opacity:0.6;\" x=\"233.485671\" xlink:href=\"#mf72c41c6f0\" y=\"88.74\"/>\n     <use style=\"fill:#ff7f0e;fill-opacity:0.6;\" x=\"192.689674\" xlink:href=\"#mf72c41c6f0\" y=\"88.74\"/>\n     <use style=\"fill:#ff7f0e;fill-opacity:0.6;\" x=\"264.082669\" xlink:href=\"#mf72c41c6f0\" y=\"88.74\"/>\n     <use style=\"fill:#ff7f0e;fill-opacity:0.6;\" x=\"264.082669\" xlink:href=\"#mf72c41c6f0\" y=\"88.74\"/>\n     <use style=\"fill:#ff7f0e;fill-opacity:0.6;\" x=\"238.585171\" xlink:href=\"#mf72c41c6f0\" y=\"88.74\"/>\n     <use style=\"fill:#ff7f0e;fill-opacity:0.6;\" x=\"162.092676\" xlink:href=\"#mf72c41c6f0\" y=\"88.74\"/>\n     <use style=\"fill:#ff7f0e;fill-opacity:0.6;\" x=\"231.951322\" xlink:href=\"#mf72c41c6f0\" y=\"88.74\"/>\n     <use style=\"fill:#ff7f0e;fill-opacity:0.6;\" x=\"231.951322\" xlink:href=\"#mf72c41c6f0\" y=\"88.74\"/>\n     <use style=\"fill:#ff7f0e;fill-opacity:0.6;\" x=\"289.580167\" xlink:href=\"#mf72c41c6f0\" y=\"88.74\"/>\n     <use style=\"fill:#ff7f0e;fill-opacity:0.6;\" x=\"309.978166\" xlink:href=\"#mf72c41c6f0\" y=\"251.82\"/>\n     <use style=\"fill:#ff7f0e;fill-opacity:0.6;\" x=\"90.699681\" xlink:href=\"#mf72c41c6f0\" y=\"251.82\"/>\n     <use style=\"fill:#ff7f0e;fill-opacity:0.6;\" x=\"202.888673\" xlink:href=\"#mf72c41c6f0\" y=\"88.74\"/>\n     <use style=\"fill:#ff7f0e;fill-opacity:0.6;\" x=\"202.888673\" xlink:href=\"#mf72c41c6f0\" y=\"88.74\"/>\n     <use style=\"fill:#ff7f0e;fill-opacity:0.6;\" x=\"284.480668\" xlink:href=\"#mf72c41c6f0\" y=\"88.74\"/>\n     <use style=\"fill:#ff7f0e;fill-opacity:0.6;\" x=\"231.951322\" xlink:href=\"#mf72c41c6f0\" y=\"88.74\"/>\n     <use style=\"fill:#ff7f0e;fill-opacity:0.6;\" x=\"95.799181\" xlink:href=\"#mf72c41c6f0\" y=\"251.82\"/>\n     <use style=\"fill:#ff7f0e;fill-opacity:0.6;\" x=\"192.689674\" xlink:href=\"#mf72c41c6f0\" y=\"88.74\"/>\n     <use style=\"fill:#ff7f0e;fill-opacity:0.6;\" x=\"231.951322\" xlink:href=\"#mf72c41c6f0\" y=\"88.74\"/>\n     <use style=\"fill:#ff7f0e;fill-opacity:0.6;\" x=\"231.951322\" xlink:href=\"#mf72c41c6f0\" y=\"88.74\"/>\n     <use style=\"fill:#ff7f0e;fill-opacity:0.6;\" x=\"386.47066\" xlink:href=\"#mf72c41c6f0\" y=\"88.74\"/>\n     <use style=\"fill:#ff7f0e;fill-opacity:0.6;\" x=\"231.951322\" xlink:href=\"#mf72c41c6f0\" y=\"88.74\"/>\n     <use style=\"fill:#ff7f0e;fill-opacity:0.6;\" x=\"231.951322\" xlink:href=\"#mf72c41c6f0\" y=\"88.74\"/>\n     <use style=\"fill:#ff7f0e;fill-opacity:0.6;\" x=\"202.888673\" xlink:href=\"#mf72c41c6f0\" y=\"88.74\"/>\n     <use style=\"fill:#ff7f0e;fill-opacity:0.6;\" x=\"207.988173\" xlink:href=\"#mf72c41c6f0\" y=\"251.82\"/>\n     <use style=\"fill:#ff7f0e;fill-opacity:0.6;\" x=\"231.951322\" xlink:href=\"#mf72c41c6f0\" y=\"88.74\"/>\n     <use style=\"fill:#ff7f0e;fill-opacity:0.6;\" x=\"192.689674\" xlink:href=\"#mf72c41c6f0\" y=\"88.74\"/>\n     <use style=\"fill:#ff7f0e;fill-opacity:0.6;\" x=\"294.679667\" xlink:href=\"#mf72c41c6f0\" y=\"88.74\"/>\n     <use style=\"fill:#ff7f0e;fill-opacity:0.6;\" x=\"85.600181\" xlink:href=\"#mf72c41c6f0\" y=\"88.74\"/>\n     <use style=\"fill:#ff7f0e;fill-opacity:0.6;\" x=\"258.983169\" xlink:href=\"#mf72c41c6f0\" y=\"88.74\"/>\n     <use style=\"fill:#ff7f0e;fill-opacity:0.6;\" x=\"264.082669\" xlink:href=\"#mf72c41c6f0\" y=\"88.74\"/>\n     <use style=\"fill:#ff7f0e;fill-opacity:0.6;\" x=\"167.192176\" xlink:href=\"#mf72c41c6f0\" y=\"88.74\"/>\n     <use style=\"fill:#ff7f0e;fill-opacity:0.6;\" x=\"264.082669\" xlink:href=\"#mf72c41c6f0\" y=\"251.82\"/>\n     <use style=\"fill:#ff7f0e;fill-opacity:0.6;\" x=\"187.590174\" xlink:href=\"#mf72c41c6f0\" y=\"251.82\"/>\n     <use style=\"fill:#ff7f0e;fill-opacity:0.6;\" x=\"197.789174\" xlink:href=\"#mf72c41c6f0\" y=\"88.74\"/>\n     <use style=\"fill:#ff7f0e;fill-opacity:0.6;\" x=\"202.888673\" xlink:href=\"#mf72c41c6f0\" y=\"88.74\"/>\n     <use style=\"fill:#ff7f0e;fill-opacity:0.6;\" x=\"223.286672\" xlink:href=\"#mf72c41c6f0\" y=\"88.74\"/>\n     <use style=\"fill:#ff7f0e;fill-opacity:0.6;\" x=\"279.381168\" xlink:href=\"#mf72c41c6f0\" y=\"251.82\"/>\n     <use style=\"fill:#ff7f0e;fill-opacity:0.6;\" x=\"95.799181\" xlink:href=\"#mf72c41c6f0\" y=\"251.82\"/>\n     <use style=\"fill:#ff7f0e;fill-opacity:0.6;\" x=\"248.78417\" xlink:href=\"#mf72c41c6f0\" y=\"88.74\"/>\n     <use style=\"fill:#ff7f0e;fill-opacity:0.6;\" x=\"304.878666\" xlink:href=\"#mf72c41c6f0\" y=\"251.82\"/>\n     <use style=\"fill:#ff7f0e;fill-opacity:0.6;\" x=\"253.88367\" xlink:href=\"#mf72c41c6f0\" y=\"88.74\"/>\n     <use style=\"fill:#ff7f0e;fill-opacity:0.6;\" x=\"172.291675\" xlink:href=\"#mf72c41c6f0\" y=\"88.74\"/>\n     <use style=\"fill:#ff7f0e;fill-opacity:0.6;\" x=\"223.286672\" xlink:href=\"#mf72c41c6f0\" y=\"88.74\"/>\n     <use style=\"fill:#ff7f0e;fill-opacity:0.6;\" x=\"177.391175\" xlink:href=\"#mf72c41c6f0\" y=\"88.74\"/>\n     <use style=\"fill:#ff7f0e;fill-opacity:0.6;\" x=\"243.68467\" xlink:href=\"#mf72c41c6f0\" y=\"251.82\"/>\n     <use style=\"fill:#ff7f0e;fill-opacity:0.6;\" x=\"223.286672\" xlink:href=\"#mf72c41c6f0\" y=\"251.82\"/>\n     <use style=\"fill:#ff7f0e;fill-opacity:0.6;\" x=\"231.951322\" xlink:href=\"#mf72c41c6f0\" y=\"88.74\"/>\n     <use style=\"fill:#ff7f0e;fill-opacity:0.6;\" x=\"294.679667\" xlink:href=\"#mf72c41c6f0\" y=\"88.74\"/>\n     <use style=\"fill:#ff7f0e;fill-opacity:0.6;\" x=\"151.893677\" xlink:href=\"#mf72c41c6f0\" y=\"88.74\"/>\n     <use style=\"fill:#ff7f0e;fill-opacity:0.6;\" x=\"202.888673\" xlink:href=\"#mf72c41c6f0\" y=\"88.74\"/>\n     <use style=\"fill:#ff7f0e;fill-opacity:0.6;\" x=\"309.978166\" xlink:href=\"#mf72c41c6f0\" y=\"88.74\"/>\n     <use style=\"fill:#ff7f0e;fill-opacity:0.6;\" x=\"223.286672\" xlink:href=\"#mf72c41c6f0\" y=\"88.74\"/>\n     <use style=\"fill:#ff7f0e;fill-opacity:0.6;\" x=\"231.951322\" xlink:href=\"#mf72c41c6f0\" y=\"251.82\"/>\n     <use style=\"fill:#ff7f0e;fill-opacity:0.6;\" x=\"100.89868\" xlink:href=\"#mf72c41c6f0\" y=\"251.82\"/>\n     <use style=\"fill:#ff7f0e;fill-opacity:0.6;\" x=\"146.794177\" xlink:href=\"#mf72c41c6f0\" y=\"88.74\"/>\n     <use style=\"fill:#ff7f0e;fill-opacity:0.6;\" x=\"253.88367\" xlink:href=\"#mf72c41c6f0\" y=\"251.82\"/>\n     <use style=\"fill:#ff7f0e;fill-opacity:0.6;\" x=\"105.99818\" xlink:href=\"#mf72c41c6f0\" y=\"88.74\"/>\n     <use style=\"fill:#ff7f0e;fill-opacity:0.6;\" x=\"345.674663\" xlink:href=\"#mf72c41c6f0\" y=\"251.82\"/>\n     <use style=\"fill:#ff7f0e;fill-opacity:0.6;\" x=\"330.376164\" xlink:href=\"#mf72c41c6f0\" y=\"251.82\"/>\n     <use style=\"fill:#ff7f0e;fill-opacity:0.6;\" x=\"228.386171\" xlink:href=\"#mf72c41c6f0\" y=\"251.82\"/>\n     <use style=\"fill:#ff7f0e;fill-opacity:0.6;\" x=\"231.951322\" xlink:href=\"#mf72c41c6f0\" y=\"88.74\"/>\n     <use style=\"fill:#ff7f0e;fill-opacity:0.6;\" x=\"335.475664\" xlink:href=\"#mf72c41c6f0\" y=\"88.74\"/>\n     <use style=\"fill:#ff7f0e;fill-opacity:0.6;\" x=\"325.276665\" xlink:href=\"#mf72c41c6f0\" y=\"251.82\"/>\n     <use style=\"fill:#ff7f0e;fill-opacity:0.6;\" x=\"84.325306\" xlink:href=\"#mf72c41c6f0\" y=\"88.74\"/>\n     <use style=\"fill:#ff7f0e;fill-opacity:0.6;\" x=\"248.78417\" xlink:href=\"#mf72c41c6f0\" y=\"88.74\"/>\n     <use style=\"fill:#ff7f0e;fill-opacity:0.6;\" x=\"197.789174\" xlink:href=\"#mf72c41c6f0\" y=\"88.74\"/>\n     <use style=\"fill:#ff7f0e;fill-opacity:0.6;\" x=\"90.699681\" xlink:href=\"#mf72c41c6f0\" y=\"88.74\"/>\n     <use style=\"fill:#ff7f0e;fill-opacity:0.6;\" x=\"401.769159\" xlink:href=\"#mf72c41c6f0\" y=\"88.74\"/>\n     <use style=\"fill:#ff7f0e;fill-opacity:0.6;\" x=\"207.988173\" xlink:href=\"#mf72c41c6f0\" y=\"251.82\"/>\n     <use style=\"fill:#ff7f0e;fill-opacity:0.6;\" x=\"258.983169\" xlink:href=\"#mf72c41c6f0\" y=\"88.74\"/>\n     <use style=\"fill:#ff7f0e;fill-opacity:0.6;\" x=\"126.396179\" xlink:href=\"#mf72c41c6f0\" y=\"251.82\"/>\n     <use style=\"fill:#ff7f0e;fill-opacity:0.6;\" x=\"355.873663\" xlink:href=\"#mf72c41c6f0\" y=\"88.74\"/>\n     <use style=\"fill:#ff7f0e;fill-opacity:0.6;\" x=\"162.092676\" xlink:href=\"#mf72c41c6f0\" y=\"88.74\"/>\n     <use style=\"fill:#ff7f0e;fill-opacity:0.6;\" x=\"248.78417\" xlink:href=\"#mf72c41c6f0\" y=\"88.74\"/>\n     <use style=\"fill:#ff7f0e;fill-opacity:0.6;\" x=\"231.951322\" xlink:href=\"#mf72c41c6f0\" y=\"251.82\"/>\n     <use style=\"fill:#ff7f0e;fill-opacity:0.6;\" x=\"213.087673\" xlink:href=\"#mf72c41c6f0\" y=\"251.82\"/>\n     <use style=\"fill:#ff7f0e;fill-opacity:0.6;\" x=\"228.386171\" xlink:href=\"#mf72c41c6f0\" y=\"251.82\"/>\n     <use style=\"fill:#ff7f0e;fill-opacity:0.6;\" x=\"264.082669\" xlink:href=\"#mf72c41c6f0\" y=\"251.82\"/>\n     <use style=\"fill:#ff7f0e;fill-opacity:0.6;\" x=\"355.873663\" xlink:href=\"#mf72c41c6f0\" y=\"88.74\"/>\n     <use style=\"fill:#ff7f0e;fill-opacity:0.6;\" x=\"253.88367\" xlink:href=\"#mf72c41c6f0\" y=\"88.74\"/>\n     <use style=\"fill:#ff7f0e;fill-opacity:0.6;\" x=\"264.082669\" xlink:href=\"#mf72c41c6f0\" y=\"88.74\"/>\n     <use style=\"fill:#ff7f0e;fill-opacity:0.6;\" x=\"233.485671\" xlink:href=\"#mf72c41c6f0\" y=\"88.74\"/>\n     <use style=\"fill:#ff7f0e;fill-opacity:0.6;\" x=\"304.878666\" xlink:href=\"#mf72c41c6f0\" y=\"88.74\"/>\n     <use style=\"fill:#ff7f0e;fill-opacity:0.6;\" x=\"335.475664\" xlink:href=\"#mf72c41c6f0\" y=\"88.74\"/>\n     <use style=\"fill:#ff7f0e;fill-opacity:0.6;\" x=\"90.699681\" xlink:href=\"#mf72c41c6f0\" y=\"88.74\"/>\n     <use style=\"fill:#ff7f0e;fill-opacity:0.6;\" x=\"231.951322\" xlink:href=\"#mf72c41c6f0\" y=\"88.74\"/>\n     <use style=\"fill:#ff7f0e;fill-opacity:0.6;\" x=\"116.197179\" xlink:href=\"#mf72c41c6f0\" y=\"88.74\"/>\n     <use style=\"fill:#ff7f0e;fill-opacity:0.6;\" x=\"233.485671\" xlink:href=\"#mf72c41c6f0\" y=\"88.74\"/>\n     <use style=\"fill:#ff7f0e;fill-opacity:0.6;\" x=\"192.689674\" xlink:href=\"#mf72c41c6f0\" y=\"88.74\"/>\n     <use style=\"fill:#ff7f0e;fill-opacity:0.6;\" x=\"264.082669\" xlink:href=\"#mf72c41c6f0\" y=\"88.74\"/>\n     <use style=\"fill:#ff7f0e;fill-opacity:0.6;\" x=\"243.68467\" xlink:href=\"#mf72c41c6f0\" y=\"251.82\"/>\n     <use style=\"fill:#ff7f0e;fill-opacity:0.6;\" x=\"177.391175\" xlink:href=\"#mf72c41c6f0\" y=\"88.74\"/>\n     <use style=\"fill:#ff7f0e;fill-opacity:0.6;\" x=\"231.951322\" xlink:href=\"#mf72c41c6f0\" y=\"251.82\"/>\n     <use style=\"fill:#ff7f0e;fill-opacity:0.6;\" x=\"121.296679\" xlink:href=\"#mf72c41c6f0\" y=\"251.82\"/>\n     <use style=\"fill:#ff7f0e;fill-opacity:0.6;\" x=\"167.192176\" xlink:href=\"#mf72c41c6f0\" y=\"251.82\"/>\n     <use style=\"fill:#ff7f0e;fill-opacity:0.6;\" x=\"192.689674\" xlink:href=\"#mf72c41c6f0\" y=\"251.82\"/>\n     <use style=\"fill:#ff7f0e;fill-opacity:0.6;\" x=\"192.689674\" xlink:href=\"#mf72c41c6f0\" y=\"88.74\"/>\n     <use style=\"fill:#ff7f0e;fill-opacity:0.6;\" x=\"325.276665\" xlink:href=\"#mf72c41c6f0\" y=\"88.74\"/>\n     <use style=\"fill:#ff7f0e;fill-opacity:0.6;\" x=\"279.381168\" xlink:href=\"#mf72c41c6f0\" y=\"88.74\"/>\n     <use style=\"fill:#ff7f0e;fill-opacity:0.6;\" x=\"264.082669\" xlink:href=\"#mf72c41c6f0\" y=\"88.74\"/>\n     <use style=\"fill:#ff7f0e;fill-opacity:0.6;\" x=\"243.68467\" xlink:href=\"#mf72c41c6f0\" y=\"251.82\"/>\n     <use style=\"fill:#ff7f0e;fill-opacity:0.6;\" x=\"396.66966\" xlink:href=\"#mf72c41c6f0\" y=\"251.82\"/>\n     <use style=\"fill:#ff7f0e;fill-opacity:0.6;\" x=\"350.774163\" xlink:href=\"#mf72c41c6f0\" y=\"88.74\"/>\n     <use style=\"fill:#ff7f0e;fill-opacity:0.6;\" x=\"264.082669\" xlink:href=\"#mf72c41c6f0\" y=\"251.82\"/>\n     <use style=\"fill:#ff7f0e;fill-opacity:0.6;\" x=\"231.951322\" xlink:href=\"#mf72c41c6f0\" y=\"88.74\"/>\n     <use style=\"fill:#ff7f0e;fill-opacity:0.6;\" x=\"253.88367\" xlink:href=\"#mf72c41c6f0\" y=\"88.74\"/>\n     <use style=\"fill:#ff7f0e;fill-opacity:0.6;\" x=\"279.381168\" xlink:href=\"#mf72c41c6f0\" y=\"88.74\"/>\n     <use style=\"fill:#ff7f0e;fill-opacity:0.6;\" x=\"243.68467\" xlink:href=\"#mf72c41c6f0\" y=\"251.82\"/>\n     <use style=\"fill:#ff7f0e;fill-opacity:0.6;\" x=\"207.988173\" xlink:href=\"#mf72c41c6f0\" y=\"88.74\"/>\n     <use style=\"fill:#ff7f0e;fill-opacity:0.6;\" x=\"279.381168\" xlink:href=\"#mf72c41c6f0\" y=\"88.74\"/>\n     <use style=\"fill:#ff7f0e;fill-opacity:0.6;\" x=\"172.291675\" xlink:href=\"#mf72c41c6f0\" y=\"88.74\"/>\n     <use style=\"fill:#ff7f0e;fill-opacity:0.6;\" x=\"386.47066\" xlink:href=\"#mf72c41c6f0\" y=\"251.82\"/>\n     <use style=\"fill:#ff7f0e;fill-opacity:0.6;\" x=\"345.674663\" xlink:href=\"#mf72c41c6f0\" y=\"88.74\"/>\n     <use style=\"fill:#ff7f0e;fill-opacity:0.6;\" x=\"231.951322\" xlink:href=\"#mf72c41c6f0\" y=\"88.74\"/>\n     <use style=\"fill:#ff7f0e;fill-opacity:0.6;\" x=\"330.376164\" xlink:href=\"#mf72c41c6f0\" y=\"251.82\"/>\n     <use style=\"fill:#ff7f0e;fill-opacity:0.6;\" x=\"202.888673\" xlink:href=\"#mf72c41c6f0\" y=\"88.74\"/>\n     <use style=\"fill:#ff7f0e;fill-opacity:0.6;\" x=\"258.983169\" xlink:href=\"#mf72c41c6f0\" y=\"251.82\"/>\n     <use style=\"fill:#ff7f0e;fill-opacity:0.6;\" x=\"218.187172\" xlink:href=\"#mf72c41c6f0\" y=\"251.82\"/>\n     <use style=\"fill:#ff7f0e;fill-opacity:0.6;\" x=\"192.689674\" xlink:href=\"#mf72c41c6f0\" y=\"88.74\"/>\n     <use style=\"fill:#ff7f0e;fill-opacity:0.6;\" x=\"284.480668\" xlink:href=\"#mf72c41c6f0\" y=\"88.74\"/>\n     <use style=\"fill:#ff7f0e;fill-opacity:0.6;\" x=\"231.951322\" xlink:href=\"#mf72c41c6f0\" y=\"88.74\"/>\n     <use style=\"fill:#ff7f0e;fill-opacity:0.6;\" x=\"202.888673\" xlink:href=\"#mf72c41c6f0\" y=\"88.74\"/>\n     <use style=\"fill:#ff7f0e;fill-opacity:0.6;\" x=\"100.89868\" xlink:href=\"#mf72c41c6f0\" y=\"88.74\"/>\n     <use style=\"fill:#ff7f0e;fill-opacity:0.6;\" x=\"294.679667\" xlink:href=\"#mf72c41c6f0\" y=\"251.82\"/>\n     <use style=\"fill:#ff7f0e;fill-opacity:0.6;\" x=\"182.490675\" xlink:href=\"#mf72c41c6f0\" y=\"251.82\"/>\n     <use style=\"fill:#ff7f0e;fill-opacity:0.6;\" x=\"187.590174\" xlink:href=\"#mf72c41c6f0\" y=\"88.74\"/>\n     <use style=\"fill:#ff7f0e;fill-opacity:0.6;\" x=\"488.460653\" xlink:href=\"#mf72c41c6f0\" y=\"251.82\"/>\n     <use style=\"fill:#ff7f0e;fill-opacity:0.6;\" x=\"243.68467\" xlink:href=\"#mf72c41c6f0\" y=\"251.82\"/>\n     <use style=\"fill:#ff7f0e;fill-opacity:0.6;\" x=\"223.286672\" xlink:href=\"#mf72c41c6f0\" y=\"88.74\"/>\n     <use style=\"fill:#ff7f0e;fill-opacity:0.6;\" x=\"202.888673\" xlink:href=\"#mf72c41c6f0\" y=\"88.74\"/>\n     <use style=\"fill:#ff7f0e;fill-opacity:0.6;\" x=\"231.951322\" xlink:href=\"#mf72c41c6f0\" y=\"251.82\"/>\n     <use style=\"fill:#ff7f0e;fill-opacity:0.6;\" x=\"84.325306\" xlink:href=\"#mf72c41c6f0\" y=\"88.74\"/>\n     <use style=\"fill:#ff7f0e;fill-opacity:0.6;\" x=\"325.276665\" xlink:href=\"#mf72c41c6f0\" y=\"251.82\"/>\n     <use style=\"fill:#ff7f0e;fill-opacity:0.6;\" x=\"366.072662\" xlink:href=\"#mf72c41c6f0\" y=\"251.82\"/>\n     <use style=\"fill:#ff7f0e;fill-opacity:0.6;\" x=\"197.789174\" xlink:href=\"#mf72c41c6f0\" y=\"88.74\"/>\n     <use style=\"fill:#ff7f0e;fill-opacity:0.6;\" x=\"172.291675\" xlink:href=\"#mf72c41c6f0\" y=\"88.74\"/>\n     <use style=\"fill:#ff7f0e;fill-opacity:0.6;\" x=\"231.951322\" xlink:href=\"#mf72c41c6f0\" y=\"88.74\"/>\n     <use style=\"fill:#ff7f0e;fill-opacity:0.6;\" x=\"335.475664\" xlink:href=\"#mf72c41c6f0\" y=\"251.82\"/>\n     <use style=\"fill:#ff7f0e;fill-opacity:0.6;\" x=\"182.490675\" xlink:href=\"#mf72c41c6f0\" y=\"251.82\"/>\n     <use style=\"fill:#ff7f0e;fill-opacity:0.6;\" x=\"231.951322\" xlink:href=\"#mf72c41c6f0\" y=\"88.74\"/>\n     <use style=\"fill:#ff7f0e;fill-opacity:0.6;\" x=\"284.480668\" xlink:href=\"#mf72c41c6f0\" y=\"88.74\"/>\n     <use style=\"fill:#ff7f0e;fill-opacity:0.6;\" x=\"238.585171\" xlink:href=\"#mf72c41c6f0\" y=\"251.82\"/>\n     <use style=\"fill:#ff7f0e;fill-opacity:0.6;\" x=\"172.291675\" xlink:href=\"#mf72c41c6f0\" y=\"88.74\"/>\n     <use style=\"fill:#ff7f0e;fill-opacity:0.6;\" x=\"264.082669\" xlink:href=\"#mf72c41c6f0\" y=\"251.82\"/>\n     <use style=\"fill:#ff7f0e;fill-opacity:0.6;\" x=\"218.187172\" xlink:href=\"#mf72c41c6f0\" y=\"251.82\"/>\n     <use style=\"fill:#ff7f0e;fill-opacity:0.6;\" x=\"156.993176\" xlink:href=\"#mf72c41c6f0\" y=\"88.74\"/>\n     <use style=\"fill:#ff7f0e;fill-opacity:0.6;\" x=\"238.585171\" xlink:href=\"#mf72c41c6f0\" y=\"251.82\"/>\n     <use style=\"fill:#ff7f0e;fill-opacity:0.6;\" x=\"100.89868\" xlink:href=\"#mf72c41c6f0\" y=\"88.74\"/>\n     <use style=\"fill:#ff7f0e;fill-opacity:0.6;\" x=\"231.951322\" xlink:href=\"#mf72c41c6f0\" y=\"251.82\"/>\n     <use style=\"fill:#ff7f0e;fill-opacity:0.6;\" x=\"231.951322\" xlink:href=\"#mf72c41c6f0\" y=\"88.74\"/>\n     <use style=\"fill:#ff7f0e;fill-opacity:0.6;\" x=\"172.291675\" xlink:href=\"#mf72c41c6f0\" y=\"88.74\"/>\n     <use style=\"fill:#ff7f0e;fill-opacity:0.6;\" x=\"258.983169\" xlink:href=\"#mf72c41c6f0\" y=\"251.82\"/>\n     <use style=\"fill:#ff7f0e;fill-opacity:0.6;\" x=\"309.978166\" xlink:href=\"#mf72c41c6f0\" y=\"88.74\"/>\n     <use style=\"fill:#ff7f0e;fill-opacity:0.6;\" x=\"294.679667\" xlink:href=\"#mf72c41c6f0\" y=\"251.82\"/>\n     <use style=\"fill:#ff7f0e;fill-opacity:0.6;\" x=\"192.689674\" xlink:href=\"#mf72c41c6f0\" y=\"88.74\"/>\n     <use style=\"fill:#ff7f0e;fill-opacity:0.6;\" x=\"231.951322\" xlink:href=\"#mf72c41c6f0\" y=\"251.82\"/>\n     <use style=\"fill:#ff7f0e;fill-opacity:0.6;\" x=\"202.888673\" xlink:href=\"#mf72c41c6f0\" y=\"88.74\"/>\n     <use style=\"fill:#ff7f0e;fill-opacity:0.6;\" x=\"325.276665\" xlink:href=\"#mf72c41c6f0\" y=\"251.82\"/>\n     <use style=\"fill:#ff7f0e;fill-opacity:0.6;\" x=\"274.281668\" xlink:href=\"#mf72c41c6f0\" y=\"88.74\"/>\n     <use style=\"fill:#ff7f0e;fill-opacity:0.6;\" x=\"218.187172\" xlink:href=\"#mf72c41c6f0\" y=\"88.74\"/>\n     <use style=\"fill:#ff7f0e;fill-opacity:0.6;\" x=\"111.09768\" xlink:href=\"#mf72c41c6f0\" y=\"88.74\"/>\n     <use style=\"fill:#ff7f0e;fill-opacity:0.6;\" x=\"218.187172\" xlink:href=\"#mf72c41c6f0\" y=\"251.82\"/>\n     <use style=\"fill:#ff7f0e;fill-opacity:0.6;\" x=\"233.485671\" xlink:href=\"#mf72c41c6f0\" y=\"88.74\"/>\n     <use style=\"fill:#ff7f0e;fill-opacity:0.6;\" x=\"231.951322\" xlink:href=\"#mf72c41c6f0\" y=\"88.74\"/>\n     <use style=\"fill:#ff7f0e;fill-opacity:0.6;\" x=\"228.386171\" xlink:href=\"#mf72c41c6f0\" y=\"88.74\"/>\n     <use style=\"fill:#ff7f0e;fill-opacity:0.6;\" x=\"258.983169\" xlink:href=\"#mf72c41c6f0\" y=\"251.82\"/>\n     <use style=\"fill:#ff7f0e;fill-opacity:0.6;\" x=\"231.951322\" xlink:href=\"#mf72c41c6f0\" y=\"251.82\"/>\n     <use style=\"fill:#ff7f0e;fill-opacity:0.6;\" x=\"187.590174\" xlink:href=\"#mf72c41c6f0\" y=\"88.74\"/>\n     <use style=\"fill:#ff7f0e;fill-opacity:0.6;\" x=\"238.585171\" xlink:href=\"#mf72c41c6f0\" y=\"251.82\"/>\n     <use style=\"fill:#ff7f0e;fill-opacity:0.6;\" x=\"233.485671\" xlink:href=\"#mf72c41c6f0\" y=\"88.74\"/>\n     <use style=\"fill:#ff7f0e;fill-opacity:0.6;\" x=\"100.89868\" xlink:href=\"#mf72c41c6f0\" y=\"88.74\"/>\n     <use style=\"fill:#ff7f0e;fill-opacity:0.6;\" x=\"111.09768\" xlink:href=\"#mf72c41c6f0\" y=\"251.82\"/>\n     <use style=\"fill:#ff7f0e;fill-opacity:0.6;\" x=\"325.276665\" xlink:href=\"#mf72c41c6f0\" y=\"88.74\"/>\n     <use style=\"fill:#ff7f0e;fill-opacity:0.6;\" x=\"83.917347\" xlink:href=\"#mf72c41c6f0\" y=\"251.82\"/>\n     <use style=\"fill:#ff7f0e;fill-opacity:0.6;\" x=\"248.78417\" xlink:href=\"#mf72c41c6f0\" y=\"88.74\"/>\n     <use style=\"fill:#ff7f0e;fill-opacity:0.6;\" x=\"182.490675\" xlink:href=\"#mf72c41c6f0\" y=\"251.82\"/>\n     <use style=\"fill:#ff7f0e;fill-opacity:0.6;\" x=\"264.082669\" xlink:href=\"#mf72c41c6f0\" y=\"88.74\"/>\n     <use style=\"fill:#ff7f0e;fill-opacity:0.6;\" x=\"340.575164\" xlink:href=\"#mf72c41c6f0\" y=\"88.74\"/>\n     <use style=\"fill:#ff7f0e;fill-opacity:0.6;\" x=\"355.873663\" xlink:href=\"#mf72c41c6f0\" y=\"88.74\"/>\n     <use style=\"fill:#ff7f0e;fill-opacity:0.6;\" x=\"105.99818\" xlink:href=\"#mf72c41c6f0\" y=\"88.74\"/>\n     <use style=\"fill:#ff7f0e;fill-opacity:0.6;\" x=\"299.779167\" xlink:href=\"#mf72c41c6f0\" y=\"88.74\"/>\n     <use style=\"fill:#ff7f0e;fill-opacity:0.6;\" x=\"146.794177\" xlink:href=\"#mf72c41c6f0\" y=\"88.74\"/>\n     <use style=\"fill:#ff7f0e;fill-opacity:0.6;\" x=\"167.192176\" xlink:href=\"#mf72c41c6f0\" y=\"88.74\"/>\n     <use style=\"fill:#ff7f0e;fill-opacity:0.6;\" x=\"172.291675\" xlink:href=\"#mf72c41c6f0\" y=\"88.74\"/>\n     <use style=\"fill:#ff7f0e;fill-opacity:0.6;\" x=\"85.600181\" xlink:href=\"#mf72c41c6f0\" y=\"251.82\"/>\n     <use style=\"fill:#ff7f0e;fill-opacity:0.6;\" x=\"330.376164\" xlink:href=\"#mf72c41c6f0\" y=\"88.74\"/>\n     <use style=\"fill:#ff7f0e;fill-opacity:0.6;\" x=\"238.585171\" xlink:href=\"#mf72c41c6f0\" y=\"88.74\"/>\n     <use style=\"fill:#ff7f0e;fill-opacity:0.6;\" x=\"238.585171\" xlink:href=\"#mf72c41c6f0\" y=\"88.74\"/>\n     <use style=\"fill:#ff7f0e;fill-opacity:0.6;\" x=\"136.595178\" xlink:href=\"#mf72c41c6f0\" y=\"251.82\"/>\n     <use style=\"fill:#ff7f0e;fill-opacity:0.6;\" x=\"82.642472\" xlink:href=\"#mf72c41c6f0\" y=\"251.82\"/>\n     <use style=\"fill:#ff7f0e;fill-opacity:0.6;\" x=\"218.187172\" xlink:href=\"#mf72c41c6f0\" y=\"251.82\"/>\n     <use style=\"fill:#ff7f0e;fill-opacity:0.6;\" x=\"248.78417\" xlink:href=\"#mf72c41c6f0\" y=\"88.74\"/>\n     <use style=\"fill:#ff7f0e;fill-opacity:0.6;\" x=\"345.674663\" xlink:href=\"#mf72c41c6f0\" y=\"88.74\"/>\n     <use style=\"fill:#ff7f0e;fill-opacity:0.6;\" x=\"218.187172\" xlink:href=\"#mf72c41c6f0\" y=\"251.82\"/>\n     <use style=\"fill:#ff7f0e;fill-opacity:0.6;\" x=\"218.187172\" xlink:href=\"#mf72c41c6f0\" y=\"88.74\"/>\n     <use style=\"fill:#ff7f0e;fill-opacity:0.6;\" x=\"85.600181\" xlink:href=\"#mf72c41c6f0\" y=\"251.82\"/>\n     <use style=\"fill:#ff7f0e;fill-opacity:0.6;\" x=\"231.951322\" xlink:href=\"#mf72c41c6f0\" y=\"251.82\"/>\n     <use style=\"fill:#ff7f0e;fill-opacity:0.6;\" x=\"396.66966\" xlink:href=\"#mf72c41c6f0\" y=\"88.74\"/>\n     <use style=\"fill:#ff7f0e;fill-opacity:0.6;\" x=\"156.993176\" xlink:href=\"#mf72c41c6f0\" y=\"88.74\"/>\n     <use style=\"fill:#ff7f0e;fill-opacity:0.6;\" x=\"84.733266\" xlink:href=\"#mf72c41c6f0\" y=\"251.82\"/>\n     <use style=\"fill:#ff7f0e;fill-opacity:0.6;\" x=\"279.381168\" xlink:href=\"#mf72c41c6f0\" y=\"88.74\"/>\n     <use style=\"fill:#ff7f0e;fill-opacity:0.6;\" x=\"243.68467\" xlink:href=\"#mf72c41c6f0\" y=\"251.82\"/>\n     <use style=\"fill:#ff7f0e;fill-opacity:0.6;\" x=\"231.951322\" xlink:href=\"#mf72c41c6f0\" y=\"251.82\"/>\n     <use style=\"fill:#ff7f0e;fill-opacity:0.6;\" x=\"233.485671\" xlink:href=\"#mf72c41c6f0\" y=\"88.74\"/>\n     <use style=\"fill:#ff7f0e;fill-opacity:0.6;\" x=\"231.951322\" xlink:href=\"#mf72c41c6f0\" y=\"88.74\"/>\n     <use style=\"fill:#ff7f0e;fill-opacity:0.6;\" x=\"162.092676\" xlink:href=\"#mf72c41c6f0\" y=\"88.74\"/>\n     <use style=\"fill:#ff7f0e;fill-opacity:0.6;\" x=\"172.291675\" xlink:href=\"#mf72c41c6f0\" y=\"88.74\"/>\n     <use style=\"fill:#ff7f0e;fill-opacity:0.6;\" x=\"309.978166\" xlink:href=\"#mf72c41c6f0\" y=\"88.74\"/>\n     <use style=\"fill:#ff7f0e;fill-opacity:0.6;\" x=\"340.575164\" xlink:href=\"#mf72c41c6f0\" y=\"251.82\"/>\n     <use style=\"fill:#ff7f0e;fill-opacity:0.6;\" x=\"202.888673\" xlink:href=\"#mf72c41c6f0\" y=\"88.74\"/>\n     <use style=\"fill:#ff7f0e;fill-opacity:0.6;\" x=\"325.276665\" xlink:href=\"#mf72c41c6f0\" y=\"88.74\"/>\n     <use style=\"fill:#ff7f0e;fill-opacity:0.6;\" x=\"294.679667\" xlink:href=\"#mf72c41c6f0\" y=\"88.74\"/>\n     <use style=\"fill:#ff7f0e;fill-opacity:0.6;\" x=\"218.187172\" xlink:href=\"#mf72c41c6f0\" y=\"88.74\"/>\n     <use style=\"fill:#ff7f0e;fill-opacity:0.6;\" x=\"100.89868\" xlink:href=\"#mf72c41c6f0\" y=\"251.82\"/>\n     <use style=\"fill:#ff7f0e;fill-opacity:0.6;\" x=\"320.177165\" xlink:href=\"#mf72c41c6f0\" y=\"88.74\"/>\n     <use style=\"fill:#ff7f0e;fill-opacity:0.6;\" x=\"223.286672\" xlink:href=\"#mf72c41c6f0\" y=\"88.74\"/>\n     <use style=\"fill:#ff7f0e;fill-opacity:0.6;\" x=\"156.993176\" xlink:href=\"#mf72c41c6f0\" y=\"88.74\"/>\n     <use style=\"fill:#ff7f0e;fill-opacity:0.6;\" x=\"366.072662\" xlink:href=\"#mf72c41c6f0\" y=\"88.74\"/>\n     <use style=\"fill:#ff7f0e;fill-opacity:0.6;\" x=\"207.988173\" xlink:href=\"#mf72c41c6f0\" y=\"88.74\"/>\n     <use style=\"fill:#ff7f0e;fill-opacity:0.6;\" x=\"177.391175\" xlink:href=\"#mf72c41c6f0\" y=\"88.74\"/>\n     <use style=\"fill:#ff7f0e;fill-opacity:0.6;\" x=\"213.087673\" xlink:href=\"#mf72c41c6f0\" y=\"251.82\"/>\n    </g>\n   </g>\n   <g id=\"matplotlib.axis_1\">\n    <g id=\"xtick_1\">\n     <g id=\"line2d_1\">\n      <defs>\n       <path d=\"M 0 0 \nL 0 3.5 \n\" id=\"m6966de1cd6\" style=\"stroke:#000000;stroke-width:0.8;\"/>\n      </defs>\n      <g>\n       <use style=\"stroke:#000000;stroke-width:0.8;\" x=\"80.500682\" xlink:href=\"#m6966de1cd6\" y=\"333.36\"/>\n      </g>\n     </g>\n     <g id=\"text_1\">\n      <!-- 0 -->\n      <defs>\n       <path d=\"M 31.78125 66.40625 \nQ 24.171875 66.40625 20.328125 58.90625 \nQ 16.5 51.421875 16.5 36.375 \nQ 16.5 21.390625 20.328125 13.890625 \nQ 24.171875 6.390625 31.78125 6.390625 \nQ 39.453125 6.390625 43.28125 13.890625 \nQ 47.125 21.390625 47.125 36.375 \nQ 47.125 51.421875 43.28125 58.90625 \nQ 39.453125 66.40625 31.78125 66.40625 \nz\nM 31.78125 74.21875 \nQ 44.046875 74.21875 50.515625 64.515625 \nQ 56.984375 54.828125 56.984375 36.375 \nQ 56.984375 17.96875 50.515625 8.265625 \nQ 44.046875 -1.421875 31.78125 -1.421875 \nQ 19.53125 -1.421875 13.0625 8.265625 \nQ 6.59375 17.96875 6.59375 36.375 \nQ 6.59375 54.828125 13.0625 64.515625 \nQ 19.53125 74.21875 31.78125 74.21875 \nz\n\" id=\"DejaVuSans-48\"/>\n      </defs>\n      <g transform=\"translate(77.319432 347.958438)scale(0.1 -0.1)\">\n       <use xlink:href=\"#DejaVuSans-48\"/>\n      </g>\n     </g>\n    </g>\n    <g id=\"xtick_2\">\n     <g id=\"line2d_2\">\n      <g>\n       <use style=\"stroke:#000000;stroke-width:0.8;\" x=\"131.495678\" xlink:href=\"#m6966de1cd6\" y=\"333.36\"/>\n      </g>\n     </g>\n     <g id=\"text_2\">\n      <!-- 10 -->\n      <defs>\n       <path d=\"M 12.40625 8.296875 \nL 28.515625 8.296875 \nL 28.515625 63.921875 \nL 10.984375 60.40625 \nL 10.984375 69.390625 \nL 28.421875 72.90625 \nL 38.28125 72.90625 \nL 38.28125 8.296875 \nL 54.390625 8.296875 \nL 54.390625 0 \nL 12.40625 0 \nz\n\" id=\"DejaVuSans-49\"/>\n      </defs>\n      <g transform=\"translate(125.133178 347.958438)scale(0.1 -0.1)\">\n       <use xlink:href=\"#DejaVuSans-49\"/>\n       <use x=\"63.623047\" xlink:href=\"#DejaVuSans-48\"/>\n      </g>\n     </g>\n    </g>\n    <g id=\"xtick_3\">\n     <g id=\"line2d_3\">\n      <g>\n       <use style=\"stroke:#000000;stroke-width:0.8;\" x=\"182.490675\" xlink:href=\"#m6966de1cd6\" y=\"333.36\"/>\n      </g>\n     </g>\n     <g id=\"text_3\">\n      <!-- 20 -->\n      <defs>\n       <path d=\"M 19.1875 8.296875 \nL 53.609375 8.296875 \nL 53.609375 0 \nL 7.328125 0 \nL 7.328125 8.296875 \nQ 12.9375 14.109375 22.625 23.890625 \nQ 32.328125 33.6875 34.8125 36.53125 \nQ 39.546875 41.84375 41.421875 45.53125 \nQ 43.3125 49.21875 43.3125 52.78125 \nQ 43.3125 58.59375 39.234375 62.25 \nQ 35.15625 65.921875 28.609375 65.921875 \nQ 23.96875 65.921875 18.8125 64.3125 \nQ 13.671875 62.703125 7.8125 59.421875 \nL 7.8125 69.390625 \nQ 13.765625 71.78125 18.9375 73 \nQ 24.125 74.21875 28.421875 74.21875 \nQ 39.75 74.21875 46.484375 68.546875 \nQ 53.21875 62.890625 53.21875 53.421875 \nQ 53.21875 48.921875 51.53125 44.890625 \nQ 49.859375 40.875 45.40625 35.40625 \nQ 44.1875 33.984375 37.640625 27.21875 \nQ 31.109375 20.453125 19.1875 8.296875 \nz\n\" id=\"DejaVuSans-50\"/>\n      </defs>\n      <g transform=\"translate(176.128175 347.958438)scale(0.1 -0.1)\">\n       <use xlink:href=\"#DejaVuSans-50\"/>\n       <use x=\"63.623047\" xlink:href=\"#DejaVuSans-48\"/>\n      </g>\n     </g>\n    </g>\n    <g id=\"xtick_4\">\n     <g id=\"line2d_4\">\n      <g>\n       <use style=\"stroke:#000000;stroke-width:0.8;\" x=\"233.485671\" xlink:href=\"#m6966de1cd6\" y=\"333.36\"/>\n      </g>\n     </g>\n     <g id=\"text_4\">\n      <!-- 30 -->\n      <defs>\n       <path d=\"M 40.578125 39.3125 \nQ 47.65625 37.796875 51.625 33 \nQ 55.609375 28.21875 55.609375 21.1875 \nQ 55.609375 10.40625 48.1875 4.484375 \nQ 40.765625 -1.421875 27.09375 -1.421875 \nQ 22.515625 -1.421875 17.65625 -0.515625 \nQ 12.796875 0.390625 7.625 2.203125 \nL 7.625 11.71875 \nQ 11.71875 9.328125 16.59375 8.109375 \nQ 21.484375 6.890625 26.8125 6.890625 \nQ 36.078125 6.890625 40.9375 10.546875 \nQ 45.796875 14.203125 45.796875 21.1875 \nQ 45.796875 27.640625 41.28125 31.265625 \nQ 36.765625 34.90625 28.71875 34.90625 \nL 20.21875 34.90625 \nL 20.21875 43.015625 \nL 29.109375 43.015625 \nQ 36.375 43.015625 40.234375 45.921875 \nQ 44.09375 48.828125 44.09375 54.296875 \nQ 44.09375 59.90625 40.109375 62.90625 \nQ 36.140625 65.921875 28.71875 65.921875 \nQ 24.65625 65.921875 20.015625 65.03125 \nQ 15.375 64.15625 9.8125 62.3125 \nL 9.8125 71.09375 \nQ 15.4375 72.65625 20.34375 73.4375 \nQ 25.25 74.21875 29.59375 74.21875 \nQ 40.828125 74.21875 47.359375 69.109375 \nQ 53.90625 64.015625 53.90625 55.328125 \nQ 53.90625 49.265625 50.4375 45.09375 \nQ 46.96875 40.921875 40.578125 39.3125 \nz\n\" id=\"DejaVuSans-51\"/>\n      </defs>\n      <g transform=\"translate(227.123171 347.958438)scale(0.1 -0.1)\">\n       <use xlink:href=\"#DejaVuSans-51\"/>\n       <use x=\"63.623047\" xlink:href=\"#DejaVuSans-48\"/>\n      </g>\n     </g>\n    </g>\n    <g id=\"xtick_5\">\n     <g id=\"line2d_5\">\n      <g>\n       <use style=\"stroke:#000000;stroke-width:0.8;\" x=\"284.480668\" xlink:href=\"#m6966de1cd6\" y=\"333.36\"/>\n      </g>\n     </g>\n     <g id=\"text_5\">\n      <!-- 40 -->\n      <defs>\n       <path d=\"M 37.796875 64.3125 \nL 12.890625 25.390625 \nL 37.796875 25.390625 \nz\nM 35.203125 72.90625 \nL 47.609375 72.90625 \nL 47.609375 25.390625 \nL 58.015625 25.390625 \nL 58.015625 17.1875 \nL 47.609375 17.1875 \nL 47.609375 0 \nL 37.796875 0 \nL 37.796875 17.1875 \nL 4.890625 17.1875 \nL 4.890625 26.703125 \nz\n\" id=\"DejaVuSans-52\"/>\n      </defs>\n      <g transform=\"translate(278.118168 347.958438)scale(0.1 -0.1)\">\n       <use xlink:href=\"#DejaVuSans-52\"/>\n       <use x=\"63.623047\" xlink:href=\"#DejaVuSans-48\"/>\n      </g>\n     </g>\n    </g>\n    <g id=\"xtick_6\">\n     <g id=\"line2d_6\">\n      <g>\n       <use style=\"stroke:#000000;stroke-width:0.8;\" x=\"335.475664\" xlink:href=\"#m6966de1cd6\" y=\"333.36\"/>\n      </g>\n     </g>\n     <g id=\"text_6\">\n      <!-- 50 -->\n      <defs>\n       <path d=\"M 10.796875 72.90625 \nL 49.515625 72.90625 \nL 49.515625 64.59375 \nL 19.828125 64.59375 \nL 19.828125 46.734375 \nQ 21.96875 47.46875 24.109375 47.828125 \nQ 26.265625 48.1875 28.421875 48.1875 \nQ 40.625 48.1875 47.75 41.5 \nQ 54.890625 34.8125 54.890625 23.390625 \nQ 54.890625 11.625 47.5625 5.09375 \nQ 40.234375 -1.421875 26.90625 -1.421875 \nQ 22.3125 -1.421875 17.546875 -0.640625 \nQ 12.796875 0.140625 7.71875 1.703125 \nL 7.71875 11.625 \nQ 12.109375 9.234375 16.796875 8.0625 \nQ 21.484375 6.890625 26.703125 6.890625 \nQ 35.15625 6.890625 40.078125 11.328125 \nQ 45.015625 15.765625 45.015625 23.390625 \nQ 45.015625 31 40.078125 35.4375 \nQ 35.15625 39.890625 26.703125 39.890625 \nQ 22.75 39.890625 18.8125 39.015625 \nQ 14.890625 38.140625 10.796875 36.28125 \nz\n\" id=\"DejaVuSans-53\"/>\n      </defs>\n      <g transform=\"translate(329.113164 347.958438)scale(0.1 -0.1)\">\n       <use xlink:href=\"#DejaVuSans-53\"/>\n       <use x=\"63.623047\" xlink:href=\"#DejaVuSans-48\"/>\n      </g>\n     </g>\n    </g>\n    <g id=\"xtick_7\">\n     <g id=\"line2d_7\">\n      <g>\n       <use style=\"stroke:#000000;stroke-width:0.8;\" x=\"386.47066\" xlink:href=\"#m6966de1cd6\" y=\"333.36\"/>\n      </g>\n     </g>\n     <g id=\"text_7\">\n      <!-- 60 -->\n      <defs>\n       <path d=\"M 33.015625 40.375 \nQ 26.375 40.375 22.484375 35.828125 \nQ 18.609375 31.296875 18.609375 23.390625 \nQ 18.609375 15.53125 22.484375 10.953125 \nQ 26.375 6.390625 33.015625 6.390625 \nQ 39.65625 6.390625 43.53125 10.953125 \nQ 47.40625 15.53125 47.40625 23.390625 \nQ 47.40625 31.296875 43.53125 35.828125 \nQ 39.65625 40.375 33.015625 40.375 \nz\nM 52.59375 71.296875 \nL 52.59375 62.3125 \nQ 48.875 64.0625 45.09375 64.984375 \nQ 41.3125 65.921875 37.59375 65.921875 \nQ 27.828125 65.921875 22.671875 59.328125 \nQ 17.53125 52.734375 16.796875 39.40625 \nQ 19.671875 43.65625 24.015625 45.921875 \nQ 28.375 48.1875 33.59375 48.1875 \nQ 44.578125 48.1875 50.953125 41.515625 \nQ 57.328125 34.859375 57.328125 23.390625 \nQ 57.328125 12.15625 50.6875 5.359375 \nQ 44.046875 -1.421875 33.015625 -1.421875 \nQ 20.359375 -1.421875 13.671875 8.265625 \nQ 6.984375 17.96875 6.984375 36.375 \nQ 6.984375 53.65625 15.1875 63.9375 \nQ 23.390625 74.21875 37.203125 74.21875 \nQ 40.921875 74.21875 44.703125 73.484375 \nQ 48.484375 72.75 52.59375 71.296875 \nz\n\" id=\"DejaVuSans-54\"/>\n      </defs>\n      <g transform=\"translate(380.10816 347.958438)scale(0.1 -0.1)\">\n       <use xlink:href=\"#DejaVuSans-54\"/>\n       <use x=\"63.623047\" xlink:href=\"#DejaVuSans-48\"/>\n      </g>\n     </g>\n    </g>\n    <g id=\"xtick_8\">\n     <g id=\"line2d_8\">\n      <g>\n       <use style=\"stroke:#000000;stroke-width:0.8;\" x=\"437.465657\" xlink:href=\"#m6966de1cd6\" y=\"333.36\"/>\n      </g>\n     </g>\n     <g id=\"text_8\">\n      <!-- 70 -->\n      <defs>\n       <path d=\"M 8.203125 72.90625 \nL 55.078125 72.90625 \nL 55.078125 68.703125 \nL 28.609375 0 \nL 18.3125 0 \nL 43.21875 64.59375 \nL 8.203125 64.59375 \nz\n\" id=\"DejaVuSans-55\"/>\n      </defs>\n      <g transform=\"translate(431.103157 347.958438)scale(0.1 -0.1)\">\n       <use xlink:href=\"#DejaVuSans-55\"/>\n       <use x=\"63.623047\" xlink:href=\"#DejaVuSans-48\"/>\n      </g>\n     </g>\n    </g>\n    <g id=\"xtick_9\">\n     <g id=\"line2d_9\">\n      <g>\n       <use style=\"stroke:#000000;stroke-width:0.8;\" x=\"488.460653\" xlink:href=\"#m6966de1cd6\" y=\"333.36\"/>\n      </g>\n     </g>\n     <g id=\"text_9\">\n      <!-- 80 -->\n      <defs>\n       <path d=\"M 31.78125 34.625 \nQ 24.75 34.625 20.71875 30.859375 \nQ 16.703125 27.09375 16.703125 20.515625 \nQ 16.703125 13.921875 20.71875 10.15625 \nQ 24.75 6.390625 31.78125 6.390625 \nQ 38.8125 6.390625 42.859375 10.171875 \nQ 46.921875 13.96875 46.921875 20.515625 \nQ 46.921875 27.09375 42.890625 30.859375 \nQ 38.875 34.625 31.78125 34.625 \nz\nM 21.921875 38.8125 \nQ 15.578125 40.375 12.03125 44.71875 \nQ 8.5 49.078125 8.5 55.328125 \nQ 8.5 64.0625 14.71875 69.140625 \nQ 20.953125 74.21875 31.78125 74.21875 \nQ 42.671875 74.21875 48.875 69.140625 \nQ 55.078125 64.0625 55.078125 55.328125 \nQ 55.078125 49.078125 51.53125 44.71875 \nQ 48 40.375 41.703125 38.8125 \nQ 48.828125 37.15625 52.796875 32.3125 \nQ 56.78125 27.484375 56.78125 20.515625 \nQ 56.78125 9.90625 50.3125 4.234375 \nQ 43.84375 -1.421875 31.78125 -1.421875 \nQ 19.734375 -1.421875 13.25 4.234375 \nQ 6.78125 9.90625 6.78125 20.515625 \nQ 6.78125 27.484375 10.78125 32.3125 \nQ 14.796875 37.15625 21.921875 38.8125 \nz\nM 18.3125 54.390625 \nQ 18.3125 48.734375 21.84375 45.5625 \nQ 25.390625 42.390625 31.78125 42.390625 \nQ 38.140625 42.390625 41.71875 45.5625 \nQ 45.3125 48.734375 45.3125 54.390625 \nQ 45.3125 60.0625 41.71875 63.234375 \nQ 38.140625 66.40625 31.78125 66.40625 \nQ 25.390625 66.40625 21.84375 63.234375 \nQ 18.3125 60.0625 18.3125 54.390625 \nz\n\" id=\"DejaVuSans-56\"/>\n      </defs>\n      <g transform=\"translate(482.098153 347.958438)scale(0.1 -0.1)\">\n       <use xlink:href=\"#DejaVuSans-56\"/>\n       <use x=\"63.623047\" xlink:href=\"#DejaVuSans-48\"/>\n      </g>\n     </g>\n    </g>\n    <g id=\"text_10\">\n     <!-- Age -->\n     <defs>\n      <path d=\"M 34.1875 63.1875 \nL 20.796875 26.90625 \nL 47.609375 26.90625 \nz\nM 28.609375 72.90625 \nL 39.796875 72.90625 \nL 67.578125 0 \nL 57.328125 0 \nL 50.6875 18.703125 \nL 17.828125 18.703125 \nL 11.1875 0 \nL 0.78125 0 \nz\n\" id=\"DejaVuSans-65\"/>\n      <path d=\"M 45.40625 27.984375 \nQ 45.40625 37.75 41.375 43.109375 \nQ 37.359375 48.484375 30.078125 48.484375 \nQ 22.859375 48.484375 18.828125 43.109375 \nQ 14.796875 37.75 14.796875 27.984375 \nQ 14.796875 18.265625 18.828125 12.890625 \nQ 22.859375 7.515625 30.078125 7.515625 \nQ 37.359375 7.515625 41.375 12.890625 \nQ 45.40625 18.265625 45.40625 27.984375 \nz\nM 54.390625 6.78125 \nQ 54.390625 -7.171875 48.1875 -13.984375 \nQ 42 -20.796875 29.203125 -20.796875 \nQ 24.46875 -20.796875 20.265625 -20.09375 \nQ 16.0625 -19.390625 12.109375 -17.921875 \nL 12.109375 -9.1875 \nQ 16.0625 -11.328125 19.921875 -12.34375 \nQ 23.78125 -13.375 27.78125 -13.375 \nQ 36.625 -13.375 41.015625 -8.765625 \nQ 45.40625 -4.15625 45.40625 5.171875 \nL 45.40625 9.625 \nQ 42.625 4.78125 38.28125 2.390625 \nQ 33.9375 0 27.875 0 \nQ 17.828125 0 11.671875 7.65625 \nQ 5.515625 15.328125 5.515625 27.984375 \nQ 5.515625 40.671875 11.671875 48.328125 \nQ 17.828125 56 27.875 56 \nQ 33.9375 56 38.28125 53.609375 \nQ 42.625 51.21875 45.40625 46.390625 \nL 45.40625 54.6875 \nL 54.390625 54.6875 \nz\n\" id=\"DejaVuSans-103\"/>\n      <path d=\"M 56.203125 29.59375 \nL 56.203125 25.203125 \nL 14.890625 25.203125 \nQ 15.484375 15.921875 20.484375 11.0625 \nQ 25.484375 6.203125 34.421875 6.203125 \nQ 39.59375 6.203125 44.453125 7.46875 \nQ 49.3125 8.734375 54.109375 11.28125 \nL 54.109375 2.78125 \nQ 49.265625 0.734375 44.1875 -0.34375 \nQ 39.109375 -1.421875 33.890625 -1.421875 \nQ 20.796875 -1.421875 13.15625 6.1875 \nQ 5.515625 13.8125 5.515625 26.8125 \nQ 5.515625 40.234375 12.765625 48.109375 \nQ 20.015625 56 32.328125 56 \nQ 43.359375 56 49.78125 48.890625 \nQ 56.203125 41.796875 56.203125 29.59375 \nz\nM 47.21875 32.234375 \nQ 47.125 39.59375 43.09375 43.984375 \nQ 39.0625 48.390625 32.421875 48.390625 \nQ 24.90625 48.390625 20.390625 44.140625 \nQ 15.875 39.890625 15.1875 32.171875 \nz\n\" id=\"DejaVuSans-101\"/>\n     </defs>\n     <g transform=\"translate(275.880469 361.636562)scale(0.1 -0.1)\">\n      <use xlink:href=\"#DejaVuSans-65\"/>\n      <use x=\"68.408203\" xlink:href=\"#DejaVuSans-103\"/>\n      <use x=\"131.884766\" xlink:href=\"#DejaVuSans-101\"/>\n     </g>\n    </g>\n   </g>\n   <g id=\"matplotlib.axis_2\">\n    <g id=\"ytick_1\">\n     <g id=\"line2d_10\">\n      <defs>\n       <path d=\"M 0 0 \nL -3.5 0 \n\" id=\"m26d995c87e\" style=\"stroke:#000000;stroke-width:0.8;\"/>\n      </defs>\n      <g>\n       <use style=\"stroke:#000000;stroke-width:0.8;\" x=\"62.351563\" xlink:href=\"#m26d995c87e\" y=\"251.82\"/>\n      </g>\n     </g>\n     <g id=\"text_11\">\n      <!-- male -->\n      <defs>\n       <path d=\"M 52 44.1875 \nQ 55.375 50.25 60.0625 53.125 \nQ 64.75 56 71.09375 56 \nQ 79.640625 56 84.28125 50.015625 \nQ 88.921875 44.046875 88.921875 33.015625 \nL 88.921875 0 \nL 79.890625 0 \nL 79.890625 32.71875 \nQ 79.890625 40.578125 77.09375 44.375 \nQ 74.3125 48.1875 68.609375 48.1875 \nQ 61.625 48.1875 57.5625 43.546875 \nQ 53.515625 38.921875 53.515625 30.90625 \nL 53.515625 0 \nL 44.484375 0 \nL 44.484375 32.71875 \nQ 44.484375 40.625 41.703125 44.40625 \nQ 38.921875 48.1875 33.109375 48.1875 \nQ 26.21875 48.1875 22.15625 43.53125 \nQ 18.109375 38.875 18.109375 30.90625 \nL 18.109375 0 \nL 9.078125 0 \nL 9.078125 54.6875 \nL 18.109375 54.6875 \nL 18.109375 46.1875 \nQ 21.1875 51.21875 25.484375 53.609375 \nQ 29.78125 56 35.6875 56 \nQ 41.65625 56 45.828125 52.96875 \nQ 50 49.953125 52 44.1875 \nz\n\" id=\"DejaVuSans-109\"/>\n       <path d=\"M 34.28125 27.484375 \nQ 23.390625 27.484375 19.1875 25 \nQ 14.984375 22.515625 14.984375 16.5 \nQ 14.984375 11.71875 18.140625 8.90625 \nQ 21.296875 6.109375 26.703125 6.109375 \nQ 34.1875 6.109375 38.703125 11.40625 \nQ 43.21875 16.703125 43.21875 25.484375 \nL 43.21875 27.484375 \nz\nM 52.203125 31.203125 \nL 52.203125 0 \nL 43.21875 0 \nL 43.21875 8.296875 \nQ 40.140625 3.328125 35.546875 0.953125 \nQ 30.953125 -1.421875 24.3125 -1.421875 \nQ 15.921875 -1.421875 10.953125 3.296875 \nQ 6 8.015625 6 15.921875 \nQ 6 25.140625 12.171875 29.828125 \nQ 18.359375 34.515625 30.609375 34.515625 \nL 43.21875 34.515625 \nL 43.21875 35.40625 \nQ 43.21875 41.609375 39.140625 45 \nQ 35.0625 48.390625 27.6875 48.390625 \nQ 23 48.390625 18.546875 47.265625 \nQ 14.109375 46.140625 10.015625 43.890625 \nL 10.015625 52.203125 \nQ 14.9375 54.109375 19.578125 55.046875 \nQ 24.21875 56 28.609375 56 \nQ 40.484375 56 46.34375 49.84375 \nQ 52.203125 43.703125 52.203125 31.203125 \nz\n\" id=\"DejaVuSans-97\"/>\n       <path d=\"M 9.421875 75.984375 \nL 18.40625 75.984375 \nL 18.40625 0 \nL 9.421875 0 \nz\n\" id=\"DejaVuSans-108\"/>\n      </defs>\n      <g transform=\"translate(30.551563 255.619219)scale(0.1 -0.1)\">\n       <use xlink:href=\"#DejaVuSans-109\"/>\n       <use x=\"97.412109\" xlink:href=\"#DejaVuSans-97\"/>\n       <use x=\"158.691406\" xlink:href=\"#DejaVuSans-108\"/>\n       <use x=\"186.474609\" xlink:href=\"#DejaVuSans-101\"/>\n      </g>\n     </g>\n    </g>\n    <g id=\"ytick_2\">\n     <g id=\"line2d_11\">\n      <g>\n       <use style=\"stroke:#000000;stroke-width:0.8;\" x=\"62.351563\" xlink:href=\"#m26d995c87e\" y=\"88.74\"/>\n      </g>\n     </g>\n     <g id=\"text_12\">\n      <!-- female -->\n      <defs>\n       <path d=\"M 37.109375 75.984375 \nL 37.109375 68.5 \nL 28.515625 68.5 \nQ 23.6875 68.5 21.796875 66.546875 \nQ 19.921875 64.59375 19.921875 59.515625 \nL 19.921875 54.6875 \nL 34.71875 54.6875 \nL 34.71875 47.703125 \nL 19.921875 47.703125 \nL 19.921875 0 \nL 10.890625 0 \nL 10.890625 47.703125 \nL 2.296875 47.703125 \nL 2.296875 54.6875 \nL 10.890625 54.6875 \nL 10.890625 58.5 \nQ 10.890625 67.625 15.140625 71.796875 \nQ 19.390625 75.984375 28.609375 75.984375 \nz\n\" id=\"DejaVuSans-102\"/>\n      </defs>\n      <g transform=\"translate(20.878125 92.539219)scale(0.1 -0.1)\">\n       <use xlink:href=\"#DejaVuSans-102\"/>\n       <use x=\"35.205078\" xlink:href=\"#DejaVuSans-101\"/>\n       <use x=\"96.728516\" xlink:href=\"#DejaVuSans-109\"/>\n       <use x=\"194.140625\" xlink:href=\"#DejaVuSans-97\"/>\n       <use x=\"255.419922\" xlink:href=\"#DejaVuSans-108\"/>\n       <use x=\"283.203125\" xlink:href=\"#DejaVuSans-101\"/>\n      </g>\n     </g>\n    </g>\n    <g id=\"text_13\">\n     <!-- Sex -->\n     <defs>\n      <path d=\"M 53.515625 70.515625 \nL 53.515625 60.890625 \nQ 47.90625 63.578125 42.921875 64.890625 \nQ 37.9375 66.21875 33.296875 66.21875 \nQ 25.25 66.21875 20.875 63.09375 \nQ 16.5 59.96875 16.5 54.203125 \nQ 16.5 49.359375 19.40625 46.890625 \nQ 22.3125 44.4375 30.421875 42.921875 \nL 36.375 41.703125 \nQ 47.40625 39.59375 52.65625 34.296875 \nQ 57.90625 29 57.90625 20.125 \nQ 57.90625 9.515625 50.796875 4.046875 \nQ 43.703125 -1.421875 29.984375 -1.421875 \nQ 24.8125 -1.421875 18.96875 -0.25 \nQ 13.140625 0.921875 6.890625 3.21875 \nL 6.890625 13.375 \nQ 12.890625 10.015625 18.65625 8.296875 \nQ 24.421875 6.59375 29.984375 6.59375 \nQ 38.421875 6.59375 43.015625 9.90625 \nQ 47.609375 13.234375 47.609375 19.390625 \nQ 47.609375 24.75 44.3125 27.78125 \nQ 41.015625 30.8125 33.5 32.328125 \nL 27.484375 33.5 \nQ 16.453125 35.6875 11.515625 40.375 \nQ 6.59375 45.0625 6.59375 53.421875 \nQ 6.59375 63.09375 13.40625 68.65625 \nQ 20.21875 74.21875 32.171875 74.21875 \nQ 37.3125 74.21875 42.625 73.28125 \nQ 47.953125 72.359375 53.515625 70.515625 \nz\n\" id=\"DejaVuSans-83\"/>\n      <path d=\"M 54.890625 54.6875 \nL 35.109375 28.078125 \nL 55.90625 0 \nL 45.3125 0 \nL 29.390625 21.484375 \nL 13.484375 0 \nL 2.875 0 \nL 24.125 28.609375 \nL 4.6875 54.6875 \nL 15.28125 54.6875 \nL 29.78125 35.203125 \nL 44.28125 54.6875 \nz\n\" id=\"DejaVuSans-120\"/>\n     </defs>\n     <g transform=\"translate(14.798438 179.402656)rotate(-90)scale(0.1 -0.1)\">\n      <use xlink:href=\"#DejaVuSans-83\"/>\n      <use x=\"63.476562\" xlink:href=\"#DejaVuSans-101\"/>\n      <use x=\"123.25\" xlink:href=\"#DejaVuSans-120\"/>\n     </g>\n    </g>\n   </g>\n   <g id=\"patch_3\">\n    <path d=\"M 62.351563 333.36 \nL 62.351563 7.2 \n\" style=\"fill:none;stroke:#000000;stroke-linecap:square;stroke-linejoin:miter;stroke-width:0.8;\"/>\n   </g>\n   <g id=\"patch_4\">\n    <path d=\"M 508.751562 333.36 \nL 508.751562 7.2 \n\" style=\"fill:none;stroke:#000000;stroke-linecap:square;stroke-linejoin:miter;stroke-width:0.8;\"/>\n   </g>\n   <g id=\"patch_5\">\n    <path d=\"M 62.351563 333.36 \nL 508.751562 333.36 \n\" style=\"fill:none;stroke:#000000;stroke-linecap:square;stroke-linejoin:miter;stroke-width:0.8;\"/>\n   </g>\n   <g id=\"patch_6\">\n    <path d=\"M 62.351563 7.2 \nL 508.751562 7.2 \n\" style=\"fill:none;stroke:#000000;stroke-linecap:square;stroke-linejoin:miter;stroke-width:0.8;\"/>\n   </g>\n   <g id=\"legend_1\">\n    <g id=\"patch_7\">\n     <path d=\"M 413.320312 44.55625 \nL 501.751562 44.55625 \nQ 503.751562 44.55625 503.751562 42.55625 \nL 503.751562 14.2 \nQ 503.751562 12.2 501.751562 12.2 \nL 413.320312 12.2 \nQ 411.320312 12.2 411.320312 14.2 \nL 411.320312 42.55625 \nQ 411.320312 44.55625 413.320312 44.55625 \nz\n\" style=\"fill:#ffffff;opacity:0.8;stroke:#cccccc;stroke-linejoin:miter;\"/>\n    </g>\n    <g id=\"PathCollection_3\">\n     <g>\n      <use style=\"fill:#1f77b4;fill-opacity:0.6;\" x=\"425.320312\" xlink:href=\"#m10fa1368fe\" y=\"21.173437\"/>\n     </g>\n    </g>\n    <g id=\"text_14\">\n     <!-- Unsurvived -->\n     <defs>\n      <path d=\"M 8.6875 72.90625 \nL 18.609375 72.90625 \nL 18.609375 28.609375 \nQ 18.609375 16.890625 22.84375 11.734375 \nQ 27.09375 6.59375 36.625 6.59375 \nQ 46.09375 6.59375 50.34375 11.734375 \nQ 54.59375 16.890625 54.59375 28.609375 \nL 54.59375 72.90625 \nL 64.5 72.90625 \nL 64.5 27.390625 \nQ 64.5 13.140625 57.4375 5.859375 \nQ 50.390625 -1.421875 36.625 -1.421875 \nQ 22.796875 -1.421875 15.734375 5.859375 \nQ 8.6875 13.140625 8.6875 27.390625 \nz\n\" id=\"DejaVuSans-85\"/>\n      <path d=\"M 54.890625 33.015625 \nL 54.890625 0 \nL 45.90625 0 \nL 45.90625 32.71875 \nQ 45.90625 40.484375 42.875 44.328125 \nQ 39.84375 48.1875 33.796875 48.1875 \nQ 26.515625 48.1875 22.3125 43.546875 \nQ 18.109375 38.921875 18.109375 30.90625 \nL 18.109375 0 \nL 9.078125 0 \nL 9.078125 54.6875 \nL 18.109375 54.6875 \nL 18.109375 46.1875 \nQ 21.34375 51.125 25.703125 53.5625 \nQ 30.078125 56 35.796875 56 \nQ 45.21875 56 50.046875 50.171875 \nQ 54.890625 44.34375 54.890625 33.015625 \nz\n\" id=\"DejaVuSans-110\"/>\n      <path d=\"M 44.28125 53.078125 \nL 44.28125 44.578125 \nQ 40.484375 46.53125 36.375 47.5 \nQ 32.28125 48.484375 27.875 48.484375 \nQ 21.1875 48.484375 17.84375 46.4375 \nQ 14.5 44.390625 14.5 40.28125 \nQ 14.5 37.15625 16.890625 35.375 \nQ 19.28125 33.59375 26.515625 31.984375 \nL 29.59375 31.296875 \nQ 39.15625 29.25 43.1875 25.515625 \nQ 47.21875 21.78125 47.21875 15.09375 \nQ 47.21875 7.46875 41.1875 3.015625 \nQ 35.15625 -1.421875 24.609375 -1.421875 \nQ 20.21875 -1.421875 15.453125 -0.5625 \nQ 10.6875 0.296875 5.421875 2 \nL 5.421875 11.28125 \nQ 10.40625 8.6875 15.234375 7.390625 \nQ 20.0625 6.109375 24.8125 6.109375 \nQ 31.15625 6.109375 34.5625 8.28125 \nQ 37.984375 10.453125 37.984375 14.40625 \nQ 37.984375 18.0625 35.515625 20.015625 \nQ 33.0625 21.96875 24.703125 23.78125 \nL 21.578125 24.515625 \nQ 13.234375 26.265625 9.515625 29.90625 \nQ 5.8125 33.546875 5.8125 39.890625 \nQ 5.8125 47.609375 11.28125 51.796875 \nQ 16.75 56 26.8125 56 \nQ 31.78125 56 36.171875 55.265625 \nQ 40.578125 54.546875 44.28125 53.078125 \nz\n\" id=\"DejaVuSans-115\"/>\n      <path d=\"M 8.5 21.578125 \nL 8.5 54.6875 \nL 17.484375 54.6875 \nL 17.484375 21.921875 \nQ 17.484375 14.15625 20.5 10.265625 \nQ 23.53125 6.390625 29.59375 6.390625 \nQ 36.859375 6.390625 41.078125 11.03125 \nQ 45.3125 15.671875 45.3125 23.6875 \nL 45.3125 54.6875 \nL 54.296875 54.6875 \nL 54.296875 0 \nL 45.3125 0 \nL 45.3125 8.40625 \nQ 42.046875 3.421875 37.71875 1 \nQ 33.40625 -1.421875 27.6875 -1.421875 \nQ 18.265625 -1.421875 13.375 4.4375 \nQ 8.5 10.296875 8.5 21.578125 \nz\nM 31.109375 56 \nz\n\" id=\"DejaVuSans-117\"/>\n      <path d=\"M 41.109375 46.296875 \nQ 39.59375 47.171875 37.8125 47.578125 \nQ 36.03125 48 33.890625 48 \nQ 26.265625 48 22.1875 43.046875 \nQ 18.109375 38.09375 18.109375 28.8125 \nL 18.109375 0 \nL 9.078125 0 \nL 9.078125 54.6875 \nL 18.109375 54.6875 \nL 18.109375 46.1875 \nQ 20.953125 51.171875 25.484375 53.578125 \nQ 30.03125 56 36.53125 56 \nQ 37.453125 56 38.578125 55.875 \nQ 39.703125 55.765625 41.0625 55.515625 \nz\n\" id=\"DejaVuSans-114\"/>\n      <path d=\"M 2.984375 54.6875 \nL 12.5 54.6875 \nL 29.59375 8.796875 \nL 46.6875 54.6875 \nL 56.203125 54.6875 \nL 35.6875 0 \nL 23.484375 0 \nz\n\" id=\"DejaVuSans-118\"/>\n      <path d=\"M 9.421875 54.6875 \nL 18.40625 54.6875 \nL 18.40625 0 \nL 9.421875 0 \nz\nM 9.421875 75.984375 \nL 18.40625 75.984375 \nL 18.40625 64.59375 \nL 9.421875 64.59375 \nz\n\" id=\"DejaVuSans-105\"/>\n      <path d=\"M 45.40625 46.390625 \nL 45.40625 75.984375 \nL 54.390625 75.984375 \nL 54.390625 0 \nL 45.40625 0 \nL 45.40625 8.203125 \nQ 42.578125 3.328125 38.25 0.953125 \nQ 33.9375 -1.421875 27.875 -1.421875 \nQ 17.96875 -1.421875 11.734375 6.484375 \nQ 5.515625 14.40625 5.515625 27.296875 \nQ 5.515625 40.1875 11.734375 48.09375 \nQ 17.96875 56 27.875 56 \nQ 33.9375 56 38.25 53.625 \nQ 42.578125 51.265625 45.40625 46.390625 \nz\nM 14.796875 27.296875 \nQ 14.796875 17.390625 18.875 11.75 \nQ 22.953125 6.109375 30.078125 6.109375 \nQ 37.203125 6.109375 41.296875 11.75 \nQ 45.40625 17.390625 45.40625 27.296875 \nQ 45.40625 37.203125 41.296875 42.84375 \nQ 37.203125 48.484375 30.078125 48.484375 \nQ 22.953125 48.484375 18.875 42.84375 \nQ 14.796875 37.203125 14.796875 27.296875 \nz\n\" id=\"DejaVuSans-100\"/>\n     </defs>\n     <g transform=\"translate(443.320312 23.798437)scale(0.1 -0.1)\">\n      <use xlink:href=\"#DejaVuSans-85\"/>\n      <use x=\"73.193359\" xlink:href=\"#DejaVuSans-110\"/>\n      <use x=\"136.572266\" xlink:href=\"#DejaVuSans-115\"/>\n      <use x=\"188.671875\" xlink:href=\"#DejaVuSans-117\"/>\n      <use x=\"252.050781\" xlink:href=\"#DejaVuSans-114\"/>\n      <use x=\"293.164062\" xlink:href=\"#DejaVuSans-118\"/>\n      <use x=\"352.34375\" xlink:href=\"#DejaVuSans-105\"/>\n      <use x=\"380.126953\" xlink:href=\"#DejaVuSans-118\"/>\n      <use x=\"439.306641\" xlink:href=\"#DejaVuSans-101\"/>\n      <use x=\"500.830078\" xlink:href=\"#DejaVuSans-100\"/>\n     </g>\n    </g>\n    <g id=\"PathCollection_4\">\n     <g>\n      <use style=\"fill:#ff7f0e;fill-opacity:0.6;\" x=\"425.320312\" xlink:href=\"#mf72c41c6f0\" y=\"35.851562\"/>\n     </g>\n    </g>\n    <g id=\"text_15\">\n     <!-- Survived -->\n     <g transform=\"translate(443.320312 38.476562)scale(0.1 -0.1)\">\n      <use xlink:href=\"#DejaVuSans-83\"/>\n      <use x=\"63.476562\" xlink:href=\"#DejaVuSans-117\"/>\n      <use x=\"126.855469\" xlink:href=\"#DejaVuSans-114\"/>\n      <use x=\"167.96875\" xlink:href=\"#DejaVuSans-118\"/>\n      <use x=\"227.148438\" xlink:href=\"#DejaVuSans-105\"/>\n      <use x=\"254.931641\" xlink:href=\"#DejaVuSans-118\"/>\n      <use x=\"314.111328\" xlink:href=\"#DejaVuSans-101\"/>\n      <use x=\"375.634766\" xlink:href=\"#DejaVuSans-100\"/>\n     </g>\n    </g>\n   </g>\n  </g>\n </g>\n <defs>\n  <clipPath id=\"p19dc794945\">\n   <rect height=\"326.16\" width=\"446.4\" x=\"62.351563\" y=\"7.2\"/>\n  </clipPath>\n </defs>\n</svg>\n"
          },
          "metadata": {
            "tags": [],
            "needs_background": "light"
          }
        }
      ]
    },
    {
      "cell_type": "markdown",
      "metadata": {
        "id": "BN_6PDniN6XO"
      },
      "source": [
        "## Building Model"
      ]
    },
    {
      "cell_type": "code",
      "metadata": {
        "colab": {
          "base_uri": "https://localhost:8080/",
          "height": 204
        },
        "id": "P6v-ZTAfMyde",
        "outputId": "e1dcb5ab-064c-4e11-82bd-31490e5074cf"
      },
      "source": [
        "inputs_n = df.drop(['Sex','Survived'], axis='columns')\n",
        "inputs_n.head()"
      ],
      "execution_count": null,
      "outputs": [
        {
          "output_type": "execute_result",
          "data": {
            "text/html": [
              "<div>\n",
              "<style scoped>\n",
              "    .dataframe tbody tr th:only-of-type {\n",
              "        vertical-align: middle;\n",
              "    }\n",
              "\n",
              "    .dataframe tbody tr th {\n",
              "        vertical-align: top;\n",
              "    }\n",
              "\n",
              "    .dataframe thead th {\n",
              "        text-align: right;\n",
              "    }\n",
              "</style>\n",
              "<table border=\"1\" class=\"dataframe\">\n",
              "  <thead>\n",
              "    <tr style=\"text-align: right;\">\n",
              "      <th></th>\n",
              "      <th>Pclass</th>\n",
              "      <th>Age</th>\n",
              "      <th>Fare</th>\n",
              "    </tr>\n",
              "  </thead>\n",
              "  <tbody>\n",
              "    <tr>\n",
              "      <th>0</th>\n",
              "      <td>3</td>\n",
              "      <td>22.0</td>\n",
              "      <td>7.2500</td>\n",
              "    </tr>\n",
              "    <tr>\n",
              "      <th>1</th>\n",
              "      <td>1</td>\n",
              "      <td>38.0</td>\n",
              "      <td>71.2833</td>\n",
              "    </tr>\n",
              "    <tr>\n",
              "      <th>2</th>\n",
              "      <td>3</td>\n",
              "      <td>26.0</td>\n",
              "      <td>7.9250</td>\n",
              "    </tr>\n",
              "    <tr>\n",
              "      <th>3</th>\n",
              "      <td>1</td>\n",
              "      <td>35.0</td>\n",
              "      <td>53.1000</td>\n",
              "    </tr>\n",
              "    <tr>\n",
              "      <th>4</th>\n",
              "      <td>3</td>\n",
              "      <td>35.0</td>\n",
              "      <td>8.0500</td>\n",
              "    </tr>\n",
              "  </tbody>\n",
              "</table>\n",
              "</div>"
            ],
            "text/plain": [
              "   Pclass   Age     Fare\n",
              "0       3  22.0   7.2500\n",
              "1       1  38.0  71.2833\n",
              "2       3  26.0   7.9250\n",
              "3       1  35.0  53.1000\n",
              "4       3  35.0   8.0500"
            ]
          },
          "metadata": {
            "tags": []
          },
          "execution_count": 220
        }
      ]
    },
    {
      "cell_type": "code",
      "metadata": {
        "colab": {
          "base_uri": "https://localhost:8080/"
        },
        "id": "da5EJB-6M_0a",
        "outputId": "8e1e59a9-03c3-45c0-e478-6cb35be5c817"
      },
      "source": [
        "target = df['Survived']\n",
        "target.head()"
      ],
      "execution_count": null,
      "outputs": [
        {
          "output_type": "execute_result",
          "data": {
            "text/plain": [
              "0    0\n",
              "1    1\n",
              "2    1\n",
              "3    1\n",
              "4    0\n",
              "Name: Survived, dtype: int64"
            ]
          },
          "metadata": {
            "tags": []
          },
          "execution_count": 221
        }
      ]
    },
    {
      "cell_type": "code",
      "metadata": {
        "id": "MYKHhGtEQ6dZ"
      },
      "source": [
        "from sklearn.model_selection import train_test_split"
      ],
      "execution_count": null,
      "outputs": []
    },
    {
      "cell_type": "code",
      "metadata": {
        "id": "Nt9XPhrjQ96e"
      },
      "source": [
        "X_train, X_test, y_train, y_test = train_test_split(inputs_n, target, test_size=0.2)"
      ],
      "execution_count": null,
      "outputs": []
    },
    {
      "cell_type": "code",
      "metadata": {
        "colab": {
          "base_uri": "https://localhost:8080/"
        },
        "id": "smzz_jcsS5vo",
        "outputId": "49767ce9-b889-4172-c435-3f89815d5dbf"
      },
      "source": [
        "len(X_train)"
      ],
      "execution_count": null,
      "outputs": [
        {
          "output_type": "execute_result",
          "data": {
            "text/plain": [
              "712"
            ]
          },
          "metadata": {
            "tags": []
          },
          "execution_count": 224
        }
      ]
    },
    {
      "cell_type": "code",
      "metadata": {
        "colab": {
          "base_uri": "https://localhost:8080/"
        },
        "id": "suNn_WqVS-uv",
        "outputId": "d21f9fd2-3572-47ef-fde2-88a83cd0057d"
      },
      "source": [
        "len(X_test)"
      ],
      "execution_count": null,
      "outputs": [
        {
          "output_type": "execute_result",
          "data": {
            "text/plain": [
              "179"
            ]
          },
          "metadata": {
            "tags": []
          },
          "execution_count": 225
        }
      ]
    },
    {
      "cell_type": "code",
      "metadata": {
        "id": "eFru0SVNOFqJ"
      },
      "source": [
        "from sklearn import tree\n",
        "model = tree.DecisionTreeClassifier()"
      ],
      "execution_count": null,
      "outputs": []
    },
    {
      "cell_type": "code",
      "metadata": {
        "colab": {
          "base_uri": "https://localhost:8080/"
        },
        "id": "M15FcjzcOKNt",
        "outputId": "93f11f9e-2a06-44ef-a811-82b283b27890"
      },
      "source": [
        "model.fit(X_train, y_train)"
      ],
      "execution_count": null,
      "outputs": [
        {
          "output_type": "execute_result",
          "data": {
            "text/plain": [
              "DecisionTreeClassifier(ccp_alpha=0.0, class_weight=None, criterion='gini',\n",
              "                       max_depth=None, max_features=None, max_leaf_nodes=None,\n",
              "                       min_impurity_decrease=0.0, min_impurity_split=None,\n",
              "                       min_samples_leaf=1, min_samples_split=2,\n",
              "                       min_weight_fraction_leaf=0.0, presort='deprecated',\n",
              "                       random_state=None, splitter='best')"
            ]
          },
          "metadata": {
            "tags": []
          },
          "execution_count": 227
        }
      ]
    },
    {
      "cell_type": "code",
      "metadata": {
        "colab": {
          "base_uri": "https://localhost:8080/"
        },
        "id": "1sHa2_alPl0N",
        "outputId": "26eb676c-e586-48b0-e6c5-7badb788e29d"
      },
      "source": [
        "# scores\n",
        "model.score(X_test, y_test)"
      ],
      "execution_count": null,
      "outputs": [
        {
          "output_type": "execute_result",
          "data": {
            "text/plain": [
              "0.6368715083798883"
            ]
          },
          "metadata": {
            "tags": []
          },
          "execution_count": 228
        }
      ]
    }
  ]
}