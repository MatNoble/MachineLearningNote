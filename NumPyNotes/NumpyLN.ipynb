{
  "nbformat": 4,
  "nbformat_minor": 0,
  "metadata": {
    "colab": {
      "name": "NumpyLN.ipynb",
      "private_outputs": true,
      "provenance": [],
      "collapsed_sections": [
        "v4fogXpaRQUR",
        "LfDqRQr6e_KL",
        "txNHKbjviufg"
      ]
    },
    "kernelspec": {
      "name": "python3",
      "display_name": "Python 3"
    }
  },
  "cells": [
    {
      "cell_type": "code",
      "metadata": {
        "id": "HhSwGcKrOx9l"
      },
      "source": [
        "import numpy as np"
      ],
      "execution_count": null,
      "outputs": []
    },
    {
      "cell_type": "markdown",
      "metadata": {
        "id": "v4fogXpaRQUR"
      },
      "source": [
        "## 数据类型\n",
        "\n"
      ]
    },
    {
      "cell_type": "markdown",
      "metadata": {
        "id": "QiKPvnE9Yhmr"
      },
      "source": [
        "### 向量"
      ]
    },
    {
      "cell_type": "markdown",
      "metadata": {
        "id": "5cWrT_vxUpnD"
      },
      "source": [
        "#### np.array"
      ]
    },
    {
      "cell_type": "code",
      "metadata": {
        "id": "iNsnUId2SBvh"
      },
      "source": [
        "l = np.array([1, 2, 3])\n",
        "print('l:', l)\n",
        "print(l.dtype, '\\n')\n",
        "\n",
        "# 数据类型转化 int --> float\n",
        "l = l.astype(np.float64)\n",
        "print('l:', l)\n",
        "print(l.dtype)"
      ],
      "execution_count": null,
      "outputs": []
    },
    {
      "cell_type": "markdown",
      "metadata": {
        "id": "2gn3V_KXUmPr"
      },
      "source": [
        "#### np.arange"
      ]
    },
    {
      "cell_type": "code",
      "metadata": {
        "id": "YqL9G-6iTy9s"
      },
      "source": [
        "# arange\n",
        "la = np.arange(5)\n",
        "print(la)\n",
        "\n",
        "# 指定数据类型\n",
        "la = np.arange(5, dtype='float64')\n",
        "print(la)\n",
        "\n",
        "la = np.arange(1, 5)\n",
        "print(la)\n",
        "\n",
        "la = np.arange(1, 5, 2)\n",
        "print(la)"
      ],
      "execution_count": null,
      "outputs": []
    },
    {
      "cell_type": "markdown",
      "metadata": {
        "id": "k43_hGgIUsPI"
      },
      "source": [
        "#### np.linspace"
      ]
    },
    {
      "cell_type": "code",
      "metadata": {
        "id": "EkyDYf_vUlTF"
      },
      "source": [
        "# linspace\n",
        "ll = np.linspace(0, 5, 11)\n",
        "print(ll)"
      ],
      "execution_count": null,
      "outputs": []
    },
    {
      "cell_type": "markdown",
      "metadata": {
        "id": "_FP9QORoVOOf"
      },
      "source": [
        "### 矩阵"
      ]
    },
    {
      "cell_type": "markdown",
      "metadata": {
        "id": "M94n3YOuXOHC"
      },
      "source": [
        "#### 二维 np.array"
      ]
    },
    {
      "cell_type": "code",
      "metadata": {
        "id": "Xez5jtRwVQQm"
      },
      "source": [
        "# np.array\n",
        "m = np.array([[1,2], \n",
        "              [3,4], \n",
        "              [5,6]])\n",
        "print('m:\\n', m)\n",
        "print('m.size:', m.size)\n",
        "print('m.shape:', m.shape)"
      ],
      "execution_count": null,
      "outputs": []
    },
    {
      "cell_type": "markdown",
      "metadata": {
        "id": "Q0ZGPNIFXUEo"
      },
      "source": [
        "#### 全 1 矩阵 & 全 0 矩阵"
      ]
    },
    {
      "cell_type": "code",
      "metadata": {
        "id": "RanEtnxtWgsg"
      },
      "source": [
        "# np.ones\n",
        "m0 = np.ones((2,3))\n",
        "print('np.ones((2,3)): \\n', m0, '\\n')\n",
        "# np.zeros\n",
        "m1 = np.zeros((2,3))\n",
        "print('np.zeros((2,3)): \\n', m1)"
      ],
      "execution_count": null,
      "outputs": []
    },
    {
      "cell_type": "code",
      "metadata": {
        "id": "vdymOaSVVbVe"
      },
      "source": [
        "# reshape\n",
        "print('m.reshape(2,3):\\n', m.reshape(2,3), '\\n')\n",
        "\n",
        "# ravel\n",
        "print('m.ravel():\\n', m.ravel())"
      ],
      "execution_count": null,
      "outputs": []
    },
    {
      "cell_type": "markdown",
      "metadata": {
        "id": "5HxwEzNQYOFF"
      },
      "source": [
        "### 数学运算"
      ]
    },
    {
      "cell_type": "code",
      "metadata": {
        "id": "8O1MSV1pYzh5"
      },
      "source": [
        "m = np.array([[2,1,3], \n",
        "              [5,4,6]])\n",
        "print('m:\\n', m, '\\n')\n",
        "\n",
        "# min\n",
        "print('m.min(axis=1):', m.min(axis=1))\n",
        "# max\n",
        "print('m.max(axis=0):', m.max(axis=0))\n",
        "# sum\n",
        "print('m.sum():', m.sum(), '\\n')\n",
        "\n",
        "# mean\n",
        "print('m.mean():', m.mean())\n",
        "# std\n",
        "print('m.std():', m.std(), '\\n')\n",
        "\n",
        "# sqrt\n",
        "print('np.sqrt(m): \\n',np.sqrt(m))\n"
      ],
      "execution_count": null,
      "outputs": []
    },
    {
      "cell_type": "markdown",
      "metadata": {
        "id": "WZno28ubb-Pl"
      },
      "source": [
        "#### 加减乘除 + - * /"
      ]
    },
    {
      "cell_type": "code",
      "metadata": {
        "id": "mD9qGejdcAwy"
      },
      "source": [
        "m1 = np.array([[1,2],\n",
        "               [3,4]])\n",
        "m2 = np.array([[5,6],\n",
        "               [7,8]])\n",
        "\n",
        "print('m1 + m2 = \\n', m1+m2, '\\n')\n",
        "\n",
        "print('m1 - m2 = \\n', m1-m2, '\\n')\n",
        "\n",
        "print('m1 * m2 = \\n', m1*m2, '\\n')\n",
        "\n",
        "print('m1 / m2 = \\n', m1/m2, '\\n')"
      ],
      "execution_count": null,
      "outputs": []
    },
    {
      "cell_type": "markdown",
      "metadata": {
        "id": "aqQyU2Mqc0g4"
      },
      "source": [
        "#### 矩阵乘法"
      ]
    },
    {
      "cell_type": "code",
      "metadata": {
        "id": "SLmwDjg9c3YZ"
      },
      "source": [
        "print('m1.dot(m2)\\n', m1.dot(m2), '\\n')\n",
        "\n",
        "print('m1 @ m2\\n', m1 @ m2)"
      ],
      "execution_count": null,
      "outputs": []
    },
    {
      "cell_type": "markdown",
      "metadata": {
        "id": "LfDqRQr6e_KL"
      },
      "source": [
        "## 切片 & 合并 "
      ]
    },
    {
      "cell_type": "markdown",
      "metadata": {
        "id": "OFJIzL6ifA0V"
      },
      "source": [
        "### 切片"
      ]
    },
    {
      "cell_type": "code",
      "metadata": {
        "id": "ENpyftAHgQo_"
      },
      "source": [
        "# 向量\n",
        "a = np.array([1,2,3])\n",
        "print(a[0:2])"
      ],
      "execution_count": null,
      "outputs": []
    },
    {
      "cell_type": "code",
      "metadata": {
        "id": "SbPHe4zggbYE"
      },
      "source": [
        "# 矩阵\n",
        "a = np.array([[6,7,8],\n",
        "              [1,2,3],\n",
        "              [9,3,2]])\n",
        "print('a\\n', a, '\\n')\n",
        "\n",
        "print('2 行 3 列:', a[1,2])\n",
        "\n",
        "print('第一列:', a[:, 0])\n",
        "print('第一行:', a[0], '\\n') # a[0, :]\n",
        "\n",
        "print('后两列:\\n', a[:, -2:])"
      ],
      "execution_count": null,
      "outputs": []
    },
    {
      "cell_type": "code",
      "metadata": {
        "id": "NcVZDcMJiNN2"
      },
      "source": [
        "# 迭代遍历\n",
        "for row in a: \n",
        "    print(row)\n",
        "\n",
        "print('')\n",
        "for row in a:\n",
        "    for cell in row:\n",
        "        print(cell)\n",
        "\n",
        "print('')\n",
        "for cell in a.flatten():\n",
        "    print(cell)\n",
        "\n",
        "# np.nditer\n",
        "print('')\n",
        "a = np.arange(12).reshape(3,4)\n",
        "print(a)\n",
        "\n",
        "print('')\n",
        "for cell in np.nditer(a, order='C'):\n",
        "    print(cell)\n",
        "\n",
        "print('')\n",
        "for cell in np.nditer(a, order='F'):\n",
        "    print(cell)"
      ],
      "execution_count": null,
      "outputs": []
    },
    {
      "cell_type": "markdown",
      "metadata": {
        "id": "txNHKbjviufg"
      },
      "source": [
        "### 合并"
      ]
    },
    {
      "cell_type": "code",
      "metadata": {
        "id": "yRVvOJ4tiw4G"
      },
      "source": [
        "# 合并\n",
        "a = np.arange(6).reshape(3,2)\n",
        "b = np.arange(6,12).reshape(3,2)\n",
        "\n",
        "c = np.vstack((a, b))\n",
        "print(c)\n",
        "\n",
        "d = np.hstack((a,b))\n",
        "print(d)"
      ],
      "execution_count": null,
      "outputs": []
    },
    {
      "cell_type": "markdown",
      "metadata": {
        "id": "WNrEV3W9jq3l"
      },
      "source": [
        "### 分割"
      ]
    },
    {
      "cell_type": "code",
      "metadata": {
        "id": "i1bxzwZxjnte"
      },
      "source": [
        "# 分割\n",
        "a = np.arange(30).reshape(2,15)\n",
        "print(a, '\\n')\n",
        "\n",
        "results = np.hsplit(a, 3)\n",
        "\n",
        "for result in results:\n",
        "    print(result,'\\n')"
      ],
      "execution_count": null,
      "outputs": []
    },
    {
      "cell_type": "markdown",
      "metadata": {
        "id": "GqXU64ESkrib"
      },
      "source": [
        "### 布尔变量索引"
      ]
    },
    {
      "cell_type": "code",
      "metadata": {
        "id": "-iJEggcvksSr"
      },
      "source": [
        "a = np.arange(12).reshape(3,4)\n",
        "print('a:\\n',a,'\\n')\n",
        "\n",
        "b = a > 4\n",
        "print('a > 4:\\n', b,'\\n')\n",
        "\n",
        "print('a[a>4]:\\n',a[b],'\\n')\n",
        "\n",
        "a[b] = -1\n",
        "print('a[a>4]=-1:\\n',a)"
      ],
      "execution_count": null,
      "outputs": []
    }
  ]
}